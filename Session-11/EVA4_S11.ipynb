{
  "nbformat": 4,
  "nbformat_minor": 0,
  "metadata": {
    "colab": {
      "name": "EVA4-S11.ipynb",
      "provenance": [],
      "collapsed_sections": [
        "ADgANpU3gpBO",
        "ufrTqwHGfwAw",
        "mQ7FTynosHJa",
        "kwkG21pAsfgs",
        "Ut21Y38uy4KS",
        "WKiNABCEl55G"
      ],
      "authorship_tag": "ABX9TyNpTnB6zMW1VeQVWCseDekt",
      "include_colab_link": true
    },
    "kernelspec": {
      "name": "python3",
      "display_name": "Python 3"
    },
    "accelerator": "GPU",
    "widgets": {
      "application/vnd.jupyter.widget-state+json": {
        "05de884787054145a01bd40f2a58073e": {
          "model_module": "@jupyter-widgets/controls",
          "model_name": "HBoxModel",
          "state": {
            "_view_name": "HBoxView",
            "_dom_classes": [],
            "_model_name": "HBoxModel",
            "_view_module": "@jupyter-widgets/controls",
            "_model_module_version": "1.5.0",
            "_view_count": null,
            "_view_module_version": "1.5.0",
            "box_style": "",
            "layout": "IPY_MODEL_4d3cc35101854589ac5d30313d1a77a7",
            "_model_module": "@jupyter-widgets/controls",
            "children": [
              "IPY_MODEL_f21c7a4fdbb6493cafc326eab0f6159e",
              "IPY_MODEL_ffa231da7c2e4ee8870876e4fce6f648"
            ]
          }
        },
        "4d3cc35101854589ac5d30313d1a77a7": {
          "model_module": "@jupyter-widgets/base",
          "model_name": "LayoutModel",
          "state": {
            "_view_name": "LayoutView",
            "grid_template_rows": null,
            "right": null,
            "justify_content": null,
            "_view_module": "@jupyter-widgets/base",
            "overflow": null,
            "_model_module_version": "1.2.0",
            "_view_count": null,
            "flex_flow": null,
            "width": null,
            "min_width": null,
            "border": null,
            "align_items": null,
            "bottom": null,
            "_model_module": "@jupyter-widgets/base",
            "top": null,
            "grid_column": null,
            "overflow_y": null,
            "overflow_x": null,
            "grid_auto_flow": null,
            "grid_area": null,
            "grid_template_columns": null,
            "flex": null,
            "_model_name": "LayoutModel",
            "justify_items": null,
            "grid_row": null,
            "max_height": null,
            "align_content": null,
            "visibility": null,
            "align_self": null,
            "height": null,
            "min_height": null,
            "padding": null,
            "grid_auto_rows": null,
            "grid_gap": null,
            "max_width": null,
            "order": null,
            "_view_module_version": "1.2.0",
            "grid_template_areas": null,
            "object_position": null,
            "object_fit": null,
            "grid_auto_columns": null,
            "margin": null,
            "display": null,
            "left": null
          }
        },
        "f21c7a4fdbb6493cafc326eab0f6159e": {
          "model_module": "@jupyter-widgets/controls",
          "model_name": "IntProgressModel",
          "state": {
            "_view_name": "ProgressView",
            "style": "IPY_MODEL_93994fe73871476986359cdff6e9283f",
            "_dom_classes": [],
            "description": "100%",
            "_model_name": "IntProgressModel",
            "bar_style": "success",
            "max": 100,
            "_view_module": "@jupyter-widgets/controls",
            "_model_module_version": "1.5.0",
            "value": 100,
            "_view_count": null,
            "_view_module_version": "1.5.0",
            "orientation": "horizontal",
            "min": 0,
            "description_tooltip": null,
            "_model_module": "@jupyter-widgets/controls",
            "layout": "IPY_MODEL_823fb5b80d044d20bef5707d335cb7dd"
          }
        },
        "ffa231da7c2e4ee8870876e4fce6f648": {
          "model_module": "@jupyter-widgets/controls",
          "model_name": "HTMLModel",
          "state": {
            "_view_name": "HTMLView",
            "style": "IPY_MODEL_260c5486e59143fdbde36d14207f46f7",
            "_dom_classes": [],
            "description": "",
            "_model_name": "HTMLModel",
            "placeholder": "​",
            "_view_module": "@jupyter-widgets/controls",
            "_model_module_version": "1.5.0",
            "value": " 100/100 [1:16:27&lt;00:00, 45.87s/it]",
            "_view_count": null,
            "_view_module_version": "1.5.0",
            "description_tooltip": null,
            "_model_module": "@jupyter-widgets/controls",
            "layout": "IPY_MODEL_a8aa047a8ef74b8c9a106132ff255c44"
          }
        },
        "93994fe73871476986359cdff6e9283f": {
          "model_module": "@jupyter-widgets/controls",
          "model_name": "ProgressStyleModel",
          "state": {
            "_view_name": "StyleView",
            "_model_name": "ProgressStyleModel",
            "description_width": "initial",
            "_view_module": "@jupyter-widgets/base",
            "_model_module_version": "1.5.0",
            "_view_count": null,
            "_view_module_version": "1.2.0",
            "bar_color": null,
            "_model_module": "@jupyter-widgets/controls"
          }
        },
        "823fb5b80d044d20bef5707d335cb7dd": {
          "model_module": "@jupyter-widgets/base",
          "model_name": "LayoutModel",
          "state": {
            "_view_name": "LayoutView",
            "grid_template_rows": null,
            "right": null,
            "justify_content": null,
            "_view_module": "@jupyter-widgets/base",
            "overflow": null,
            "_model_module_version": "1.2.0",
            "_view_count": null,
            "flex_flow": null,
            "width": null,
            "min_width": null,
            "border": null,
            "align_items": null,
            "bottom": null,
            "_model_module": "@jupyter-widgets/base",
            "top": null,
            "grid_column": null,
            "overflow_y": null,
            "overflow_x": null,
            "grid_auto_flow": null,
            "grid_area": null,
            "grid_template_columns": null,
            "flex": null,
            "_model_name": "LayoutModel",
            "justify_items": null,
            "grid_row": null,
            "max_height": null,
            "align_content": null,
            "visibility": null,
            "align_self": null,
            "height": null,
            "min_height": null,
            "padding": null,
            "grid_auto_rows": null,
            "grid_gap": null,
            "max_width": null,
            "order": null,
            "_view_module_version": "1.2.0",
            "grid_template_areas": null,
            "object_position": null,
            "object_fit": null,
            "grid_auto_columns": null,
            "margin": null,
            "display": null,
            "left": null
          }
        },
        "260c5486e59143fdbde36d14207f46f7": {
          "model_module": "@jupyter-widgets/controls",
          "model_name": "DescriptionStyleModel",
          "state": {
            "_view_name": "StyleView",
            "_model_name": "DescriptionStyleModel",
            "description_width": "",
            "_view_module": "@jupyter-widgets/base",
            "_model_module_version": "1.5.0",
            "_view_count": null,
            "_view_module_version": "1.2.0",
            "_model_module": "@jupyter-widgets/controls"
          }
        },
        "a8aa047a8ef74b8c9a106132ff255c44": {
          "model_module": "@jupyter-widgets/base",
          "model_name": "LayoutModel",
          "state": {
            "_view_name": "LayoutView",
            "grid_template_rows": null,
            "right": null,
            "justify_content": null,
            "_view_module": "@jupyter-widgets/base",
            "overflow": null,
            "_model_module_version": "1.2.0",
            "_view_count": null,
            "flex_flow": null,
            "width": null,
            "min_width": null,
            "border": null,
            "align_items": null,
            "bottom": null,
            "_model_module": "@jupyter-widgets/base",
            "top": null,
            "grid_column": null,
            "overflow_y": null,
            "overflow_x": null,
            "grid_auto_flow": null,
            "grid_area": null,
            "grid_template_columns": null,
            "flex": null,
            "_model_name": "LayoutModel",
            "justify_items": null,
            "grid_row": null,
            "max_height": null,
            "align_content": null,
            "visibility": null,
            "align_self": null,
            "height": null,
            "min_height": null,
            "padding": null,
            "grid_auto_rows": null,
            "grid_gap": null,
            "max_width": null,
            "order": null,
            "_view_module_version": "1.2.0",
            "grid_template_areas": null,
            "object_position": null,
            "object_fit": null,
            "grid_auto_columns": null,
            "margin": null,
            "display": null,
            "left": null
          }
        }
      }
    }
  },
  "cells": [
    {
      "cell_type": "markdown",
      "metadata": {
        "id": "view-in-github",
        "colab_type": "text"
      },
      "source": [
        "<a href=\"https://colab.research.google.com/github/velasoka-repo/EVA4/blob/master/Session-11/EVA4_S11.ipynb\" target=\"_parent\"><img src=\"https://colab.research.google.com/assets/colab-badge.svg\" alt=\"Open In Colab\"/></a>"
      ]
    },
    {
      "cell_type": "markdown",
      "metadata": {
        "id": "9xkz_8DtbIOg",
        "colab_type": "text"
      },
      "source": [
        "# [Github Link](https://github.com/velasoka-repo/EVA4/tree/master/Session-11)"
      ]
    },
    {
      "cell_type": "markdown",
      "metadata": {
        "id": "BG64wVL7N3Px",
        "colab_type": "text"
      },
      "source": [
        "# Google Drive Mount"
      ]
    },
    {
      "cell_type": "code",
      "metadata": {
        "id": "nd1dYBvmFqP6",
        "colab_type": "code",
        "outputId": "c7bde233-ad9e-4a35-8288-35f5b9a80127",
        "colab": {
          "base_uri": "https://localhost:8080/",
          "height": 34
        }
      },
      "source": [
        "from google.colab import drive\n",
        "drive.mount('/content/gdrive')\n",
        "\n",
        "#add working directory into syspath\n",
        "EVA4_PATH = \"/content/gdrive/My Drive/Colab Notebooks/EVA4/Session-11\"\n",
        "import sys\n",
        "if not EVA4_PATH in sys.path:\n",
        "  sys.path.append(EVA4_PATH)"
      ],
      "execution_count": 1,
      "outputs": [
        {
          "output_type": "stream",
          "text": [
            "Drive already mounted at /content/gdrive; to attempt to forcibly remount, call drive.mount(\"/content/gdrive\", force_remount=True).\n"
          ],
          "name": "stdout"
        }
      ]
    },
    {
      "cell_type": "markdown",
      "metadata": {
        "id": "ADgANpU3gpBO",
        "colab_type": "text"
      },
      "source": [
        "# Install Missing python Modules"
      ]
    },
    {
      "cell_type": "code",
      "metadata": {
        "id": "QdELgZN6hAgd",
        "colab_type": "code",
        "colab": {}
      },
      "source": [
        "pip install torch-lr-finder"
      ],
      "execution_count": 0,
      "outputs": []
    },
    {
      "cell_type": "markdown",
      "metadata": {
        "id": "J-hy7FYfPSrs",
        "colab_type": "text"
      },
      "source": [
        "# Python Module Import & device"
      ]
    },
    {
      "cell_type": "code",
      "metadata": {
        "id": "uBFTfUL3PRF2",
        "colab_type": "code",
        "colab": {
          "base_uri": "https://localhost:8080/",
          "height": 51
        },
        "outputId": "eacf5ebd-2e66-4a15-e456-890a6880f7cf"
      },
      "source": [
        "import utils.data as data\n",
        "import utils.augment as aug\n",
        "import utils.transform as tf\n",
        "import model.nn as nn\n",
        "import utils.torch_util as util\n",
        "import utils.runner as network\n",
        "import utils.visualize as view\n",
        "import velasoka as vel"
      ],
      "execution_count": 2,
      "outputs": [
        {
          "output_type": "stream",
          "text": [
            "WARNING:torch_lr_finder.lr_finder:To enable mixed precision training, please install `apex`. Or you can re-install this package by the following command:\n",
            "  pip install torch-lr-finder -v --global-option=\"amp\"\n"
          ],
          "name": "stderr"
        }
      ]
    },
    {
      "cell_type": "code",
      "metadata": {
        "id": "dhAMayontbeP",
        "colab_type": "code",
        "colab": {}
      },
      "source": [
        "import torch\n",
        "import numpy as np\n",
        "from torch.optim.lr_scheduler import OneCycleLR"
      ],
      "execution_count": 0,
      "outputs": []
    },
    {
      "cell_type": "markdown",
      "metadata": {
        "id": "W79B6hQGnHQv",
        "colab_type": "text"
      },
      "source": [
        "# Cyclic Triangle Plot"
      ]
    },
    {
      "cell_type": "code",
      "metadata": {
        "id": "YcBq5PZVnD7_",
        "colab_type": "code",
        "colab": {
          "base_uri": "https://localhost:8080/",
          "height": 295
        },
        "outputId": "6e5432ad-2fec-4b0e-86d9-5c8513ae5b3b"
      },
      "source": [
        "view.show_curve()"
      ],
      "execution_count": 3,
      "outputs": [
        {
          "output_type": "display_data",
          "data": {
            "image/png": "[encoded data removed]",
            "text/plain": [
              "<Figure size 432x288 with 1 Axes>"
            ]
          },
          "metadata": {
            "tags": [],
            "needs_background": "light"
          }
        }
      ]
    },
    {
      "cell_type": "markdown",
      "metadata": {
        "id": "ufrTqwHGfwAw",
        "colab_type": "text"
      },
      "source": [
        "# Dataloader"
      ]
    },
    {
      "cell_type": "code",
      "metadata": {
        "id": "jEmumsBcJTSC",
        "colab_type": "code",
        "outputId": "cfbaba8b-011d-4192-b3ca-ccce0025faf3",
        "colab": {
          "base_uri": "https://localhost:8080/",
          "height": 85
        }
      },
      "source": [
        "torch.cuda.manual_seed(6)\n",
        "torch.manual_seed(6)\n",
        "\n",
        "train_loader, train_aug_loader, test_loader = vel.cifar10(batch_size=512)"
      ],
      "execution_count": 81,
      "outputs": [
        {
          "output_type": "stream",
          "text": [
            "Files already downloaded and verified\n",
            "Files already downloaded and verified\n",
            "Files already downloaded and verified\n",
            "Files already downloaded and verified\n"
          ],
          "name": "stdout"
        }
      ]
    },
    {
      "cell_type": "markdown",
      "metadata": {
        "id": "mQ7FTynosHJa",
        "colab_type": "text"
      },
      "source": [
        "# Model"
      ]
    },
    {
      "cell_type": "code",
      "metadata": {
        "id": "kcwqraWQf4E9",
        "colab_type": "code",
        "colab": {
          "base_uri": "https://localhost:8080/",
          "height": 34
        },
        "outputId": "3d17c9bb-bda5-40f1-93a7-2d9eb7863010"
      },
      "source": [
        "device = util.device()\n",
        "print(f\"Available Device: {device}\")\n",
        "optimizer = util.optimizer()\n",
        "loss_fns = util.loss()"
      ],
      "execution_count": 82,
      "outputs": [
        {
          "output_type": "stream",
          "text": [
            "Available Device: cuda\n"
          ],
          "name": "stdout"
        }
      ]
    },
    {
      "cell_type": "code",
      "metadata": {
        "id": "MN4jbWDLsQEY",
        "colab_type": "code",
        "colab": {}
      },
      "source": [
        "torch.cuda.manual_seed(6)\n",
        "\n",
        "model = nn.ResNet(block=nn.ResBlock).to(device)\n",
        "sgd_optimizer = optimizer.SGD(params=model.parameters(), lr=0.02, momentum=0.9, weight_decay=1e-3)\n",
        "cross_entropy = loss_fns.CrossEntropyLoss()"
      ],
      "execution_count": 0,
      "outputs": []
    },
    {
      "cell_type": "markdown",
      "metadata": {
        "id": "kwkG21pAsfgs",
        "colab_type": "text"
      },
      "source": [
        "# LR Range\n",
        "* Min LR: **0.02009**\n",
        "* Max LR: **1.00999**"
      ]
    },
    {
      "cell_type": "code",
      "metadata": {
        "id": "G-uXf7hUmEGY",
        "colab_type": "code",
        "colab": {
          "base_uri": "https://localhost:8080/",
          "height": 0,
          "referenced_widgets": [
            "05de884787054145a01bd40f2a58073e",
            "4d3cc35101854589ac5d30313d1a77a7",
            "f21c7a4fdbb6493cafc326eab0f6159e",
            "ffa231da7c2e4ee8870876e4fce6f648",
            "93994fe73871476986359cdff6e9283f",
            "823fb5b80d044d20bef5707d335cb7dd",
            "260c5486e59143fdbde36d14207f46f7",
            "a8aa047a8ef74b8c9a106132ff255c44"
          ]
        },
        "outputId": "ffe96ce2-02d4-47e4-b9fe-681fd2eeb0b1"
      },
      "source": [
        "lr_finder = util.lr_finder(model=model, optimizer=sgd_optimizer, criterion=cross_entropy, device=device)\n",
        "lr_finder.range_test(train_loader=train_loader, start_lr=1e-7, end_lr=1., num_iter=100, step_mode=\"linear\")\n",
        "lr_finder.plot()"
      ],
      "execution_count": 26,
      "outputs": [
        {
          "output_type": "display_data",
          "data": {
            "application/vnd.jupyter.widget-view+json": {
              "model_id": "05de884787054145a01bd40f2a58073e",
              "version_minor": 0,
              "version_major": 2
            },
            "text/plain": [
              "HBox(children=(IntProgress(value=0), HTML(value='')))"
            ]
          },
          "metadata": {
            "tags": []
          }
        },
        {
          "output_type": "stream",
          "text": [
            "\n",
            "Learning rate search finished. See the graph with {finder_name}.plot()\n"
          ],
          "name": "stdout"
        },
        {
          "output_type": "display_data",
          "data": {
            "image/png": "[encoded data removed]",
            "text/plain": [
              "<Figure size 432x288 with 1 Axes>"
            ]
          },
          "metadata": {
            "tags": [],
            "needs_background": "light"
          }
        },
        {
          "output_type": "execute_result",
          "data": {
            "text/plain": [
              "<matplotlib.axes._subplots.AxesSubplot at 0x7fcc81e899b0>"
            ]
          },
          "metadata": {
            "tags": []
          },
          "execution_count": 26
        }
      ]
    },
    {
      "cell_type": "markdown",
      "metadata": {
        "id": "22HjJnR4wv42",
        "colab_type": "text"
      },
      "source": [
        "#### LR Range Result"
      ]
    },
    {
      "cell_type": "code",
      "metadata": {
        "id": "hgdop73Ws2ds",
        "colab_type": "code",
        "colab": {
          "base_uri": "https://localhost:8080/",
          "height": 51
        },
        "outputId": "16bac256-a524-4f66-b8d5-1bfd0a016481"
      },
      "source": [
        "lr_history = np.array(lr_finder.history['lr'])\n",
        "loss_history = np.array(lr_finder.history['loss'])\n",
        "MAX_LR = np.max(lr_history)\n",
        "MIN_LR = np.min(lr_history)\n",
        "print(f\"Min LR: {MIN_LR}, Max LR: {MAX_LR}\")\n",
        "loss_min = np.argmin(loss_history)\n",
        "print(f\"As per minimum LOSS, Max LR: {lr_history[loss_min]}\")\n",
        "lr, loss = lr_finder.history['lr'], lr_finder.history['loss']\n",
        "\n",
        "# LR Comparison with respect to LOSS\n",
        "# for i in range(len(lr_history)):\n",
        "#   print(f\"LR: {lr_history[i]:.4f}, LOSS: {loss_history[i]:.4f}\")"
      ],
      "execution_count": 58,
      "outputs": [
        {
          "output_type": "stream",
          "text": [
            "Min LR: 0.020000098, Max LR: 1.0099999990000001\n",
            "As per minimum LOSS, Max LR: 1.0099999990000001\n"
          ],
          "name": "stdout"
        }
      ]
    },
    {
      "cell_type": "markdown",
      "metadata": {
        "id": "Ut21Y38uy4KS",
        "colab_type": "text"
      },
      "source": [
        "# Pytorch OneCycleLR"
      ]
    },
    {
      "cell_type": "code",
      "metadata": {
        "id": "lvftNv7zIdaF",
        "colab_type": "code",
        "colab": {}
      },
      "source": [
        "one_cycle_policy = OneCycleLR(sgd_optimizer, max_lr=0.6, pct_start=0.21 , steps_per_epoch=len(train_loader), div_factor=10, cycle_momentum=False, epochs=24)"
      ],
      "execution_count": 0,
      "outputs": []
    },
    {
      "cell_type": "code",
      "metadata": {
        "colab_type": "code",
        "outputId": "ad8a94b4-1b1b-4a99-b56f-996a3a3ce2ba",
        "id": "12AFNcFtEAtD",
        "colab": {
          "base_uri": "https://localhost:8080/",
          "height": 833
        }
      },
      "source": [
        "train_accuracy = []\n",
        "for epoch in range(24):\n",
        "  print(f\"EPOCH: {epoch}\")\n",
        "  accuracy = network.train(model=model, optimizer=sgd_optimizer, device=device, policy=one_cycle_policy, data_loader=train_loader, criterion=cross_entropy)\n",
        "  train_accuracy.append(accuracy);"
      ],
      "execution_count": 55,
      "outputs": [
        {
          "output_type": "stream",
          "text": [
            "\r  0%|          | 0/98 [00:00<?, ?it/s]"
          ],
          "name": "stderr"
        },
        {
          "output_type": "stream",
          "text": [
            "EPOCH: 0\n"
          ],
          "name": "stdout"
        },
        {
          "output_type": "stream",
          "text": [
            "Batch: 97, loss: 0.46, Train Accuracy: 87.95: 100%|██████████| 98/98 [00:24<00:00,  4.02it/s]\n",
            "  0%|          | 0/98 [00:00<?, ?it/s]"
          ],
          "name": "stderr"
        },
        {
          "output_type": "stream",
          "text": [
            "EPOCH: 1\n"
          ],
          "name": "stdout"
        },
        {
          "output_type": "stream",
          "text": [
            "Batch: 97, loss: 0.70, Train Accuracy: 84.34: 100%|██████████| 98/98 [00:24<00:00,  3.97it/s]\n",
            "  0%|          | 0/98 [00:00<?, ?it/s]"
          ],
          "name": "stderr"
        },
        {
          "output_type": "stream",
          "text": [
            "EPOCH: 2\n"
          ],
          "name": "stdout"
        },
        {
          "output_type": "stream",
          "text": [
            "Batch: 97, loss: 0.71, Train Accuracy: 79.39: 100%|██████████| 98/98 [00:24<00:00,  4.00it/s]\n",
            "  0%|          | 0/98 [00:00<?, ?it/s]"
          ],
          "name": "stderr"
        },
        {
          "output_type": "stream",
          "text": [
            "EPOCH: 3\n"
          ],
          "name": "stdout"
        },
        {
          "output_type": "stream",
          "text": [
            "Batch: 97, loss: 0.74, Train Accuracy: 76.53: 100%|██████████| 98/98 [00:24<00:00,  4.01it/s]\n",
            "  0%|          | 0/98 [00:00<?, ?it/s]"
          ],
          "name": "stderr"
        },
        {
          "output_type": "stream",
          "text": [
            "EPOCH: 4\n"
          ],
          "name": "stdout"
        },
        {
          "output_type": "stream",
          "text": [
            "Batch: 97, loss: 0.69, Train Accuracy: 76.12: 100%|██████████| 98/98 [00:24<00:00,  3.99it/s]\n",
            "  0%|          | 0/98 [00:00<?, ?it/s]"
          ],
          "name": "stderr"
        },
        {
          "output_type": "stream",
          "text": [
            "EPOCH: 5\n"
          ],
          "name": "stdout"
        },
        {
          "output_type": "stream",
          "text": [
            "Batch: 97, loss: 0.77, Train Accuracy: 75.97: 100%|██████████| 98/98 [00:24<00:00,  3.99it/s]\n",
            "  0%|          | 0/98 [00:00<?, ?it/s]"
          ],
          "name": "stderr"
        },
        {
          "output_type": "stream",
          "text": [
            "EPOCH: 6\n"
          ],
          "name": "stdout"
        },
        {
          "output_type": "stream",
          "text": [
            "Batch: 97, loss: 0.81, Train Accuracy: 76.88: 100%|██████████| 98/98 [00:24<00:00,  4.01it/s]\n",
            "  0%|          | 0/98 [00:00<?, ?it/s]"
          ],
          "name": "stderr"
        },
        {
          "output_type": "stream",
          "text": [
            "EPOCH: 7\n"
          ],
          "name": "stdout"
        },
        {
          "output_type": "stream",
          "text": [
            "Batch: 97, loss: 0.59, Train Accuracy: 77.78: 100%|██████████| 98/98 [00:24<00:00,  4.01it/s]\n",
            "  0%|          | 0/98 [00:00<?, ?it/s]"
          ],
          "name": "stderr"
        },
        {
          "output_type": "stream",
          "text": [
            "EPOCH: 8\n"
          ],
          "name": "stdout"
        },
        {
          "output_type": "stream",
          "text": [
            "Batch: 97, loss: 0.71, Train Accuracy: 77.50: 100%|██████████| 98/98 [00:24<00:00,  4.03it/s]\n",
            "  0%|          | 0/98 [00:00<?, ?it/s]"
          ],
          "name": "stderr"
        },
        {
          "output_type": "stream",
          "text": [
            "EPOCH: 9\n"
          ],
          "name": "stdout"
        },
        {
          "output_type": "stream",
          "text": [
            "Batch: 97, loss: 0.61, Train Accuracy: 79.04: 100%|██████████| 98/98 [00:24<00:00,  4.01it/s]\n",
            "  0%|          | 0/98 [00:00<?, ?it/s]"
          ],
          "name": "stderr"
        },
        {
          "output_type": "stream",
          "text": [
            "EPOCH: 10\n"
          ],
          "name": "stdout"
        },
        {
          "output_type": "stream",
          "text": [
            "Batch: 97, loss: 0.56, Train Accuracy: 79.87: 100%|██████████| 98/98 [00:24<00:00,  4.02it/s]\n",
            "  0%|          | 0/98 [00:00<?, ?it/s]"
          ],
          "name": "stderr"
        },
        {
          "output_type": "stream",
          "text": [
            "EPOCH: 11\n"
          ],
          "name": "stdout"
        },
        {
          "output_type": "stream",
          "text": [
            "Batch: 97, loss: 0.70, Train Accuracy: 81.69: 100%|██████████| 98/98 [00:24<00:00,  4.02it/s]\n",
            "  0%|          | 0/98 [00:00<?, ?it/s]"
          ],
          "name": "stderr"
        },
        {
          "output_type": "stream",
          "text": [
            "EPOCH: 12\n"
          ],
          "name": "stdout"
        },
        {
          "output_type": "stream",
          "text": [
            "Batch: 97, loss: 0.44, Train Accuracy: 82.86: 100%|██████████| 98/98 [00:24<00:00,  4.05it/s]\n",
            "  0%|          | 0/98 [00:00<?, ?it/s]"
          ],
          "name": "stderr"
        },
        {
          "output_type": "stream",
          "text": [
            "EPOCH: 13\n"
          ],
          "name": "stdout"
        },
        {
          "output_type": "stream",
          "text": [
            "Batch: 97, loss: 0.42, Train Accuracy: 83.75: 100%|██████████| 98/98 [00:24<00:00,  4.02it/s]\n",
            "  0%|          | 0/98 [00:00<?, ?it/s]"
          ],
          "name": "stderr"
        },
        {
          "output_type": "stream",
          "text": [
            "EPOCH: 14\n"
          ],
          "name": "stdout"
        },
        {
          "output_type": "stream",
          "text": [
            "Batch: 97, loss: 0.41, Train Accuracy: 86.53: 100%|██████████| 98/98 [00:24<00:00,  4.02it/s]\n",
            "  0%|          | 0/98 [00:00<?, ?it/s]"
          ],
          "name": "stderr"
        },
        {
          "output_type": "stream",
          "text": [
            "EPOCH: 15\n"
          ],
          "name": "stdout"
        },
        {
          "output_type": "stream",
          "text": [
            "Batch: 97, loss: 0.38, Train Accuracy: 87.42: 100%|██████████| 98/98 [00:24<00:00,  4.01it/s]\n",
            "  0%|          | 0/98 [00:00<?, ?it/s]"
          ],
          "name": "stderr"
        },
        {
          "output_type": "stream",
          "text": [
            "EPOCH: 16\n"
          ],
          "name": "stdout"
        },
        {
          "output_type": "stream",
          "text": [
            "Batch: 97, loss: 0.30, Train Accuracy: 89.81: 100%|██████████| 98/98 [00:24<00:00,  4.00it/s]\n",
            "  0%|          | 0/98 [00:00<?, ?it/s]"
          ],
          "name": "stderr"
        },
        {
          "output_type": "stream",
          "text": [
            "EPOCH: 17\n"
          ],
          "name": "stdout"
        },
        {
          "output_type": "stream",
          "text": [
            "Batch: 97, loss: 0.27, Train Accuracy: 92.66: 100%|██████████| 98/98 [00:24<00:00,  4.01it/s]\n",
            "  0%|          | 0/98 [00:00<?, ?it/s]"
          ],
          "name": "stderr"
        },
        {
          "output_type": "stream",
          "text": [
            "EPOCH: 18\n"
          ],
          "name": "stdout"
        },
        {
          "output_type": "stream",
          "text": [
            "Batch: 97, loss: 0.15, Train Accuracy: 95.10: 100%|██████████| 98/98 [00:24<00:00,  4.03it/s]\n",
            "  0%|          | 0/98 [00:00<?, ?it/s]"
          ],
          "name": "stderr"
        },
        {
          "output_type": "stream",
          "text": [
            "EPOCH: 19\n"
          ],
          "name": "stdout"
        },
        {
          "output_type": "stream",
          "text": [
            "Batch: 97, loss: 0.03, Train Accuracy: 98.15: 100%|██████████| 98/98 [00:24<00:00,  4.00it/s]\n",
            "  0%|          | 0/98 [00:00<?, ?it/s]"
          ],
          "name": "stderr"
        },
        {
          "output_type": "stream",
          "text": [
            "EPOCH: 20\n"
          ],
          "name": "stdout"
        },
        {
          "output_type": "stream",
          "text": [
            "Batch: 97, loss: 0.02, Train Accuracy: 99.74: 100%|██████████| 98/98 [00:24<00:00,  4.01it/s]\n",
            "  0%|          | 0/98 [00:00<?, ?it/s]"
          ],
          "name": "stderr"
        },
        {
          "output_type": "stream",
          "text": [
            "EPOCH: 21\n"
          ],
          "name": "stdout"
        },
        {
          "output_type": "stream",
          "text": [
            "Batch: 97, loss: 0.00, Train Accuracy: 99.99: 100%|██████████| 98/98 [00:24<00:00,  4.00it/s]\n",
            "  0%|          | 0/98 [00:00<?, ?it/s]"
          ],
          "name": "stderr"
        },
        {
          "output_type": "stream",
          "text": [
            "EPOCH: 22\n"
          ],
          "name": "stdout"
        },
        {
          "output_type": "stream",
          "text": [
            "Batch: 97, loss: 0.00, Train Accuracy: 100.00: 100%|██████████| 98/98 [00:24<00:00,  4.01it/s]\n",
            "  0%|          | 0/98 [00:00<?, ?it/s]"
          ],
          "name": "stderr"
        },
        {
          "output_type": "stream",
          "text": [
            "EPOCH: 23\n"
          ],
          "name": "stdout"
        },
        {
          "output_type": "stream",
          "text": [
            "Batch: 97, loss: 0.00, Train Accuracy: 100.00: 100%|██████████| 98/98 [00:24<00:00,  4.01it/s]\n"
          ],
          "name": "stderr"
        }
      ]
    },
    {
      "cell_type": "code",
      "metadata": {
        "id": "MZR2quMmEAQY",
        "colab_type": "code",
        "colab": {
          "base_uri": "https://localhost:8080/",
          "height": 295
        },
        "outputId": "0f15650d-1d99-4d05-8316-ccb962e7227a"
      },
      "source": [
        "view.show_graph(list(range(len(train_accuracy))), train_accuracy, \"Epochs\", \"Train Accuracy\", \"Accuracy vs Epochs\")"
      ],
      "execution_count": 56,
      "outputs": [
        {
          "output_type": "display_data",
          "data": {
            "image/png": "[encoded data removed]",
            "text/plain": [
              "<Figure size 432x288 with 1 Axes>"
            ]
          },
          "metadata": {
            "tags": [],
            "needs_background": "light"
          }
        }
      ]
    },
    {
      "cell_type": "markdown",
      "metadata": {
        "colab_type": "text",
        "id": "Yi7493HPRPVl"
      },
      "source": [
        "#### Validation Accuracy"
      ]
    },
    {
      "cell_type": "code",
      "metadata": {
        "colab_type": "code",
        "outputId": "10858afc-0eed-486b-b959-d343a70b34f2",
        "id": "0vpOWZ0URPVn",
        "colab": {
          "base_uri": "https://localhost:8080/",
          "height": 34
        }
      },
      "source": [
        "network.validate(model=model, data_loader=test_loader, device=device)"
      ],
      "execution_count": 0,
      "outputs": [
        {
          "output_type": "stream",
          "text": [
            "Batch: 99, Test Accuracy: 87.63: 100%|██████████| 100/100 [00:02<00:00, 37.42it/s]\n"
          ],
          "name": "stderr"
        }
      ]
    },
    {
      "cell_type": "markdown",
      "metadata": {
        "id": "WKiNABCEl55G",
        "colab_type": "text"
      },
      "source": [
        "# Model Summary"
      ]
    },
    {
      "cell_type": "code",
      "metadata": {
        "id": "2r49YIYUl7pn",
        "colab_type": "code",
        "colab": {
          "base_uri": "https://localhost:8080/",
          "height": 731
        },
        "outputId": "f76297a7-4e7a-4100-a28f-2cec5f89ef1f"
      },
      "source": [
        "model.summary(input_size=(3, 32, 32))"
      ],
      "execution_count": 104,
      "outputs": [
        {
          "output_type": "stream",
          "text": [
            "----------------------------------------------------------------\n",
            "        Layer (type)               Output Shape         Param #\n",
            "================================================================\n",
            "            Conv2d-1           [-1, 64, 32, 32]           1,792\n",
            "            Conv2d-2          [-1, 128, 32, 32]          73,856\n",
            "         MaxPool2d-3          [-1, 128, 16, 16]               0\n",
            "       BatchNorm2d-4          [-1, 128, 16, 16]             256\n",
            "              ReLU-5          [-1, 128, 16, 16]               0\n",
            "            Conv2d-6          [-1, 128, 16, 16]         147,584\n",
            "       BatchNorm2d-7          [-1, 128, 16, 16]             256\n",
            "              ReLU-8          [-1, 128, 16, 16]               0\n",
            "            Conv2d-9          [-1, 128, 16, 16]         147,584\n",
            "      BatchNorm2d-10          [-1, 128, 16, 16]             256\n",
            "             ReLU-11          [-1, 128, 16, 16]               0\n",
            "         ResBlock-12          [-1, 128, 16, 16]               0\n",
            "           Conv2d-13          [-1, 256, 16, 16]         295,168\n",
            "        MaxPool2d-14            [-1, 256, 8, 8]               0\n",
            "      BatchNorm2d-15            [-1, 256, 8, 8]             512\n",
            "             ReLU-16            [-1, 256, 8, 8]               0\n",
            "           Conv2d-17            [-1, 512, 8, 8]       1,180,160\n",
            "        MaxPool2d-18            [-1, 512, 4, 4]               0\n",
            "      BatchNorm2d-19            [-1, 512, 4, 4]           1,024\n",
            "             ReLU-20            [-1, 512, 4, 4]               0\n",
            "           Conv2d-21            [-1, 512, 4, 4]       2,359,808\n",
            "      BatchNorm2d-22            [-1, 512, 4, 4]           1,024\n",
            "             ReLU-23            [-1, 512, 4, 4]               0\n",
            "           Conv2d-24            [-1, 512, 4, 4]       2,359,808\n",
            "      BatchNorm2d-25            [-1, 512, 4, 4]           1,024\n",
            "             ReLU-26            [-1, 512, 4, 4]               0\n",
            "         ResBlock-27            [-1, 512, 4, 4]               0\n",
            "        MaxPool2d-28            [-1, 512, 1, 1]               0\n",
            "           Conv2d-29             [-1, 10, 1, 1]           5,130\n",
            "================================================================\n",
            "Total params: 6,575,242\n",
            "Trainable params: 6,575,242\n",
            "Non-trainable params: 0\n",
            "----------------------------------------------------------------\n",
            "Input size (MB): 0.01\n",
            "Forward/backward pass size (MB): 5.75\n",
            "Params size (MB): 25.08\n",
            "Estimated Total Size (MB): 30.85\n",
            "----------------------------------------------------------------\n"
          ],
          "name": "stdout"
        }
      ]
    },
    {
      "cell_type": "markdown",
      "metadata": {
        "id": "J48ELYnhhd6u",
        "colab_type": "text"
      },
      "source": [
        "# Tried Extra with Multiple Epochs"
      ]
    },
    {
      "cell_type": "code",
      "metadata": {
        "colab_type": "code",
        "id": "_20uT7T4fGkf",
        "colab": {}
      },
      "source": [
        "one_cycle_policy = OneCycleLR(sgd_optimizer, max_lr=1, pct_start=0.25 , steps_per_epoch=len(train_loader), div_factor=10, cycle_momentum=False, epochs=24)"
      ],
      "execution_count": 0,
      "outputs": []
    },
    {
      "cell_type": "code",
      "metadata": {
        "colab_type": "code",
        "outputId": "9e1716ca-3f82-439f-f750-1de9ba409fce",
        "id": "edsKQOXBfGkj",
        "colab": {
          "base_uri": "https://localhost:8080/",
          "height": 833
        }
      },
      "source": [
        "train_accuracy = []\n",
        "for epoch in range(24):\n",
        "  print(f\"EPOCH: {epoch}\")\n",
        "  accuracy = network.train(model=model, optimizer=sgd_optimizer, device=device, policy=one_cycle_policy, data_loader=train_loader, criterion=cross_entropy)\n",
        "  train_accuracy.append(accuracy);"
      ],
      "execution_count": 96,
      "outputs": [
        {
          "output_type": "stream",
          "text": [
            "\r  0%|          | 0/98 [00:00<?, ?it/s]"
          ],
          "name": "stderr"
        },
        {
          "output_type": "stream",
          "text": [
            "EPOCH: 0\n"
          ],
          "name": "stdout"
        },
        {
          "output_type": "stream",
          "text": [
            "Batch: 97, loss: 2.81, Train Accuracy: 14.49: 100%|██████████| 98/98 [00:25<00:00,  3.91it/s]\n",
            "  0%|          | 0/98 [00:00<?, ?it/s]"
          ],
          "name": "stderr"
        },
        {
          "output_type": "stream",
          "text": [
            "EPOCH: 1\n"
          ],
          "name": "stdout"
        },
        {
          "output_type": "stream",
          "text": [
            "Batch: 97, loss: 2.02, Train Accuracy: 20.76: 100%|██████████| 98/98 [00:24<00:00,  3.95it/s]\n",
            "  0%|          | 0/98 [00:00<?, ?it/s]"
          ],
          "name": "stderr"
        },
        {
          "output_type": "stream",
          "text": [
            "EPOCH: 2\n"
          ],
          "name": "stdout"
        },
        {
          "output_type": "stream",
          "text": [
            "Batch: 97, loss: 1.72, Train Accuracy: 31.14: 100%|██████████| 98/98 [00:24<00:00,  4.00it/s]\n",
            "  0%|          | 0/98 [00:00<?, ?it/s]"
          ],
          "name": "stderr"
        },
        {
          "output_type": "stream",
          "text": [
            "EPOCH: 3\n"
          ],
          "name": "stdout"
        },
        {
          "output_type": "stream",
          "text": [
            "Batch: 97, loss: 1.64, Train Accuracy: 39.71: 100%|██████████| 98/98 [00:24<00:00,  3.99it/s]\n",
            "  0%|          | 0/98 [00:00<?, ?it/s]"
          ],
          "name": "stderr"
        },
        {
          "output_type": "stream",
          "text": [
            "EPOCH: 4\n"
          ],
          "name": "stdout"
        },
        {
          "output_type": "stream",
          "text": [
            "Batch: 97, loss: 1.19, Train Accuracy: 47.94: 100%|██████████| 98/98 [00:24<00:00,  3.97it/s]\n",
            "  0%|          | 0/98 [00:00<?, ?it/s]"
          ],
          "name": "stderr"
        },
        {
          "output_type": "stream",
          "text": [
            "EPOCH: 5\n"
          ],
          "name": "stdout"
        },
        {
          "output_type": "stream",
          "text": [
            "Batch: 97, loss: 1.22, Train Accuracy: 57.42: 100%|██████████| 98/98 [00:24<00:00,  3.99it/s]\n",
            "  0%|          | 0/98 [00:00<?, ?it/s]"
          ],
          "name": "stderr"
        },
        {
          "output_type": "stream",
          "text": [
            "EPOCH: 6\n"
          ],
          "name": "stdout"
        },
        {
          "output_type": "stream",
          "text": [
            "Batch: 97, loss: 1.20, Train Accuracy: 59.48: 100%|██████████| 98/98 [00:24<00:00,  4.00it/s]\n",
            "  0%|          | 0/98 [00:00<?, ?it/s]"
          ],
          "name": "stderr"
        },
        {
          "output_type": "stream",
          "text": [
            "EPOCH: 7\n"
          ],
          "name": "stdout"
        },
        {
          "output_type": "stream",
          "text": [
            "Batch: 97, loss: 0.88, Train Accuracy: 60.27: 100%|██████████| 98/98 [00:24<00:00,  4.01it/s]\n",
            "  0%|          | 0/98 [00:00<?, ?it/s]"
          ],
          "name": "stderr"
        },
        {
          "output_type": "stream",
          "text": [
            "EPOCH: 8\n"
          ],
          "name": "stdout"
        },
        {
          "output_type": "stream",
          "text": [
            "Batch: 97, loss: 0.99, Train Accuracy: 64.10: 100%|██████████| 98/98 [00:24<00:00,  4.01it/s]\n",
            "  0%|          | 0/98 [00:00<?, ?it/s]"
          ],
          "name": "stderr"
        },
        {
          "output_type": "stream",
          "text": [
            "EPOCH: 9\n"
          ],
          "name": "stdout"
        },
        {
          "output_type": "stream",
          "text": [
            "Batch: 97, loss: 1.07, Train Accuracy: 65.60: 100%|██████████| 98/98 [00:24<00:00,  4.01it/s]\n",
            "  0%|          | 0/98 [00:00<?, ?it/s]"
          ],
          "name": "stderr"
        },
        {
          "output_type": "stream",
          "text": [
            "EPOCH: 10\n"
          ],
          "name": "stdout"
        },
        {
          "output_type": "stream",
          "text": [
            "Batch: 97, loss: 0.94, Train Accuracy: 66.67: 100%|██████████| 98/98 [00:24<00:00,  4.02it/s]\n",
            "  0%|          | 0/98 [00:00<?, ?it/s]"
          ],
          "name": "stderr"
        },
        {
          "output_type": "stream",
          "text": [
            "EPOCH: 11\n"
          ],
          "name": "stdout"
        },
        {
          "output_type": "stream",
          "text": [
            "Batch: 97, loss: 0.87, Train Accuracy: 68.95: 100%|██████████| 98/98 [00:24<00:00,  4.00it/s]\n",
            "  0%|          | 0/98 [00:00<?, ?it/s]"
          ],
          "name": "stderr"
        },
        {
          "output_type": "stream",
          "text": [
            "EPOCH: 12\n"
          ],
          "name": "stdout"
        },
        {
          "output_type": "stream",
          "text": [
            "Batch: 97, loss: 0.92, Train Accuracy: 70.51: 100%|██████████| 98/98 [00:24<00:00,  3.99it/s]\n",
            "  0%|          | 0/98 [00:00<?, ?it/s]"
          ],
          "name": "stderr"
        },
        {
          "output_type": "stream",
          "text": [
            "EPOCH: 13\n"
          ],
          "name": "stdout"
        },
        {
          "output_type": "stream",
          "text": [
            "Batch: 97, loss: 0.70, Train Accuracy: 72.64: 100%|██████████| 98/98 [00:24<00:00,  4.02it/s]\n",
            "  0%|          | 0/98 [00:00<?, ?it/s]"
          ],
          "name": "stderr"
        },
        {
          "output_type": "stream",
          "text": [
            "EPOCH: 14\n"
          ],
          "name": "stdout"
        },
        {
          "output_type": "stream",
          "text": [
            "Batch: 97, loss: 0.85, Train Accuracy: 74.63: 100%|██████████| 98/98 [00:24<00:00,  4.04it/s]\n",
            "  0%|          | 0/98 [00:00<?, ?it/s]"
          ],
          "name": "stderr"
        },
        {
          "output_type": "stream",
          "text": [
            "EPOCH: 15\n"
          ],
          "name": "stdout"
        },
        {
          "output_type": "stream",
          "text": [
            "Batch: 97, loss: 0.65, Train Accuracy: 77.30: 100%|██████████| 98/98 [00:24<00:00,  4.02it/s]\n",
            "  0%|          | 0/98 [00:00<?, ?it/s]"
          ],
          "name": "stderr"
        },
        {
          "output_type": "stream",
          "text": [
            "EPOCH: 16\n"
          ],
          "name": "stdout"
        },
        {
          "output_type": "stream",
          "text": [
            "Batch: 97, loss: 0.68, Train Accuracy: 79.46: 100%|██████████| 98/98 [00:24<00:00,  4.03it/s]\n",
            "  0%|          | 0/98 [00:00<?, ?it/s]"
          ],
          "name": "stderr"
        },
        {
          "output_type": "stream",
          "text": [
            "EPOCH: 17\n"
          ],
          "name": "stdout"
        },
        {
          "output_type": "stream",
          "text": [
            "Batch: 97, loss: 0.57, Train Accuracy: 81.62: 100%|██████████| 98/98 [00:24<00:00,  4.02it/s]\n",
            "  0%|          | 0/98 [00:00<?, ?it/s]"
          ],
          "name": "stderr"
        },
        {
          "output_type": "stream",
          "text": [
            "EPOCH: 18\n"
          ],
          "name": "stdout"
        },
        {
          "output_type": "stream",
          "text": [
            "Batch: 97, loss: 0.39, Train Accuracy: 84.69: 100%|██████████| 98/98 [00:24<00:00,  4.02it/s]\n",
            "  0%|          | 0/98 [00:00<?, ?it/s]"
          ],
          "name": "stderr"
        },
        {
          "output_type": "stream",
          "text": [
            "EPOCH: 19\n"
          ],
          "name": "stdout"
        },
        {
          "output_type": "stream",
          "text": [
            "Batch: 97, loss: 0.34, Train Accuracy: 87.90: 100%|██████████| 98/98 [00:24<00:00,  4.02it/s]\n",
            "  0%|          | 0/98 [00:00<?, ?it/s]"
          ],
          "name": "stderr"
        },
        {
          "output_type": "stream",
          "text": [
            "EPOCH: 20\n"
          ],
          "name": "stdout"
        },
        {
          "output_type": "stream",
          "text": [
            "Batch: 97, loss: 0.27, Train Accuracy: 91.26: 100%|██████████| 98/98 [00:24<00:00,  4.03it/s]\n",
            "  0%|          | 0/98 [00:00<?, ?it/s]"
          ],
          "name": "stderr"
        },
        {
          "output_type": "stream",
          "text": [
            "EPOCH: 21\n"
          ],
          "name": "stdout"
        },
        {
          "output_type": "stream",
          "text": [
            "Batch: 97, loss: 0.12, Train Accuracy: 95.43: 100%|██████████| 98/98 [00:24<00:00,  4.05it/s]\n",
            "  0%|          | 0/98 [00:00<?, ?it/s]"
          ],
          "name": "stderr"
        },
        {
          "output_type": "stream",
          "text": [
            "EPOCH: 22\n"
          ],
          "name": "stdout"
        },
        {
          "output_type": "stream",
          "text": [
            "Batch: 97, loss: 0.06, Train Accuracy: 98.35: 100%|██████████| 98/98 [00:24<00:00,  4.03it/s]\n",
            "  0%|          | 0/98 [00:00<?, ?it/s]"
          ],
          "name": "stderr"
        },
        {
          "output_type": "stream",
          "text": [
            "EPOCH: 23\n"
          ],
          "name": "stdout"
        },
        {
          "output_type": "stream",
          "text": [
            "Batch: 97, loss: 0.06, Train Accuracy: 99.31: 100%|██████████| 98/98 [00:24<00:00,  4.02it/s]\n"
          ],
          "name": "stderr"
        }
      ]
    },
    {
      "cell_type": "code",
      "metadata": {
        "id": "XGZL7eDwht-r",
        "colab_type": "code",
        "colab": {
          "base_uri": "https://localhost:8080/",
          "height": 295
        },
        "outputId": "e4be316c-95ce-436b-8c66-47d649c2c94b"
      },
      "source": [
        "view.show_graph(list(range(len(train_accuracy))), train_accuracy, \"Epochs\", \"Train Accuracy\", \"Accuracy vs Epochs\")"
      ],
      "execution_count": 97,
      "outputs": [
        {
          "output_type": "display_data",
          "data": {
            "image/png": "[encoded data removed]",
            "text/plain": [
              "<Figure size 432x288 with 1 Axes>"
            ]
          },
          "metadata": {
            "tags": [],
            "needs_background": "light"
          }
        }
      ]
    },
    {
      "cell_type": "markdown",
      "metadata": {
        "id": "cY0ZYlCIafEc",
        "colab_type": "text"
      },
      "source": [
        "#### Image Augmentation Training"
      ]
    },
    {
      "cell_type": "code",
      "metadata": {
        "id": "KKOe_Pa9Rrj4",
        "colab_type": "code",
        "colab": {}
      },
      "source": [
        "torch.cuda.manual_seed(6)\n",
        "\n",
        "model = nn.ResNet(block=nn.ResBlock).to(device)\n",
        "sgd_optimizer = optimizer.SGD(params=model.parameters(), lr=0.02, momentum=0.9, weight_decay=1e-3)\n",
        "cross_entropy = loss_fns.CrossEntropyLoss()"
      ],
      "execution_count": 0,
      "outputs": []
    },
    {
      "cell_type": "code",
      "metadata": {
        "colab_type": "code",
        "id": "iuaSXs9JRr0o",
        "colab": {}
      },
      "source": [
        "one_cycle_policy = OneCycleLR(sgd_optimizer, max_lr=1, pct_start=0.25 , steps_per_epoch=len(train_loader), div_factor=10, cycle_momentum=False, epochs=24)"
      ],
      "execution_count": 0,
      "outputs": []
    },
    {
      "cell_type": "code",
      "metadata": {
        "colab_type": "code",
        "outputId": "ea8fa56b-a532-437f-bc62-099c29c97b4c",
        "id": "ezOJAoFDRr0s",
        "colab": {
          "base_uri": "https://localhost:8080/",
          "height": 833
        }
      },
      "source": [
        "train_accuracy = []\n",
        "for epoch in range(24):\n",
        "  print(f\"EPOCH: {epoch}\")\n",
        "  accuracy = network.train(model=model, optimizer=sgd_optimizer, device=device, policy=one_cycle_policy, data_loader=train_aug_loader, criterion=cross_entropy)\n",
        "  train_accuracy.append(accuracy);"
      ],
      "execution_count": 101,
      "outputs": [
        {
          "output_type": "stream",
          "text": [
            "\r  0%|          | 0/98 [00:00<?, ?it/s]"
          ],
          "name": "stderr"
        },
        {
          "output_type": "stream",
          "text": [
            "EPOCH: 0\n"
          ],
          "name": "stdout"
        },
        {
          "output_type": "stream",
          "text": [
            "Batch: 97, loss: 0.61, Train Accuracy: 76.17: 100%|██████████| 98/98 [00:32<00:00,  3.00it/s]\n",
            "  0%|          | 0/98 [00:00<?, ?it/s]"
          ],
          "name": "stderr"
        },
        {
          "output_type": "stream",
          "text": [
            "EPOCH: 1\n"
          ],
          "name": "stdout"
        },
        {
          "output_type": "stream",
          "text": [
            "Batch: 97, loss: 0.83, Train Accuracy: 77.40: 100%|██████████| 98/98 [00:32<00:00,  3.00it/s]\n",
            "  0%|          | 0/98 [00:00<?, ?it/s]"
          ],
          "name": "stderr"
        },
        {
          "output_type": "stream",
          "text": [
            "EPOCH: 2\n"
          ],
          "name": "stdout"
        },
        {
          "output_type": "stream",
          "text": [
            "Batch: 97, loss: 0.90, Train Accuracy: 72.97: 100%|██████████| 98/98 [00:31<00:00,  3.06it/s]\n",
            "  0%|          | 0/98 [00:00<?, ?it/s]"
          ],
          "name": "stderr"
        },
        {
          "output_type": "stream",
          "text": [
            "EPOCH: 3\n"
          ],
          "name": "stdout"
        },
        {
          "output_type": "stream",
          "text": [
            "Batch: 97, loss: 0.99, Train Accuracy: 67.63: 100%|██████████| 98/98 [00:33<00:00,  2.95it/s]\n",
            "  0%|          | 0/98 [00:00<?, ?it/s]"
          ],
          "name": "stderr"
        },
        {
          "output_type": "stream",
          "text": [
            "EPOCH: 4\n"
          ],
          "name": "stdout"
        },
        {
          "output_type": "stream",
          "text": [
            "Batch: 97, loss: 0.98, Train Accuracy: 62.89: 100%|██████████| 98/98 [00:33<00:00,  2.90it/s]\n",
            "  0%|          | 0/98 [00:00<?, ?it/s]"
          ],
          "name": "stderr"
        },
        {
          "output_type": "stream",
          "text": [
            "EPOCH: 5\n"
          ],
          "name": "stdout"
        },
        {
          "output_type": "stream",
          "text": [
            "Batch: 97, loss: 1.13, Train Accuracy: 61.56: 100%|██████████| 98/98 [00:34<00:00,  2.85it/s]\n",
            "  0%|          | 0/98 [00:00<?, ?it/s]"
          ],
          "name": "stderr"
        },
        {
          "output_type": "stream",
          "text": [
            "EPOCH: 6\n"
          ],
          "name": "stdout"
        },
        {
          "output_type": "stream",
          "text": [
            "Batch: 97, loss: 1.28, Train Accuracy: 60.48: 100%|██████████| 98/98 [00:33<00:00,  2.96it/s]\n",
            "  0%|          | 0/98 [00:00<?, ?it/s]"
          ],
          "name": "stderr"
        },
        {
          "output_type": "stream",
          "text": [
            "EPOCH: 7\n"
          ],
          "name": "stdout"
        },
        {
          "output_type": "stream",
          "text": [
            "Batch: 97, loss: 1.14, Train Accuracy: 59.10: 100%|██████████| 98/98 [00:33<00:00,  2.94it/s]\n",
            "  0%|          | 0/98 [00:00<?, ?it/s]"
          ],
          "name": "stderr"
        },
        {
          "output_type": "stream",
          "text": [
            "EPOCH: 8\n"
          ],
          "name": "stdout"
        },
        {
          "output_type": "stream",
          "text": [
            "Batch: 97, loss: 1.29, Train Accuracy: 59.98: 100%|██████████| 98/98 [00:33<00:00,  2.95it/s]\n",
            "  0%|          | 0/98 [00:00<?, ?it/s]"
          ],
          "name": "stderr"
        },
        {
          "output_type": "stream",
          "text": [
            "EPOCH: 9\n"
          ],
          "name": "stdout"
        },
        {
          "output_type": "stream",
          "text": [
            "Batch: 97, loss: 1.15, Train Accuracy: 59.18: 100%|██████████| 98/98 [00:32<00:00,  3.01it/s]\n",
            "  0%|          | 0/98 [00:00<?, ?it/s]"
          ],
          "name": "stderr"
        },
        {
          "output_type": "stream",
          "text": [
            "EPOCH: 10\n"
          ],
          "name": "stdout"
        },
        {
          "output_type": "stream",
          "text": [
            "Batch: 97, loss: 1.15, Train Accuracy: 61.46: 100%|██████████| 98/98 [00:32<00:00,  2.98it/s]\n",
            "  0%|          | 0/98 [00:00<?, ?it/s]"
          ],
          "name": "stderr"
        },
        {
          "output_type": "stream",
          "text": [
            "EPOCH: 11\n"
          ],
          "name": "stdout"
        },
        {
          "output_type": "stream",
          "text": [
            "Batch: 97, loss: 0.98, Train Accuracy: 59.81: 100%|██████████| 98/98 [00:32<00:00,  2.99it/s]\n",
            "  0%|          | 0/98 [00:00<?, ?it/s]"
          ],
          "name": "stderr"
        },
        {
          "output_type": "stream",
          "text": [
            "EPOCH: 12\n"
          ],
          "name": "stdout"
        },
        {
          "output_type": "stream",
          "text": [
            "Batch: 97, loss: 0.97, Train Accuracy: 64.04: 100%|██████████| 98/98 [00:32<00:00,  3.00it/s]\n",
            "  0%|          | 0/98 [00:00<?, ?it/s]"
          ],
          "name": "stderr"
        },
        {
          "output_type": "stream",
          "text": [
            "EPOCH: 13\n"
          ],
          "name": "stdout"
        },
        {
          "output_type": "stream",
          "text": [
            "Batch: 97, loss: 0.91, Train Accuracy: 66.76: 100%|██████████| 98/98 [00:32<00:00,  2.99it/s]\n",
            "  0%|          | 0/98 [00:00<?, ?it/s]"
          ],
          "name": "stderr"
        },
        {
          "output_type": "stream",
          "text": [
            "EPOCH: 14\n"
          ],
          "name": "stdout"
        },
        {
          "output_type": "stream",
          "text": [
            "Batch: 97, loss: 0.89, Train Accuracy: 67.62: 100%|██████████| 98/98 [00:32<00:00,  2.97it/s]\n",
            "  0%|          | 0/98 [00:00<?, ?it/s]"
          ],
          "name": "stderr"
        },
        {
          "output_type": "stream",
          "text": [
            "EPOCH: 15\n"
          ],
          "name": "stdout"
        },
        {
          "output_type": "stream",
          "text": [
            "Batch: 97, loss: 0.96, Train Accuracy: 70.62: 100%|██████████| 98/98 [00:33<00:00,  2.96it/s]\n",
            "  0%|          | 0/98 [00:00<?, ?it/s]"
          ],
          "name": "stderr"
        },
        {
          "output_type": "stream",
          "text": [
            "EPOCH: 16\n"
          ],
          "name": "stdout"
        },
        {
          "output_type": "stream",
          "text": [
            "Batch: 97, loss: 0.68, Train Accuracy: 72.29: 100%|██████████| 98/98 [00:32<00:00,  2.99it/s]\n",
            "  0%|          | 0/98 [00:00<?, ?it/s]"
          ],
          "name": "stderr"
        },
        {
          "output_type": "stream",
          "text": [
            "EPOCH: 17\n"
          ],
          "name": "stdout"
        },
        {
          "output_type": "stream",
          "text": [
            "Batch: 97, loss: 0.60, Train Accuracy: 74.90: 100%|██████████| 98/98 [00:32<00:00,  2.99it/s]\n",
            "  0%|          | 0/98 [00:00<?, ?it/s]"
          ],
          "name": "stderr"
        },
        {
          "output_type": "stream",
          "text": [
            "EPOCH: 18\n"
          ],
          "name": "stdout"
        },
        {
          "output_type": "stream",
          "text": [
            "Batch: 97, loss: 0.66, Train Accuracy: 76.78: 100%|██████████| 98/98 [00:32<00:00,  2.98it/s]\n",
            "  0%|          | 0/98 [00:00<?, ?it/s]"
          ],
          "name": "stderr"
        },
        {
          "output_type": "stream",
          "text": [
            "EPOCH: 19\n"
          ],
          "name": "stdout"
        },
        {
          "output_type": "stream",
          "text": [
            "Batch: 97, loss: 0.60, Train Accuracy: 79.16: 100%|██████████| 98/98 [00:32<00:00,  3.06it/s]\n",
            "  0%|          | 0/98 [00:00<?, ?it/s]"
          ],
          "name": "stderr"
        },
        {
          "output_type": "stream",
          "text": [
            "EPOCH: 20\n"
          ],
          "name": "stdout"
        },
        {
          "output_type": "stream",
          "text": [
            "Batch: 97, loss: 0.49, Train Accuracy: 81.55: 100%|██████████| 98/98 [00:32<00:00,  3.04it/s]\n",
            "  0%|          | 0/98 [00:00<?, ?it/s]"
          ],
          "name": "stderr"
        },
        {
          "output_type": "stream",
          "text": [
            "EPOCH: 21\n"
          ],
          "name": "stdout"
        },
        {
          "output_type": "stream",
          "text": [
            "Batch: 97, loss: 0.39, Train Accuracy: 83.83: 100%|██████████| 98/98 [00:33<00:00,  2.97it/s]\n",
            "  0%|          | 0/98 [00:00<?, ?it/s]"
          ],
          "name": "stderr"
        },
        {
          "output_type": "stream",
          "text": [
            "EPOCH: 22\n"
          ],
          "name": "stdout"
        },
        {
          "output_type": "stream",
          "text": [
            "Batch: 97, loss: 0.43, Train Accuracy: 85.69: 100%|██████████| 98/98 [00:33<00:00,  2.89it/s]\n",
            "  0%|          | 0/98 [00:00<?, ?it/s]"
          ],
          "name": "stderr"
        },
        {
          "output_type": "stream",
          "text": [
            "EPOCH: 23\n"
          ],
          "name": "stdout"
        },
        {
          "output_type": "stream",
          "text": [
            "Batch: 97, loss: 0.38, Train Accuracy: 86.98: 100%|██████████| 98/98 [00:32<00:00,  2.97it/s]\n"
          ],
          "name": "stderr"
        }
      ]
    },
    {
      "cell_type": "code",
      "metadata": {
        "colab_type": "code",
        "outputId": "12954540-5801-4cb8-bd30-e6cfa99e0bf9",
        "id": "KOU5m3gDRr0u",
        "colab": {
          "base_uri": "https://localhost:8080/",
          "height": 295
        }
      },
      "source": [
        "view.show_graph(list(range(len(train_accuracy))), train_accuracy, \"Epochs\", \"Train Accuracy\", \"Accuracy vs Epochs\")"
      ],
      "execution_count": 102,
      "outputs": [
        {
          "output_type": "display_data",
          "data": {
            "image/png": "[encoded data removed]",
            "text/plain": [
              "<Figure size 432x288 with 1 Axes>"
            ]
          },
          "metadata": {
            "tags": [],
            "needs_background": "light"
          }
        }
      ]
    },
    {
      "cell_type": "markdown",
      "metadata": {
        "colab_type": "text",
        "id": "gBRVrvm2Rr0x"
      },
      "source": [
        "#### Validation Accuracy"
      ]
    },
    {
      "cell_type": "code",
      "metadata": {
        "colab_type": "code",
        "outputId": "e44275fd-3bdc-437a-921d-66d370dfb03a",
        "id": "d4aXfk1fRr0x",
        "colab": {
          "base_uri": "https://localhost:8080/",
          "height": 34
        }
      },
      "source": [
        "network.validate(model=model, data_loader=test_loader, device=device)"
      ],
      "execution_count": 103,
      "outputs": [
        {
          "output_type": "stream",
          "text": [
            "Batch: 99, Test Accuracy: 85.22: 100%|██████████| 100/100 [00:02<00:00, 36.81it/s]\n"
          ],
          "name": "stderr"
        }
      ]
    },
    {
      "cell_type": "code",
      "metadata": {
        "id": "gDMFS4Nulp29",
        "colab_type": "code",
        "colab": {}
      },
      "source": [
        ""
      ],
      "execution_count": 0,
      "outputs": []
    }
  ]
}