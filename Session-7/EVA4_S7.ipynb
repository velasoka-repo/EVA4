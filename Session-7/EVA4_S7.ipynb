{
  "nbformat": 4,
  "nbformat_minor": 0,
  "metadata": {
    "colab": {
      "name": "EVA4-S7.ipynb",
      "provenance": [],
      "collapsed_sections": [
        "BG64wVL7N3Px",
        "J-hy7FYfPSrs"
      ],
      "authorship_tag": "ABX9TyMUOupEGKnXjMObNGrMREGQ",
      "include_colab_link": true
    },
    "kernelspec": {
      "name": "python3",
      "display_name": "Python 3"
    },
    "accelerator": "GPU"
  },
  "cells": [
    {
      "cell_type": "markdown",
      "metadata": {
        "id": "view-in-github",
        "colab_type": "text"
      },
      "source": [
        "<a href=\"https://colab.research.google.com/github/velasoka-repo/EVA4/blob/master/Session-7/EVA4_S7.ipynb\" target=\"_parent\"><img src=\"https://colab.research.google.com/assets/colab-badge.svg\" alt=\"Open In Colab\"/></a>"
      ]
    },
    {
      "cell_type": "markdown",
      "metadata": {
        "id": "9xkz_8DtbIOg",
        "colab_type": "text"
      },
      "source": [
        "# [Github Link](https://github.com/velasoka-repo/EVA4/new/master/Session-7)"
      ]
    },
    {
      "cell_type": "markdown",
      "metadata": {
        "id": "BG64wVL7N3Px",
        "colab_type": "text"
      },
      "source": [
        "# Google Drive Mount"
      ]
    },
    {
      "cell_type": "code",
      "metadata": {
        "id": "nd1dYBvmFqP6",
        "colab_type": "code",
        "outputId": "6b4a6544-00a9-44f9-c952-138ba005e204",
        "colab": {
          "base_uri": "https://localhost:8080/",
          "height": 34
        }
      },
      "source": [
        "from google.colab import drive\n",
        "drive.mount('/content/gdrive')"
      ],
      "execution_count": 0,
      "outputs": [
        {
          "output_type": "stream",
          "text": [
            "Drive already mounted at /content/gdrive; to attempt to forcibly remount, call drive.mount(\"/content/gdrive\", force_remount=True).\n"
          ],
          "name": "stdout"
        }
      ]
    },
    {
      "cell_type": "code",
      "metadata": {
        "id": "8GLLBE_AF3Lb",
        "colab_type": "code",
        "outputId": "b5beda61-465a-4db9-a259-f07458a35a2a",
        "colab": {
          "base_uri": "https://localhost:8080/",
          "height": 187
        }
      },
      "source": [
        "EVA4_PATH = \"/content/gdrive/My Drive/Colab Notebooks/EVA4/\"\n",
        "import sys\n",
        "if not EVA4_PATH in sys.path:\n",
        "  sys.path.append(EVA4_PATH)\n",
        "sys.path"
      ],
      "execution_count": 0,
      "outputs": [
        {
          "output_type": "execute_result",
          "data": {
            "text/plain": [
              "['',\n",
              " '/env/python',\n",
              " '/usr/lib/python36.zip',\n",
              " '/usr/lib/python3.6',\n",
              " '/usr/lib/python3.6/lib-dynload',\n",
              " '/usr/local/lib/python3.6/dist-packages',\n",
              " '/usr/lib/python3/dist-packages',\n",
              " '/usr/local/lib/python3.6/dist-packages/IPython/extensions',\n",
              " '/root/.ipython',\n",
              " '/content/gdrive/My Drive/Colab Notebooks/EVA4/']"
            ]
          },
          "metadata": {
            "tags": []
          },
          "execution_count": 2
        }
      ]
    },
    {
      "cell_type": "markdown",
      "metadata": {
        "id": "J-hy7FYfPSrs",
        "colab_type": "text"
      },
      "source": [
        "# Python Module Import"
      ]
    },
    {
      "cell_type": "code",
      "metadata": {
        "id": "uBFTfUL3PRF2",
        "colab_type": "code",
        "colab": {}
      },
      "source": [
        "import velasoka\n",
        "device = velasoka.get_available_device()"
      ],
      "execution_count": 0,
      "outputs": []
    },
    {
      "cell_type": "markdown",
      "metadata": {
        "id": "1uqkn3ynN_3n",
        "colab_type": "text"
      },
      "source": [
        "# Simple Model\n",
        "- - -\n",
        "**Uses** C1, C2, C3, C4 & O\n",
        "* Conv2d\n",
        "* BatchNorm2d\n",
        "* ReLU\n",
        "* MaxPool2d\n",
        "* AvgPool2d"
      ]
    },
    {
      "cell_type": "code",
      "metadata": {
        "id": "GJMqnh15N94o",
        "colab_type": "code",
        "colab": {}
      },
      "source": [
        "import torch.nn as nn\n",
        "class SimpleModel(nn.Module):\n",
        "    def __init__(self, fm_size):\n",
        "        super(SimpleModel, self).__init__()\n",
        "        self.c1 = nn.Sequential(\n",
        "            nn.Conv2d(in_channels=3, out_channels=fm_size, kernel_size=3, padding=1), #i=32, o=32\n",
        "            nn.BatchNorm2d(num_features=fm_size),\n",
        "            nn.ReLU(),\n",
        "            nn.Conv2d(in_channels=fm_size, out_channels=fm_size*2, kernel_size=3, padding=1), #i=32, o=32\n",
        "            nn.BatchNorm2d(num_features=fm_size*2),\n",
        "            nn.ReLU(),\n",
        "            nn.MaxPool2d(kernel_size=2, stride=2) #i=32, o=16\n",
        "        )\n",
        "        fm_size *=2 #64\n",
        "        self.c2 = nn.Sequential(\n",
        "            nn.Conv2d(in_channels=fm_size, out_channels=fm_size, kernel_size=3, padding=1), #i=16, o=16\n",
        "            nn.BatchNorm2d(num_features=fm_size),\n",
        "            nn.ReLU(),\n",
        "            nn.Conv2d(in_channels=fm_size, out_channels=fm_size*2, kernel_size=3, padding=1), #i=16, o=16\n",
        "            nn.BatchNorm2d(num_features=fm_size*2),\n",
        "            nn.ReLU(),\n",
        "            nn.MaxPool2d(kernel_size=2, stride=2) #i=16, o=8\n",
        "        )\n",
        "        fm_size *=2 #128\n",
        "        self.c3 = nn.Sequential(\n",
        "            nn.Conv2d(in_channels=fm_size, out_channels=fm_size, kernel_size=3), #i=8, o=6\n",
        "            nn.BatchNorm2d(num_features=fm_size),\n",
        "            nn.ReLU(),\n",
        "            nn.Conv2d(in_channels=fm_size, out_channels=fm_size*2, kernel_size=3),  #i=6, o=4\n",
        "            nn.BatchNorm2d(num_features=fm_size*2),\n",
        "            nn.ReLU(),\n",
        "            nn.MaxPool2d(kernel_size=2, stride=2)  #i=4, o=2\n",
        "        )\n",
        "        fm_size *=2 #256\n",
        "        self.c4 = nn.Sequential(\n",
        "            nn.AvgPool2d(kernel_size=2), #i=4, o=2\n",
        "            nn.Conv2d(in_channels=fm_size, out_channels=10, kernel_size=1) #i=6, o=4\n",
        "        )\n",
        "\n",
        "    def forward(self, x):\n",
        "        x = self.c1(x)\n",
        "        x = self.c2(x)\n",
        "        x = self.c3(x)\n",
        "        x = self.c4(x)\n",
        "        x = x.view(-1, 10)\n",
        "        return x"
      ],
      "execution_count": 0,
      "outputs": []
    },
    {
      "cell_type": "markdown",
      "metadata": {
        "id": "0hT1PvToSlN0",
        "colab_type": "text"
      },
      "source": [
        "## Run"
      ]
    },
    {
      "cell_type": "code",
      "metadata": {
        "id": "8-3ZlagzN_ET",
        "colab_type": "code",
        "outputId": "3d7ba9f5-6498-4348-e355-cd58c60c7d60",
        "colab": {
          "base_uri": "https://localhost:8080/",
          "height": 1000
        }
      },
      "source": [
        "#model\n",
        "simple_model = SimpleModel(fm_size=32).to(device)\n",
        "\n",
        "#dataset, data_loader\n",
        "dataset = velasoka.get_cifar10_dataset()\n",
        "data_loader = velasoka.get_cifar10_data_loader(dataset=dataset)\n",
        "\n",
        "#optimizer, loss_function\n",
        "optimizer = velasoka.get_sgd_optimizer(model=simple_model)\n",
        "loss_fn = velasoka.get_ce_loss() #CrossEntropyLoss\n",
        "\n",
        "#model_summary\n",
        "velasoka.model_summary(model=simple_model, input_size=(3, 32, 32), device=device)\n",
        "#start cnn\n",
        "velasoka.start_cnn(model=simple_model, optimizer=optimizer, loss_fn=loss_fn, data_loader=data_loader, device=device, epochs=8)\n",
        "\n",
        "#save model\n",
        "drive_file_path = velasoka.get_drive_path(folder=\"Session-7\", filename=\"simple_model.pt\")\n",
        "velasoka.save_model(model=simple_model, path=drive_file_path)"
      ],
      "execution_count": 0,
      "outputs": [
        {
          "output_type": "stream",
          "text": [
            "Files already downloaded and verified\n",
            "Files already downloaded and verified\n"
          ],
          "name": "stdout"
        },
        {
          "output_type": "stream",
          "text": [
            "\r  0%|          | 0/12500 [00:00<?, ?it/s]"
          ],
          "name": "stderr"
        },
        {
          "output_type": "stream",
          "text": [
            "----------------------------------------------------------------\n",
            "        Layer (type)               Output Shape         Param #\n",
            "================================================================\n",
            "            Conv2d-1           [-1, 32, 32, 32]             896\n",
            "       BatchNorm2d-2           [-1, 32, 32, 32]              64\n",
            "              ReLU-3           [-1, 32, 32, 32]               0\n",
            "            Conv2d-4           [-1, 64, 32, 32]          18,496\n",
            "       BatchNorm2d-5           [-1, 64, 32, 32]             128\n",
            "              ReLU-6           [-1, 64, 32, 32]               0\n",
            "         MaxPool2d-7           [-1, 64, 16, 16]               0\n",
            "            Conv2d-8           [-1, 64, 16, 16]          36,928\n",
            "       BatchNorm2d-9           [-1, 64, 16, 16]             128\n",
            "             ReLU-10           [-1, 64, 16, 16]               0\n",
            "           Conv2d-11          [-1, 128, 16, 16]          73,856\n",
            "      BatchNorm2d-12          [-1, 128, 16, 16]             256\n",
            "             ReLU-13          [-1, 128, 16, 16]               0\n",
            "        MaxPool2d-14            [-1, 128, 8, 8]               0\n",
            "           Conv2d-15            [-1, 128, 6, 6]         147,584\n",
            "      BatchNorm2d-16            [-1, 128, 6, 6]             256\n",
            "             ReLU-17            [-1, 128, 6, 6]               0\n",
            "           Conv2d-18            [-1, 256, 4, 4]         295,168\n",
            "      BatchNorm2d-19            [-1, 256, 4, 4]             512\n",
            "             ReLU-20            [-1, 256, 4, 4]               0\n",
            "        MaxPool2d-21            [-1, 256, 2, 2]               0\n",
            "        AvgPool2d-22            [-1, 256, 1, 1]               0\n",
            "           Conv2d-23             [-1, 10, 1, 1]           2,570\n",
            "================================================================\n",
            "Total params: 576,842\n",
            "Trainable params: 576,842\n",
            "Non-trainable params: 0\n",
            "----------------------------------------------------------------\n",
            "Input size (MB): 0.01\n",
            "Forward/backward pass size (MB): 3.77\n",
            "Params size (MB): 2.20\n",
            "Estimated Total Size (MB): 5.98\n",
            "----------------------------------------------------------------\n",
            "\n",
            "EPOCH: 1\n"
          ],
          "name": "stdout"
        },
        {
          "output_type": "stream",
          "text": [
            "Training Batch=12499, loss=1.14653, Correct Prediction=25956/50000, Train Accuracy=51.91200: 100%|██████████| 12500/12500 [01:59<00:00, 104.50it/s]\n",
            "Test Batch=2499, Correct Validation=7058/10000, Test Accuracy=70.58000: 100%|██████████| 2500/2500 [00:15<00:00, 164.84it/s]\n",
            "  0%|          | 0/12500 [00:00<?, ?it/s]"
          ],
          "name": "stderr"
        },
        {
          "output_type": "stream",
          "text": [
            "\n",
            "EPOCH: 2\n"
          ],
          "name": "stdout"
        },
        {
          "output_type": "stream",
          "text": [
            "Training Batch=12499, loss=1.55034, Correct Prediction=34317/50000, Train Accuracy=68.63400: 100%|██████████| 12500/12500 [01:57<00:00, 111.61it/s]\n",
            "Test Batch=2499, Correct Validation=7518/10000, Test Accuracy=75.18000: 100%|██████████| 2500/2500 [00:14<00:00, 173.06it/s]\n",
            "  0%|          | 0/12500 [00:00<?, ?it/s]"
          ],
          "name": "stderr"
        },
        {
          "output_type": "stream",
          "text": [
            "\n",
            "EPOCH: 3\n"
          ],
          "name": "stdout"
        },
        {
          "output_type": "stream",
          "text": [
            "Training Batch=12499, loss=0.35669, Correct Prediction=37229/50000, Train Accuracy=74.45800: 100%|██████████| 12500/12500 [02:02<00:00, 102.34it/s]\n",
            "Test Batch=2499, Correct Validation=7525/10000, Test Accuracy=75.25000: 100%|██████████| 2500/2500 [00:14<00:00, 169.15it/s]\n",
            "  0%|          | 0/12500 [00:00<?, ?it/s]"
          ],
          "name": "stderr"
        },
        {
          "output_type": "stream",
          "text": [
            "\n",
            "EPOCH: 4\n"
          ],
          "name": "stdout"
        },
        {
          "output_type": "stream",
          "text": [
            "Training Batch=12499, loss=0.56442, Correct Prediction=39290/50000, Train Accuracy=78.58000: 100%|██████████| 12500/12500 [01:59<00:00, 104.95it/s]\n",
            "Test Batch=2499, Correct Validation=8106/10000, Test Accuracy=81.06000: 100%|██████████| 2500/2500 [00:14<00:00, 167.10it/s]\n",
            "  0%|          | 0/12500 [00:00<?, ?it/s]"
          ],
          "name": "stderr"
        },
        {
          "output_type": "stream",
          "text": [
            "\n",
            "EPOCH: 5\n"
          ],
          "name": "stdout"
        },
        {
          "output_type": "stream",
          "text": [
            "Training Batch=12499, loss=0.20971, Correct Prediction=40769/50000, Train Accuracy=81.53800: 100%|██████████| 12500/12500 [02:02<00:00, 101.71it/s]\n",
            "Test Batch=2499, Correct Validation=8114/10000, Test Accuracy=81.14000: 100%|██████████| 2500/2500 [00:14<00:00, 166.76it/s]\n",
            "  0%|          | 0/12500 [00:00<?, ?it/s]"
          ],
          "name": "stderr"
        },
        {
          "output_type": "stream",
          "text": [
            "\n",
            "EPOCH: 6\n"
          ],
          "name": "stdout"
        },
        {
          "output_type": "stream",
          "text": [
            "Training Batch=12499, loss=0.65215, Correct Prediction=41981/50000, Train Accuracy=83.96200: 100%|██████████| 12500/12500 [01:59<00:00, 104.19it/s]\n",
            "Test Batch=2499, Correct Validation=8188/10000, Test Accuracy=81.88000: 100%|██████████| 2500/2500 [00:14<00:00, 173.57it/s]\n",
            "  0%|          | 0/12500 [00:00<?, ?it/s]"
          ],
          "name": "stderr"
        },
        {
          "output_type": "stream",
          "text": [
            "\n",
            "EPOCH: 7\n"
          ],
          "name": "stdout"
        },
        {
          "output_type": "stream",
          "text": [
            "Training Batch=12499, loss=0.75351, Correct Prediction=43143/50000, Train Accuracy=86.28600: 100%|██████████| 12500/12500 [01:57<00:00, 106.51it/s]\n",
            "Test Batch=2499, Correct Validation=8186/10000, Test Accuracy=81.86000: 100%|██████████| 2500/2500 [00:14<00:00, 166.77it/s]\n"
          ],
          "name": "stderr"
        }
      ]
    },
    {
      "cell_type": "markdown",
      "metadata": {
        "colab_type": "text",
        "id": "D06JG37rP9Dq"
      },
      "source": [
        "# Dilated Convolution\n",
        "- - -\n",
        "**Uses** C1, C2, C3, C4 & O\n",
        "* Conv2d\n",
        "* BatchNorm2d\n",
        "* ReLU\n",
        "* MaxPool2d\n",
        "* AvgPool2d\n",
        "* dilation=2"
      ]
    },
    {
      "cell_type": "code",
      "metadata": {
        "colab_type": "code",
        "id": "R_ppM0FsP9Du",
        "colab": {}
      },
      "source": [
        "import torch.nn as nn\n",
        "class DilatedModel(nn.Module):\n",
        "    def __init__(self, fm_size):\n",
        "        super(DilatedModel, self).__init__()\n",
        "        self.c1 = nn.Sequential(\n",
        "            nn.Conv2d(in_channels=3, out_channels=fm_size, kernel_size=3, padding=1), #i=32, o=32\n",
        "            nn.BatchNorm2d(num_features=fm_size),\n",
        "            nn.ReLU(),\n",
        "            nn.Conv2d(in_channels=fm_size, out_channels=fm_size*2, kernel_size=3, padding=1), #i=32, o=32\n",
        "            nn.BatchNorm2d(num_features=fm_size*2),\n",
        "            nn.ReLU(),\n",
        "            nn.MaxPool2d(kernel_size=2, stride=2) #i=32, o=16\n",
        "        )\n",
        "        fm_size *=2 #64\n",
        "        self.c2 = nn.Sequential(\n",
        "            nn.Conv2d(in_channels=fm_size, out_channels=fm_size, kernel_size=3, padding=1), #i=16, o=16\n",
        "            nn.BatchNorm2d(num_features=fm_size),\n",
        "            nn.ReLU(),\n",
        "            nn.Conv2d(in_channels=fm_size, out_channels=fm_size*2, kernel_size=3, padding=1), #i=16, o=16\n",
        "            nn.BatchNorm2d(num_features=fm_size*2),\n",
        "            nn.ReLU(),\n",
        "            nn.MaxPool2d(kernel_size=2, stride=2) #i=16, o=8\n",
        "        )\n",
        "        fm_size *=2 #128\n",
        "        self.c3 = nn.Sequential(\n",
        "            nn.Conv2d(in_channels=fm_size, out_channels=fm_size, kernel_size=3, padding=1, dilation=2), #i=8, o=5\n",
        "            nn.BatchNorm2d(num_features=fm_size),\n",
        "            nn.ReLU(),\n",
        "            nn.Conv2d(in_channels=fm_size, out_channels=fm_size*2, kernel_size=2),  #i=5, o=4\n",
        "            nn.BatchNorm2d(num_features=fm_size*2),\n",
        "            nn.ReLU(),\n",
        "            nn.MaxPool2d(kernel_size=2, stride=2)  #i=4, o=2\n",
        "        )\n",
        "        fm_size *=2 #256\n",
        "        self.c4 = nn.Sequential(\n",
        "            nn.AvgPool2d(kernel_size=2), #i=4, o=2\n",
        "            nn.Conv2d(in_channels=fm_size, out_channels=10, kernel_size=1) #i=6, o=4\n",
        "        )\n",
        "\n",
        "    def forward(self, x):\n",
        "        x = self.c1(x)\n",
        "        x = self.c2(x)\n",
        "        x = self.c3(x)\n",
        "        x = self.c4(x)\n",
        "        x = x.view(-1, 10)\n",
        "        return x"
      ],
      "execution_count": 0,
      "outputs": []
    },
    {
      "cell_type": "markdown",
      "metadata": {
        "id": "FZFECuxYrmL4",
        "colab_type": "text"
      },
      "source": [
        "## Run"
      ]
    },
    {
      "cell_type": "code",
      "metadata": {
        "id": "m17RkjLZQnFy",
        "colab_type": "code",
        "outputId": "71fdd7ba-568d-48f5-b4f7-4f999f7d020d",
        "colab": {
          "base_uri": "https://localhost:8080/",
          "height": 1000
        }
      },
      "source": [
        "#model\n",
        "dilated_model = DilatedModel(fm_size=32).to(device)\n",
        "\n",
        "#dataset, data_loader\n",
        "dataset = velasoka.get_cifar10_dataset()\n",
        "data_loader = velasoka.get_cifar10_data_loader(dataset=dataset)\n",
        "\n",
        "#optimizer, loss_function\n",
        "optimizer = velasoka.get_sgd_optimizer(model=dilated_model)\n",
        "loss_fn = velasoka.get_ce_loss() #CrossEntropyLoss\n",
        "\n",
        "#model_summary\n",
        "velasoka.model_summary(model=dilated_model, input_size=(3, 32, 32), device=device)\n",
        "#start cnn\n",
        "velasoka.start_cnn(model=dilated_model, optimizer=optimizer, loss_fn=loss_fn, data_loader=data_loader, device=device, epochs=8)\n",
        "\n",
        "#save model\n",
        "drive_file_path = velasoka.get_drive_path(folder=\"Session-7\", filename=\"dilated_model.pt\")\n",
        "velasoka.save_model(model=dilated_model, path=drive_file_path)"
      ],
      "execution_count": 0,
      "outputs": [
        {
          "output_type": "stream",
          "text": [
            "Files already downloaded and verified\n",
            "Files already downloaded and verified\n"
          ],
          "name": "stdout"
        },
        {
          "output_type": "stream",
          "text": [
            "\r  0%|          | 0/12500 [00:00<?, ?it/s]"
          ],
          "name": "stderr"
        },
        {
          "output_type": "stream",
          "text": [
            "----------------------------------------------------------------\n",
            "        Layer (type)               Output Shape         Param #\n",
            "================================================================\n",
            "            Conv2d-1           [-1, 32, 32, 32]             896\n",
            "       BatchNorm2d-2           [-1, 32, 32, 32]              64\n",
            "              ReLU-3           [-1, 32, 32, 32]               0\n",
            "            Conv2d-4           [-1, 64, 32, 32]          18,496\n",
            "       BatchNorm2d-5           [-1, 64, 32, 32]             128\n",
            "              ReLU-6           [-1, 64, 32, 32]               0\n",
            "         MaxPool2d-7           [-1, 64, 16, 16]               0\n",
            "            Conv2d-8           [-1, 64, 16, 16]          36,928\n",
            "       BatchNorm2d-9           [-1, 64, 16, 16]             128\n",
            "             ReLU-10           [-1, 64, 16, 16]               0\n",
            "           Conv2d-11          [-1, 128, 16, 16]          73,856\n",
            "      BatchNorm2d-12          [-1, 128, 16, 16]             256\n",
            "             ReLU-13          [-1, 128, 16, 16]               0\n",
            "        MaxPool2d-14            [-1, 128, 8, 8]               0\n",
            "           Conv2d-15            [-1, 128, 6, 6]         147,584\n",
            "      BatchNorm2d-16            [-1, 128, 6, 6]             256\n",
            "             ReLU-17            [-1, 128, 6, 6]               0\n",
            "           Conv2d-18            [-1, 256, 5, 5]         131,328\n",
            "      BatchNorm2d-19            [-1, 256, 5, 5]             512\n",
            "             ReLU-20            [-1, 256, 5, 5]               0\n",
            "        MaxPool2d-21            [-1, 256, 2, 2]               0\n",
            "        AvgPool2d-22            [-1, 256, 1, 1]               0\n",
            "           Conv2d-23             [-1, 10, 1, 1]           2,570\n",
            "================================================================\n",
            "Total params: 413,002\n",
            "Trainable params: 413,002\n",
            "Non-trainable params: 0\n",
            "----------------------------------------------------------------\n",
            "Input size (MB): 0.01\n",
            "Forward/backward pass size (MB): 3.82\n",
            "Params size (MB): 1.58\n",
            "Estimated Total Size (MB): 5.41\n",
            "----------------------------------------------------------------\n",
            "\n",
            "EPOCH: 1\n"
          ],
          "name": "stdout"
        },
        {
          "output_type": "stream",
          "text": [
            "Training Batch=12499, loss=0.77478, Correct Prediction=29111/50000, Train Accuracy=58.22200: 100%|██████████| 12500/12500 [01:56<00:00, 107.65it/s]\n",
            "Test Batch=2499, Correct Validation=7221/10000, Test Accuracy=72.21000: 100%|██████████| 2500/2500 [00:14<00:00, 173.86it/s]\n",
            "  0%|          | 0/12500 [00:00<?, ?it/s]"
          ],
          "name": "stderr"
        },
        {
          "output_type": "stream",
          "text": [
            "\n",
            "EPOCH: 2\n"
          ],
          "name": "stdout"
        },
        {
          "output_type": "stream",
          "text": [
            "Training Batch=12499, loss=1.12672, Correct Prediction=37083/50000, Train Accuracy=74.16600: 100%|██████████| 12500/12500 [01:56<00:00, 107.74it/s]\n",
            "Test Batch=2499, Correct Validation=7744/10000, Test Accuracy=77.44000: 100%|██████████| 2500/2500 [00:14<00:00, 174.67it/s]\n",
            "  0%|          | 0/12500 [00:00<?, ?it/s]"
          ],
          "name": "stderr"
        },
        {
          "output_type": "stream",
          "text": [
            "\n",
            "EPOCH: 3\n"
          ],
          "name": "stdout"
        },
        {
          "output_type": "stream",
          "text": [
            "Training Batch=12499, loss=0.08147, Correct Prediction=39813/50000, Train Accuracy=79.62600: 100%|██████████| 12500/12500 [01:56<00:00, 106.89it/s]\n",
            "Test Batch=2499, Correct Validation=7873/10000, Test Accuracy=78.73000: 100%|██████████| 2500/2500 [00:14<00:00, 170.28it/s]\n",
            "  0%|          | 0/12500 [00:00<?, ?it/s]"
          ],
          "name": "stderr"
        },
        {
          "output_type": "stream",
          "text": [
            "\n",
            "EPOCH: 4\n"
          ],
          "name": "stdout"
        },
        {
          "output_type": "stream",
          "text": [
            "Training Batch=12499, loss=0.98867, Correct Prediction=41603/50000, Train Accuracy=83.20600: 100%|██████████| 12500/12500 [01:55<00:00, 107.89it/s]\n",
            "Test Batch=2499, Correct Validation=8080/10000, Test Accuracy=80.80000: 100%|██████████| 2500/2500 [00:14<00:00, 172.40it/s]\n",
            "  0%|          | 0/12500 [00:00<?, ?it/s]"
          ],
          "name": "stderr"
        },
        {
          "output_type": "stream",
          "text": [
            "\n",
            "EPOCH: 5\n"
          ],
          "name": "stdout"
        },
        {
          "output_type": "stream",
          "text": [
            "Training Batch=12499, loss=0.00231, Correct Prediction=42963/50000, Train Accuracy=85.92600: 100%|██████████| 12500/12500 [01:58<00:00, 105.85it/s]\n",
            "Test Batch=2499, Correct Validation=8224/10000, Test Accuracy=82.24000: 100%|██████████| 2500/2500 [00:14<00:00, 172.33it/s]\n",
            "  0%|          | 0/12500 [00:00<?, ?it/s]"
          ],
          "name": "stderr"
        },
        {
          "output_type": "stream",
          "text": [
            "\n",
            "EPOCH: 6\n"
          ],
          "name": "stdout"
        },
        {
          "output_type": "stream",
          "text": [
            "Training Batch=12499, loss=2.08339, Correct Prediction=43989/50000, Train Accuracy=87.97800: 100%|██████████| 12500/12500 [01:57<00:00, 106.74it/s]\n",
            "Test Batch=2499, Correct Validation=8169/10000, Test Accuracy=81.69000: 100%|██████████| 2500/2500 [00:14<00:00, 169.44it/s]\n",
            "  0%|          | 0/12500 [00:00<?, ?it/s]"
          ],
          "name": "stderr"
        },
        {
          "output_type": "stream",
          "text": [
            "\n",
            "EPOCH: 7\n"
          ],
          "name": "stdout"
        },
        {
          "output_type": "stream",
          "text": [
            "Training Batch=12499, loss=0.77143, Correct Prediction=44951/50000, Train Accuracy=89.90200: 100%|██████████| 12500/12500 [01:56<00:00, 107.19it/s]\n",
            "Test Batch=2499, Correct Validation=8353/10000, Test Accuracy=83.53000: 100%|██████████| 2500/2500 [00:14<00:00, 171.97it/s]\n"
          ],
          "name": "stderr"
        }
      ]
    },
    {
      "cell_type": "markdown",
      "metadata": {
        "colab_type": "text",
        "id": "FjE67ZBSQqJf"
      },
      "source": [
        "# Dilated, Depthwise Separable Convolution\n",
        "- - -\n",
        "**Uses** C1, C2, C3, C4 & O\n",
        "* Conv2d\n",
        "* BatchNorm2d\n",
        "* ReLU\n",
        "* MaxPool2d\n",
        "* AvgPool2d\n",
        "* dilation=2\n",
        "* groups=`<in_channel>`"
      ]
    },
    {
      "cell_type": "code",
      "metadata": {
        "colab_type": "code",
        "id": "NyCLUvb6QqJg",
        "colab": {}
      },
      "source": [
        "import torch.nn as nn\n",
        "class Net(nn.Module):\n",
        "    def __init__(self, fm_size):\n",
        "        super(Net, self).__init__()\n",
        "        self.c1 = nn.Sequential(\n",
        "            nn.Conv2d(in_channels=3, out_channels=fm_size, kernel_size=3, padding=1), #i=32, o=32\n",
        "            nn.BatchNorm2d(num_features=fm_size),\n",
        "            nn.ReLU(),\n",
        "            nn.Conv2d(in_channels=fm_size, out_channels=fm_size*2, kernel_size=3, padding=1), #i=32, o=32\n",
        "            nn.BatchNorm2d(num_features=fm_size*2),\n",
        "            nn.ReLU(),\n",
        "            nn.MaxPool2d(kernel_size=2, stride=2) #i=32, o=16\n",
        "        )\n",
        "        fm_size *=2 #64\n",
        "        self.c2 = nn.Sequential(\n",
        "            nn.Conv2d(in_channels=fm_size, out_channels=fm_size, kernel_size=3, padding=1), #i=16, o=16\n",
        "            nn.BatchNorm2d(num_features=fm_size),\n",
        "            nn.ReLU(),\n",
        "            nn.Conv2d(in_channels=fm_size, out_channels=fm_size, kernel_size=3, padding=1, groups=fm_size), #i=16, o=16\n",
        "            nn.Conv2d(in_channels=fm_size, out_channels=fm_size*2, kernel_size=1, padding=1), #i=16, o=16\n",
        "            nn.BatchNorm2d(num_features=fm_size*2),\n",
        "            nn.ReLU(),\n",
        "            nn.MaxPool2d(kernel_size=2, stride=2) #i=16, o=8\n",
        "        )\n",
        "        fm_size *=2 #128\n",
        "        self.c3 = nn.Sequential(\n",
        "            nn.Conv2d(in_channels=fm_size, out_channels=fm_size, kernel_size=3, padding=1, dilation=2), #i=8, o=5\n",
        "            nn.BatchNorm2d(num_features=fm_size),\n",
        "            nn.ReLU(),\n",
        "            nn.Conv2d(in_channels=fm_size, out_channels=fm_size*2, kernel_size=2),  #i=5, o=4\n",
        "            nn.BatchNorm2d(num_features=fm_size*2),\n",
        "            nn.ReLU(),\n",
        "            nn.MaxPool2d(kernel_size=2, stride=2)  #i=4, o=2\n",
        "        )\n",
        "        fm_size *=2 #256\n",
        "        self.c4 = nn.Sequential(\n",
        "            nn.AvgPool2d(kernel_size=2), #i=4, o=2\n",
        "            nn.Conv2d(in_channels=fm_size, out_channels=10, kernel_size=1) #i=6, o=4\n",
        "        )\n",
        "\n",
        "    def forward(self, x):\n",
        "        x = self.c1(x)\n",
        "        x = self.c2(x)\n",
        "        x = self.c3(x)\n",
        "        x = self.c4(x)\n",
        "        x = x.view(-1, 10)\n",
        "        return x"
      ],
      "execution_count": 0,
      "outputs": []
    },
    {
      "cell_type": "markdown",
      "metadata": {
        "id": "5xgKvLAcwDQv",
        "colab_type": "text"
      },
      "source": [
        "# Run"
      ]
    },
    {
      "cell_type": "code",
      "metadata": {
        "id": "SMUMEtnSwCdr",
        "colab_type": "code",
        "outputId": "7aa9279c-0d26-42ab-c994-79c277080917",
        "colab": {
          "base_uri": "https://localhost:8080/",
          "height": 1000
        }
      },
      "source": [
        "#model\n",
        "net = Net(fm_size=32).to(device)\n",
        "\n",
        "#dataset, data_loader\n",
        "dataset = velasoka.get_cifar10_dataset()\n",
        "data_loader = velasoka.get_cifar10_data_loader(dataset=dataset)\n",
        "\n",
        "#optimizer, loss_function\n",
        "optimizer = velasoka.get_sgd_optimizer(model=net)\n",
        "loss_fn = velasoka.get_ce_loss() #CrossEntropyLoss\n",
        "\n",
        "#model_summary\n",
        "velasoka.model_summary(model=net, input_size=(3, 32, 32), device=device)\n",
        "#start cnn\n",
        "velasoka.start_cnn(model=net, optimizer=optimizer, loss_fn=loss_fn, data_loader=data_loader, device=device, epochs=8)\n",
        "\n",
        "#save model\n",
        "drive_file_path = velasoka.get_drive_path(folder=\"Session-7\", filename=\"net.pt\")\n",
        "velasoka.save_model(model=net, path=drive_file_path)"
      ],
      "execution_count": 0,
      "outputs": [
        {
          "output_type": "stream",
          "text": [
            "Files already downloaded and verified\n",
            "Files already downloaded and verified\n"
          ],
          "name": "stdout"
        },
        {
          "output_type": "stream",
          "text": [
            "\r  0%|          | 0/12500 [00:00<?, ?it/s]"
          ],
          "name": "stderr"
        },
        {
          "output_type": "stream",
          "text": [
            "----------------------------------------------------------------\n",
            "        Layer (type)               Output Shape         Param #\n",
            "================================================================\n",
            "            Conv2d-1           [-1, 32, 32, 32]             896\n",
            "       BatchNorm2d-2           [-1, 32, 32, 32]              64\n",
            "              ReLU-3           [-1, 32, 32, 32]               0\n",
            "            Conv2d-4           [-1, 64, 32, 32]          18,496\n",
            "       BatchNorm2d-5           [-1, 64, 32, 32]             128\n",
            "              ReLU-6           [-1, 64, 32, 32]               0\n",
            "         MaxPool2d-7           [-1, 64, 16, 16]               0\n",
            "            Conv2d-8           [-1, 64, 16, 16]          36,928\n",
            "       BatchNorm2d-9           [-1, 64, 16, 16]             128\n",
            "             ReLU-10           [-1, 64, 16, 16]               0\n",
            "           Conv2d-11           [-1, 64, 16, 16]             640\n",
            "           Conv2d-12          [-1, 128, 18, 18]           8,320\n",
            "      BatchNorm2d-13          [-1, 128, 18, 18]             256\n",
            "             ReLU-14          [-1, 128, 18, 18]               0\n",
            "        MaxPool2d-15            [-1, 128, 9, 9]               0\n",
            "           Conv2d-16            [-1, 128, 7, 7]         147,584\n",
            "      BatchNorm2d-17            [-1, 128, 7, 7]             256\n",
            "             ReLU-18            [-1, 128, 7, 7]               0\n",
            "           Conv2d-19            [-1, 256, 6, 6]         131,328\n",
            "      BatchNorm2d-20            [-1, 256, 6, 6]             512\n",
            "             ReLU-21            [-1, 256, 6, 6]               0\n",
            "        MaxPool2d-22            [-1, 256, 3, 3]               0\n",
            "        AvgPool2d-23            [-1, 256, 1, 1]               0\n",
            "           Conv2d-24             [-1, 10, 1, 1]           2,570\n",
            "================================================================\n",
            "Total params: 348,106\n",
            "Trainable params: 348,106\n",
            "Non-trainable params: 0\n",
            "----------------------------------------------------------------\n",
            "Input size (MB): 0.01\n",
            "Forward/backward pass size (MB): 4.28\n",
            "Params size (MB): 1.33\n",
            "Estimated Total Size (MB): 5.62\n",
            "----------------------------------------------------------------\n",
            "\n",
            "EPOCH: 1\n"
          ],
          "name": "stdout"
        },
        {
          "output_type": "stream",
          "text": [
            "Training Batch=12499, loss=0.37381, Correct Prediction=28970/50000, Train Accuracy=57.94000: 100%|██████████| 12500/12500 [02:01<00:00, 103.14it/s]\n",
            "Test Batch=2499, Correct Validation=7076/10000, Test Accuracy=70.76000: 100%|██████████| 2500/2500 [00:14<00:00, 168.52it/s]\n",
            "  0%|          | 0/12500 [00:00<?, ?it/s]"
          ],
          "name": "stderr"
        },
        {
          "output_type": "stream",
          "text": [
            "\n",
            "EPOCH: 2\n"
          ],
          "name": "stdout"
        },
        {
          "output_type": "stream",
          "text": [
            "Training Batch=12499, loss=0.82949, Correct Prediction=36849/50000, Train Accuracy=73.69800: 100%|██████████| 12500/12500 [02:01<00:00, 103.30it/s]\n",
            "Test Batch=2499, Correct Validation=7601/10000, Test Accuracy=76.01000: 100%|██████████| 2500/2500 [00:14<00:00, 171.09it/s]\n",
            "  0%|          | 0/12500 [00:00<?, ?it/s]"
          ],
          "name": "stderr"
        },
        {
          "output_type": "stream",
          "text": [
            "\n",
            "EPOCH: 3\n"
          ],
          "name": "stdout"
        },
        {
          "output_type": "stream",
          "text": [
            "Training Batch=12499, loss=0.53015, Correct Prediction=39499/50000, Train Accuracy=78.99800: 100%|██████████| 12500/12500 [02:01<00:00, 102.83it/s]\n",
            "Test Batch=2499, Correct Validation=8023/10000, Test Accuracy=80.23000: 100%|██████████| 2500/2500 [00:14<00:00, 173.47it/s]\n",
            "  0%|          | 0/12500 [00:00<?, ?it/s]"
          ],
          "name": "stderr"
        },
        {
          "output_type": "stream",
          "text": [
            "\n",
            "EPOCH: 4\n"
          ],
          "name": "stdout"
        },
        {
          "output_type": "stream",
          "text": [
            "Training Batch=12499, loss=0.39225, Correct Prediction=41309/50000, Train Accuracy=82.61800: 100%|██████████| 12500/12500 [01:59<00:00, 104.30it/s]\n",
            "Test Batch=2499, Correct Validation=8084/10000, Test Accuracy=80.84000: 100%|██████████| 2500/2500 [00:14<00:00, 168.20it/s]\n",
            "  0%|          | 0/12500 [00:00<?, ?it/s]"
          ],
          "name": "stderr"
        },
        {
          "output_type": "stream",
          "text": [
            "\n",
            "EPOCH: 5\n"
          ],
          "name": "stdout"
        },
        {
          "output_type": "stream",
          "text": [
            "Training Batch=12499, loss=0.41091, Correct Prediction=42652/50000, Train Accuracy=85.30400: 100%|██████████| 12500/12500 [02:01<00:00, 103.28it/s]\n",
            "Test Batch=2499, Correct Validation=8117/10000, Test Accuracy=81.17000: 100%|██████████| 2500/2500 [00:14<00:00, 171.34it/s]\n",
            "  0%|          | 0/12500 [00:00<?, ?it/s]"
          ],
          "name": "stderr"
        },
        {
          "output_type": "stream",
          "text": [
            "\n",
            "EPOCH: 6\n"
          ],
          "name": "stdout"
        },
        {
          "output_type": "stream",
          "text": [
            "Training Batch=12499, loss=1.80227, Correct Prediction=43696/50000, Train Accuracy=87.39200: 100%|██████████| 12500/12500 [02:00<00:00, 103.96it/s]\n",
            "Test Batch=2499, Correct Validation=8184/10000, Test Accuracy=81.84000: 100%|██████████| 2500/2500 [00:14<00:00, 169.38it/s]\n",
            "  0%|          | 0/12500 [00:00<?, ?it/s]"
          ],
          "name": "stderr"
        },
        {
          "output_type": "stream",
          "text": [
            "\n",
            "EPOCH: 7\n"
          ],
          "name": "stdout"
        },
        {
          "output_type": "stream",
          "text": [
            "Training Batch=12499, loss=0.34167, Correct Prediction=44737/50000, Train Accuracy=89.47400: 100%|██████████| 12500/12500 [02:00<00:00, 103.55it/s]\n",
            "Test Batch=2499, Correct Validation=8250/10000, Test Accuracy=82.50000: 100%|██████████| 2500/2500 [00:14<00:00, 174.72it/s]\n"
          ],
          "name": "stderr"
        }
      ]
    },
    {
      "cell_type": "code",
      "metadata": {
        "id": "v99qIWzmwQhc",
        "colab_type": "code",
        "colab": {}
      },
      "source": [
        ""
      ],
      "execution_count": 0,
      "outputs": []
    }
  ]
}