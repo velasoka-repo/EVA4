{
  "nbformat": 4,
  "nbformat_minor": 0,
  "metadata": {
    "colab": {
      "name": "EVA4-S7.ipynb",
      "provenance": [],
      "collapsed_sections": [
        "J-hy7FYfPSrs"
      ],
      "authorship_tag": "ABX9TyNy/ijCyQhU2ZboayPcabBQ",
      "include_colab_link": true
    },
    "kernelspec": {
      "name": "python3",
      "display_name": "Python 3"
    },
    "accelerator": "GPU",
    "widgets": {
      "application/vnd.jupyter.widget-state+json": {
        "91652e1146124c3892777a1218ad8ca8": {
          "model_module": "@jupyter-widgets/controls",
          "model_name": "HBoxModel",
          "state": {
            "_view_name": "HBoxView",
            "_dom_classes": [],
            "_model_name": "HBoxModel",
            "_view_module": "@jupyter-widgets/controls",
            "_model_module_version": "1.5.0",
            "_view_count": null,
            "_view_module_version": "1.5.0",
            "box_style": "",
            "layout": "IPY_MODEL_dab90bd6f0a64d1cba834c681fc78f9f",
            "_model_module": "@jupyter-widgets/controls",
            "children": [
              "IPY_MODEL_96d5b72436624934b358652045091777",
              "IPY_MODEL_e707921ce0fe43839dd7c919e0f45a2f"
            ]
          }
        },
        "dab90bd6f0a64d1cba834c681fc78f9f": {
          "model_module": "@jupyter-widgets/base",
          "model_name": "LayoutModel",
          "state": {
            "_view_name": "LayoutView",
            "grid_template_rows": null,
            "right": null,
            "justify_content": null,
            "_view_module": "@jupyter-widgets/base",
            "overflow": null,
            "_model_module_version": "1.2.0",
            "_view_count": null,
            "flex_flow": null,
            "width": null,
            "min_width": null,
            "border": null,
            "align_items": null,
            "bottom": null,
            "_model_module": "@jupyter-widgets/base",
            "top": null,
            "grid_column": null,
            "overflow_y": null,
            "overflow_x": null,
            "grid_auto_flow": null,
            "grid_area": null,
            "grid_template_columns": null,
            "flex": null,
            "_model_name": "LayoutModel",
            "justify_items": null,
            "grid_row": null,
            "max_height": null,
            "align_content": null,
            "visibility": null,
            "align_self": null,
            "height": null,
            "min_height": null,
            "padding": null,
            "grid_auto_rows": null,
            "grid_gap": null,
            "max_width": null,
            "order": null,
            "_view_module_version": "1.2.0",
            "grid_template_areas": null,
            "object_position": null,
            "object_fit": null,
            "grid_auto_columns": null,
            "margin": null,
            "display": null,
            "left": null
          }
        },
        "96d5b72436624934b358652045091777": {
          "model_module": "@jupyter-widgets/controls",
          "model_name": "IntProgressModel",
          "state": {
            "_view_name": "ProgressView",
            "style": "IPY_MODEL_e1ff0dcdc67246f0b5b22fac7ad8293e",
            "_dom_classes": [],
            "description": "",
            "_model_name": "IntProgressModel",
            "bar_style": "info",
            "max": 1,
            "_view_module": "@jupyter-widgets/controls",
            "_model_module_version": "1.5.0",
            "value": 1,
            "_view_count": null,
            "_view_module_version": "1.5.0",
            "orientation": "horizontal",
            "min": 0,
            "description_tooltip": null,
            "_model_module": "@jupyter-widgets/controls",
            "layout": "IPY_MODEL_c5caf26fd31a46cab8164cfa14c091e5"
          }
        },
        "e707921ce0fe43839dd7c919e0f45a2f": {
          "model_module": "@jupyter-widgets/controls",
          "model_name": "HTMLModel",
          "state": {
            "_view_name": "HTMLView",
            "style": "IPY_MODEL_1b7eb819bb0a421a9a553ebb20a0e5e5",
            "_dom_classes": [],
            "description": "",
            "_model_name": "HTMLModel",
            "placeholder": "​",
            "_view_module": "@jupyter-widgets/controls",
            "_model_module_version": "1.5.0",
            "value": "170500096it [00:30, 17349364.16it/s]",
            "_view_count": null,
            "_view_module_version": "1.5.0",
            "description_tooltip": null,
            "_model_module": "@jupyter-widgets/controls",
            "layout": "IPY_MODEL_97a8ece08b7c4bdb8eb13e8f15906018"
          }
        },
        "e1ff0dcdc67246f0b5b22fac7ad8293e": {
          "model_module": "@jupyter-widgets/controls",
          "model_name": "ProgressStyleModel",
          "state": {
            "_view_name": "StyleView",
            "_model_name": "ProgressStyleModel",
            "description_width": "",
            "_view_module": "@jupyter-widgets/base",
            "_model_module_version": "1.5.0",
            "_view_count": null,
            "_view_module_version": "1.2.0",
            "bar_color": null,
            "_model_module": "@jupyter-widgets/controls"
          }
        },
        "c5caf26fd31a46cab8164cfa14c091e5": {
          "model_module": "@jupyter-widgets/base",
          "model_name": "LayoutModel",
          "state": {
            "_view_name": "LayoutView",
            "grid_template_rows": null,
            "right": null,
            "justify_content": null,
            "_view_module": "@jupyter-widgets/base",
            "overflow": null,
            "_model_module_version": "1.2.0",
            "_view_count": null,
            "flex_flow": null,
            "width": null,
            "min_width": null,
            "border": null,
            "align_items": null,
            "bottom": null,
            "_model_module": "@jupyter-widgets/base",
            "top": null,
            "grid_column": null,
            "overflow_y": null,
            "overflow_x": null,
            "grid_auto_flow": null,
            "grid_area": null,
            "grid_template_columns": null,
            "flex": null,
            "_model_name": "LayoutModel",
            "justify_items": null,
            "grid_row": null,
            "max_height": null,
            "align_content": null,
            "visibility": null,
            "align_self": null,
            "height": null,
            "min_height": null,
            "padding": null,
            "grid_auto_rows": null,
            "grid_gap": null,
            "max_width": null,
            "order": null,
            "_view_module_version": "1.2.0",
            "grid_template_areas": null,
            "object_position": null,
            "object_fit": null,
            "grid_auto_columns": null,
            "margin": null,
            "display": null,
            "left": null
          }
        },
        "1b7eb819bb0a421a9a553ebb20a0e5e5": {
          "model_module": "@jupyter-widgets/controls",
          "model_name": "DescriptionStyleModel",
          "state": {
            "_view_name": "StyleView",
            "_model_name": "DescriptionStyleModel",
            "description_width": "",
            "_view_module": "@jupyter-widgets/base",
            "_model_module_version": "1.5.0",
            "_view_count": null,
            "_view_module_version": "1.2.0",
            "_model_module": "@jupyter-widgets/controls"
          }
        },
        "97a8ece08b7c4bdb8eb13e8f15906018": {
          "model_module": "@jupyter-widgets/base",
          "model_name": "LayoutModel",
          "state": {
            "_view_name": "LayoutView",
            "grid_template_rows": null,
            "right": null,
            "justify_content": null,
            "_view_module": "@jupyter-widgets/base",
            "overflow": null,
            "_model_module_version": "1.2.0",
            "_view_count": null,
            "flex_flow": null,
            "width": null,
            "min_width": null,
            "border": null,
            "align_items": null,
            "bottom": null,
            "_model_module": "@jupyter-widgets/base",
            "top": null,
            "grid_column": null,
            "overflow_y": null,
            "overflow_x": null,
            "grid_auto_flow": null,
            "grid_area": null,
            "grid_template_columns": null,
            "flex": null,
            "_model_name": "LayoutModel",
            "justify_items": null,
            "grid_row": null,
            "max_height": null,
            "align_content": null,
            "visibility": null,
            "align_self": null,
            "height": null,
            "min_height": null,
            "padding": null,
            "grid_auto_rows": null,
            "grid_gap": null,
            "max_width": null,
            "order": null,
            "_view_module_version": "1.2.0",
            "grid_template_areas": null,
            "object_position": null,
            "object_fit": null,
            "grid_auto_columns": null,
            "margin": null,
            "display": null,
            "left": null
          }
        }
      }
    }
  },
  "cells": [
    {
      "cell_type": "markdown",
      "metadata": {
        "id": "view-in-github",
        "colab_type": "text"
      },
      "source": [
        "<a href=\"https://colab.research.google.com/github/velasoka-repo/EVA4/blob/master/Session-7/EVA4_S7.ipynb\" target=\"_parent\"><img src=\"https://colab.research.google.com/assets/colab-badge.svg\" alt=\"Open In Colab\"/></a>"
      ]
    },
    {
      "cell_type": "markdown",
      "metadata": {
        "id": "9xkz_8DtbIOg",
        "colab_type": "text"
      },
      "source": [
        "# [Github Link](https://github.com/velasoka-repo/EVA4/tree/master/Session-7)"
      ]
    },
    {
      "cell_type": "markdown",
      "metadata": {
        "id": "BG64wVL7N3Px",
        "colab_type": "text"
      },
      "source": [
        "# Google Drive Mount"
      ]
    },
    {
      "cell_type": "code",
      "metadata": {
        "id": "nd1dYBvmFqP6",
        "colab_type": "code",
        "colab": {}
      },
      "source": [
        "from google.colab import drive\n",
        "drive.mount('/content/gdrive')"
      ],
      "execution_count": 0,
      "outputs": []
    },
    {
      "cell_type": "code",
      "metadata": {
        "id": "8GLLBE_AF3Lb",
        "colab_type": "code",
        "outputId": "a047613a-38a1-4bf9-f0ef-75dfb44c5482",
        "colab": {
          "base_uri": "https://localhost:8080/",
          "height": 187
        }
      },
      "source": [
        "EVA4_PATH = \"/content/gdrive/My Drive/Colab Notebooks/EVA4/\"\n",
        "import sys\n",
        "if not EVA4_PATH in sys.path:\n",
        "  sys.path.append(EVA4_PATH)\n",
        "sys.path"
      ],
      "execution_count": 0,
      "outputs": [
        {
          "output_type": "execute_result",
          "data": {
            "text/plain": [
              "['',\n",
              " '/env/python',\n",
              " '/usr/lib/python36.zip',\n",
              " '/usr/lib/python3.6',\n",
              " '/usr/lib/python3.6/lib-dynload',\n",
              " '/usr/local/lib/python3.6/dist-packages',\n",
              " '/usr/lib/python3/dist-packages',\n",
              " '/usr/local/lib/python3.6/dist-packages/IPython/extensions',\n",
              " '/root/.ipython',\n",
              " '/content/gdrive/My Drive/Colab Notebooks/EVA4/']"
            ]
          },
          "metadata": {
            "tags": []
          },
          "execution_count": 2
        }
      ]
    },
    {
      "cell_type": "markdown",
      "metadata": {
        "id": "J-hy7FYfPSrs",
        "colab_type": "text"
      },
      "source": [
        "# Python Module Import"
      ]
    },
    {
      "cell_type": "code",
      "metadata": {
        "id": "uBFTfUL3PRF2",
        "colab_type": "code",
        "colab": {}
      },
      "source": [
        "import velasoka\n",
        "device = velasoka.get_available_device()"
      ],
      "execution_count": 0,
      "outputs": []
    },
    {
      "cell_type": "markdown",
      "metadata": {
        "id": "1uqkn3ynN_3n",
        "colab_type": "text"
      },
      "source": [
        "# Simple Model\n",
        "- - -\n",
        "**Uses** C1, C2, C3, C4 & O\n",
        "* Conv2d\n",
        "* BatchNorm2d\n",
        "* ReLU\n",
        "* MaxPool2d\n",
        "* AvgPool2d"
      ]
    },
    {
      "cell_type": "code",
      "metadata": {
        "id": "GJMqnh15N94o",
        "colab_type": "code",
        "colab": {}
      },
      "source": [
        "import torch.nn as nn\n",
        "class SimpleModel(nn.Module):\n",
        "    def __init__(self, fm_size):\n",
        "        super(SimpleModel, self).__init__()\n",
        "        self.c1 = nn.Sequential(\n",
        "            nn.Conv2d(in_channels=3, out_channels=fm_size, kernel_size=3, padding=1), #i=32, o=32\n",
        "            nn.BatchNorm2d(num_features=fm_size),\n",
        "            nn.ReLU(),\n",
        "            nn.Conv2d(in_channels=fm_size, out_channels=fm_size*2, kernel_size=3, padding=1), #i=32, o=32\n",
        "            nn.BatchNorm2d(num_features=fm_size*2),\n",
        "            nn.ReLU(),\n",
        "            nn.MaxPool2d(kernel_size=2, stride=2) #i=32, o=16\n",
        "        )\n",
        "        fm_size *=2 #64\n",
        "        self.c2 = nn.Sequential(\n",
        "            nn.Conv2d(in_channels=fm_size, out_channels=fm_size, kernel_size=3, padding=1), #i=16, o=16\n",
        "            nn.BatchNorm2d(num_features=fm_size),\n",
        "            nn.ReLU(),\n",
        "            nn.Conv2d(in_channels=fm_size, out_channels=fm_size*2, kernel_size=3, padding=1), #i=16, o=16\n",
        "            nn.BatchNorm2d(num_features=fm_size*2),\n",
        "            nn.ReLU(),\n",
        "            nn.MaxPool2d(kernel_size=2, stride=2) #i=16, o=8\n",
        "        )\n",
        "        fm_size *=2 #128\n",
        "        self.c3 = nn.Sequential(\n",
        "            nn.Conv2d(in_channels=fm_size, out_channels=fm_size, kernel_size=3), #i=8, o=6\n",
        "            nn.BatchNorm2d(num_features=fm_size),\n",
        "            nn.ReLU(),\n",
        "            nn.Conv2d(in_channels=fm_size, out_channels=fm_size*2, kernel_size=3),  #i=6, o=4\n",
        "            nn.BatchNorm2d(num_features=fm_size*2),\n",
        "            nn.ReLU(),\n",
        "            nn.MaxPool2d(kernel_size=2, stride=2)  #i=4, o=2\n",
        "        )\n",
        "        fm_size *=2 #256\n",
        "        self.c4 = nn.Sequential(\n",
        "            nn.AvgPool2d(kernel_size=2), #i=4, o=2\n",
        "            nn.Conv2d(in_channels=fm_size, out_channels=10, kernel_size=1) #i=6, o=4\n",
        "        )\n",
        "\n",
        "    def forward(self, x):\n",
        "        x = self.c1(x)\n",
        "        x = self.c2(x)\n",
        "        x = self.c3(x)\n",
        "        x = self.c4(x)\n",
        "        x = x.view(-1, 10)\n",
        "        return x"
      ],
      "execution_count": 0,
      "outputs": []
    },
    {
      "cell_type": "markdown",
      "metadata": {
        "id": "0hT1PvToSlN0",
        "colab_type": "text"
      },
      "source": [
        "## Run"
      ]
    },
    {
      "cell_type": "code",
      "metadata": {
        "id": "8-3ZlagzN_ET",
        "colab_type": "code",
        "outputId": "da78a2fe-3fc3-493b-82be-9d8d52ee0172",
        "colab": {
          "base_uri": "https://localhost:8080/",
          "height": 1000,
          "referenced_widgets": [
            "91652e1146124c3892777a1218ad8ca8",
            "dab90bd6f0a64d1cba834c681fc78f9f",
            "96d5b72436624934b358652045091777",
            "e707921ce0fe43839dd7c919e0f45a2f",
            "e1ff0dcdc67246f0b5b22fac7ad8293e",
            "c5caf26fd31a46cab8164cfa14c091e5",
            "1b7eb819bb0a421a9a553ebb20a0e5e5",
            "97a8ece08b7c4bdb8eb13e8f15906018"
          ]
        }
      },
      "source": [
        "#model\n",
        "simple_model = SimpleModel(fm_size=32).to(device)\n",
        "\n",
        "#dataset, data_loader\n",
        "dataset = velasoka.get_cifar10_dataset()\n",
        "data_loader = velasoka.get_cifar10_data_loader(dataset=dataset)\n",
        "\n",
        "#optimizer, loss_function\n",
        "optimizer = velasoka.get_sgd_optimizer(model=simple_model)\n",
        "loss_fn = velasoka.get_ce_loss() #CrossEntropyLoss\n",
        "\n",
        "#model_summary\n",
        "velasoka.model_summary(model=simple_model, input_size=(3, 32, 32), device=device)\n",
        "#start cnn\n",
        "velasoka.start_cnn(model=simple_model, optimizer=optimizer, loss_fn=loss_fn, data_loader=data_loader, device=device, epochs=8)\n",
        "\n",
        "#save model\n",
        "drive_file_path = velasoka.get_drive_path(folder=\"Session-7\", filename=\"simple_model.pt\")\n",
        "velasoka.save_model(model=simple_model, path=drive_file_path)"
      ],
      "execution_count": 0,
      "outputs": [
        {
          "output_type": "stream",
          "text": [
            "Downloading https://www.cs.toronto.edu/~kriz/cifar-10-python.tar.gz to ./data/cifar-10-python.tar.gz\n"
          ],
          "name": "stdout"
        },
        {
          "output_type": "display_data",
          "data": {
            "application/vnd.jupyter.widget-view+json": {
              "model_id": "91652e1146124c3892777a1218ad8ca8",
              "version_minor": 0,
              "version_major": 2
            },
            "text/plain": [
              "HBox(children=(IntProgress(value=1, bar_style='info', max=1), HTML(value='')))"
            ]
          },
          "metadata": {
            "tags": []
          }
        },
        {
          "output_type": "stream",
          "text": [
            "Extracting ./data/cifar-10-python.tar.gz to ./data\n",
            "Files already downloaded and verified\n"
          ],
          "name": "stdout"
        },
        {
          "output_type": "stream",
          "text": [
            "\r  0%|          | 0/12500 [00:00<?, ?it/s]"
          ],
          "name": "stderr"
        },
        {
          "output_type": "stream",
          "text": [
            "----------------------------------------------------------------\n",
            "        Layer (type)               Output Shape         Param #\n",
            "================================================================\n",
            "            Conv2d-1           [-1, 32, 32, 32]             896\n",
            "       BatchNorm2d-2           [-1, 32, 32, 32]              64\n",
            "              ReLU-3           [-1, 32, 32, 32]               0\n",
            "            Conv2d-4           [-1, 64, 32, 32]          18,496\n",
            "       BatchNorm2d-5           [-1, 64, 32, 32]             128\n",
            "              ReLU-6           [-1, 64, 32, 32]               0\n",
            "         MaxPool2d-7           [-1, 64, 16, 16]               0\n",
            "            Conv2d-8           [-1, 64, 16, 16]          36,928\n",
            "       BatchNorm2d-9           [-1, 64, 16, 16]             128\n",
            "             ReLU-10           [-1, 64, 16, 16]               0\n",
            "           Conv2d-11          [-1, 128, 16, 16]          73,856\n",
            "      BatchNorm2d-12          [-1, 128, 16, 16]             256\n",
            "             ReLU-13          [-1, 128, 16, 16]               0\n",
            "        MaxPool2d-14            [-1, 128, 8, 8]               0\n",
            "           Conv2d-15            [-1, 128, 6, 6]         147,584\n",
            "      BatchNorm2d-16            [-1, 128, 6, 6]             256\n",
            "             ReLU-17            [-1, 128, 6, 6]               0\n",
            "           Conv2d-18            [-1, 256, 4, 4]         295,168\n",
            "      BatchNorm2d-19            [-1, 256, 4, 4]             512\n",
            "             ReLU-20            [-1, 256, 4, 4]               0\n",
            "        MaxPool2d-21            [-1, 256, 2, 2]               0\n",
            "        AvgPool2d-22            [-1, 256, 1, 1]               0\n",
            "           Conv2d-23             [-1, 10, 1, 1]           2,570\n",
            "================================================================\n",
            "Total params: 576,842\n",
            "Trainable params: 576,842\n",
            "Non-trainable params: 0\n",
            "----------------------------------------------------------------\n",
            "Input size (MB): 0.01\n",
            "Forward/backward pass size (MB): 3.77\n",
            "Params size (MB): 2.20\n",
            "Estimated Total Size (MB): 5.98\n",
            "----------------------------------------------------------------\n",
            "\n",
            "EPOCH: 1\n"
          ],
          "name": "stdout"
        },
        {
          "output_type": "stream",
          "text": [
            "Training Batch=12499, loss=1.55626, Correct Prediction=25227/50000, Train Accuracy=50.45400: 100%|██████████| 12500/12500 [02:40<00:00, 77.66it/s]\n",
            "Test Batch=2499, Correct Validation=6836/10000, Test Accuracy=68.36000: 100%|██████████| 2500/2500 [00:20<00:00, 123.30it/s]\n",
            "  0%|          | 0/12500 [00:00<?, ?it/s]"
          ],
          "name": "stderr"
        },
        {
          "output_type": "stream",
          "text": [
            "\n",
            "EPOCH: 2\n"
          ],
          "name": "stdout"
        },
        {
          "output_type": "stream",
          "text": [
            "Training Batch=12499, loss=0.62305, Correct Prediction=33952/50000, Train Accuracy=67.90400: 100%|██████████| 12500/12500 [02:39<00:00, 78.19it/s]\n",
            "Test Batch=2499, Correct Validation=7608/10000, Test Accuracy=76.08000: 100%|██████████| 2500/2500 [00:20<00:00, 122.53it/s]\n",
            "  0%|          | 0/12500 [00:00<?, ?it/s]"
          ],
          "name": "stderr"
        },
        {
          "output_type": "stream",
          "text": [
            "\n",
            "EPOCH: 3\n"
          ],
          "name": "stdout"
        },
        {
          "output_type": "stream",
          "text": [
            "Training Batch=12499, loss=0.18795, Correct Prediction=36923/50000, Train Accuracy=73.84600: 100%|██████████| 12500/12500 [02:39<00:00, 78.24it/s]\n",
            "Test Batch=2499, Correct Validation=7942/10000, Test Accuracy=79.42000: 100%|██████████| 2500/2500 [00:20<00:00, 123.68it/s]\n",
            "  0%|          | 0/12500 [00:00<?, ?it/s]"
          ],
          "name": "stderr"
        },
        {
          "output_type": "stream",
          "text": [
            "\n",
            "EPOCH: 4\n"
          ],
          "name": "stdout"
        },
        {
          "output_type": "stream",
          "text": [
            "Training Batch=12499, loss=0.79005, Correct Prediction=39136/50000, Train Accuracy=78.27200: 100%|██████████| 12500/12500 [02:40<00:00, 70.10it/s]\n",
            "Test Batch=2499, Correct Validation=8040/10000, Test Accuracy=80.40000: 100%|██████████| 2500/2500 [00:20<00:00, 123.63it/s]\n",
            "  0%|          | 0/12500 [00:00<?, ?it/s]"
          ],
          "name": "stderr"
        },
        {
          "output_type": "stream",
          "text": [
            "\n",
            "EPOCH: 5\n"
          ],
          "name": "stdout"
        },
        {
          "output_type": "stream",
          "text": [
            "Training Batch=12499, loss=0.14243, Correct Prediction=40528/50000, Train Accuracy=81.05600: 100%|██████████| 12500/12500 [02:38<00:00, 68.98it/s]\n",
            "Test Batch=2499, Correct Validation=8083/10000, Test Accuracy=80.83000: 100%|██████████| 2500/2500 [00:19<00:00, 126.56it/s]\n",
            "  0%|          | 0/12500 [00:00<?, ?it/s]"
          ],
          "name": "stderr"
        },
        {
          "output_type": "stream",
          "text": [
            "\n",
            "EPOCH: 6\n"
          ],
          "name": "stdout"
        },
        {
          "output_type": "stream",
          "text": [
            "Training Batch=12499, loss=0.56305, Correct Prediction=41800/50000, Train Accuracy=83.60000: 100%|██████████| 12500/12500 [02:38<00:00, 80.48it/s]\n",
            "Test Batch=2499, Correct Validation=8103/10000, Test Accuracy=81.03000: 100%|██████████| 2500/2500 [00:20<00:00, 121.47it/s]\n",
            "  0%|          | 0/12500 [00:00<?, ?it/s]"
          ],
          "name": "stderr"
        },
        {
          "output_type": "stream",
          "text": [
            "\n",
            "EPOCH: 7\n"
          ],
          "name": "stdout"
        },
        {
          "output_type": "stream",
          "text": [
            "Training Batch=12499, loss=0.16773, Correct Prediction=42844/50000, Train Accuracy=85.68800: 100%|██████████| 12500/12500 [02:38<00:00, 78.63it/s]\n",
            "Test Batch=2499, Correct Validation=8242/10000, Test Accuracy=82.42000: 100%|██████████| 2500/2500 [00:20<00:00, 124.63it/s]\n"
          ],
          "name": "stderr"
        }
      ]
    },
    {
      "cell_type": "markdown",
      "metadata": {
        "colab_type": "text",
        "id": "D06JG37rP9Dq"
      },
      "source": [
        "# Dilated Convolution\n",
        "- - -\n",
        "**Uses** C1, C2, C3, C4 & O\n",
        "* Conv2d\n",
        "* BatchNorm2d\n",
        "* ReLU\n",
        "* MaxPool2d\n",
        "* AvgPool2d\n",
        "* dilation=2"
      ]
    },
    {
      "cell_type": "code",
      "metadata": {
        "colab_type": "code",
        "id": "R_ppM0FsP9Du",
        "colab": {}
      },
      "source": [
        "import torch.nn as nn\n",
        "class DilatedModel(nn.Module):\n",
        "    def __init__(self, fm_size):\n",
        "        super(DilatedModel, self).__init__()\n",
        "        self.c1 = nn.Sequential(\n",
        "            nn.Conv2d(in_channels=3, out_channels=fm_size, kernel_size=3, padding=1), #i=32, o=32\n",
        "            nn.BatchNorm2d(num_features=fm_size),\n",
        "            nn.ReLU(),\n",
        "            nn.Conv2d(in_channels=fm_size, out_channels=fm_size*2, kernel_size=3, padding=1), #i=32, o=32\n",
        "            nn.BatchNorm2d(num_features=fm_size*2),\n",
        "            nn.ReLU(),\n",
        "            nn.MaxPool2d(kernel_size=2, stride=2) #i=32, o=16\n",
        "        )\n",
        "        fm_size *=2 #64\n",
        "        self.c2 = nn.Sequential(\n",
        "            nn.Conv2d(in_channels=fm_size, out_channels=fm_size, kernel_size=3, padding=1), #i=16, o=16\n",
        "            nn.BatchNorm2d(num_features=fm_size),\n",
        "            nn.ReLU(),\n",
        "            nn.Conv2d(in_channels=fm_size, out_channels=fm_size*2, kernel_size=3, padding=1), #i=16, o=16\n",
        "            nn.BatchNorm2d(num_features=fm_size*2),\n",
        "            nn.ReLU(),\n",
        "            nn.MaxPool2d(kernel_size=2, stride=2) #i=16, o=8\n",
        "        )\n",
        "        fm_size *=2 #128\n",
        "        self.c3 = nn.Sequential(\n",
        "            nn.Conv2d(in_channels=fm_size, out_channels=fm_size, kernel_size=3, padding=1, dilation=2), #i=8, o=5\n",
        "            nn.BatchNorm2d(num_features=fm_size),\n",
        "            nn.ReLU(),\n",
        "            nn.Conv2d(in_channels=fm_size, out_channels=fm_size*2, kernel_size=2),  #i=5, o=4\n",
        "            nn.BatchNorm2d(num_features=fm_size*2),\n",
        "            nn.ReLU(),\n",
        "            nn.MaxPool2d(kernel_size=2, stride=2)  #i=4, o=2\n",
        "        )\n",
        "        fm_size *=2 #256\n",
        "        self.c4 = nn.Sequential(\n",
        "            nn.AvgPool2d(kernel_size=2), #i=4, o=2\n",
        "            nn.Conv2d(in_channels=fm_size, out_channels=10, kernel_size=1) #i=6, o=4\n",
        "        )\n",
        "\n",
        "    def forward(self, x):\n",
        "        x = self.c1(x)\n",
        "        x = self.c2(x)\n",
        "        x = self.c3(x)\n",
        "        x = self.c4(x)\n",
        "        x = x.view(-1, 10)\n",
        "        return x"
      ],
      "execution_count": 0,
      "outputs": []
    },
    {
      "cell_type": "markdown",
      "metadata": {
        "id": "FZFECuxYrmL4",
        "colab_type": "text"
      },
      "source": [
        "## Run"
      ]
    },
    {
      "cell_type": "code",
      "metadata": {
        "id": "m17RkjLZQnFy",
        "colab_type": "code",
        "outputId": "71fdd7ba-568d-48f5-b4f7-4f999f7d020d",
        "colab": {
          "base_uri": "https://localhost:8080/",
          "height": 1000
        }
      },
      "source": [
        "#model\n",
        "dilated_model = DilatedModel(fm_size=32).to(device)\n",
        "\n",
        "#dataset, data_loader\n",
        "dataset = velasoka.get_cifar10_dataset()\n",
        "data_loader = velasoka.get_cifar10_data_loader(dataset=dataset)\n",
        "\n",
        "#optimizer, loss_function\n",
        "optimizer = velasoka.get_sgd_optimizer(model=dilated_model)\n",
        "loss_fn = velasoka.get_ce_loss() #CrossEntropyLoss\n",
        "\n",
        "#model_summary\n",
        "velasoka.model_summary(model=dilated_model, input_size=(3, 32, 32), device=device)\n",
        "#start cnn\n",
        "velasoka.start_cnn(model=dilated_model, optimizer=optimizer, loss_fn=loss_fn, data_loader=data_loader, device=device, epochs=8)\n",
        "\n",
        "#save model\n",
        "drive_file_path = velasoka.get_drive_path(folder=\"Session-7\", filename=\"dilated_model.pt\")\n",
        "velasoka.save_model(model=dilated_model, path=drive_file_path)"
      ],
      "execution_count": 0,
      "outputs": [
        {
          "output_type": "stream",
          "text": [
            "Files already downloaded and verified\n",
            "Files already downloaded and verified\n"
          ],
          "name": "stdout"
        },
        {
          "output_type": "stream",
          "text": [
            "\r  0%|          | 0/12500 [00:00<?, ?it/s]"
          ],
          "name": "stderr"
        },
        {
          "output_type": "stream",
          "text": [
            "----------------------------------------------------------------\n",
            "        Layer (type)               Output Shape         Param #\n",
            "================================================================\n",
            "            Conv2d-1           [-1, 32, 32, 32]             896\n",
            "       BatchNorm2d-2           [-1, 32, 32, 32]              64\n",
            "              ReLU-3           [-1, 32, 32, 32]               0\n",
            "            Conv2d-4           [-1, 64, 32, 32]          18,496\n",
            "       BatchNorm2d-5           [-1, 64, 32, 32]             128\n",
            "              ReLU-6           [-1, 64, 32, 32]               0\n",
            "         MaxPool2d-7           [-1, 64, 16, 16]               0\n",
            "            Conv2d-8           [-1, 64, 16, 16]          36,928\n",
            "       BatchNorm2d-9           [-1, 64, 16, 16]             128\n",
            "             ReLU-10           [-1, 64, 16, 16]               0\n",
            "           Conv2d-11          [-1, 128, 16, 16]          73,856\n",
            "      BatchNorm2d-12          [-1, 128, 16, 16]             256\n",
            "             ReLU-13          [-1, 128, 16, 16]               0\n",
            "        MaxPool2d-14            [-1, 128, 8, 8]               0\n",
            "           Conv2d-15            [-1, 128, 6, 6]         147,584\n",
            "      BatchNorm2d-16            [-1, 128, 6, 6]             256\n",
            "             ReLU-17            [-1, 128, 6, 6]               0\n",
            "           Conv2d-18            [-1, 256, 5, 5]         131,328\n",
            "      BatchNorm2d-19            [-1, 256, 5, 5]             512\n",
            "             ReLU-20            [-1, 256, 5, 5]               0\n",
            "        MaxPool2d-21            [-1, 256, 2, 2]               0\n",
            "        AvgPool2d-22            [-1, 256, 1, 1]               0\n",
            "           Conv2d-23             [-1, 10, 1, 1]           2,570\n",
            "================================================================\n",
            "Total params: 413,002\n",
            "Trainable params: 413,002\n",
            "Non-trainable params: 0\n",
            "----------------------------------------------------------------\n",
            "Input size (MB): 0.01\n",
            "Forward/backward pass size (MB): 3.82\n",
            "Params size (MB): 1.58\n",
            "Estimated Total Size (MB): 5.41\n",
            "----------------------------------------------------------------\n",
            "\n",
            "EPOCH: 1\n"
          ],
          "name": "stdout"
        },
        {
          "output_type": "stream",
          "text": [
            "Training Batch=12499, loss=0.77478, Correct Prediction=29111/50000, Train Accuracy=58.22200: 100%|██████████| 12500/12500 [01:56<00:00, 107.65it/s]\n",
            "Test Batch=2499, Correct Validation=7221/10000, Test Accuracy=72.21000: 100%|██████████| 2500/2500 [00:14<00:00, 173.86it/s]\n",
            "  0%|          | 0/12500 [00:00<?, ?it/s]"
          ],
          "name": "stderr"
        },
        {
          "output_type": "stream",
          "text": [
            "\n",
            "EPOCH: 2\n"
          ],
          "name": "stdout"
        },
        {
          "output_type": "stream",
          "text": [
            "Training Batch=12499, loss=1.12672, Correct Prediction=37083/50000, Train Accuracy=74.16600: 100%|██████████| 12500/12500 [01:56<00:00, 107.74it/s]\n",
            "Test Batch=2499, Correct Validation=7744/10000, Test Accuracy=77.44000: 100%|██████████| 2500/2500 [00:14<00:00, 174.67it/s]\n",
            "  0%|          | 0/12500 [00:00<?, ?it/s]"
          ],
          "name": "stderr"
        },
        {
          "output_type": "stream",
          "text": [
            "\n",
            "EPOCH: 3\n"
          ],
          "name": "stdout"
        },
        {
          "output_type": "stream",
          "text": [
            "Training Batch=12499, loss=0.08147, Correct Prediction=39813/50000, Train Accuracy=79.62600: 100%|██████████| 12500/12500 [01:56<00:00, 106.89it/s]\n",
            "Test Batch=2499, Correct Validation=7873/10000, Test Accuracy=78.73000: 100%|██████████| 2500/2500 [00:14<00:00, 170.28it/s]\n",
            "  0%|          | 0/12500 [00:00<?, ?it/s]"
          ],
          "name": "stderr"
        },
        {
          "output_type": "stream",
          "text": [
            "\n",
            "EPOCH: 4\n"
          ],
          "name": "stdout"
        },
        {
          "output_type": "stream",
          "text": [
            "Training Batch=12499, loss=0.98867, Correct Prediction=41603/50000, Train Accuracy=83.20600: 100%|██████████| 12500/12500 [01:55<00:00, 107.89it/s]\n",
            "Test Batch=2499, Correct Validation=8080/10000, Test Accuracy=80.80000: 100%|██████████| 2500/2500 [00:14<00:00, 172.40it/s]\n",
            "  0%|          | 0/12500 [00:00<?, ?it/s]"
          ],
          "name": "stderr"
        },
        {
          "output_type": "stream",
          "text": [
            "\n",
            "EPOCH: 5\n"
          ],
          "name": "stdout"
        },
        {
          "output_type": "stream",
          "text": [
            "Training Batch=12499, loss=0.00231, Correct Prediction=42963/50000, Train Accuracy=85.92600: 100%|██████████| 12500/12500 [01:58<00:00, 105.85it/s]\n",
            "Test Batch=2499, Correct Validation=8224/10000, Test Accuracy=82.24000: 100%|██████████| 2500/2500 [00:14<00:00, 172.33it/s]\n",
            "  0%|          | 0/12500 [00:00<?, ?it/s]"
          ],
          "name": "stderr"
        },
        {
          "output_type": "stream",
          "text": [
            "\n",
            "EPOCH: 6\n"
          ],
          "name": "stdout"
        },
        {
          "output_type": "stream",
          "text": [
            "Training Batch=12499, loss=2.08339, Correct Prediction=43989/50000, Train Accuracy=87.97800: 100%|██████████| 12500/12500 [01:57<00:00, 106.74it/s]\n",
            "Test Batch=2499, Correct Validation=8169/10000, Test Accuracy=81.69000: 100%|██████████| 2500/2500 [00:14<00:00, 169.44it/s]\n",
            "  0%|          | 0/12500 [00:00<?, ?it/s]"
          ],
          "name": "stderr"
        },
        {
          "output_type": "stream",
          "text": [
            "\n",
            "EPOCH: 7\n"
          ],
          "name": "stdout"
        },
        {
          "output_type": "stream",
          "text": [
            "Training Batch=12499, loss=0.77143, Correct Prediction=44951/50000, Train Accuracy=89.90200: 100%|██████████| 12500/12500 [01:56<00:00, 107.19it/s]\n",
            "Test Batch=2499, Correct Validation=8353/10000, Test Accuracy=83.53000: 100%|██████████| 2500/2500 [00:14<00:00, 171.97it/s]\n"
          ],
          "name": "stderr"
        }
      ]
    },
    {
      "cell_type": "markdown",
      "metadata": {
        "colab_type": "text",
        "id": "FjE67ZBSQqJf"
      },
      "source": [
        "# Dilated, Depthwise Separable Convolution\n",
        "- - -\n",
        "**Uses** C1, C2, C3, C4 & O\n",
        "* Conv2d\n",
        "* BatchNorm2d\n",
        "* ReLU\n",
        "* MaxPool2d\n",
        "* AvgPool2d\n",
        "* dilation=2\n",
        "* groups=`<in_channel>`"
      ]
    },
    {
      "cell_type": "code",
      "metadata": {
        "colab_type": "code",
        "id": "NyCLUvb6QqJg",
        "colab": {}
      },
      "source": [
        "import torch.nn as nn\n",
        "class Net(nn.Module):\n",
        "    def __init__(self, fm_size):\n",
        "        super(Net, self).__init__()\n",
        "        self.c1 = nn.Sequential(\n",
        "            nn.Conv2d(in_channels=3, out_channels=fm_size, kernel_size=3, padding=1), #i=32, o=32\n",
        "            nn.BatchNorm2d(num_features=fm_size),\n",
        "            nn.ReLU(),\n",
        "            nn.Conv2d(in_channels=fm_size, out_channels=fm_size*2, kernel_size=3, padding=1), #i=32, o=32\n",
        "            nn.BatchNorm2d(num_features=fm_size*2),\n",
        "            nn.ReLU(),\n",
        "            nn.MaxPool2d(kernel_size=2, stride=2) #i=32, o=16\n",
        "        )\n",
        "        fm_size *=2 #64\n",
        "        self.c2 = nn.Sequential(\n",
        "            nn.Conv2d(in_channels=fm_size, out_channels=fm_size, kernel_size=3, padding=1), #i=16, o=16\n",
        "            nn.BatchNorm2d(num_features=fm_size),\n",
        "            nn.ReLU(),\n",
        "            nn.Conv2d(in_channels=fm_size, out_channels=fm_size, kernel_size=3, padding=1, groups=fm_size), #i=16, o=16\n",
        "            nn.Conv2d(in_channels=fm_size, out_channels=fm_size*2, kernel_size=1, padding=1), #i=16, o=16\n",
        "            nn.BatchNorm2d(num_features=fm_size*2),\n",
        "            nn.ReLU(),\n",
        "            nn.MaxPool2d(kernel_size=2, stride=2) #i=16, o=8\n",
        "        )\n",
        "        fm_size *=2 #128\n",
        "        self.c3 = nn.Sequential(\n",
        "            nn.Conv2d(in_channels=fm_size, out_channels=fm_size, kernel_size=3, padding=1, dilation=2), #i=8, o=5\n",
        "            nn.BatchNorm2d(num_features=fm_size),\n",
        "            nn.ReLU(),\n",
        "            nn.Conv2d(in_channels=fm_size, out_channels=fm_size*2, kernel_size=2),  #i=5, o=4\n",
        "            nn.BatchNorm2d(num_features=fm_size*2),\n",
        "            nn.ReLU(),\n",
        "            nn.MaxPool2d(kernel_size=2, stride=2)  #i=4, o=2\n",
        "        )\n",
        "        fm_size *=2 #256\n",
        "        self.c4 = nn.Sequential(\n",
        "            nn.AvgPool2d(kernel_size=2), #i=4, o=2\n",
        "            nn.Conv2d(in_channels=fm_size, out_channels=10, kernel_size=1) #i=6, o=4\n",
        "        )\n",
        "\n",
        "    def forward(self, x):\n",
        "        x = self.c1(x)\n",
        "        x = self.c2(x)\n",
        "        x = self.c3(x)\n",
        "        x = self.c4(x)\n",
        "        x = x.view(-1, 10)\n",
        "        return x"
      ],
      "execution_count": 0,
      "outputs": []
    },
    {
      "cell_type": "markdown",
      "metadata": {
        "id": "5xgKvLAcwDQv",
        "colab_type": "text"
      },
      "source": [
        "# Run"
      ]
    },
    {
      "cell_type": "code",
      "metadata": {
        "id": "SMUMEtnSwCdr",
        "colab_type": "code",
        "outputId": "7aa9279c-0d26-42ab-c994-79c277080917",
        "colab": {
          "base_uri": "https://localhost:8080/",
          "height": 1000
        }
      },
      "source": [
        "#model\n",
        "net = Net(fm_size=32).to(device)\n",
        "\n",
        "#dataset, data_loader\n",
        "dataset = velasoka.get_cifar10_dataset()\n",
        "data_loader = velasoka.get_cifar10_data_loader(dataset=dataset)\n",
        "\n",
        "#optimizer, loss_function\n",
        "optimizer = velasoka.get_sgd_optimizer(model=net)\n",
        "loss_fn = velasoka.get_ce_loss() #CrossEntropyLoss\n",
        "\n",
        "#model_summary\n",
        "velasoka.model_summary(model=net, input_size=(3, 32, 32), device=device)\n",
        "#start cnn\n",
        "velasoka.start_cnn(model=net, optimizer=optimizer, loss_fn=loss_fn, data_loader=data_loader, device=device, epochs=8)\n",
        "\n",
        "#save model\n",
        "drive_file_path = velasoka.get_drive_path(folder=\"Session-7\", filename=\"net.pt\")\n",
        "velasoka.save_model(model=net, path=drive_file_path)"
      ],
      "execution_count": 0,
      "outputs": [
        {
          "output_type": "stream",
          "text": [
            "Files already downloaded and verified\n",
            "Files already downloaded and verified\n"
          ],
          "name": "stdout"
        },
        {
          "output_type": "stream",
          "text": [
            "\r  0%|          | 0/12500 [00:00<?, ?it/s]"
          ],
          "name": "stderr"
        },
        {
          "output_type": "stream",
          "text": [
            "----------------------------------------------------------------\n",
            "        Layer (type)               Output Shape         Param #\n",
            "================================================================\n",
            "            Conv2d-1           [-1, 32, 32, 32]             896\n",
            "       BatchNorm2d-2           [-1, 32, 32, 32]              64\n",
            "              ReLU-3           [-1, 32, 32, 32]               0\n",
            "            Conv2d-4           [-1, 64, 32, 32]          18,496\n",
            "       BatchNorm2d-5           [-1, 64, 32, 32]             128\n",
            "              ReLU-6           [-1, 64, 32, 32]               0\n",
            "         MaxPool2d-7           [-1, 64, 16, 16]               0\n",
            "            Conv2d-8           [-1, 64, 16, 16]          36,928\n",
            "       BatchNorm2d-9           [-1, 64, 16, 16]             128\n",
            "             ReLU-10           [-1, 64, 16, 16]               0\n",
            "           Conv2d-11           [-1, 64, 16, 16]             640\n",
            "           Conv2d-12          [-1, 128, 18, 18]           8,320\n",
            "      BatchNorm2d-13          [-1, 128, 18, 18]             256\n",
            "             ReLU-14          [-1, 128, 18, 18]               0\n",
            "        MaxPool2d-15            [-1, 128, 9, 9]               0\n",
            "           Conv2d-16            [-1, 128, 7, 7]         147,584\n",
            "      BatchNorm2d-17            [-1, 128, 7, 7]             256\n",
            "             ReLU-18            [-1, 128, 7, 7]               0\n",
            "           Conv2d-19            [-1, 256, 6, 6]         131,328\n",
            "      BatchNorm2d-20            [-1, 256, 6, 6]             512\n",
            "             ReLU-21            [-1, 256, 6, 6]               0\n",
            "        MaxPool2d-22            [-1, 256, 3, 3]               0\n",
            "        AvgPool2d-23            [-1, 256, 1, 1]               0\n",
            "           Conv2d-24             [-1, 10, 1, 1]           2,570\n",
            "================================================================\n",
            "Total params: 348,106\n",
            "Trainable params: 348,106\n",
            "Non-trainable params: 0\n",
            "----------------------------------------------------------------\n",
            "Input size (MB): 0.01\n",
            "Forward/backward pass size (MB): 4.28\n",
            "Params size (MB): 1.33\n",
            "Estimated Total Size (MB): 5.62\n",
            "----------------------------------------------------------------\n",
            "\n",
            "EPOCH: 1\n"
          ],
          "name": "stdout"
        },
        {
          "output_type": "stream",
          "text": [
            "Training Batch=12499, loss=0.37381, Correct Prediction=28970/50000, Train Accuracy=57.94000: 100%|██████████| 12500/12500 [02:01<00:00, 103.14it/s]\n",
            "Test Batch=2499, Correct Validation=7076/10000, Test Accuracy=70.76000: 100%|██████████| 2500/2500 [00:14<00:00, 168.52it/s]\n",
            "  0%|          | 0/12500 [00:00<?, ?it/s]"
          ],
          "name": "stderr"
        },
        {
          "output_type": "stream",
          "text": [
            "\n",
            "EPOCH: 2\n"
          ],
          "name": "stdout"
        },
        {
          "output_type": "stream",
          "text": [
            "Training Batch=12499, loss=0.82949, Correct Prediction=36849/50000, Train Accuracy=73.69800: 100%|██████████| 12500/12500 [02:01<00:00, 103.30it/s]\n",
            "Test Batch=2499, Correct Validation=7601/10000, Test Accuracy=76.01000: 100%|██████████| 2500/2500 [00:14<00:00, 171.09it/s]\n",
            "  0%|          | 0/12500 [00:00<?, ?it/s]"
          ],
          "name": "stderr"
        },
        {
          "output_type": "stream",
          "text": [
            "\n",
            "EPOCH: 3\n"
          ],
          "name": "stdout"
        },
        {
          "output_type": "stream",
          "text": [
            "Training Batch=12499, loss=0.53015, Correct Prediction=39499/50000, Train Accuracy=78.99800: 100%|██████████| 12500/12500 [02:01<00:00, 102.83it/s]\n",
            "Test Batch=2499, Correct Validation=8023/10000, Test Accuracy=80.23000: 100%|██████████| 2500/2500 [00:14<00:00, 173.47it/s]\n",
            "  0%|          | 0/12500 [00:00<?, ?it/s]"
          ],
          "name": "stderr"
        },
        {
          "output_type": "stream",
          "text": [
            "\n",
            "EPOCH: 4\n"
          ],
          "name": "stdout"
        },
        {
          "output_type": "stream",
          "text": [
            "Training Batch=12499, loss=0.39225, Correct Prediction=41309/50000, Train Accuracy=82.61800: 100%|██████████| 12500/12500 [01:59<00:00, 104.30it/s]\n",
            "Test Batch=2499, Correct Validation=8084/10000, Test Accuracy=80.84000: 100%|██████████| 2500/2500 [00:14<00:00, 168.20it/s]\n",
            "  0%|          | 0/12500 [00:00<?, ?it/s]"
          ],
          "name": "stderr"
        },
        {
          "output_type": "stream",
          "text": [
            "\n",
            "EPOCH: 5\n"
          ],
          "name": "stdout"
        },
        {
          "output_type": "stream",
          "text": [
            "Training Batch=12499, loss=0.41091, Correct Prediction=42652/50000, Train Accuracy=85.30400: 100%|██████████| 12500/12500 [02:01<00:00, 103.28it/s]\n",
            "Test Batch=2499, Correct Validation=8117/10000, Test Accuracy=81.17000: 100%|██████████| 2500/2500 [00:14<00:00, 171.34it/s]\n",
            "  0%|          | 0/12500 [00:00<?, ?it/s]"
          ],
          "name": "stderr"
        },
        {
          "output_type": "stream",
          "text": [
            "\n",
            "EPOCH: 6\n"
          ],
          "name": "stdout"
        },
        {
          "output_type": "stream",
          "text": [
            "Training Batch=12499, loss=1.80227, Correct Prediction=43696/50000, Train Accuracy=87.39200: 100%|██████████| 12500/12500 [02:00<00:00, 103.96it/s]\n",
            "Test Batch=2499, Correct Validation=8184/10000, Test Accuracy=81.84000: 100%|██████████| 2500/2500 [00:14<00:00, 169.38it/s]\n",
            "  0%|          | 0/12500 [00:00<?, ?it/s]"
          ],
          "name": "stderr"
        },
        {
          "output_type": "stream",
          "text": [
            "\n",
            "EPOCH: 7\n"
          ],
          "name": "stdout"
        },
        {
          "output_type": "stream",
          "text": [
            "Training Batch=12499, loss=0.34167, Correct Prediction=44737/50000, Train Accuracy=89.47400: 100%|██████████| 12500/12500 [02:00<00:00, 103.55it/s]\n",
            "Test Batch=2499, Correct Validation=8250/10000, Test Accuracy=82.50000: 100%|██████████| 2500/2500 [00:14<00:00, 174.72it/s]\n"
          ],
          "name": "stderr"
        }
      ]
    },
    {
      "cell_type": "code",
      "metadata": {
        "id": "v99qIWzmwQhc",
        "colab_type": "code",
        "colab": {}
      },
      "source": [
        ""
      ],
      "execution_count": 0,
      "outputs": []
    }
  ]
}