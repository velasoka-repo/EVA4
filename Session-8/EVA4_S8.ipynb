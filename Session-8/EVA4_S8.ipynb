{
  "nbformat": 4,
  "nbformat_minor": 0,
  "metadata": {
    "colab": {
      "name": "EVA4-S8.ipynb",
      "provenance": [],
      "collapsed_sections": [],
      "authorship_tag": "ABX9TyNIHPcn700owutgc7wngpWp",
      "include_colab_link": true
    },
    "kernelspec": {
      "name": "python3",
      "display_name": "Python 3"
    },
    "accelerator": "GPU"
  },
  "cells": [
    {
      "cell_type": "markdown",
      "metadata": {
        "id": "view-in-github",
        "colab_type": "text"
      },
      "source": [
        "<a href=\"https://colab.research.google.com/github/velasoka-repo/EVA4/blob/master/Session-8/EVA4_S8.ipynb\" target=\"_parent\"><img src=\"https://colab.research.google.com/assets/colab-badge.svg\" alt=\"Open In Colab\"/></a>"
      ]
    },
    {
      "cell_type": "markdown",
      "metadata": {
        "id": "9xkz_8DtbIOg",
        "colab_type": "text"
      },
      "source": [
        "# [Github Link](https://github.com/velasoka-repo/EVA4/tree/master/Session-8)"
      ]
    },
    {
      "cell_type": "markdown",
      "metadata": {
        "id": "BG64wVL7N3Px",
        "colab_type": "text"
      },
      "source": [
        "# Google Drive Mount"
      ]
    },
    {
      "cell_type": "code",
      "metadata": {
        "id": "nd1dYBvmFqP6",
        "colab_type": "code",
        "outputId": "bbc9ab1c-d716-4c4a-e45c-46c531fad194",
        "colab": {
          "base_uri": "https://localhost:8080/",
          "height": 34
        }
      },
      "source": [
        "from google.colab import drive\n",
        "drive.mount('/content/gdrive')"
      ],
      "execution_count": 0,
      "outputs": [
        {
          "output_type": "stream",
          "text": [
            "Drive already mounted at /content/gdrive; to attempt to forcibly remount, call drive.mount(\"/content/gdrive\", force_remount=True).\n"
          ],
          "name": "stdout"
        }
      ]
    },
    {
      "cell_type": "code",
      "metadata": {
        "id": "8GLLBE_AF3Lb",
        "colab_type": "code",
        "outputId": "c1f40750-f00e-40ee-cb0a-fe8e68ed298e",
        "colab": {
          "base_uri": "https://localhost:8080/",
          "height": 187
        }
      },
      "source": [
        "EVA4_PATH = \"/content/gdrive/My Drive/Colab Notebooks/EVA4/\"\n",
        "import sys\n",
        "if not EVA4_PATH in sys.path:\n",
        "  sys.path.append(EVA4_PATH)\n",
        "sys.path"
      ],
      "execution_count": 0,
      "outputs": [
        {
          "output_type": "execute_result",
          "data": {
            "text/plain": [
              "['',\n",
              " '/env/python',\n",
              " '/usr/lib/python36.zip',\n",
              " '/usr/lib/python3.6',\n",
              " '/usr/lib/python3.6/lib-dynload',\n",
              " '/usr/local/lib/python3.6/dist-packages',\n",
              " '/usr/lib/python3/dist-packages',\n",
              " '/usr/local/lib/python3.6/dist-packages/IPython/extensions',\n",
              " '/root/.ipython',\n",
              " '/content/gdrive/My Drive/Colab Notebooks/EVA4/']"
            ]
          },
          "metadata": {
            "tags": []
          },
          "execution_count": 2
        }
      ]
    },
    {
      "cell_type": "markdown",
      "metadata": {
        "id": "J-hy7FYfPSrs",
        "colab_type": "text"
      },
      "source": [
        "# Python Module Import"
      ]
    },
    {
      "cell_type": "code",
      "metadata": {
        "id": "uBFTfUL3PRF2",
        "colab_type": "code",
        "colab": {}
      },
      "source": [
        "import velasoka\n",
        "device = velasoka.get_available_device()"
      ],
      "execution_count": 0,
      "outputs": []
    },
    {
      "cell_type": "markdown",
      "metadata": {
        "colab_type": "text",
        "id": "tep5Gzm6LmPG"
      },
      "source": [
        "# Generic Model Runner"
      ]
    },
    {
      "cell_type": "code",
      "metadata": {
        "colab_type": "code",
        "id": "ewRkxfIiLmPK",
        "colab": {}
      },
      "source": [
        "def run_cnn(model, epochs, filename, scheduler_name=None):\n",
        "  #dataset, data_loader\n",
        "  net = model\n",
        "  dataset = velasoka.get_cifar10_dataset()\n",
        "  data_loader = velasoka.get_cifar10_data_loader(dataset=dataset)\n",
        "\n",
        "  #optimizer, loss_function\n",
        "  optimizer = velasoka.get_sgd_optimizer(model=net)\n",
        "  scheduler = None\n",
        "  if scheduler_name == \"steplr\":\n",
        "    sceduler = velasoka.get_step_lr_scheduler(optimizer=optimizer, step_size=8)\n",
        "  elif scheduler_name == \"multisteplr\":\n",
        "    schduler = velasoka.get_multi_step_lr_scheduler(optimizer=optimizer, milestone=[10, 20, 30])\n",
        "  \n",
        "  loss_fn = velasoka.get_ce_loss() #CrossEntropyLoss\n",
        "\n",
        "  #model_summary\n",
        "  velasoka.model_summary(model=net, input_size=(3, 32, 32), device=device)\n",
        "  #start cnn\n",
        "  velasoka.start_cnn(model=net, optimizer=optimizer, loss_fn=loss_fn, data_loader=data_loader, device=device, epochs=epochs, scheduler=scheduler)\n",
        "\n",
        "  #save model\n",
        "  drive_file_path = velasoka.get_drive_path(folder=\"Session-8\", filename=filename)\n",
        "  velasoka.save_model(model=net, path=drive_file_path)"
      ],
      "execution_count": 0,
      "outputs": []
    },
    {
      "cell_type": "markdown",
      "metadata": {
        "id": "GDZ_zfs5sJIj",
        "colab_type": "text"
      },
      "source": [
        "# ResNet18 Github Code"
      ]
    },
    {
      "cell_type": "code",
      "metadata": {
        "id": "lfW2-Nw64P8j",
        "colab_type": "code",
        "colab": {}
      },
      "source": [
        "import torch\n",
        "import torch.nn as nn\n",
        "import torch.nn.functional as F\n",
        "\n",
        "class BasicBlock(nn.Module):\n",
        "    expansion = 1\n",
        "\n",
        "    def __init__(self, in_planes, planes, stride=1):\n",
        "        super(BasicBlock, self).__init__()\n",
        "        self.conv1 = nn.Conv2d(in_planes, planes, kernel_size=3, stride=stride, padding=1, bias=False)\n",
        "        self.bn1 = nn.BatchNorm2d(planes)\n",
        "        self.conv2 = nn.Conv2d(planes, planes, kernel_size=3, stride=1, padding=1, bias=False)\n",
        "        self.bn2 = nn.BatchNorm2d(planes)\n",
        "\n",
        "        self.shortcut = nn.Sequential()\n",
        "        if stride != 1 or in_planes != self.expansion*planes:\n",
        "            self.shortcut = nn.Sequential(\n",
        "                nn.Conv2d(in_planes, self.expansion*planes, kernel_size=1, stride=stride, bias=False),\n",
        "                nn.BatchNorm2d(self.expansion*planes)\n",
        "            )\n",
        "\n",
        "    def forward(self, x):\n",
        "        out = F.relu(self.bn1(self.conv1(x)))\n",
        "        out = self.bn2(self.conv2(out))\n",
        "        out += self.shortcut(x)\n",
        "        out = F.relu(out)\n",
        "        return out"
      ],
      "execution_count": 0,
      "outputs": []
    },
    {
      "cell_type": "code",
      "metadata": {
        "id": "ISvEi51fsL-h",
        "colab_type": "code",
        "colab": {}
      },
      "source": [
        "class ResNet(nn.Module):\n",
        "    def __init__(self, block, num_blocks, num_classes=10):\n",
        "        super(ResNet, self).__init__()\n",
        "        self.in_planes = 64\n",
        "\n",
        "        self.conv1 = nn.Conv2d(3, 64, kernel_size=3, stride=1, padding=1, bias=False)\n",
        "        self.bn1 = nn.BatchNorm2d(64)\n",
        "        self.layer1 = self._make_layer(block, 64, num_blocks[0], stride=1)\n",
        "        self.layer2 = self._make_layer(block, 128, num_blocks[1], stride=2)\n",
        "        self.layer3 = self._make_layer(block, 256, num_blocks[2], stride=2)\n",
        "        self.layer4 = self._make_layer(block, 512, num_blocks[3], stride=2)\n",
        "        self.linear = nn.Linear(512*block.expansion, num_classes)\n",
        "\n",
        "    def _make_layer(self, block, planes, num_blocks, stride):\n",
        "        strides = [stride] + [1]*(num_blocks-1)\n",
        "        layers = []\n",
        "        for stride in strides:\n",
        "            layers.append(block(self.in_planes, planes, stride))\n",
        "            self.in_planes = planes * block.expansion\n",
        "        return nn.Sequential(*layers)\n",
        "\n",
        "    def forward(self, x):\n",
        "        out = F.relu(self.bn1(self.conv1(x)))\n",
        "        out = self.layer1(out)\n",
        "        out = self.layer2(out)\n",
        "        out = self.layer3(out)\n",
        "        out = self.layer4(out)\n",
        "        out = F.avg_pool2d(out, 4)\n",
        "        out = out.view(out.size(0), -1)\n",
        "        out = self.linear(out)\n",
        "        return out"
      ],
      "execution_count": 0,
      "outputs": []
    },
    {
      "cell_type": "markdown",
      "metadata": {
        "colab_type": "text",
        "id": "bGjZC3B-L5ih"
      },
      "source": [
        "# ResNet18 without Linear(FC)"
      ]
    },
    {
      "cell_type": "code",
      "metadata": {
        "colab_type": "code",
        "id": "3Lvbb8HFL5il",
        "colab": {}
      },
      "source": [
        "class ResNet_WOFC(nn.Module):\n",
        "    def __init__(self, block, num_blocks, num_classes=10):\n",
        "        super(ResNet_WOFC, self).__init__()\n",
        "        self.in_planes = 64\n",
        "\n",
        "        self.conv1 = nn.Conv2d(3, 64, kernel_size=3, stride=1, padding=1, bias=False)\n",
        "        self.bn1 = nn.BatchNorm2d(64)\n",
        "        self.layer1 = self._make_layer(block, 64, num_blocks[0], stride=1)\n",
        "        self.layer2 = self._make_layer(block, 128, num_blocks[1], stride=2)\n",
        "        self.layer3 = self._make_layer(block, 256, num_blocks[2], stride=2)\n",
        "        self.layer4 = self._make_layer(block, 512, num_blocks[3], stride=2)\n",
        "        self.conv2 = nn.Conv2d(in_channels=512, out_channels=10, kernel_size=1)\n",
        "\n",
        "    def _make_layer(self, block, planes, num_blocks, stride):\n",
        "        strides = [stride] + [1]*(num_blocks-1)\n",
        "        layers = []\n",
        "        for stride in strides:\n",
        "            layers.append(block(self.in_planes, planes, stride))\n",
        "            self.in_planes = planes * block.expansion\n",
        "        return nn.Sequential(*layers)\n",
        "\n",
        "    def forward(self, x):\n",
        "        out = F.relu(self.bn1(self.conv1(x)))\n",
        "        out = self.layer1(out)\n",
        "        out = self.layer2(out)\n",
        "        out = self.layer3(out)\n",
        "        out = self.layer4(out)\n",
        "        out = F.avg_pool2d(out, 4)\n",
        "        out = self.conv2(out)\n",
        "        out = out.view(-1, 10)\n",
        "        return out"
      ],
      "execution_count": 0,
      "outputs": []
    },
    {
      "cell_type": "markdown",
      "metadata": {
        "colab_type": "text",
        "id": "htf2SSOENBAm"
      },
      "source": [
        "# ResNet18 with Dropout & without Linear(FC)"
      ]
    },
    {
      "cell_type": "code",
      "metadata": {
        "colab_type": "code",
        "id": "VVEkIsnLNBAp",
        "colab": {}
      },
      "source": [
        "class ResNet_WOFC_DO(nn.Module):\n",
        "    def __init__(self, block, num_blocks, num_classes=10):\n",
        "        super(ResNet_WOFC_DO, self).__init__()\n",
        "        self.in_planes = 64\n",
        "\n",
        "        self.conv1 = nn.Conv2d(3, 64, kernel_size=3, stride=1, padding=1, bias=False)\n",
        "        self.bn1 = nn.BatchNorm2d(64)\n",
        "        self.dropout = nn.Dropout2d(p=0.2)\n",
        "        self.layer1 = self._make_layer(block, 64, num_blocks[0], stride=1)\n",
        "        self.layer2 = self._make_layer(block, 128, num_blocks[1], stride=2)\n",
        "        self.layer3 = self._make_layer(block, 256, num_blocks[2], stride=2)\n",
        "        self.layer4 = self._make_layer(block, 512, num_blocks[3], stride=2)\n",
        "        self.conv2 = nn.Conv2d(in_channels=512, out_channels=10, kernel_size=1)\n",
        "\n",
        "    def _make_layer(self, block, planes, num_blocks, stride):\n",
        "        strides = [stride] + [1]*(num_blocks-1)\n",
        "        layers = []\n",
        "        for stride in strides:\n",
        "            layers.append(block(self.in_planes, planes, stride))\n",
        "            self.in_planes = planes * block.expansion\n",
        "        return nn.Sequential(*layers)\n",
        "\n",
        "    def forward(self, x):\n",
        "        out = self.bn1(self.conv1(x))\n",
        "        out = self.dropout(out)\n",
        "        out = F.relu(out)\n",
        "        out = self.layer1(out)\n",
        "        out = self.dropout(out)\n",
        "        out = self.layer2(out)\n",
        "        out = self.dropout(out)\n",
        "        out = self.layer3(out)\n",
        "        out = self.dropout(out)\n",
        "        out = self.layer4(out)\n",
        "        out = self.dropout(out)\n",
        "        out = F.avg_pool2d(out, 4)\n",
        "        out = self.conv2(out)\n",
        "        out = out.view(-1, 10)\n",
        "        return out"
      ],
      "execution_count": 0,
      "outputs": []
    },
    {
      "cell_type": "code",
      "metadata": {
        "id": "9pmOAW0TasHR",
        "colab_type": "code",
        "colab": {}
      },
      "source": [
        ""
      ],
      "execution_count": 0,
      "outputs": []
    },
    {
      "cell_type": "markdown",
      "metadata": {
        "colab_type": "text",
        "id": "RukduEoTas17"
      },
      "source": [
        "# ResNet18 without FC(Linear) :Result"
      ]
    },
    {
      "cell_type": "code",
      "metadata": {
        "colab_type": "code",
        "id": "Iy8l9Rteas19",
        "colab": {}
      },
      "source": [
        "def start_fn():\n",
        "  #model\n",
        "  net = ResNet_WOFC(BasicBlock, [2,2,2,2]).to(device)\n",
        "\n",
        "  #dataset, data_loader\n",
        "  dataset = velasoka.get_cifar10_dataset()\n",
        "  data_loader = velasoka.get_cifar10_data_loader(dataset=dataset)\n",
        "\n",
        "  #optimizer, loss_function\n",
        "  optimizer = velasoka.get_sgd_optimizer(model=net)\n",
        "  loss_fn = velasoka.get_ce_loss() #CrossEntropyLoss\n",
        "\n",
        "  #model_summary\n",
        "  velasoka.model_summary(model=net, input_size=(3, 32, 32), device=device)\n",
        "  #start cnn\n",
        "  velasoka.start_cnn(model=net, optimizer=optimizer, loss_fn=loss_fn, data_loader=data_loader, device=device, epochs=23)\n",
        "\n",
        "  #save model\n",
        "  drive_file_path = velasoka.get_drive_path(folder=\"Session-8\", filename=\"resnet18-wo-fc.pt\")\n",
        "  velasoka.save_model(model=net, path=drive_file_path)"
      ],
      "execution_count": 0,
      "outputs": []
    },
    {
      "cell_type": "code",
      "metadata": {
        "colab_type": "code",
        "outputId": "d0303b9f-4b05-49d7-c5da-8ee95deb9216",
        "id": "pmDgTG4ras1_",
        "colab": {
          "base_uri": "https://localhost:8080/",
          "height": 1000
        }
      },
      "source": [
        "start_fn()"
      ],
      "execution_count": 0,
      "outputs": [
        {
          "output_type": "stream",
          "text": [
            "Files already downloaded and verified\n",
            "Files already downloaded and verified\n"
          ],
          "name": "stdout"
        },
        {
          "output_type": "stream",
          "text": [
            "\r  0%|          | 0/12500 [00:00<?, ?it/s]"
          ],
          "name": "stderr"
        },
        {
          "output_type": "stream",
          "text": [
            "----------------------------------------------------------------\n",
            "        Layer (type)               Output Shape         Param #\n",
            "================================================================\n",
            "            Conv2d-1           [-1, 64, 32, 32]           1,728\n",
            "       BatchNorm2d-2           [-1, 64, 32, 32]             128\n",
            "            Conv2d-3           [-1, 64, 32, 32]          36,864\n",
            "       BatchNorm2d-4           [-1, 64, 32, 32]             128\n",
            "            Conv2d-5           [-1, 64, 32, 32]          36,864\n",
            "       BatchNorm2d-6           [-1, 64, 32, 32]             128\n",
            "        BasicBlock-7           [-1, 64, 32, 32]               0\n",
            "            Conv2d-8           [-1, 64, 32, 32]          36,864\n",
            "       BatchNorm2d-9           [-1, 64, 32, 32]             128\n",
            "           Conv2d-10           [-1, 64, 32, 32]          36,864\n",
            "      BatchNorm2d-11           [-1, 64, 32, 32]             128\n",
            "       BasicBlock-12           [-1, 64, 32, 32]               0\n",
            "           Conv2d-13          [-1, 128, 16, 16]          73,728\n",
            "      BatchNorm2d-14          [-1, 128, 16, 16]             256\n",
            "           Conv2d-15          [-1, 128, 16, 16]         147,456\n",
            "      BatchNorm2d-16          [-1, 128, 16, 16]             256\n",
            "           Conv2d-17          [-1, 128, 16, 16]           8,192\n",
            "      BatchNorm2d-18          [-1, 128, 16, 16]             256\n",
            "       BasicBlock-19          [-1, 128, 16, 16]               0\n",
            "           Conv2d-20          [-1, 128, 16, 16]         147,456\n",
            "      BatchNorm2d-21          [-1, 128, 16, 16]             256\n",
            "           Conv2d-22          [-1, 128, 16, 16]         147,456\n",
            "      BatchNorm2d-23          [-1, 128, 16, 16]             256\n",
            "       BasicBlock-24          [-1, 128, 16, 16]               0\n",
            "           Conv2d-25            [-1, 256, 8, 8]         294,912\n",
            "      BatchNorm2d-26            [-1, 256, 8, 8]             512\n",
            "           Conv2d-27            [-1, 256, 8, 8]         589,824\n",
            "      BatchNorm2d-28            [-1, 256, 8, 8]             512\n",
            "           Conv2d-29            [-1, 256, 8, 8]          32,768\n",
            "      BatchNorm2d-30            [-1, 256, 8, 8]             512\n",
            "       BasicBlock-31            [-1, 256, 8, 8]               0\n",
            "           Conv2d-32            [-1, 256, 8, 8]         589,824\n",
            "      BatchNorm2d-33            [-1, 256, 8, 8]             512\n",
            "           Conv2d-34            [-1, 256, 8, 8]         589,824\n",
            "      BatchNorm2d-35            [-1, 256, 8, 8]             512\n",
            "       BasicBlock-36            [-1, 256, 8, 8]               0\n",
            "           Conv2d-37            [-1, 512, 4, 4]       1,179,648\n",
            "      BatchNorm2d-38            [-1, 512, 4, 4]           1,024\n",
            "           Conv2d-39            [-1, 512, 4, 4]       2,359,296\n",
            "      BatchNorm2d-40            [-1, 512, 4, 4]           1,024\n",
            "           Conv2d-41            [-1, 512, 4, 4]         131,072\n",
            "      BatchNorm2d-42            [-1, 512, 4, 4]           1,024\n",
            "       BasicBlock-43            [-1, 512, 4, 4]               0\n",
            "           Conv2d-44            [-1, 512, 4, 4]       2,359,296\n",
            "      BatchNorm2d-45            [-1, 512, 4, 4]           1,024\n",
            "           Conv2d-46            [-1, 512, 4, 4]       2,359,296\n",
            "      BatchNorm2d-47            [-1, 512, 4, 4]           1,024\n",
            "       BasicBlock-48            [-1, 512, 4, 4]               0\n",
            "           Conv2d-49             [-1, 10, 1, 1]           5,130\n",
            "================================================================\n",
            "Total params: 11,173,962\n",
            "Trainable params: 11,173,962\n",
            "Non-trainable params: 0\n",
            "----------------------------------------------------------------\n",
            "Input size (MB): 0.01\n",
            "Forward/backward pass size (MB): 11.25\n",
            "Params size (MB): 42.63\n",
            "Estimated Total Size (MB): 53.89\n",
            "----------------------------------------------------------------\n",
            "\n",
            "EPOCH: 1\n"
          ],
          "name": "stdout"
        },
        {
          "output_type": "stream",
          "text": [
            "Training Batch=12499, loss=1.72461, Correct Prediction=24857/50000, Train Accuracy=49.71400: 100%|██████████| 12500/12500 [03:40<00:00, 56.73it/s]\n",
            "Test Batch=2499, Correct Validation=6509/10000, Test Accuracy=65.09000: 100%|██████████| 2500/2500 [00:26<00:00, 93.42it/s]\n",
            "  0%|          | 0/12500 [00:00<?, ?it/s]"
          ],
          "name": "stderr"
        },
        {
          "output_type": "stream",
          "text": [
            "\n",
            "EPOCH: 2\n"
          ],
          "name": "stdout"
        },
        {
          "output_type": "stream",
          "text": [
            "Training Batch=12499, loss=0.55235, Correct Prediction=35794/50000, Train Accuracy=71.58800: 100%|██████████| 12500/12500 [03:38<00:00, 57.18it/s]\n",
            "Test Batch=2499, Correct Validation=7721/10000, Test Accuracy=77.21000: 100%|██████████| 2500/2500 [00:26<00:00, 91.49it/s]\n",
            "  0%|          | 0/12500 [00:00<?, ?it/s]"
          ],
          "name": "stderr"
        },
        {
          "output_type": "stream",
          "text": [
            "\n",
            "EPOCH: 3\n"
          ],
          "name": "stdout"
        },
        {
          "output_type": "stream",
          "text": [
            "Training Batch=12499, loss=0.05331, Correct Prediction=39424/50000, Train Accuracy=78.84800: 100%|██████████| 12500/12500 [03:36<00:00, 57.76it/s]\n",
            "Test Batch=2499, Correct Validation=8034/10000, Test Accuracy=80.34000: 100%|██████████| 2500/2500 [00:25<00:00, 97.01it/s] \n",
            "  0%|          | 0/12500 [00:00<?, ?it/s]"
          ],
          "name": "stderr"
        },
        {
          "output_type": "stream",
          "text": [
            "\n",
            "EPOCH: 4\n"
          ],
          "name": "stdout"
        },
        {
          "output_type": "stream",
          "text": [
            "Training Batch=12499, loss=0.09450, Correct Prediction=41984/50000, Train Accuracy=83.96800: 100%|██████████| 12500/12500 [03:36<00:00, 57.68it/s]\n",
            "Test Batch=2499, Correct Validation=8057/10000, Test Accuracy=80.57000: 100%|██████████| 2500/2500 [00:26<00:00, 95.74it/s]\n",
            "  0%|          | 0/12500 [00:00<?, ?it/s]"
          ],
          "name": "stderr"
        },
        {
          "output_type": "stream",
          "text": [
            "\n",
            "EPOCH: 5\n"
          ],
          "name": "stdout"
        },
        {
          "output_type": "stream",
          "text": [
            "Training Batch=12499, loss=0.04864, Correct Prediction=43797/50000, Train Accuracy=87.59400: 100%|██████████| 12500/12500 [03:39<00:00, 56.93it/s]\n",
            "Test Batch=2499, Correct Validation=8185/10000, Test Accuracy=81.85000: 100%|██████████| 2500/2500 [00:26<00:00, 95.09it/s]\n",
            "  0%|          | 0/12500 [00:00<?, ?it/s]"
          ],
          "name": "stderr"
        },
        {
          "output_type": "stream",
          "text": [
            "\n",
            "EPOCH: 6\n"
          ],
          "name": "stdout"
        },
        {
          "output_type": "stream",
          "text": [
            "Training Batch=12499, loss=0.52092, Correct Prediction=45550/50000, Train Accuracy=91.10000: 100%|██████████| 12500/12500 [03:40<00:00, 56.80it/s]\n",
            "Test Batch=2499, Correct Validation=8075/10000, Test Accuracy=80.75000: 100%|██████████| 2500/2500 [00:26<00:00, 94.49it/s]\n",
            "  0%|          | 0/12500 [00:00<?, ?it/s]"
          ],
          "name": "stderr"
        },
        {
          "output_type": "stream",
          "text": [
            "\n",
            "EPOCH: 7\n"
          ],
          "name": "stdout"
        },
        {
          "output_type": "stream",
          "text": [
            "Training Batch=12499, loss=0.11258, Correct Prediction=46735/50000, Train Accuracy=93.47000: 100%|██████████| 12500/12500 [03:37<00:00, 57.53it/s]\n",
            "Test Batch=2499, Correct Validation=8265/10000, Test Accuracy=82.65000: 100%|██████████| 2500/2500 [00:26<00:00, 96.10it/s]\n",
            "  0%|          | 0/12500 [00:00<?, ?it/s]"
          ],
          "name": "stderr"
        },
        {
          "output_type": "stream",
          "text": [
            "\n",
            "EPOCH: 8\n"
          ],
          "name": "stdout"
        },
        {
          "output_type": "stream",
          "text": [
            "Training Batch=12499, loss=0.02139, Correct Prediction=47848/50000, Train Accuracy=95.69600: 100%|██████████| 12500/12500 [03:37<00:00, 57.57it/s]\n",
            "Test Batch=2499, Correct Validation=8168/10000, Test Accuracy=81.68000: 100%|██████████| 2500/2500 [00:26<00:00, 95.89it/s]\n",
            "  0%|          | 0/12500 [00:00<?, ?it/s]"
          ],
          "name": "stderr"
        },
        {
          "output_type": "stream",
          "text": [
            "\n",
            "EPOCH: 9\n"
          ],
          "name": "stdout"
        },
        {
          "output_type": "stream",
          "text": [
            "Training Batch=12499, loss=0.00150, Correct Prediction=48500/50000, Train Accuracy=97.00000: 100%|██████████| 12500/12500 [03:37<00:00, 57.42it/s]\n",
            "Test Batch=2499, Correct Validation=8326/10000, Test Accuracy=83.26000: 100%|██████████| 2500/2500 [00:26<00:00, 95.91it/s]\n",
            "  0%|          | 0/12500 [00:00<?, ?it/s]"
          ],
          "name": "stderr"
        },
        {
          "output_type": "stream",
          "text": [
            "\n",
            "EPOCH: 10\n"
          ],
          "name": "stdout"
        },
        {
          "output_type": "stream",
          "text": [
            "Training Batch=12499, loss=0.16767, Correct Prediction=48998/50000, Train Accuracy=97.99600: 100%|██████████| 12500/12500 [03:37<00:00, 57.60it/s]\n",
            "Test Batch=2499, Correct Validation=8379/10000, Test Accuracy=83.79000: 100%|██████████| 2500/2500 [00:25<00:00, 96.84it/s]\n",
            "  0%|          | 0/12500 [00:00<?, ?it/s]"
          ],
          "name": "stderr"
        },
        {
          "output_type": "stream",
          "text": [
            "\n",
            "EPOCH: 11\n"
          ],
          "name": "stdout"
        },
        {
          "output_type": "stream",
          "text": [
            "Training Batch=12499, loss=0.00911, Correct Prediction=49274/50000, Train Accuracy=98.54800: 100%|██████████| 12500/12500 [03:38<00:00, 57.23it/s]\n",
            "Test Batch=2499, Correct Validation=8364/10000, Test Accuracy=83.64000: 100%|██████████| 2500/2500 [00:26<00:00, 95.06it/s]\n",
            "  0%|          | 0/12500 [00:00<?, ?it/s]"
          ],
          "name": "stderr"
        },
        {
          "output_type": "stream",
          "text": [
            "\n",
            "EPOCH: 12\n"
          ],
          "name": "stdout"
        },
        {
          "output_type": "stream",
          "text": [
            "Training Batch=12499, loss=0.00268, Correct Prediction=49397/50000, Train Accuracy=98.79400: 100%|██████████| 12500/12500 [03:41<00:00, 56.54it/s]\n",
            "Test Batch=2499, Correct Validation=8400/10000, Test Accuracy=84.00000: 100%|██████████| 2500/2500 [00:26<00:00, 99.91it/s]\n",
            "  0%|          | 0/12500 [00:00<?, ?it/s]"
          ],
          "name": "stderr"
        },
        {
          "output_type": "stream",
          "text": [
            "\n",
            "EPOCH: 13\n"
          ],
          "name": "stdout"
        },
        {
          "output_type": "stream",
          "text": [
            "Training Batch=12499, loss=0.00010, Correct Prediction=49641/50000, Train Accuracy=99.28200: 100%|██████████| 12500/12500 [03:37<00:00, 59.39it/s]\n",
            "Test Batch=2499, Correct Validation=8340/10000, Test Accuracy=83.40000: 100%|██████████| 2500/2500 [00:26<00:00, 95.30it/s]\n",
            "  0%|          | 0/12500 [00:00<?, ?it/s]"
          ],
          "name": "stderr"
        },
        {
          "output_type": "stream",
          "text": [
            "\n",
            "EPOCH: 14\n"
          ],
          "name": "stdout"
        },
        {
          "output_type": "stream",
          "text": [
            "Training Batch=12499, loss=0.01969, Correct Prediction=49764/50000, Train Accuracy=99.52800: 100%|██████████| 12500/12500 [03:37<00:00, 57.48it/s]\n",
            "Test Batch=2499, Correct Validation=8464/10000, Test Accuracy=84.64000: 100%|██████████| 2500/2500 [00:26<00:00, 95.29it/s]\n",
            "  0%|          | 0/12500 [00:00<?, ?it/s]"
          ],
          "name": "stderr"
        },
        {
          "output_type": "stream",
          "text": [
            "\n",
            "EPOCH: 15\n"
          ],
          "name": "stdout"
        },
        {
          "output_type": "stream",
          "text": [
            "Training Batch=12499, loss=0.00277, Correct Prediction=49750/50000, Train Accuracy=99.50000: 100%|██████████| 12500/12500 [03:36<00:00, 57.71it/s]\n",
            "Test Batch=2499, Correct Validation=8378/10000, Test Accuracy=83.78000: 100%|██████████| 2500/2500 [00:26<00:00, 94.92it/s]\n",
            "  0%|          | 0/12500 [00:00<?, ?it/s]"
          ],
          "name": "stderr"
        },
        {
          "output_type": "stream",
          "text": [
            "\n",
            "EPOCH: 16\n"
          ],
          "name": "stdout"
        },
        {
          "output_type": "stream",
          "text": [
            "Training Batch=12499, loss=0.00030, Correct Prediction=49835/50000, Train Accuracy=99.67000: 100%|██████████| 12500/12500 [03:38<00:00, 57.30it/s]\n",
            "Test Batch=2499, Correct Validation=8480/10000, Test Accuracy=84.80000: 100%|██████████| 2500/2500 [00:25<00:00, 96.99it/s]\n",
            "  0%|          | 0/12500 [00:00<?, ?it/s]"
          ],
          "name": "stderr"
        },
        {
          "output_type": "stream",
          "text": [
            "\n",
            "EPOCH: 17\n"
          ],
          "name": "stdout"
        },
        {
          "output_type": "stream",
          "text": [
            "Training Batch=12499, loss=0.00082, Correct Prediction=49921/50000, Train Accuracy=99.84200: 100%|██████████| 12500/12500 [03:35<00:00, 57.88it/s]\n",
            "Test Batch=2499, Correct Validation=8455/10000, Test Accuracy=84.55000: 100%|██████████| 2500/2500 [00:25<00:00, 96.49it/s]\n",
            "  0%|          | 0/12500 [00:00<?, ?it/s]"
          ],
          "name": "stderr"
        },
        {
          "output_type": "stream",
          "text": [
            "\n",
            "EPOCH: 18\n"
          ],
          "name": "stdout"
        },
        {
          "output_type": "stream",
          "text": [
            "Training Batch=12499, loss=0.00023, Correct Prediction=49959/50000, Train Accuracy=99.91800: 100%|██████████| 12500/12500 [03:34<00:00, 58.21it/s]\n",
            "Test Batch=2499, Correct Validation=8457/10000, Test Accuracy=84.57000: 100%|██████████| 2500/2500 [00:25<00:00, 96.25it/s] \n",
            "  0%|          | 0/12500 [00:00<?, ?it/s]"
          ],
          "name": "stderr"
        },
        {
          "output_type": "stream",
          "text": [
            "\n",
            "EPOCH: 19\n"
          ],
          "name": "stdout"
        },
        {
          "output_type": "stream",
          "text": [
            "Training Batch=12499, loss=0.07364, Correct Prediction=49909/50000, Train Accuracy=99.81800: 100%|██████████| 12500/12500 [03:35<00:00, 57.89it/s]\n",
            "Test Batch=2499, Correct Validation=8470/10000, Test Accuracy=84.70000: 100%|██████████| 2500/2500 [00:25<00:00, 96.48it/s]\n",
            "  0%|          | 0/12500 [00:00<?, ?it/s]"
          ],
          "name": "stderr"
        },
        {
          "output_type": "stream",
          "text": [
            "\n",
            "EPOCH: 20\n"
          ],
          "name": "stdout"
        },
        {
          "output_type": "stream",
          "text": [
            "Training Batch=12499, loss=0.00014, Correct Prediction=49942/50000, Train Accuracy=99.88400: 100%|██████████| 12500/12500 [03:35<00:00, 57.91it/s]\n",
            "Test Batch=2499, Correct Validation=8466/10000, Test Accuracy=84.66000: 100%|██████████| 2500/2500 [00:25<00:00, 97.11it/s]\n",
            "  0%|          | 0/12500 [00:00<?, ?it/s]"
          ],
          "name": "stderr"
        },
        {
          "output_type": "stream",
          "text": [
            "\n",
            "EPOCH: 21\n"
          ],
          "name": "stdout"
        },
        {
          "output_type": "stream",
          "text": [
            "Training Batch=12499, loss=0.00074, Correct Prediction=49958/50000, Train Accuracy=99.91600: 100%|██████████| 12500/12500 [03:35<00:00, 57.88it/s]\n",
            "Test Batch=2499, Correct Validation=8514/10000, Test Accuracy=85.14000: 100%|██████████| 2500/2500 [00:25<00:00, 96.78it/s] \n",
            "  0%|          | 0/12500 [00:00<?, ?it/s]"
          ],
          "name": "stderr"
        },
        {
          "output_type": "stream",
          "text": [
            "\n",
            "EPOCH: 22\n"
          ],
          "name": "stdout"
        },
        {
          "output_type": "stream",
          "text": [
            "Training Batch=12499, loss=0.00024, Correct Prediction=49978/50000, Train Accuracy=99.95600: 100%|██████████| 12500/12500 [03:37<00:00, 57.48it/s]\n",
            "Test Batch=2499, Correct Validation=8442/10000, Test Accuracy=84.42000: 100%|██████████| 2500/2500 [00:25<00:00, 96.65it/s] \n"
          ],
          "name": "stderr"
        }
      ]
    },
    {
      "cell_type": "code",
      "metadata": {
        "id": "r3nnta1INp6O",
        "colab_type": "code",
        "colab": {}
      },
      "source": [
        ""
      ],
      "execution_count": 0,
      "outputs": []
    }
  ]
}