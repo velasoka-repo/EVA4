{
  "nbformat": 4,
  "nbformat_minor": 0,
  "metadata": {
    "colab": {
      "name": "EVA4-S8.ipynb",
      "provenance": [],
      "collapsed_sections": [],
      "authorship_tag": "ABX9TyMyZbS2zzt6WSpG2nCwr6xQ",
      "include_colab_link": true
    },
    "kernelspec": {
      "name": "python3",
      "display_name": "Python 3"
    },
    "accelerator": "GPU",
    "widgets": {
      "application/vnd.jupyter.widget-state+json": {
        "234635e18aa8437cb34fea5f47458e75": {
          "model_module": "@jupyter-widgets/controls",
          "model_name": "HBoxModel",
          "state": {
            "_view_name": "HBoxView",
            "_dom_classes": [],
            "_model_name": "HBoxModel",
            "_view_module": "@jupyter-widgets/controls",
            "_model_module_version": "1.5.0",
            "_view_count": null,
            "_view_module_version": "1.5.0",
            "box_style": "",
            "layout": "IPY_MODEL_81355cb1fe324e7982416199d13ef4f8",
            "_model_module": "@jupyter-widgets/controls",
            "children": [
              "IPY_MODEL_ebadfdde438c49ca8778310d7818613c",
              "IPY_MODEL_d583dffbb11c4e7b8b7b711d4ae93eb1"
            ]
          }
        },
        "81355cb1fe324e7982416199d13ef4f8": {
          "model_module": "@jupyter-widgets/base",
          "model_name": "LayoutModel",
          "state": {
            "_view_name": "LayoutView",
            "grid_template_rows": null,
            "right": null,
            "justify_content": null,
            "_view_module": "@jupyter-widgets/base",
            "overflow": null,
            "_model_module_version": "1.2.0",
            "_view_count": null,
            "flex_flow": null,
            "width": null,
            "min_width": null,
            "border": null,
            "align_items": null,
            "bottom": null,
            "_model_module": "@jupyter-widgets/base",
            "top": null,
            "grid_column": null,
            "overflow_y": null,
            "overflow_x": null,
            "grid_auto_flow": null,
            "grid_area": null,
            "grid_template_columns": null,
            "flex": null,
            "_model_name": "LayoutModel",
            "justify_items": null,
            "grid_row": null,
            "max_height": null,
            "align_content": null,
            "visibility": null,
            "align_self": null,
            "height": null,
            "min_height": null,
            "padding": null,
            "grid_auto_rows": null,
            "grid_gap": null,
            "max_width": null,
            "order": null,
            "_view_module_version": "1.2.0",
            "grid_template_areas": null,
            "object_position": null,
            "object_fit": null,
            "grid_auto_columns": null,
            "margin": null,
            "display": null,
            "left": null
          }
        },
        "ebadfdde438c49ca8778310d7818613c": {
          "model_module": "@jupyter-widgets/controls",
          "model_name": "IntProgressModel",
          "state": {
            "_view_name": "ProgressView",
            "style": "IPY_MODEL_ad8fa761ff72454690f05b73cd836e18",
            "_dom_classes": [],
            "description": "",
            "_model_name": "IntProgressModel",
            "bar_style": "success",
            "max": 1,
            "_view_module": "@jupyter-widgets/controls",
            "_model_module_version": "1.5.0",
            "value": 1,
            "_view_count": null,
            "_view_module_version": "1.5.0",
            "orientation": "horizontal",
            "min": 0,
            "description_tooltip": null,
            "_model_module": "@jupyter-widgets/controls",
            "layout": "IPY_MODEL_2bbe89a7a7a045dc91b186e4010c97bc"
          }
        },
        "d583dffbb11c4e7b8b7b711d4ae93eb1": {
          "model_module": "@jupyter-widgets/controls",
          "model_name": "HTMLModel",
          "state": {
            "_view_name": "HTMLView",
            "style": "IPY_MODEL_82d48bc667c94a4bad43cf9f29f147bb",
            "_dom_classes": [],
            "description": "",
            "_model_name": "HTMLModel",
            "placeholder": "​",
            "_view_module": "@jupyter-widgets/controls",
            "_model_module_version": "1.5.0",
            "value": "170500096it [00:04, 38929432.37it/s]",
            "_view_count": null,
            "_view_module_version": "1.5.0",
            "description_tooltip": null,
            "_model_module": "@jupyter-widgets/controls",
            "layout": "IPY_MODEL_3a1582021a8f4bd7a7bf481c0e310c2a"
          }
        },
        "ad8fa761ff72454690f05b73cd836e18": {
          "model_module": "@jupyter-widgets/controls",
          "model_name": "ProgressStyleModel",
          "state": {
            "_view_name": "StyleView",
            "_model_name": "ProgressStyleModel",
            "description_width": "",
            "_view_module": "@jupyter-widgets/base",
            "_model_module_version": "1.5.0",
            "_view_count": null,
            "_view_module_version": "1.2.0",
            "bar_color": null,
            "_model_module": "@jupyter-widgets/controls"
          }
        },
        "2bbe89a7a7a045dc91b186e4010c97bc": {
          "model_module": "@jupyter-widgets/base",
          "model_name": "LayoutModel",
          "state": {
            "_view_name": "LayoutView",
            "grid_template_rows": null,
            "right": null,
            "justify_content": null,
            "_view_module": "@jupyter-widgets/base",
            "overflow": null,
            "_model_module_version": "1.2.0",
            "_view_count": null,
            "flex_flow": null,
            "width": null,
            "min_width": null,
            "border": null,
            "align_items": null,
            "bottom": null,
            "_model_module": "@jupyter-widgets/base",
            "top": null,
            "grid_column": null,
            "overflow_y": null,
            "overflow_x": null,
            "grid_auto_flow": null,
            "grid_area": null,
            "grid_template_columns": null,
            "flex": null,
            "_model_name": "LayoutModel",
            "justify_items": null,
            "grid_row": null,
            "max_height": null,
            "align_content": null,
            "visibility": null,
            "align_self": null,
            "height": null,
            "min_height": null,
            "padding": null,
            "grid_auto_rows": null,
            "grid_gap": null,
            "max_width": null,
            "order": null,
            "_view_module_version": "1.2.0",
            "grid_template_areas": null,
            "object_position": null,
            "object_fit": null,
            "grid_auto_columns": null,
            "margin": null,
            "display": null,
            "left": null
          }
        },
        "82d48bc667c94a4bad43cf9f29f147bb": {
          "model_module": "@jupyter-widgets/controls",
          "model_name": "DescriptionStyleModel",
          "state": {
            "_view_name": "StyleView",
            "_model_name": "DescriptionStyleModel",
            "description_width": "",
            "_view_module": "@jupyter-widgets/base",
            "_model_module_version": "1.5.0",
            "_view_count": null,
            "_view_module_version": "1.2.0",
            "_model_module": "@jupyter-widgets/controls"
          }
        },
        "3a1582021a8f4bd7a7bf481c0e310c2a": {
          "model_module": "@jupyter-widgets/base",
          "model_name": "LayoutModel",
          "state": {
            "_view_name": "LayoutView",
            "grid_template_rows": null,
            "right": null,
            "justify_content": null,
            "_view_module": "@jupyter-widgets/base",
            "overflow": null,
            "_model_module_version": "1.2.0",
            "_view_count": null,
            "flex_flow": null,
            "width": null,
            "min_width": null,
            "border": null,
            "align_items": null,
            "bottom": null,
            "_model_module": "@jupyter-widgets/base",
            "top": null,
            "grid_column": null,
            "overflow_y": null,
            "overflow_x": null,
            "grid_auto_flow": null,
            "grid_area": null,
            "grid_template_columns": null,
            "flex": null,
            "_model_name": "LayoutModel",
            "justify_items": null,
            "grid_row": null,
            "max_height": null,
            "align_content": null,
            "visibility": null,
            "align_self": null,
            "height": null,
            "min_height": null,
            "padding": null,
            "grid_auto_rows": null,
            "grid_gap": null,
            "max_width": null,
            "order": null,
            "_view_module_version": "1.2.0",
            "grid_template_areas": null,
            "object_position": null,
            "object_fit": null,
            "grid_auto_columns": null,
            "margin": null,
            "display": null,
            "left": null
          }
        }
      }
    }
  },
  "cells": [
    {
      "cell_type": "markdown",
      "metadata": {
        "id": "view-in-github",
        "colab_type": "text"
      },
      "source": [
        "<a href=\"https://colab.research.google.com/github/velasoka-repo/EVA4/blob/master/Session-8/EVA4_S8.ipynb\" target=\"_parent\"><img src=\"https://colab.research.google.com/assets/colab-badge.svg\" alt=\"Open In Colab\"/></a>"
      ]
    },
    {
      "cell_type": "markdown",
      "metadata": {
        "id": "9xkz_8DtbIOg",
        "colab_type": "text"
      },
      "source": [
        "# [Github Link](https://github.com/velasoka-repo/EVA4/tree/master/Session-8)"
      ]
    },
    {
      "cell_type": "markdown",
      "metadata": {
        "id": "BG64wVL7N3Px",
        "colab_type": "text"
      },
      "source": [
        "# Google Drive Mount"
      ]
    },
    {
      "cell_type": "code",
      "metadata": {
        "id": "nd1dYBvmFqP6",
        "colab_type": "code",
        "colab": {}
      },
      "source": [
        "from google.colab import drive\n",
        "drive.mount('/content/gdrive')"
      ],
      "execution_count": 0,
      "outputs": []
    },
    {
      "cell_type": "code",
      "metadata": {
        "id": "8GLLBE_AF3Lb",
        "colab_type": "code",
        "outputId": "75df5ac8-4091-4851-f8c6-1371f5e8dfe7",
        "colab": {
          "base_uri": "https://localhost:8080/",
          "height": 187
        }
      },
      "source": [
        "EVA4_PATH = \"/content/gdrive/My Drive/Colab Notebooks/EVA4/\"\n",
        "import sys\n",
        "if not EVA4_PATH in sys.path:\n",
        "  sys.path.append(EVA4_PATH)\n",
        "sys.path"
      ],
      "execution_count": 0,
      "outputs": [
        {
          "output_type": "execute_result",
          "data": {
            "text/plain": [
              "['',\n",
              " '/env/python',\n",
              " '/usr/lib/python36.zip',\n",
              " '/usr/lib/python3.6',\n",
              " '/usr/lib/python3.6/lib-dynload',\n",
              " '/usr/local/lib/python3.6/dist-packages',\n",
              " '/usr/lib/python3/dist-packages',\n",
              " '/usr/local/lib/python3.6/dist-packages/IPython/extensions',\n",
              " '/root/.ipython',\n",
              " '/content/gdrive/My Drive/Colab Notebooks/EVA4/']"
            ]
          },
          "metadata": {
            "tags": []
          },
          "execution_count": 3
        }
      ]
    },
    {
      "cell_type": "markdown",
      "metadata": {
        "id": "J-hy7FYfPSrs",
        "colab_type": "text"
      },
      "source": [
        "# Python Module Import"
      ]
    },
    {
      "cell_type": "code",
      "metadata": {
        "id": "uBFTfUL3PRF2",
        "colab_type": "code",
        "colab": {}
      },
      "source": [
        "import velasoka\n",
        "device = velasoka.get_available_device()"
      ],
      "execution_count": 0,
      "outputs": []
    },
    {
      "cell_type": "markdown",
      "metadata": {
        "colab_type": "text",
        "id": "tep5Gzm6LmPG"
      },
      "source": [
        "# Generic Model Runner"
      ]
    },
    {
      "cell_type": "code",
      "metadata": {
        "colab_type": "code",
        "id": "ewRkxfIiLmPK",
        "colab": {}
      },
      "source": [
        "def run_cnn(model, epochs, filename, scheduler_name=None):\n",
        "  #dataset, data_loader\n",
        "  net = model\n",
        "  dataset = velasoka.get_cifar10_dataset()\n",
        "  data_loader = velasoka.get_cifar10_data_loader(dataset=dataset)\n",
        "\n",
        "  #optimizer, loss_function\n",
        "  optimizer = velasoka.get_sgd_optimizer(model=net)\n",
        "  scheduler = None\n",
        "  if scheduler_name == \"steplr\":\n",
        "    sceduler = velasoka.get_step_lr_scheduler(optimizer=optimizer, step_size=8)\n",
        "  elif scheduler_name == \"multisteplr\":\n",
        "    schduler = velasoka.get_multi_step_lr_scheduler(optimizer=optimizer, milestone=[10, 20, 30])\n",
        "  \n",
        "  loss_fn = velasoka.get_ce_loss() #CrossEntropyLoss\n",
        "\n",
        "  #model_summary\n",
        "  velasoka.model_summary(model=net, input_size=(3, 32, 32), device=device)\n",
        "  #start cnn\n",
        "  velasoka.start_cnn(model=net, optimizer=optimizer, loss_fn=loss_fn, data_loader=data_loader, device=device, epochs=epochs, scheduler=scheduler)\n",
        "\n",
        "  #save model\n",
        "  drive_file_path = velasoka.get_drive_path(folder=\"Session-8\", filename=filename)\n",
        "  velasoka.save_model(model=net, path=drive_file_path)"
      ],
      "execution_count": 0,
      "outputs": []
    },
    {
      "cell_type": "markdown",
      "metadata": {
        "id": "GDZ_zfs5sJIj",
        "colab_type": "text"
      },
      "source": [
        "# ResNet18 Github Code"
      ]
    },
    {
      "cell_type": "code",
      "metadata": {
        "id": "lfW2-Nw64P8j",
        "colab_type": "code",
        "colab": {}
      },
      "source": [
        "import torch\n",
        "import torch.nn as nn\n",
        "import torch.nn.functional as F\n",
        "\n",
        "class BasicBlock(nn.Module):\n",
        "    expansion = 1\n",
        "\n",
        "    def __init__(self, in_planes, planes, stride=1):\n",
        "        super(BasicBlock, self).__init__()\n",
        "        self.conv1 = nn.Conv2d(in_planes, planes, kernel_size=3, stride=stride, padding=1, bias=False)\n",
        "        self.bn1 = nn.BatchNorm2d(planes)\n",
        "        self.conv2 = nn.Conv2d(planes, planes, kernel_size=3, stride=1, padding=1, bias=False)\n",
        "        self.bn2 = nn.BatchNorm2d(planes)\n",
        "\n",
        "        self.shortcut = nn.Sequential()\n",
        "        if stride != 1 or in_planes != self.expansion*planes:\n",
        "            self.shortcut = nn.Sequential(\n",
        "                nn.Conv2d(in_planes, self.expansion*planes, kernel_size=1, stride=stride, bias=False),\n",
        "                nn.BatchNorm2d(self.expansion*planes)\n",
        "            )\n",
        "\n",
        "    def forward(self, x):\n",
        "        out = F.relu(self.bn1(self.conv1(x)))\n",
        "        out = self.bn2(self.conv2(out))\n",
        "        out += self.shortcut(x)\n",
        "        out = F.relu(out)\n",
        "        return out"
      ],
      "execution_count": 0,
      "outputs": []
    },
    {
      "cell_type": "code",
      "metadata": {
        "id": "ISvEi51fsL-h",
        "colab_type": "code",
        "colab": {}
      },
      "source": [
        "class ResNet(nn.Module):\n",
        "    def __init__(self, block, num_blocks, num_classes=10):\n",
        "        super(ResNet, self).__init__()\n",
        "        self.in_planes = 64\n",
        "\n",
        "        self.conv1 = nn.Conv2d(3, 64, kernel_size=3, stride=1, padding=1, bias=False)\n",
        "        self.bn1 = nn.BatchNorm2d(64)\n",
        "        self.layer1 = self._make_layer(block, 64, num_blocks[0], stride=1)\n",
        "        self.layer2 = self._make_layer(block, 128, num_blocks[1], stride=2)\n",
        "        self.layer3 = self._make_layer(block, 256, num_blocks[2], stride=2)\n",
        "        self.layer4 = self._make_layer(block, 512, num_blocks[3], stride=2)\n",
        "        self.linear = nn.Linear(512*block.expansion, num_classes)\n",
        "\n",
        "    def _make_layer(self, block, planes, num_blocks, stride):\n",
        "        strides = [stride] + [1]*(num_blocks-1)\n",
        "        layers = []\n",
        "        for stride in strides:\n",
        "            layers.append(block(self.in_planes, planes, stride))\n",
        "            self.in_planes = planes * block.expansion\n",
        "        return nn.Sequential(*layers)\n",
        "\n",
        "    def forward(self, x):\n",
        "        out = F.relu(self.bn1(self.conv1(x)))\n",
        "        out = self.layer1(out)\n",
        "        out = self.layer2(out)\n",
        "        out = self.layer3(out)\n",
        "        out = self.layer4(out)\n",
        "        out = F.avg_pool2d(out, 4)\n",
        "        out = out.view(out.size(0), -1)\n",
        "        out = self.linear(out)\n",
        "        return out"
      ],
      "execution_count": 0,
      "outputs": []
    },
    {
      "cell_type": "markdown",
      "metadata": {
        "colab_type": "text",
        "id": "bGjZC3B-L5ih"
      },
      "source": [
        "# ResNet18 without Linear(FC)"
      ]
    },
    {
      "cell_type": "code",
      "metadata": {
        "colab_type": "code",
        "id": "3Lvbb8HFL5il",
        "colab": {}
      },
      "source": [
        "class ResNet_WOFC(nn.Module):\n",
        "    def __init__(self, block, num_blocks, num_classes=10):\n",
        "        super(ResNet_WOFC, self).__init__()\n",
        "        self.in_planes = 64\n",
        "\n",
        "        self.conv1 = nn.Conv2d(3, 64, kernel_size=3, stride=1, padding=1, bias=False)\n",
        "        self.bn1 = nn.BatchNorm2d(64)\n",
        "        self.layer1 = self._make_layer(block, 64, num_blocks[0], stride=1)\n",
        "        self.layer2 = self._make_layer(block, 128, num_blocks[1], stride=2)\n",
        "        self.layer3 = self._make_layer(block, 256, num_blocks[2], stride=2)\n",
        "        self.layer4 = self._make_layer(block, 512, num_blocks[3], stride=2)\n",
        "        self.conv2 = nn.Conv2d(in_channels=512, out_channels=10, kernel_size=1)\n",
        "\n",
        "    def _make_layer(self, block, planes, num_blocks, stride):\n",
        "        strides = [stride] + [1]*(num_blocks-1)\n",
        "        layers = []\n",
        "        for stride in strides:\n",
        "            layers.append(block(self.in_planes, planes, stride))\n",
        "            self.in_planes = planes * block.expansion\n",
        "        return nn.Sequential(*layers)\n",
        "\n",
        "    def forward(self, x):\n",
        "        out = F.relu(self.bn1(self.conv1(x)))\n",
        "        out = self.layer1(out)\n",
        "        out = self.layer2(out)\n",
        "        out = self.layer3(out)\n",
        "        out = self.layer4(out)\n",
        "        out = F.avg_pool2d(out, 4)\n",
        "        out = self.conv2(out)\n",
        "        out = out.view(-1, 10)\n",
        "        return out"
      ],
      "execution_count": 0,
      "outputs": []
    },
    {
      "cell_type": "markdown",
      "metadata": {
        "colab_type": "text",
        "id": "htf2SSOENBAm"
      },
      "source": [
        "# ResNet18 with Dropout & without Linear(FC)"
      ]
    },
    {
      "cell_type": "code",
      "metadata": {
        "colab_type": "code",
        "id": "VVEkIsnLNBAp",
        "colab": {}
      },
      "source": [
        "class ResNet_WOFC_DO(nn.Module):\n",
        "    def __init__(self, block, num_blocks, num_classes=10):\n",
        "        super(ResNet_WOFC_DO, self).__init__()\n",
        "        self.in_planes = 64\n",
        "\n",
        "        self.conv1 = nn.Conv2d(3, 64, kernel_size=3, stride=1, padding=1, bias=False)\n",
        "        self.bn1 = nn.BatchNorm2d(64)\n",
        "        self.dropout = nn.Dropout2d(p=0.2)\n",
        "        self.layer1 = self._make_layer(block, 64, num_blocks[0], stride=1)\n",
        "        self.layer2 = self._make_layer(block, 128, num_blocks[1], stride=2)\n",
        "        self.layer3 = self._make_layer(block, 256, num_blocks[2], stride=2)\n",
        "        self.layer4 = self._make_layer(block, 512, num_blocks[3], stride=2)\n",
        "        self.conv2 = nn.Conv2d(in_channels=512, out_channels=10, kernel_size=1)\n",
        "\n",
        "    def _make_layer(self, block, planes, num_blocks, stride):\n",
        "        strides = [stride] + [1]*(num_blocks-1)\n",
        "        layers = []\n",
        "        for stride in strides:\n",
        "            layers.append(block(self.in_planes, planes, stride))\n",
        "            self.in_planes = planes * block.expansion\n",
        "        return nn.Sequential(*layers)\n",
        "\n",
        "    def forward(self, x):\n",
        "        out = self.bn1(self.conv1(x))\n",
        "        out = self.dropout(out)\n",
        "        out = F.relu(out)\n",
        "        out = self.layer1(out)\n",
        "        out = self.dropout(out)\n",
        "        out = self.layer2(out)\n",
        "        out = self.dropout(out)\n",
        "        out = self.layer3(out)\n",
        "        out = self.dropout(out)\n",
        "        out = self.layer4(out)\n",
        "        out = self.dropout(out)\n",
        "        out = F.avg_pool2d(out, 4)\n",
        "        out = self.conv2(out)\n",
        "        out = out.view(-1, 10)\n",
        "        return out"
      ],
      "execution_count": 0,
      "outputs": []
    },
    {
      "cell_type": "code",
      "metadata": {
        "id": "9pmOAW0TasHR",
        "colab_type": "code",
        "colab": {}
      },
      "source": [
        ""
      ],
      "execution_count": 0,
      "outputs": []
    },
    {
      "cell_type": "markdown",
      "metadata": {
        "colab_type": "text",
        "id": "RukduEoTas17"
      },
      "source": [
        "# ResNet18 without FC(Linear) :Result"
      ]
    },
    {
      "cell_type": "code",
      "metadata": {
        "colab_type": "code",
        "id": "Iy8l9Rteas19",
        "colab": {}
      },
      "source": [
        "def start_fn():\n",
        "  #model\n",
        "  net = ResNet_WOFC(BasicBlock, [2,2,2,2]).to(device)\n",
        "\n",
        "  #dataset, data_loader\n",
        "  dataset = velasoka.get_cifar10_dataset()\n",
        "  data_loader = velasoka.get_cifar10_data_loader(dataset=dataset)\n",
        "\n",
        "  #optimizer, loss_function\n",
        "  optimizer = velasoka.get_sgd_optimizer(model=net)\n",
        "  loss_fn = velasoka.get_ce_loss() #CrossEntropyLoss\n",
        "\n",
        "  #model_summary\n",
        "  velasoka.model_summary(model=net, input_size=(3, 32, 32), device=device)\n",
        "  #start cnn\n",
        "  velasoka.start_cnn(model=net, optimizer=optimizer, loss_fn=loss_fn, data_loader=data_loader, device=device, epochs=23)\n",
        "\n",
        "  #save model\n",
        "  drive_file_path = velasoka.get_drive_path(folder=\"Session-8\", filename=\"resnet18-wo-fc.pt\")\n",
        "  velasoka.save_model(model=net, path=drive_file_path)"
      ],
      "execution_count": 0,
      "outputs": []
    },
    {
      "cell_type": "code",
      "metadata": {
        "colab_type": "code",
        "outputId": "d0303b9f-4b05-49d7-c5da-8ee95deb9216",
        "id": "pmDgTG4ras1_",
        "colab": {
          "base_uri": "https://localhost:8080/",
          "height": 1000
        }
      },
      "source": [
        "start_fn()"
      ],
      "execution_count": 0,
      "outputs": [
        {
          "output_type": "stream",
          "text": [
            "Files already downloaded and verified\n",
            "Files already downloaded and verified\n"
          ],
          "name": "stdout"
        },
        {
          "output_type": "stream",
          "text": [
            "\r  0%|          | 0/12500 [00:00<?, ?it/s]"
          ],
          "name": "stderr"
        },
        {
          "output_type": "stream",
          "text": [
            "----------------------------------------------------------------\n",
            "        Layer (type)               Output Shape         Param #\n",
            "================================================================\n",
            "            Conv2d-1           [-1, 64, 32, 32]           1,728\n",
            "       BatchNorm2d-2           [-1, 64, 32, 32]             128\n",
            "            Conv2d-3           [-1, 64, 32, 32]          36,864\n",
            "       BatchNorm2d-4           [-1, 64, 32, 32]             128\n",
            "            Conv2d-5           [-1, 64, 32, 32]          36,864\n",
            "       BatchNorm2d-6           [-1, 64, 32, 32]             128\n",
            "        BasicBlock-7           [-1, 64, 32, 32]               0\n",
            "            Conv2d-8           [-1, 64, 32, 32]          36,864\n",
            "       BatchNorm2d-9           [-1, 64, 32, 32]             128\n",
            "           Conv2d-10           [-1, 64, 32, 32]          36,864\n",
            "      BatchNorm2d-11           [-1, 64, 32, 32]             128\n",
            "       BasicBlock-12           [-1, 64, 32, 32]               0\n",
            "           Conv2d-13          [-1, 128, 16, 16]          73,728\n",
            "      BatchNorm2d-14          [-1, 128, 16, 16]             256\n",
            "           Conv2d-15          [-1, 128, 16, 16]         147,456\n",
            "      BatchNorm2d-16          [-1, 128, 16, 16]             256\n",
            "           Conv2d-17          [-1, 128, 16, 16]           8,192\n",
            "      BatchNorm2d-18          [-1, 128, 16, 16]             256\n",
            "       BasicBlock-19          [-1, 128, 16, 16]               0\n",
            "           Conv2d-20          [-1, 128, 16, 16]         147,456\n",
            "      BatchNorm2d-21          [-1, 128, 16, 16]             256\n",
            "           Conv2d-22          [-1, 128, 16, 16]         147,456\n",
            "      BatchNorm2d-23          [-1, 128, 16, 16]             256\n",
            "       BasicBlock-24          [-1, 128, 16, 16]               0\n",
            "           Conv2d-25            [-1, 256, 8, 8]         294,912\n",
            "      BatchNorm2d-26            [-1, 256, 8, 8]             512\n",
            "           Conv2d-27            [-1, 256, 8, 8]         589,824\n",
            "      BatchNorm2d-28            [-1, 256, 8, 8]             512\n",
            "           Conv2d-29            [-1, 256, 8, 8]          32,768\n",
            "      BatchNorm2d-30            [-1, 256, 8, 8]             512\n",
            "       BasicBlock-31            [-1, 256, 8, 8]               0\n",
            "           Conv2d-32            [-1, 256, 8, 8]         589,824\n",
            "      BatchNorm2d-33            [-1, 256, 8, 8]             512\n",
            "           Conv2d-34            [-1, 256, 8, 8]         589,824\n",
            "      BatchNorm2d-35            [-1, 256, 8, 8]             512\n",
            "       BasicBlock-36            [-1, 256, 8, 8]               0\n",
            "           Conv2d-37            [-1, 512, 4, 4]       1,179,648\n",
            "      BatchNorm2d-38            [-1, 512, 4, 4]           1,024\n",
            "           Conv2d-39            [-1, 512, 4, 4]       2,359,296\n",
            "      BatchNorm2d-40            [-1, 512, 4, 4]           1,024\n",
            "           Conv2d-41            [-1, 512, 4, 4]         131,072\n",
            "      BatchNorm2d-42            [-1, 512, 4, 4]           1,024\n",
            "       BasicBlock-43            [-1, 512, 4, 4]               0\n",
            "           Conv2d-44            [-1, 512, 4, 4]       2,359,296\n",
            "      BatchNorm2d-45            [-1, 512, 4, 4]           1,024\n",
            "           Conv2d-46            [-1, 512, 4, 4]       2,359,296\n",
            "      BatchNorm2d-47            [-1, 512, 4, 4]           1,024\n",
            "       BasicBlock-48            [-1, 512, 4, 4]               0\n",
            "           Conv2d-49             [-1, 10, 1, 1]           5,130\n",
            "================================================================\n",
            "Total params: 11,173,962\n",
            "Trainable params: 11,173,962\n",
            "Non-trainable params: 0\n",
            "----------------------------------------------------------------\n",
            "Input size (MB): 0.01\n",
            "Forward/backward pass size (MB): 11.25\n",
            "Params size (MB): 42.63\n",
            "Estimated Total Size (MB): 53.89\n",
            "----------------------------------------------------------------\n",
            "\n",
            "EPOCH: 1\n"
          ],
          "name": "stdout"
        },
        {
          "output_type": "stream",
          "text": [
            "Training Batch=12499, loss=1.72461, Correct Prediction=24857/50000, Train Accuracy=49.71400: 100%|██████████| 12500/12500 [03:40<00:00, 56.73it/s]\n",
            "Test Batch=2499, Correct Validation=6509/10000, Test Accuracy=65.09000: 100%|██████████| 2500/2500 [00:26<00:00, 93.42it/s]\n",
            "  0%|          | 0/12500 [00:00<?, ?it/s]"
          ],
          "name": "stderr"
        },
        {
          "output_type": "stream",
          "text": [
            "\n",
            "EPOCH: 2\n"
          ],
          "name": "stdout"
        },
        {
          "output_type": "stream",
          "text": [
            "Training Batch=12499, loss=0.55235, Correct Prediction=35794/50000, Train Accuracy=71.58800: 100%|██████████| 12500/12500 [03:38<00:00, 57.18it/s]\n",
            "Test Batch=2499, Correct Validation=7721/10000, Test Accuracy=77.21000: 100%|██████████| 2500/2500 [00:26<00:00, 91.49it/s]\n",
            "  0%|          | 0/12500 [00:00<?, ?it/s]"
          ],
          "name": "stderr"
        },
        {
          "output_type": "stream",
          "text": [
            "\n",
            "EPOCH: 3\n"
          ],
          "name": "stdout"
        },
        {
          "output_type": "stream",
          "text": [
            "Training Batch=12499, loss=0.05331, Correct Prediction=39424/50000, Train Accuracy=78.84800: 100%|██████████| 12500/12500 [03:36<00:00, 57.76it/s]\n",
            "Test Batch=2499, Correct Validation=8034/10000, Test Accuracy=80.34000: 100%|██████████| 2500/2500 [00:25<00:00, 97.01it/s] \n",
            "  0%|          | 0/12500 [00:00<?, ?it/s]"
          ],
          "name": "stderr"
        },
        {
          "output_type": "stream",
          "text": [
            "\n",
            "EPOCH: 4\n"
          ],
          "name": "stdout"
        },
        {
          "output_type": "stream",
          "text": [
            "Training Batch=12499, loss=0.09450, Correct Prediction=41984/50000, Train Accuracy=83.96800: 100%|██████████| 12500/12500 [03:36<00:00, 57.68it/s]\n",
            "Test Batch=2499, Correct Validation=8057/10000, Test Accuracy=80.57000: 100%|██████████| 2500/2500 [00:26<00:00, 95.74it/s]\n",
            "  0%|          | 0/12500 [00:00<?, ?it/s]"
          ],
          "name": "stderr"
        },
        {
          "output_type": "stream",
          "text": [
            "\n",
            "EPOCH: 5\n"
          ],
          "name": "stdout"
        },
        {
          "output_type": "stream",
          "text": [
            "Training Batch=12499, loss=0.04864, Correct Prediction=43797/50000, Train Accuracy=87.59400: 100%|██████████| 12500/12500 [03:39<00:00, 56.93it/s]\n",
            "Test Batch=2499, Correct Validation=8185/10000, Test Accuracy=81.85000: 100%|██████████| 2500/2500 [00:26<00:00, 95.09it/s]\n",
            "  0%|          | 0/12500 [00:00<?, ?it/s]"
          ],
          "name": "stderr"
        },
        {
          "output_type": "stream",
          "text": [
            "\n",
            "EPOCH: 6\n"
          ],
          "name": "stdout"
        },
        {
          "output_type": "stream",
          "text": [
            "Training Batch=12499, loss=0.52092, Correct Prediction=45550/50000, Train Accuracy=91.10000: 100%|██████████| 12500/12500 [03:40<00:00, 56.80it/s]\n",
            "Test Batch=2499, Correct Validation=8075/10000, Test Accuracy=80.75000: 100%|██████████| 2500/2500 [00:26<00:00, 94.49it/s]\n",
            "  0%|          | 0/12500 [00:00<?, ?it/s]"
          ],
          "name": "stderr"
        },
        {
          "output_type": "stream",
          "text": [
            "\n",
            "EPOCH: 7\n"
          ],
          "name": "stdout"
        },
        {
          "output_type": "stream",
          "text": [
            "Training Batch=12499, loss=0.11258, Correct Prediction=46735/50000, Train Accuracy=93.47000: 100%|██████████| 12500/12500 [03:37<00:00, 57.53it/s]\n",
            "Test Batch=2499, Correct Validation=8265/10000, Test Accuracy=82.65000: 100%|██████████| 2500/2500 [00:26<00:00, 96.10it/s]\n",
            "  0%|          | 0/12500 [00:00<?, ?it/s]"
          ],
          "name": "stderr"
        },
        {
          "output_type": "stream",
          "text": [
            "\n",
            "EPOCH: 8\n"
          ],
          "name": "stdout"
        },
        {
          "output_type": "stream",
          "text": [
            "Training Batch=12499, loss=0.02139, Correct Prediction=47848/50000, Train Accuracy=95.69600: 100%|██████████| 12500/12500 [03:37<00:00, 57.57it/s]\n",
            "Test Batch=2499, Correct Validation=8168/10000, Test Accuracy=81.68000: 100%|██████████| 2500/2500 [00:26<00:00, 95.89it/s]\n",
            "  0%|          | 0/12500 [00:00<?, ?it/s]"
          ],
          "name": "stderr"
        },
        {
          "output_type": "stream",
          "text": [
            "\n",
            "EPOCH: 9\n"
          ],
          "name": "stdout"
        },
        {
          "output_type": "stream",
          "text": [
            "Training Batch=12499, loss=0.00150, Correct Prediction=48500/50000, Train Accuracy=97.00000: 100%|██████████| 12500/12500 [03:37<00:00, 57.42it/s]\n",
            "Test Batch=2499, Correct Validation=8326/10000, Test Accuracy=83.26000: 100%|██████████| 2500/2500 [00:26<00:00, 95.91it/s]\n",
            "  0%|          | 0/12500 [00:00<?, ?it/s]"
          ],
          "name": "stderr"
        },
        {
          "output_type": "stream",
          "text": [
            "\n",
            "EPOCH: 10\n"
          ],
          "name": "stdout"
        },
        {
          "output_type": "stream",
          "text": [
            "Training Batch=12499, loss=0.16767, Correct Prediction=48998/50000, Train Accuracy=97.99600: 100%|██████████| 12500/12500 [03:37<00:00, 57.60it/s]\n",
            "Test Batch=2499, Correct Validation=8379/10000, Test Accuracy=83.79000: 100%|██████████| 2500/2500 [00:25<00:00, 96.84it/s]\n",
            "  0%|          | 0/12500 [00:00<?, ?it/s]"
          ],
          "name": "stderr"
        },
        {
          "output_type": "stream",
          "text": [
            "\n",
            "EPOCH: 11\n"
          ],
          "name": "stdout"
        },
        {
          "output_type": "stream",
          "text": [
            "Training Batch=12499, loss=0.00911, Correct Prediction=49274/50000, Train Accuracy=98.54800: 100%|██████████| 12500/12500 [03:38<00:00, 57.23it/s]\n",
            "Test Batch=2499, Correct Validation=8364/10000, Test Accuracy=83.64000: 100%|██████████| 2500/2500 [00:26<00:00, 95.06it/s]\n",
            "  0%|          | 0/12500 [00:00<?, ?it/s]"
          ],
          "name": "stderr"
        },
        {
          "output_type": "stream",
          "text": [
            "\n",
            "EPOCH: 12\n"
          ],
          "name": "stdout"
        },
        {
          "output_type": "stream",
          "text": [
            "Training Batch=12499, loss=0.00268, Correct Prediction=49397/50000, Train Accuracy=98.79400: 100%|██████████| 12500/12500 [03:41<00:00, 56.54it/s]\n",
            "Test Batch=2499, Correct Validation=8400/10000, Test Accuracy=84.00000: 100%|██████████| 2500/2500 [00:26<00:00, 99.91it/s]\n",
            "  0%|          | 0/12500 [00:00<?, ?it/s]"
          ],
          "name": "stderr"
        },
        {
          "output_type": "stream",
          "text": [
            "\n",
            "EPOCH: 13\n"
          ],
          "name": "stdout"
        },
        {
          "output_type": "stream",
          "text": [
            "Training Batch=12499, loss=0.00010, Correct Prediction=49641/50000, Train Accuracy=99.28200: 100%|██████████| 12500/12500 [03:37<00:00, 59.39it/s]\n",
            "Test Batch=2499, Correct Validation=8340/10000, Test Accuracy=83.40000: 100%|██████████| 2500/2500 [00:26<00:00, 95.30it/s]\n",
            "  0%|          | 0/12500 [00:00<?, ?it/s]"
          ],
          "name": "stderr"
        },
        {
          "output_type": "stream",
          "text": [
            "\n",
            "EPOCH: 14\n"
          ],
          "name": "stdout"
        },
        {
          "output_type": "stream",
          "text": [
            "Training Batch=12499, loss=0.01969, Correct Prediction=49764/50000, Train Accuracy=99.52800: 100%|██████████| 12500/12500 [03:37<00:00, 57.48it/s]\n",
            "Test Batch=2499, Correct Validation=8464/10000, Test Accuracy=84.64000: 100%|██████████| 2500/2500 [00:26<00:00, 95.29it/s]\n",
            "  0%|          | 0/12500 [00:00<?, ?it/s]"
          ],
          "name": "stderr"
        },
        {
          "output_type": "stream",
          "text": [
            "\n",
            "EPOCH: 15\n"
          ],
          "name": "stdout"
        },
        {
          "output_type": "stream",
          "text": [
            "Training Batch=12499, loss=0.00277, Correct Prediction=49750/50000, Train Accuracy=99.50000: 100%|██████████| 12500/12500 [03:36<00:00, 57.71it/s]\n",
            "Test Batch=2499, Correct Validation=8378/10000, Test Accuracy=83.78000: 100%|██████████| 2500/2500 [00:26<00:00, 94.92it/s]\n",
            "  0%|          | 0/12500 [00:00<?, ?it/s]"
          ],
          "name": "stderr"
        },
        {
          "output_type": "stream",
          "text": [
            "\n",
            "EPOCH: 16\n"
          ],
          "name": "stdout"
        },
        {
          "output_type": "stream",
          "text": [
            "Training Batch=12499, loss=0.00030, Correct Prediction=49835/50000, Train Accuracy=99.67000: 100%|██████████| 12500/12500 [03:38<00:00, 57.30it/s]\n",
            "Test Batch=2499, Correct Validation=8480/10000, Test Accuracy=84.80000: 100%|██████████| 2500/2500 [00:25<00:00, 96.99it/s]\n",
            "  0%|          | 0/12500 [00:00<?, ?it/s]"
          ],
          "name": "stderr"
        },
        {
          "output_type": "stream",
          "text": [
            "\n",
            "EPOCH: 17\n"
          ],
          "name": "stdout"
        },
        {
          "output_type": "stream",
          "text": [
            "Training Batch=12499, loss=0.00082, Correct Prediction=49921/50000, Train Accuracy=99.84200: 100%|██████████| 12500/12500 [03:35<00:00, 57.88it/s]\n",
            "Test Batch=2499, Correct Validation=8455/10000, Test Accuracy=84.55000: 100%|██████████| 2500/2500 [00:25<00:00, 96.49it/s]\n",
            "  0%|          | 0/12500 [00:00<?, ?it/s]"
          ],
          "name": "stderr"
        },
        {
          "output_type": "stream",
          "text": [
            "\n",
            "EPOCH: 18\n"
          ],
          "name": "stdout"
        },
        {
          "output_type": "stream",
          "text": [
            "Training Batch=12499, loss=0.00023, Correct Prediction=49959/50000, Train Accuracy=99.91800: 100%|██████████| 12500/12500 [03:34<00:00, 58.21it/s]\n",
            "Test Batch=2499, Correct Validation=8457/10000, Test Accuracy=84.57000: 100%|██████████| 2500/2500 [00:25<00:00, 96.25it/s] \n",
            "  0%|          | 0/12500 [00:00<?, ?it/s]"
          ],
          "name": "stderr"
        },
        {
          "output_type": "stream",
          "text": [
            "\n",
            "EPOCH: 19\n"
          ],
          "name": "stdout"
        },
        {
          "output_type": "stream",
          "text": [
            "Training Batch=12499, loss=0.07364, Correct Prediction=49909/50000, Train Accuracy=99.81800: 100%|██████████| 12500/12500 [03:35<00:00, 57.89it/s]\n",
            "Test Batch=2499, Correct Validation=8470/10000, Test Accuracy=84.70000: 100%|██████████| 2500/2500 [00:25<00:00, 96.48it/s]\n",
            "  0%|          | 0/12500 [00:00<?, ?it/s]"
          ],
          "name": "stderr"
        },
        {
          "output_type": "stream",
          "text": [
            "\n",
            "EPOCH: 20\n"
          ],
          "name": "stdout"
        },
        {
          "output_type": "stream",
          "text": [
            "Training Batch=12499, loss=0.00014, Correct Prediction=49942/50000, Train Accuracy=99.88400: 100%|██████████| 12500/12500 [03:35<00:00, 57.91it/s]\n",
            "Test Batch=2499, Correct Validation=8466/10000, Test Accuracy=84.66000: 100%|██████████| 2500/2500 [00:25<00:00, 97.11it/s]\n",
            "  0%|          | 0/12500 [00:00<?, ?it/s]"
          ],
          "name": "stderr"
        },
        {
          "output_type": "stream",
          "text": [
            "\n",
            "EPOCH: 21\n"
          ],
          "name": "stdout"
        },
        {
          "output_type": "stream",
          "text": [
            "Training Batch=12499, loss=0.00074, Correct Prediction=49958/50000, Train Accuracy=99.91600: 100%|██████████| 12500/12500 [03:35<00:00, 57.88it/s]\n",
            "Test Batch=2499, Correct Validation=8514/10000, Test Accuracy=85.14000: 100%|██████████| 2500/2500 [00:25<00:00, 96.78it/s] \n",
            "  0%|          | 0/12500 [00:00<?, ?it/s]"
          ],
          "name": "stderr"
        },
        {
          "output_type": "stream",
          "text": [
            "\n",
            "EPOCH: 22\n"
          ],
          "name": "stdout"
        },
        {
          "output_type": "stream",
          "text": [
            "Training Batch=12499, loss=0.00024, Correct Prediction=49978/50000, Train Accuracy=99.95600: 100%|██████████| 12500/12500 [03:37<00:00, 57.48it/s]\n",
            "Test Batch=2499, Correct Validation=8442/10000, Test Accuracy=84.42000: 100%|██████████| 2500/2500 [00:25<00:00, 96.65it/s] \n"
          ],
          "name": "stderr"
        }
      ]
    },
    {
      "cell_type": "code",
      "metadata": {
        "id": "2LuV1c3max8r",
        "colab_type": "code",
        "colab": {}
      },
      "source": [
        ""
      ],
      "execution_count": 0,
      "outputs": []
    },
    {
      "cell_type": "markdown",
      "metadata": {
        "colab_type": "text",
        "id": "deBJCDn3OZHd"
      },
      "source": [
        "# ResNet18 without FC(Linear) & LR schedular :Result"
      ]
    },
    {
      "cell_type": "code",
      "metadata": {
        "colab_type": "code",
        "id": "cbxxItRKOZHe",
        "outputId": "ef16d8d8-5583-450c-e94a-d58e0bda0ea5",
        "colab": {
          "base_uri": "https://localhost:8080/",
          "height": 1000,
          "referenced_widgets": [
            "234635e18aa8437cb34fea5f47458e75",
            "81355cb1fe324e7982416199d13ef4f8",
            "ebadfdde438c49ca8778310d7818613c",
            "d583dffbb11c4e7b8b7b711d4ae93eb1",
            "ad8fa761ff72454690f05b73cd836e18",
            "2bbe89a7a7a045dc91b186e4010c97bc",
            "82d48bc667c94a4bad43cf9f29f147bb",
            "3a1582021a8f4bd7a7bf481c0e310c2a"
          ]
        }
      },
      "source": [
        "model = ResNet_WOFC(BasicBlock, num_blocks=[2,2,2,2]).to(device)\n",
        "run_cnn(model=model, epochs=25, filename=\"resnet18-wo-fc.pt\", scheduler_name=\"multisteplr\")"
      ],
      "execution_count": 0,
      "outputs": [
        {
          "output_type": "stream",
          "text": [
            "Downloading https://www.cs.toronto.edu/~kriz/cifar-10-python.tar.gz to ./data/cifar-10-python.tar.gz\n"
          ],
          "name": "stdout"
        },
        {
          "output_type": "display_data",
          "data": {
            "application/vnd.jupyter.widget-view+json": {
              "model_id": "234635e18aa8437cb34fea5f47458e75",
              "version_minor": 0,
              "version_major": 2
            },
            "text/plain": [
              "HBox(children=(IntProgress(value=1, bar_style='info', max=1), HTML(value='')))"
            ]
          },
          "metadata": {
            "tags": []
          }
        },
        {
          "output_type": "stream",
          "text": [
            "\n",
            "Extracting ./data/cifar-10-python.tar.gz to ./data\n",
            "Files already downloaded and verified\n"
          ],
          "name": "stdout"
        },
        {
          "output_type": "stream",
          "text": [
            "\r  0%|          | 0/12500 [00:00<?, ?it/s]"
          ],
          "name": "stderr"
        },
        {
          "output_type": "stream",
          "text": [
            "----------------------------------------------------------------\n",
            "        Layer (type)               Output Shape         Param #\n",
            "================================================================\n",
            "            Conv2d-1           [-1, 64, 32, 32]           1,728\n",
            "       BatchNorm2d-2           [-1, 64, 32, 32]             128\n",
            "            Conv2d-3           [-1, 64, 32, 32]          36,864\n",
            "       BatchNorm2d-4           [-1, 64, 32, 32]             128\n",
            "            Conv2d-5           [-1, 64, 32, 32]          36,864\n",
            "       BatchNorm2d-6           [-1, 64, 32, 32]             128\n",
            "        BasicBlock-7           [-1, 64, 32, 32]               0\n",
            "            Conv2d-8           [-1, 64, 32, 32]          36,864\n",
            "       BatchNorm2d-9           [-1, 64, 32, 32]             128\n",
            "           Conv2d-10           [-1, 64, 32, 32]          36,864\n",
            "      BatchNorm2d-11           [-1, 64, 32, 32]             128\n",
            "       BasicBlock-12           [-1, 64, 32, 32]               0\n",
            "           Conv2d-13          [-1, 128, 16, 16]          73,728\n",
            "      BatchNorm2d-14          [-1, 128, 16, 16]             256\n",
            "           Conv2d-15          [-1, 128, 16, 16]         147,456\n",
            "      BatchNorm2d-16          [-1, 128, 16, 16]             256\n",
            "           Conv2d-17          [-1, 128, 16, 16]           8,192\n",
            "      BatchNorm2d-18          [-1, 128, 16, 16]             256\n",
            "       BasicBlock-19          [-1, 128, 16, 16]               0\n",
            "           Conv2d-20          [-1, 128, 16, 16]         147,456\n",
            "      BatchNorm2d-21          [-1, 128, 16, 16]             256\n",
            "           Conv2d-22          [-1, 128, 16, 16]         147,456\n",
            "      BatchNorm2d-23          [-1, 128, 16, 16]             256\n",
            "       BasicBlock-24          [-1, 128, 16, 16]               0\n",
            "           Conv2d-25            [-1, 256, 8, 8]         294,912\n",
            "      BatchNorm2d-26            [-1, 256, 8, 8]             512\n",
            "           Conv2d-27            [-1, 256, 8, 8]         589,824\n",
            "      BatchNorm2d-28            [-1, 256, 8, 8]             512\n",
            "           Conv2d-29            [-1, 256, 8, 8]          32,768\n",
            "      BatchNorm2d-30            [-1, 256, 8, 8]             512\n",
            "       BasicBlock-31            [-1, 256, 8, 8]               0\n",
            "           Conv2d-32            [-1, 256, 8, 8]         589,824\n",
            "      BatchNorm2d-33            [-1, 256, 8, 8]             512\n",
            "           Conv2d-34            [-1, 256, 8, 8]         589,824\n",
            "      BatchNorm2d-35            [-1, 256, 8, 8]             512\n",
            "       BasicBlock-36            [-1, 256, 8, 8]               0\n",
            "           Conv2d-37            [-1, 512, 4, 4]       1,179,648\n",
            "      BatchNorm2d-38            [-1, 512, 4, 4]           1,024\n",
            "           Conv2d-39            [-1, 512, 4, 4]       2,359,296\n",
            "      BatchNorm2d-40            [-1, 512, 4, 4]           1,024\n",
            "           Conv2d-41            [-1, 512, 4, 4]         131,072\n",
            "      BatchNorm2d-42            [-1, 512, 4, 4]           1,024\n",
            "       BasicBlock-43            [-1, 512, 4, 4]               0\n",
            "           Conv2d-44            [-1, 512, 4, 4]       2,359,296\n",
            "      BatchNorm2d-45            [-1, 512, 4, 4]           1,024\n",
            "           Conv2d-46            [-1, 512, 4, 4]       2,359,296\n",
            "      BatchNorm2d-47            [-1, 512, 4, 4]           1,024\n",
            "       BasicBlock-48            [-1, 512, 4, 4]               0\n",
            "           Conv2d-49             [-1, 10, 1, 1]           5,130\n",
            "================================================================\n",
            "Total params: 11,173,962\n",
            "Trainable params: 11,173,962\n",
            "Non-trainable params: 0\n",
            "----------------------------------------------------------------\n",
            "Input size (MB): 0.01\n",
            "Forward/backward pass size (MB): 11.25\n",
            "Params size (MB): 42.63\n",
            "Estimated Total Size (MB): 53.89\n",
            "----------------------------------------------------------------\n",
            "\n",
            "EPOCH: 1\n"
          ],
          "name": "stdout"
        },
        {
          "output_type": "stream",
          "text": [
            "Training Batch=12499, loss=1.79418, Correct Prediction=25557/50000, Train Accuracy=51.11400: 100%|██████████| 12500/12500 [04:57<00:00, 42.06it/s]\n",
            "Test Batch=2499, Correct Validation=6649/10000, Test Accuracy=66.49000: 100%|██████████| 2500/2500 [00:35<00:00, 71.14it/s]\n",
            "  0%|          | 0/12500 [00:00<?, ?it/s]"
          ],
          "name": "stderr"
        },
        {
          "output_type": "stream",
          "text": [
            "\n",
            "EPOCH: 2\n"
          ],
          "name": "stdout"
        },
        {
          "output_type": "stream",
          "text": [
            "Training Batch=12499, loss=0.37047, Correct Prediction=35863/50000, Train Accuracy=71.72600: 100%|██████████| 12500/12500 [04:58<00:00, 43.00it/s]\n",
            "Test Batch=2499, Correct Validation=7612/10000, Test Accuracy=76.12000: 100%|██████████| 2500/2500 [00:34<00:00, 71.68it/s]\n",
            "  0%|          | 0/12500 [00:00<?, ?it/s]"
          ],
          "name": "stderr"
        },
        {
          "output_type": "stream",
          "text": [
            "\n",
            "EPOCH: 3\n"
          ],
          "name": "stdout"
        },
        {
          "output_type": "stream",
          "text": [
            "Training Batch=12499, loss=0.06603, Correct Prediction=39353/50000, Train Accuracy=78.70600: 100%|██████████| 12500/12500 [05:09<00:00, 40.40it/s]\n",
            "Test Batch=2499, Correct Validation=8004/10000, Test Accuracy=80.04000: 100%|██████████| 2500/2500 [00:35<00:00, 70.83it/s]\n",
            "  0%|          | 0/12500 [00:00<?, ?it/s]"
          ],
          "name": "stderr"
        },
        {
          "output_type": "stream",
          "text": [
            "\n",
            "EPOCH: 4\n"
          ],
          "name": "stdout"
        },
        {
          "output_type": "stream",
          "text": [
            "Training Batch=12499, loss=0.03649, Correct Prediction=41955/50000, Train Accuracy=83.91000: 100%|██████████| 12500/12500 [05:09<00:00, 40.33it/s]\n",
            "Test Batch=2499, Correct Validation=8125/10000, Test Accuracy=81.25000: 100%|██████████| 2500/2500 [00:34<00:00, 71.98it/s]\n",
            "  0%|          | 0/12500 [00:00<?, ?it/s]"
          ],
          "name": "stderr"
        },
        {
          "output_type": "stream",
          "text": [
            "\n",
            "EPOCH: 5\n"
          ],
          "name": "stdout"
        },
        {
          "output_type": "stream",
          "text": [
            "Training Batch=12499, loss=0.10564, Correct Prediction=43748/50000, Train Accuracy=87.49600: 100%|██████████| 12500/12500 [05:04<00:00, 41.04it/s]\n",
            "Test Batch=2499, Correct Validation=8156/10000, Test Accuracy=81.56000: 100%|██████████| 2500/2500 [00:35<00:00, 71.12it/s]\n",
            "  0%|          | 0/12500 [00:00<?, ?it/s]"
          ],
          "name": "stderr"
        },
        {
          "output_type": "stream",
          "text": [
            "\n",
            "EPOCH: 6\n"
          ],
          "name": "stdout"
        },
        {
          "output_type": "stream",
          "text": [
            "Training Batch=12499, loss=0.21382, Correct Prediction=45462/50000, Train Accuracy=90.92400: 100%|██████████| 12500/12500 [05:03<00:00, 41.19it/s]\n",
            "Test Batch=2499, Correct Validation=8113/10000, Test Accuracy=81.13000: 100%|██████████| 2500/2500 [00:34<00:00, 71.53it/s]\n",
            "  0%|          | 0/12500 [00:00<?, ?it/s]"
          ],
          "name": "stderr"
        },
        {
          "output_type": "stream",
          "text": [
            "\n",
            "EPOCH: 7\n"
          ],
          "name": "stdout"
        },
        {
          "output_type": "stream",
          "text": [
            "Training Batch=12499, loss=0.03650, Correct Prediction=46681/50000, Train Accuracy=93.36200: 100%|██████████| 12500/12500 [05:03<00:00, 41.15it/s]\n",
            "Test Batch=2499, Correct Validation=8235/10000, Test Accuracy=82.35000: 100%|██████████| 2500/2500 [00:35<00:00, 70.81it/s]\n",
            "  0%|          | 0/12500 [00:00<?, ?it/s]"
          ],
          "name": "stderr"
        },
        {
          "output_type": "stream",
          "text": [
            "\n",
            "EPOCH: 8\n"
          ],
          "name": "stdout"
        },
        {
          "output_type": "stream",
          "text": [
            "Training Batch=12499, loss=0.87950, Correct Prediction=47734/50000, Train Accuracy=95.46800: 100%|██████████| 12500/12500 [05:04<00:00, 41.05it/s]\n",
            "Test Batch=2499, Correct Validation=8248/10000, Test Accuracy=82.48000: 100%|██████████| 2500/2500 [00:34<00:00, 72.00it/s]\n",
            "  0%|          | 0/12500 [00:00<?, ?it/s]"
          ],
          "name": "stderr"
        },
        {
          "output_type": "stream",
          "text": [
            "\n",
            "EPOCH: 9\n"
          ],
          "name": "stdout"
        },
        {
          "output_type": "stream",
          "text": [
            "Training Batch=12499, loss=0.00066, Correct Prediction=48487/50000, Train Accuracy=96.97400: 100%|██████████| 12500/12500 [05:04<00:00, 45.21it/s]\n",
            "Test Batch=2499, Correct Validation=8299/10000, Test Accuracy=82.99000: 100%|██████████| 2500/2500 [00:35<00:00, 70.24it/s]\n",
            "  0%|          | 0/12500 [00:00<?, ?it/s]"
          ],
          "name": "stderr"
        },
        {
          "output_type": "stream",
          "text": [
            "\n",
            "EPOCH: 10\n"
          ],
          "name": "stdout"
        },
        {
          "output_type": "stream",
          "text": [
            "Training Batch=12499, loss=0.13251, Correct Prediction=48987/50000, Train Accuracy=97.97400: 100%|██████████| 12500/12500 [05:03<00:00, 41.25it/s]\n",
            "Test Batch=2499, Correct Validation=8137/10000, Test Accuracy=81.37000: 100%|██████████| 2500/2500 [00:35<00:00, 71.42it/s]\n",
            "  0%|          | 0/12500 [00:00<?, ?it/s]"
          ],
          "name": "stderr"
        },
        {
          "output_type": "stream",
          "text": [
            "\n",
            "EPOCH: 11\n"
          ],
          "name": "stdout"
        },
        {
          "output_type": "stream",
          "text": [
            "Training Batch=12499, loss=0.00086, Correct Prediction=49208/50000, Train Accuracy=98.41600: 100%|██████████| 12500/12500 [05:09<00:00, 40.34it/s]\n",
            "Test Batch=2499, Correct Validation=8313/10000, Test Accuracy=83.13000: 100%|██████████| 2500/2500 [00:35<00:00, 74.60it/s]\n",
            "  0%|          | 0/12500 [00:00<?, ?it/s]"
          ],
          "name": "stderr"
        },
        {
          "output_type": "stream",
          "text": [
            "\n",
            "EPOCH: 12\n"
          ],
          "name": "stdout"
        },
        {
          "output_type": "stream",
          "text": [
            "Training Batch=12499, loss=0.00257, Correct Prediction=49499/50000, Train Accuracy=98.99800: 100%|██████████| 12500/12500 [05:14<00:00, 39.69it/s]\n",
            "Test Batch=2499, Correct Validation=8329/10000, Test Accuracy=83.29000: 100%|██████████| 2500/2500 [00:34<00:00, 71.45it/s]\n",
            "  0%|          | 0/12500 [00:00<?, ?it/s]"
          ],
          "name": "stderr"
        },
        {
          "output_type": "stream",
          "text": [
            "\n",
            "EPOCH: 13\n"
          ],
          "name": "stdout"
        },
        {
          "output_type": "stream",
          "text": [
            "Training Batch=12499, loss=0.00177, Correct Prediction=49669/50000, Train Accuracy=99.33800: 100%|██████████| 12500/12500 [05:02<00:00, 41.35it/s]\n",
            "Test Batch=2499, Correct Validation=8078/10000, Test Accuracy=80.78000: 100%|██████████| 2500/2500 [00:34<00:00, 71.56it/s]\n",
            "  0%|          | 0/12500 [00:00<?, ?it/s]"
          ],
          "name": "stderr"
        },
        {
          "output_type": "stream",
          "text": [
            "\n",
            "EPOCH: 14\n"
          ],
          "name": "stdout"
        },
        {
          "output_type": "stream",
          "text": [
            "Training Batch=12499, loss=0.00058, Correct Prediction=49699/50000, Train Accuracy=99.39800: 100%|██████████| 12500/12500 [05:04<00:00, 38.61it/s]\n",
            "Test Batch=2499, Correct Validation=8358/10000, Test Accuracy=83.58000: 100%|██████████| 2500/2500 [00:34<00:00, 72.99it/s]\n",
            "  0%|          | 0/12500 [00:00<?, ?it/s]"
          ],
          "name": "stderr"
        },
        {
          "output_type": "stream",
          "text": [
            "\n",
            "EPOCH: 15\n"
          ],
          "name": "stdout"
        },
        {
          "output_type": "stream",
          "text": [
            "Training Batch=12499, loss=0.00339, Correct Prediction=49789/50000, Train Accuracy=99.57800: 100%|██████████| 12500/12500 [05:01<00:00, 41.51it/s]\n",
            "Test Batch=2499, Correct Validation=8338/10000, Test Accuracy=83.38000: 100%|██████████| 2500/2500 [00:35<00:00, 71.31it/s]\n",
            "  0%|          | 0/12500 [00:00<?, ?it/s]"
          ],
          "name": "stderr"
        },
        {
          "output_type": "stream",
          "text": [
            "\n",
            "EPOCH: 16\n"
          ],
          "name": "stdout"
        },
        {
          "output_type": "stream",
          "text": [
            "Training Batch=12499, loss=0.00604, Correct Prediction=49870/50000, Train Accuracy=99.74000: 100%|██████████| 12500/12500 [05:02<00:00, 41.27it/s]\n",
            "Test Batch=2499, Correct Validation=8408/10000, Test Accuracy=84.08000: 100%|██████████| 2500/2500 [00:35<00:00, 71.42it/s]\n",
            "  0%|          | 0/12500 [00:00<?, ?it/s]"
          ],
          "name": "stderr"
        },
        {
          "output_type": "stream",
          "text": [
            "\n",
            "EPOCH: 17\n"
          ],
          "name": "stdout"
        },
        {
          "output_type": "stream",
          "text": [
            "Training Batch=12499, loss=0.01135, Correct Prediction=49922/50000, Train Accuracy=99.84400: 100%|██████████| 12500/12500 [04:56<00:00, 42.19it/s]\n",
            "Test Batch=2499, Correct Validation=8442/10000, Test Accuracy=84.42000: 100%|██████████| 2500/2500 [00:34<00:00, 72.10it/s]\n",
            "  0%|          | 0/12500 [00:00<?, ?it/s]"
          ],
          "name": "stderr"
        },
        {
          "output_type": "stream",
          "text": [
            "\n",
            "EPOCH: 18\n"
          ],
          "name": "stdout"
        },
        {
          "output_type": "stream",
          "text": [
            "Training Batch=12499, loss=0.00806, Correct Prediction=49901/50000, Train Accuracy=99.80200: 100%|██████████| 12500/12500 [05:01<00:00, 41.46it/s]\n",
            "Test Batch=2499, Correct Validation=8440/10000, Test Accuracy=84.40000: 100%|██████████| 2500/2500 [00:34<00:00, 71.98it/s]\n",
            "  0%|          | 0/12500 [00:00<?, ?it/s]"
          ],
          "name": "stderr"
        },
        {
          "output_type": "stream",
          "text": [
            "\n",
            "EPOCH: 19\n"
          ],
          "name": "stdout"
        },
        {
          "output_type": "stream",
          "text": [
            "Training Batch=12499, loss=0.00011, Correct Prediction=49924/50000, Train Accuracy=99.84800: 100%|██████████| 12500/12500 [05:04<00:00, 41.12it/s]\n",
            "Test Batch=2499, Correct Validation=8459/10000, Test Accuracy=84.59000: 100%|██████████| 2500/2500 [00:34<00:00, 72.83it/s]\n",
            "  0%|          | 0/12500 [00:00<?, ?it/s]"
          ],
          "name": "stderr"
        },
        {
          "output_type": "stream",
          "text": [
            "\n",
            "EPOCH: 20\n"
          ],
          "name": "stdout"
        },
        {
          "output_type": "stream",
          "text": [
            "Training Batch=12499, loss=0.00007, Correct Prediction=49948/50000, Train Accuracy=99.89600: 100%|██████████| 12500/12500 [05:01<00:00, 41.40it/s]\n",
            "Test Batch=2499, Correct Validation=8442/10000, Test Accuracy=84.42000: 100%|██████████| 2500/2500 [00:34<00:00, 72.17it/s]\n",
            "  0%|          | 0/12500 [00:00<?, ?it/s]"
          ],
          "name": "stderr"
        },
        {
          "output_type": "stream",
          "text": [
            "\n",
            "EPOCH: 21\n"
          ],
          "name": "stdout"
        },
        {
          "output_type": "stream",
          "text": [
            "Training Batch=12499, loss=0.00008, Correct Prediction=49952/50000, Train Accuracy=99.90400: 100%|██████████| 12500/12500 [05:00<00:00, 39.17it/s]\n",
            "Test Batch=2499, Correct Validation=8334/10000, Test Accuracy=83.34000: 100%|██████████| 2500/2500 [00:34<00:00, 73.18it/s]\n",
            "  0%|          | 0/12500 [00:00<?, ?it/s]"
          ],
          "name": "stderr"
        },
        {
          "output_type": "stream",
          "text": [
            "\n",
            "EPOCH: 22\n"
          ],
          "name": "stdout"
        },
        {
          "output_type": "stream",
          "text": [
            "Training Batch=12499, loss=0.00596, Correct Prediction=49977/50000, Train Accuracy=99.95400: 100%|██████████| 12500/12500 [05:09<00:00, 40.41it/s]\n",
            "Test Batch=2499, Correct Validation=8507/10000, Test Accuracy=85.07000: 100%|██████████| 2500/2500 [00:34<00:00, 71.95it/s]\n",
            "  0%|          | 0/12500 [00:00<?, ?it/s]"
          ],
          "name": "stderr"
        },
        {
          "output_type": "stream",
          "text": [
            "\n",
            "EPOCH: 23\n"
          ],
          "name": "stdout"
        },
        {
          "output_type": "stream",
          "text": [
            "Training Batch=12499, loss=0.00007, Correct Prediction=49961/50000, Train Accuracy=99.92200: 100%|██████████| 12500/12500 [05:06<00:00, 40.82it/s]\n",
            "Test Batch=2499, Correct Validation=8527/10000, Test Accuracy=85.27000: 100%|██████████| 2500/2500 [00:34<00:00, 72.43it/s]\n",
            "  0%|          | 0/12500 [00:00<?, ?it/s]"
          ],
          "name": "stderr"
        },
        {
          "output_type": "stream",
          "text": [
            "\n",
            "EPOCH: 24\n"
          ],
          "name": "stdout"
        },
        {
          "output_type": "stream",
          "text": [
            "Training Batch=12499, loss=0.00030, Correct Prediction=49987/50000, Train Accuracy=99.97400: 100%|██████████| 12500/12500 [05:04<00:00, 41.01it/s]\n",
            "Test Batch=2499, Correct Validation=8498/10000, Test Accuracy=84.98000: 100%|██████████| 2500/2500 [00:34<00:00, 71.75it/s]\n",
            "  0%|          | 0/12500 [00:00<?, ?it/s]"
          ],
          "name": "stderr"
        },
        {
          "output_type": "stream",
          "text": [
            "\n",
            "EPOCH: 25\n"
          ],
          "name": "stdout"
        },
        {
          "output_type": "stream",
          "text": [
            "Training Batch=12499, loss=0.00008, Correct Prediction=49991/50000, Train Accuracy=99.98200: 100%|██████████| 12500/12500 [05:04<00:00, 41.04it/s]\n",
            "Test Batch=2499, Correct Validation=8499/10000, Test Accuracy=84.99000: 100%|██████████| 2500/2500 [00:34<00:00, 71.49it/s]\n"
          ],
          "name": "stderr"
        }
      ]
    },
    {
      "cell_type": "code",
      "metadata": {
        "id": "LyEt2wKpTR2O",
        "colab_type": "code",
        "colab": {}
      },
      "source": [
        ""
      ],
      "execution_count": 0,
      "outputs": []
    },
    {
      "cell_type": "markdown",
      "metadata": {
        "colab_type": "text",
        "id": "jwhoizMHU6YF"
      },
      "source": [
        "# ResNet18 without FC(Linear), with Dropout :Result"
      ]
    },
    {
      "cell_type": "code",
      "metadata": {
        "colab_type": "code",
        "id": "JGJHJg9vU6YO",
        "outputId": "565fc2d8-9468-4a3b-cb71-18ad0ca9bb63",
        "colab": {
          "base_uri": "https://localhost:8080/",
          "height": 1000
        }
      },
      "source": [
        "model = ResNet_WOFC_DO(BasicBlock, num_blocks=[2,2,2,2]).to(device)\n",
        "run_cnn(model=model, epochs=25, filename=\"resnet18-wo-fc-do-steplr.pt\", scheduler_name=\"steplr\")"
      ],
      "execution_count": 0,
      "outputs": [
        {
          "output_type": "stream",
          "text": [
            "Files already downloaded and verified\n",
            "Files already downloaded and verified\n"
          ],
          "name": "stdout"
        },
        {
          "output_type": "stream",
          "text": [
            "\r  0%|          | 0/12500 [00:00<?, ?it/s]"
          ],
          "name": "stderr"
        },
        {
          "output_type": "stream",
          "text": [
            "----------------------------------------------------------------\n",
            "        Layer (type)               Output Shape         Param #\n",
            "================================================================\n",
            "            Conv2d-1           [-1, 64, 32, 32]           1,728\n",
            "       BatchNorm2d-2           [-1, 64, 32, 32]             128\n",
            "         Dropout2d-3           [-1, 64, 32, 32]               0\n",
            "            Conv2d-4           [-1, 64, 32, 32]          36,864\n",
            "       BatchNorm2d-5           [-1, 64, 32, 32]             128\n",
            "            Conv2d-6           [-1, 64, 32, 32]          36,864\n",
            "       BatchNorm2d-7           [-1, 64, 32, 32]             128\n",
            "        BasicBlock-8           [-1, 64, 32, 32]               0\n",
            "            Conv2d-9           [-1, 64, 32, 32]          36,864\n",
            "      BatchNorm2d-10           [-1, 64, 32, 32]             128\n",
            "           Conv2d-11           [-1, 64, 32, 32]          36,864\n",
            "      BatchNorm2d-12           [-1, 64, 32, 32]             128\n",
            "       BasicBlock-13           [-1, 64, 32, 32]               0\n",
            "        Dropout2d-14           [-1, 64, 32, 32]               0\n",
            "           Conv2d-15          [-1, 128, 16, 16]          73,728\n",
            "      BatchNorm2d-16          [-1, 128, 16, 16]             256\n",
            "           Conv2d-17          [-1, 128, 16, 16]         147,456\n",
            "      BatchNorm2d-18          [-1, 128, 16, 16]             256\n",
            "           Conv2d-19          [-1, 128, 16, 16]           8,192\n",
            "      BatchNorm2d-20          [-1, 128, 16, 16]             256\n",
            "       BasicBlock-21          [-1, 128, 16, 16]               0\n",
            "           Conv2d-22          [-1, 128, 16, 16]         147,456\n",
            "      BatchNorm2d-23          [-1, 128, 16, 16]             256\n",
            "           Conv2d-24          [-1, 128, 16, 16]         147,456\n",
            "      BatchNorm2d-25          [-1, 128, 16, 16]             256\n",
            "       BasicBlock-26          [-1, 128, 16, 16]               0\n",
            "        Dropout2d-27          [-1, 128, 16, 16]               0\n",
            "           Conv2d-28            [-1, 256, 8, 8]         294,912\n",
            "      BatchNorm2d-29            [-1, 256, 8, 8]             512\n",
            "           Conv2d-30            [-1, 256, 8, 8]         589,824\n",
            "      BatchNorm2d-31            [-1, 256, 8, 8]             512\n",
            "           Conv2d-32            [-1, 256, 8, 8]          32,768\n",
            "      BatchNorm2d-33            [-1, 256, 8, 8]             512\n",
            "       BasicBlock-34            [-1, 256, 8, 8]               0\n",
            "           Conv2d-35            [-1, 256, 8, 8]         589,824\n",
            "      BatchNorm2d-36            [-1, 256, 8, 8]             512\n",
            "           Conv2d-37            [-1, 256, 8, 8]         589,824\n",
            "      BatchNorm2d-38            [-1, 256, 8, 8]             512\n",
            "       BasicBlock-39            [-1, 256, 8, 8]               0\n",
            "        Dropout2d-40            [-1, 256, 8, 8]               0\n",
            "           Conv2d-41            [-1, 512, 4, 4]       1,179,648\n",
            "      BatchNorm2d-42            [-1, 512, 4, 4]           1,024\n",
            "           Conv2d-43            [-1, 512, 4, 4]       2,359,296\n",
            "      BatchNorm2d-44            [-1, 512, 4, 4]           1,024\n",
            "           Conv2d-45            [-1, 512, 4, 4]         131,072\n",
            "      BatchNorm2d-46            [-1, 512, 4, 4]           1,024\n",
            "       BasicBlock-47            [-1, 512, 4, 4]               0\n",
            "           Conv2d-48            [-1, 512, 4, 4]       2,359,296\n",
            "      BatchNorm2d-49            [-1, 512, 4, 4]           1,024\n",
            "           Conv2d-50            [-1, 512, 4, 4]       2,359,296\n",
            "      BatchNorm2d-51            [-1, 512, 4, 4]           1,024\n",
            "       BasicBlock-52            [-1, 512, 4, 4]               0\n",
            "        Dropout2d-53            [-1, 512, 4, 4]               0\n",
            "           Conv2d-54             [-1, 10, 1, 1]           5,130\n",
            "================================================================\n",
            "Total params: 11,173,962\n",
            "Trainable params: 11,173,962\n",
            "Non-trainable params: 0\n",
            "----------------------------------------------------------------\n",
            "Input size (MB): 0.01\n",
            "Forward/backward pass size (MB): 12.69\n",
            "Params size (MB): 42.63\n",
            "Estimated Total Size (MB): 55.32\n",
            "----------------------------------------------------------------\n",
            "\n",
            "EPOCH: 1\n"
          ],
          "name": "stdout"
        },
        {
          "output_type": "stream",
          "text": [
            "Training Batch=12499, loss=1.69064, Correct Prediction=19102/50000, Train Accuracy=38.20400: 100%|██████████| 12500/12500 [04:53<00:00, 44.06it/s]\n",
            "Test Batch=2499, Correct Validation=5227/10000, Test Accuracy=52.27000: 100%|██████████| 2500/2500 [00:33<00:00, 75.30it/s]\n",
            "  0%|          | 0/12500 [00:00<?, ?it/s]"
          ],
          "name": "stderr"
        },
        {
          "output_type": "stream",
          "text": [
            "\n",
            "EPOCH: 2\n"
          ],
          "name": "stdout"
        },
        {
          "output_type": "stream",
          "text": [
            "Training Batch=12499, loss=1.23041, Correct Prediction=29114/50000, Train Accuracy=58.22800: 100%|██████████| 12500/12500 [04:44<00:00, 43.93it/s]\n",
            "Test Batch=2499, Correct Validation=6952/10000, Test Accuracy=69.52000: 100%|██████████| 2500/2500 [00:33<00:00, 75.13it/s]\n",
            "  0%|          | 0/12500 [00:00<?, ?it/s]"
          ],
          "name": "stderr"
        },
        {
          "output_type": "stream",
          "text": [
            "\n",
            "EPOCH: 3\n"
          ],
          "name": "stdout"
        },
        {
          "output_type": "stream",
          "text": [
            "Training Batch=12499, loss=0.69485, Correct Prediction=33731/50000, Train Accuracy=67.46200: 100%|██████████| 12500/12500 [04:42<00:00, 46.87it/s]\n",
            "Test Batch=2499, Correct Validation=7548/10000, Test Accuracy=75.48000: 100%|██████████| 2500/2500 [00:33<00:00, 74.78it/s]\n",
            "  0%|          | 0/12500 [00:00<?, ?it/s]"
          ],
          "name": "stderr"
        },
        {
          "output_type": "stream",
          "text": [
            "\n",
            "EPOCH: 4\n"
          ],
          "name": "stdout"
        },
        {
          "output_type": "stream",
          "text": [
            "Training Batch=12499, loss=0.53182, Correct Prediction=36565/50000, Train Accuracy=73.13000: 100%|██████████| 12500/12500 [04:39<00:00, 44.79it/s]\n",
            "Test Batch=2499, Correct Validation=7819/10000, Test Accuracy=78.19000: 100%|██████████| 2500/2500 [00:32<00:00, 76.42it/s]\n",
            "  0%|          | 0/12500 [00:00<?, ?it/s]"
          ],
          "name": "stderr"
        },
        {
          "output_type": "stream",
          "text": [
            "\n",
            "EPOCH: 5\n"
          ],
          "name": "stdout"
        },
        {
          "output_type": "stream",
          "text": [
            "Training Batch=12499, loss=0.10395, Correct Prediction=38471/50000, Train Accuracy=76.94200: 100%|██████████| 12500/12500 [04:39<00:00, 44.69it/s]\n",
            "Test Batch=2499, Correct Validation=7907/10000, Test Accuracy=79.07000: 100%|██████████| 2500/2500 [00:32<00:00, 76.28it/s]\n",
            "  0%|          | 0/12500 [00:00<?, ?it/s]"
          ],
          "name": "stderr"
        },
        {
          "output_type": "stream",
          "text": [
            "\n",
            "EPOCH: 6\n"
          ],
          "name": "stdout"
        },
        {
          "output_type": "stream",
          "text": [
            "Training Batch=12499, loss=0.86942, Correct Prediction=40271/50000, Train Accuracy=80.54200: 100%|██████████| 12500/12500 [04:44<00:00, 44.00it/s]\n",
            "Test Batch=2499, Correct Validation=8131/10000, Test Accuracy=81.31000: 100%|██████████| 2500/2500 [00:32<00:00, 75.85it/s]\n",
            "  0%|          | 0/12500 [00:00<?, ?it/s]"
          ],
          "name": "stderr"
        },
        {
          "output_type": "stream",
          "text": [
            "\n",
            "EPOCH: 7\n"
          ],
          "name": "stdout"
        },
        {
          "output_type": "stream",
          "text": [
            "Training Batch=12499, loss=0.42337, Correct Prediction=41375/50000, Train Accuracy=82.75000: 100%|██████████| 12500/12500 [04:41<00:00, 44.44it/s]\n",
            "Test Batch=2499, Correct Validation=8217/10000, Test Accuracy=82.17000: 100%|██████████| 2500/2500 [00:32<00:00, 76.92it/s]\n",
            "  0%|          | 0/12500 [00:00<?, ?it/s]"
          ],
          "name": "stderr"
        },
        {
          "output_type": "stream",
          "text": [
            "\n",
            "EPOCH: 8\n"
          ],
          "name": "stdout"
        },
        {
          "output_type": "stream",
          "text": [
            "Training Batch=12499, loss=0.29847, Correct Prediction=42663/50000, Train Accuracy=85.32600: 100%|██████████| 12500/12500 [04:39<00:00, 44.75it/s]\n",
            "Test Batch=2499, Correct Validation=8279/10000, Test Accuracy=82.79000: 100%|██████████| 2500/2500 [00:33<00:00, 75.63it/s]\n",
            "  0%|          | 0/12500 [00:00<?, ?it/s]"
          ],
          "name": "stderr"
        },
        {
          "output_type": "stream",
          "text": [
            "\n",
            "EPOCH: 9\n"
          ],
          "name": "stdout"
        },
        {
          "output_type": "stream",
          "text": [
            "Training Batch=12499, loss=0.08541, Correct Prediction=43590/50000, Train Accuracy=87.18000: 100%|██████████| 12500/12500 [04:39<00:00, 44.77it/s]\n",
            "Test Batch=2499, Correct Validation=8303/10000, Test Accuracy=83.03000: 100%|██████████| 2500/2500 [00:32<00:00, 76.09it/s]\n",
            "  0%|          | 0/12500 [00:00<?, ?it/s]"
          ],
          "name": "stderr"
        },
        {
          "output_type": "stream",
          "text": [
            "\n",
            "EPOCH: 10\n"
          ],
          "name": "stdout"
        },
        {
          "output_type": "stream",
          "text": [
            "Training Batch=12499, loss=1.26437, Correct Prediction=44400/50000, Train Accuracy=88.80000: 100%|██████████| 12500/12500 [04:38<00:00, 44.91it/s]\n",
            "Test Batch=2499, Correct Validation=8264/10000, Test Accuracy=82.64000: 100%|██████████| 2500/2500 [00:32<00:00, 75.89it/s]\n",
            "  0%|          | 0/12500 [00:00<?, ?it/s]"
          ],
          "name": "stderr"
        },
        {
          "output_type": "stream",
          "text": [
            "\n",
            "EPOCH: 11\n"
          ],
          "name": "stdout"
        },
        {
          "output_type": "stream",
          "text": [
            "Training Batch=12499, loss=0.15372, Correct Prediction=45373/50000, Train Accuracy=90.74600: 100%|██████████| 12500/12500 [04:37<00:00, 45.10it/s]\n",
            "Test Batch=2499, Correct Validation=8404/10000, Test Accuracy=84.04000: 100%|██████████| 2500/2500 [00:32<00:00, 76.71it/s]\n",
            "  0%|          | 0/12500 [00:00<?, ?it/s]"
          ],
          "name": "stderr"
        },
        {
          "output_type": "stream",
          "text": [
            "\n",
            "EPOCH: 12\n"
          ],
          "name": "stdout"
        },
        {
          "output_type": "stream",
          "text": [
            "Training Batch=12499, loss=0.09858, Correct Prediction=46026/50000, Train Accuracy=92.05200: 100%|██████████| 12500/12500 [04:44<00:00, 44.00it/s]\n",
            "Test Batch=2499, Correct Validation=8293/10000, Test Accuracy=82.93000: 100%|██████████| 2500/2500 [00:32<00:00, 77.49it/s]\n",
            "  0%|          | 0/12500 [00:00<?, ?it/s]"
          ],
          "name": "stderr"
        },
        {
          "output_type": "stream",
          "text": [
            "\n",
            "EPOCH: 13\n"
          ],
          "name": "stdout"
        },
        {
          "output_type": "stream",
          "text": [
            "Training Batch=12499, loss=0.00203, Correct Prediction=46682/50000, Train Accuracy=93.36400: 100%|██████████| 12500/12500 [04:34<00:00, 45.57it/s]\n",
            "Test Batch=2499, Correct Validation=8341/10000, Test Accuracy=83.41000: 100%|██████████| 2500/2500 [00:32<00:00, 76.40it/s]\n",
            "  0%|          | 0/12500 [00:00<?, ?it/s]"
          ],
          "name": "stderr"
        },
        {
          "output_type": "stream",
          "text": [
            "\n",
            "EPOCH: 14\n"
          ],
          "name": "stdout"
        },
        {
          "output_type": "stream",
          "text": [
            "Training Batch=12499, loss=0.71901, Correct Prediction=47141/50000, Train Accuracy=94.28200: 100%|██████████| 12500/12500 [04:33<00:00, 45.71it/s]\n",
            "Test Batch=2499, Correct Validation=8406/10000, Test Accuracy=84.06000: 100%|██████████| 2500/2500 [00:32<00:00, 78.03it/s]\n",
            "  0%|          | 0/12500 [00:00<?, ?it/s]"
          ],
          "name": "stderr"
        },
        {
          "output_type": "stream",
          "text": [
            "\n",
            "EPOCH: 15\n"
          ],
          "name": "stdout"
        },
        {
          "output_type": "stream",
          "text": [
            "Training Batch=12499, loss=0.05412, Correct Prediction=47657/50000, Train Accuracy=95.31400: 100%|██████████| 12500/12500 [04:33<00:00, 45.78it/s]\n",
            "Test Batch=2499, Correct Validation=8338/10000, Test Accuracy=83.38000: 100%|██████████| 2500/2500 [00:32<00:00, 76.34it/s]\n",
            "  0%|          | 0/12500 [00:00<?, ?it/s]"
          ],
          "name": "stderr"
        },
        {
          "output_type": "stream",
          "text": [
            "\n",
            "EPOCH: 16\n"
          ],
          "name": "stdout"
        },
        {
          "output_type": "stream",
          "text": [
            "Training Batch=12499, loss=0.16897, Correct Prediction=48042/50000, Train Accuracy=96.08400: 100%|██████████| 12500/12500 [04:33<00:00, 45.73it/s]\n",
            "Test Batch=2499, Correct Validation=8324/10000, Test Accuracy=83.24000: 100%|██████████| 2500/2500 [00:31<00:00, 78.21it/s]\n",
            "  0%|          | 0/12500 [00:00<?, ?it/s]"
          ],
          "name": "stderr"
        },
        {
          "output_type": "stream",
          "text": [
            "\n",
            "EPOCH: 17\n"
          ],
          "name": "stdout"
        },
        {
          "output_type": "stream",
          "text": [
            "Training Batch=12499, loss=0.05296, Correct Prediction=48425/50000, Train Accuracy=96.85000: 100%|██████████| 12500/12500 [04:33<00:00, 47.18it/s]\n",
            "Test Batch=2499, Correct Validation=8374/10000, Test Accuracy=83.74000: 100%|██████████| 2500/2500 [00:31<00:00, 78.31it/s]\n",
            "  0%|          | 0/12500 [00:00<?, ?it/s]"
          ],
          "name": "stderr"
        },
        {
          "output_type": "stream",
          "text": [
            "\n",
            "EPOCH: 18\n"
          ],
          "name": "stdout"
        },
        {
          "output_type": "stream",
          "text": [
            "Training Batch=12499, loss=0.00136, Correct Prediction=48638/50000, Train Accuracy=97.27600: 100%|██████████| 12500/12500 [04:36<00:00, 45.17it/s]\n",
            "Test Batch=2499, Correct Validation=8357/10000, Test Accuracy=83.57000: 100%|██████████| 2500/2500 [00:32<00:00, 77.52it/s]\n",
            "  0%|          | 0/12500 [00:00<?, ?it/s]"
          ],
          "name": "stderr"
        },
        {
          "output_type": "stream",
          "text": [
            "\n",
            "EPOCH: 19\n"
          ],
          "name": "stdout"
        },
        {
          "output_type": "stream",
          "text": [
            "Training Batch=12499, loss=0.52538, Correct Prediction=48760/50000, Train Accuracy=97.52000: 100%|██████████| 12500/12500 [04:33<00:00, 45.65it/s]\n",
            "Test Batch=2499, Correct Validation=8415/10000, Test Accuracy=84.15000: 100%|██████████| 2500/2500 [00:32<00:00, 77.95it/s]\n",
            "  0%|          | 0/12500 [00:00<?, ?it/s]"
          ],
          "name": "stderr"
        },
        {
          "output_type": "stream",
          "text": [
            "\n",
            "EPOCH: 20\n"
          ],
          "name": "stdout"
        },
        {
          "output_type": "stream",
          "text": [
            "Training Batch=12499, loss=0.00141, Correct Prediction=48963/50000, Train Accuracy=97.92600: 100%|██████████| 12500/12500 [04:31<00:00, 46.04it/s]\n",
            "Test Batch=2499, Correct Validation=8379/10000, Test Accuracy=83.79000: 100%|██████████| 2500/2500 [00:31<00:00, 79.61it/s]\n",
            "  0%|          | 0/12500 [00:00<?, ?it/s]"
          ],
          "name": "stderr"
        },
        {
          "output_type": "stream",
          "text": [
            "\n",
            "EPOCH: 21\n"
          ],
          "name": "stdout"
        },
        {
          "output_type": "stream",
          "text": [
            "Training Batch=12499, loss=0.00018, Correct Prediction=48997/50000, Train Accuracy=97.99400: 100%|██████████| 12500/12500 [04:30<00:00, 46.23it/s]\n",
            "Test Batch=2499, Correct Validation=8396/10000, Test Accuracy=83.96000: 100%|██████████| 2500/2500 [00:31<00:00, 78.29it/s]\n",
            "  0%|          | 0/12500 [00:00<?, ?it/s]"
          ],
          "name": "stderr"
        },
        {
          "output_type": "stream",
          "text": [
            "\n",
            "EPOCH: 22\n"
          ],
          "name": "stdout"
        },
        {
          "output_type": "stream",
          "text": [
            "Training Batch=12499, loss=0.00646, Correct Prediction=49154/50000, Train Accuracy=98.30800: 100%|██████████| 12500/12500 [04:29<00:00, 46.46it/s]\n",
            "Test Batch=2499, Correct Validation=8416/10000, Test Accuracy=84.16000: 100%|██████████| 2500/2500 [00:32<00:00, 78.02it/s]\n",
            "  0%|          | 0/12500 [00:00<?, ?it/s]"
          ],
          "name": "stderr"
        },
        {
          "output_type": "stream",
          "text": [
            "\n",
            "EPOCH: 23\n"
          ],
          "name": "stdout"
        },
        {
          "output_type": "stream",
          "text": [
            "Training Batch=12499, loss=0.00310, Correct Prediction=49315/50000, Train Accuracy=98.63000: 100%|██████████| 12500/12500 [04:28<00:00, 46.58it/s]\n",
            "Test Batch=2499, Correct Validation=8465/10000, Test Accuracy=84.65000: 100%|██████████| 2500/2500 [00:32<00:00, 77.83it/s]\n",
            "  0%|          | 0/12500 [00:00<?, ?it/s]"
          ],
          "name": "stderr"
        },
        {
          "output_type": "stream",
          "text": [
            "\n",
            "EPOCH: 24\n"
          ],
          "name": "stdout"
        },
        {
          "output_type": "stream",
          "text": [
            "Training Batch=12499, loss=0.00034, Correct Prediction=49305/50000, Train Accuracy=98.61000: 100%|██████████| 12500/12500 [04:37<00:00, 45.12it/s]\n",
            "Test Batch=2499, Correct Validation=8459/10000, Test Accuracy=84.59000: 100%|██████████| 2500/2500 [00:33<00:00, 74.47it/s]\n",
            "  0%|          | 0/12500 [00:00<?, ?it/s]"
          ],
          "name": "stderr"
        },
        {
          "output_type": "stream",
          "text": [
            "\n",
            "EPOCH: 25\n"
          ],
          "name": "stdout"
        },
        {
          "output_type": "stream",
          "text": [
            "Training Batch=12499, loss=0.00300, Correct Prediction=49411/50000, Train Accuracy=98.82200: 100%|██████████| 12500/12500 [04:41<00:00, 44.40it/s]\n",
            "Test Batch=2499, Correct Validation=8494/10000, Test Accuracy=84.94000: 100%|██████████| 2500/2500 [00:32<00:00, 76.23it/s]\n"
          ],
          "name": "stderr"
        }
      ]
    },
    {
      "cell_type": "code",
      "metadata": {
        "id": "0K7M5JnKU7ki",
        "colab_type": "code",
        "colab": {}
      },
      "source": [
        ""
      ],
      "execution_count": 0,
      "outputs": []
    },
    {
      "cell_type": "markdown",
      "metadata": {
        "id": "J6DKD9wLN7ij",
        "colab_type": "text"
      },
      "source": [
        "# ResNet18 without FC(Linear) :Result"
      ]
    },
    {
      "cell_type": "code",
      "metadata": {
        "id": "bKHwU3UqNDCE",
        "colab_type": "code",
        "outputId": "953088a2-cb52-49fb-fe04-9d4509f14a46",
        "colab": {
          "base_uri": "https://localhost:8080/",
          "height": 1000
        }
      },
      "source": [
        "model = ResNet_WOFC_DO(BasicBlock, num_blocks=[2,2,2,2]).to(device)\n",
        "run_cnn(model=model, epochs=25, filename=\"resnet18-wo-fc-steplr.pt\", scheduler_name=\"steplr\")"
      ],
      "execution_count": 0,
      "outputs": [
        {
          "output_type": "stream",
          "text": [
            "Files already downloaded and verified\n",
            "Files already downloaded and verified\n"
          ],
          "name": "stdout"
        },
        {
          "output_type": "stream",
          "text": [
            "\r  0%|          | 0/12500 [00:00<?, ?it/s]"
          ],
          "name": "stderr"
        },
        {
          "output_type": "stream",
          "text": [
            "----------------------------------------------------------------\n",
            "        Layer (type)               Output Shape         Param #\n",
            "================================================================\n",
            "            Conv2d-1           [-1, 64, 32, 32]           1,728\n",
            "       BatchNorm2d-2           [-1, 64, 32, 32]             128\n",
            "         Dropout2d-3           [-1, 64, 32, 32]               0\n",
            "            Conv2d-4           [-1, 64, 32, 32]          36,864\n",
            "       BatchNorm2d-5           [-1, 64, 32, 32]             128\n",
            "            Conv2d-6           [-1, 64, 32, 32]          36,864\n",
            "       BatchNorm2d-7           [-1, 64, 32, 32]             128\n",
            "        BasicBlock-8           [-1, 64, 32, 32]               0\n",
            "            Conv2d-9           [-1, 64, 32, 32]          36,864\n",
            "      BatchNorm2d-10           [-1, 64, 32, 32]             128\n",
            "           Conv2d-11           [-1, 64, 32, 32]          36,864\n",
            "      BatchNorm2d-12           [-1, 64, 32, 32]             128\n",
            "       BasicBlock-13           [-1, 64, 32, 32]               0\n",
            "        Dropout2d-14           [-1, 64, 32, 32]               0\n",
            "           Conv2d-15          [-1, 128, 16, 16]          73,728\n",
            "      BatchNorm2d-16          [-1, 128, 16, 16]             256\n",
            "           Conv2d-17          [-1, 128, 16, 16]         147,456\n",
            "      BatchNorm2d-18          [-1, 128, 16, 16]             256\n",
            "           Conv2d-19          [-1, 128, 16, 16]           8,192\n",
            "      BatchNorm2d-20          [-1, 128, 16, 16]             256\n",
            "       BasicBlock-21          [-1, 128, 16, 16]               0\n",
            "           Conv2d-22          [-1, 128, 16, 16]         147,456\n",
            "      BatchNorm2d-23          [-1, 128, 16, 16]             256\n",
            "           Conv2d-24          [-1, 128, 16, 16]         147,456\n",
            "      BatchNorm2d-25          [-1, 128, 16, 16]             256\n",
            "       BasicBlock-26          [-1, 128, 16, 16]               0\n",
            "        Dropout2d-27          [-1, 128, 16, 16]               0\n",
            "           Conv2d-28            [-1, 256, 8, 8]         294,912\n",
            "      BatchNorm2d-29            [-1, 256, 8, 8]             512\n",
            "           Conv2d-30            [-1, 256, 8, 8]         589,824\n",
            "      BatchNorm2d-31            [-1, 256, 8, 8]             512\n",
            "           Conv2d-32            [-1, 256, 8, 8]          32,768\n",
            "      BatchNorm2d-33            [-1, 256, 8, 8]             512\n",
            "       BasicBlock-34            [-1, 256, 8, 8]               0\n",
            "           Conv2d-35            [-1, 256, 8, 8]         589,824\n",
            "      BatchNorm2d-36            [-1, 256, 8, 8]             512\n",
            "           Conv2d-37            [-1, 256, 8, 8]         589,824\n",
            "      BatchNorm2d-38            [-1, 256, 8, 8]             512\n",
            "       BasicBlock-39            [-1, 256, 8, 8]               0\n",
            "        Dropout2d-40            [-1, 256, 8, 8]               0\n",
            "           Conv2d-41            [-1, 512, 4, 4]       1,179,648\n",
            "      BatchNorm2d-42            [-1, 512, 4, 4]           1,024\n",
            "           Conv2d-43            [-1, 512, 4, 4]       2,359,296\n",
            "      BatchNorm2d-44            [-1, 512, 4, 4]           1,024\n",
            "           Conv2d-45            [-1, 512, 4, 4]         131,072\n",
            "      BatchNorm2d-46            [-1, 512, 4, 4]           1,024\n",
            "       BasicBlock-47            [-1, 512, 4, 4]               0\n",
            "           Conv2d-48            [-1, 512, 4, 4]       2,359,296\n",
            "      BatchNorm2d-49            [-1, 512, 4, 4]           1,024\n",
            "           Conv2d-50            [-1, 512, 4, 4]       2,359,296\n",
            "      BatchNorm2d-51            [-1, 512, 4, 4]           1,024\n",
            "       BasicBlock-52            [-1, 512, 4, 4]               0\n",
            "        Dropout2d-53            [-1, 512, 4, 4]               0\n",
            "           Conv2d-54             [-1, 10, 1, 1]           5,130\n",
            "================================================================\n",
            "Total params: 11,173,962\n",
            "Trainable params: 11,173,962\n",
            "Non-trainable params: 0\n",
            "----------------------------------------------------------------\n",
            "Input size (MB): 0.01\n",
            "Forward/backward pass size (MB): 12.69\n",
            "Params size (MB): 42.63\n",
            "Estimated Total Size (MB): 55.32\n",
            "----------------------------------------------------------------\n",
            "\n",
            "EPOCH: 1\n"
          ],
          "name": "stdout"
        },
        {
          "output_type": "stream",
          "text": [
            "Training Batch=12499, loss=1.89527, Correct Prediction=18944/50000, Train Accuracy=37.88800: 100%|██████████| 12500/12500 [05:10<00:00, 40.28it/s]\n",
            "Test Batch=2499, Correct Validation=5192/10000, Test Accuracy=51.92000: 100%|██████████| 2500/2500 [00:34<00:00, 72.29it/s]\n",
            "  0%|          | 0/12500 [00:00<?, ?it/s]"
          ],
          "name": "stderr"
        },
        {
          "output_type": "stream",
          "text": [
            "\n",
            "EPOCH: 2\n"
          ],
          "name": "stdout"
        },
        {
          "output_type": "stream",
          "text": [
            "Training Batch=12499, loss=0.76997, Correct Prediction=28995/50000, Train Accuracy=57.99000: 100%|██████████| 12500/12500 [05:09<00:00, 40.42it/s]\n",
            "Test Batch=2499, Correct Validation=7148/10000, Test Accuracy=71.48000: 100%|██████████| 2500/2500 [00:34<00:00, 72.22it/s]\n",
            "  0%|          | 0/12500 [00:00<?, ?it/s]"
          ],
          "name": "stderr"
        },
        {
          "output_type": "stream",
          "text": [
            "\n",
            "EPOCH: 3\n"
          ],
          "name": "stdout"
        },
        {
          "output_type": "stream",
          "text": [
            "Training Batch=12499, loss=0.69100, Correct Prediction=33827/50000, Train Accuracy=67.65400: 100%|██████████| 12500/12500 [05:12<00:00, 44.71it/s]\n",
            "Test Batch=2499, Correct Validation=7544/10000, Test Accuracy=75.44000: 100%|██████████| 2500/2500 [00:34<00:00, 71.64it/s]\n",
            "  0%|          | 0/12500 [00:00<?, ?it/s]"
          ],
          "name": "stderr"
        },
        {
          "output_type": "stream",
          "text": [
            "\n",
            "EPOCH: 4\n"
          ],
          "name": "stdout"
        },
        {
          "output_type": "stream",
          "text": [
            "Training Batch=12499, loss=0.25568, Correct Prediction=36814/50000, Train Accuracy=73.62800: 100%|██████████| 12500/12500 [05:14<00:00, 39.80it/s]\n",
            "Test Batch=2499, Correct Validation=7796/10000, Test Accuracy=77.96000: 100%|██████████| 2500/2500 [00:34<00:00, 72.19it/s]\n",
            "  0%|          | 0/12500 [00:00<?, ?it/s]"
          ],
          "name": "stderr"
        },
        {
          "output_type": "stream",
          "text": [
            "\n",
            "EPOCH: 5\n"
          ],
          "name": "stdout"
        },
        {
          "output_type": "stream",
          "text": [
            "Training Batch=12499, loss=0.25325, Correct Prediction=38777/50000, Train Accuracy=77.55400: 100%|██████████| 12500/12500 [05:10<00:00, 40.22it/s]\n",
            "Test Batch=2499, Correct Validation=8032/10000, Test Accuracy=80.32000: 100%|██████████| 2500/2500 [00:34<00:00, 71.93it/s]\n",
            "  0%|          | 0/12500 [00:00<?, ?it/s]"
          ],
          "name": "stderr"
        },
        {
          "output_type": "stream",
          "text": [
            "\n",
            "EPOCH: 6\n"
          ],
          "name": "stdout"
        },
        {
          "output_type": "stream",
          "text": [
            "Training Batch=12499, loss=1.33580, Correct Prediction=40333/50000, Train Accuracy=80.66600: 100%|██████████| 12500/12500 [05:15<00:00, 39.62it/s]\n",
            "Test Batch=2499, Correct Validation=8087/10000, Test Accuracy=80.87000: 100%|██████████| 2500/2500 [00:35<00:00, 70.09it/s]\n",
            "  0%|          | 0/12500 [00:00<?, ?it/s]"
          ],
          "name": "stderr"
        },
        {
          "output_type": "stream",
          "text": [
            "\n",
            "EPOCH: 7\n"
          ],
          "name": "stdout"
        },
        {
          "output_type": "stream",
          "text": [
            "Training Batch=12499, loss=0.40479, Correct Prediction=41517/50000, Train Accuracy=83.03400: 100%|██████████| 12500/12500 [05:21<00:00, 38.85it/s]\n",
            "Test Batch=2499, Correct Validation=8274/10000, Test Accuracy=82.74000: 100%|██████████| 2500/2500 [00:34<00:00, 69.05it/s]\n",
            "  0%|          | 0/12500 [00:00<?, ?it/s]"
          ],
          "name": "stderr"
        },
        {
          "output_type": "stream",
          "text": [
            "\n",
            "EPOCH: 8\n"
          ],
          "name": "stdout"
        },
        {
          "output_type": "stream",
          "text": [
            "Training Batch=12499, loss=1.02801, Correct Prediction=42709/50000, Train Accuracy=85.41800: 100%|██████████| 12500/12500 [05:10<00:00, 40.27it/s]\n",
            "Test Batch=2499, Correct Validation=8300/10000, Test Accuracy=83.00000: 100%|██████████| 2500/2500 [00:35<00:00, 71.15it/s]\n",
            "  0%|          | 0/12500 [00:00<?, ?it/s]"
          ],
          "name": "stderr"
        },
        {
          "output_type": "stream",
          "text": [
            "\n",
            "EPOCH: 9\n"
          ],
          "name": "stdout"
        },
        {
          "output_type": "stream",
          "text": [
            "Training Batch=12499, loss=0.00581, Correct Prediction=43619/50000, Train Accuracy=87.23800: 100%|██████████| 12500/12500 [05:16<00:00, 39.49it/s]\n",
            "Test Batch=2499, Correct Validation=8348/10000, Test Accuracy=83.48000: 100%|██████████| 2500/2500 [00:35<00:00, 69.71it/s]\n",
            "  0%|          | 0/12500 [00:00<?, ?it/s]"
          ],
          "name": "stderr"
        },
        {
          "output_type": "stream",
          "text": [
            "\n",
            "EPOCH: 10\n"
          ],
          "name": "stdout"
        },
        {
          "output_type": "stream",
          "text": [
            "Training Batch=12499, loss=0.41285, Correct Prediction=44587/50000, Train Accuracy=89.17400: 100%|██████████| 12500/12500 [05:12<00:00, 40.03it/s]\n",
            "Test Batch=2499, Correct Validation=8416/10000, Test Accuracy=84.16000: 100%|██████████| 2500/2500 [00:35<00:00, 71.42it/s]\n",
            "  0%|          | 0/12500 [00:00<?, ?it/s]"
          ],
          "name": "stderr"
        },
        {
          "output_type": "stream",
          "text": [
            "\n",
            "EPOCH: 11\n"
          ],
          "name": "stdout"
        },
        {
          "output_type": "stream",
          "text": [
            "Training Batch=12499, loss=0.15684, Correct Prediction=45383/50000, Train Accuracy=90.76600: 100%|██████████| 12500/12500 [05:13<00:00, 37.68it/s]\n",
            "Test Batch=2499, Correct Validation=8356/10000, Test Accuracy=83.56000: 100%|██████████| 2500/2500 [00:35<00:00, 71.08it/s]\n",
            "  0%|          | 0/12500 [00:00<?, ?it/s]"
          ],
          "name": "stderr"
        },
        {
          "output_type": "stream",
          "text": [
            "\n",
            "EPOCH: 12\n"
          ],
          "name": "stdout"
        },
        {
          "output_type": "stream",
          "text": [
            "Training Batch=12499, loss=0.01263, Correct Prediction=46015/50000, Train Accuracy=92.03000: 100%|██████████| 12500/12500 [05:14<00:00, 39.77it/s]\n",
            "Test Batch=2499, Correct Validation=8350/10000, Test Accuracy=83.50000: 100%|██████████| 2500/2500 [00:35<00:00, 71.08it/s]\n",
            "  0%|          | 0/12500 [00:00<?, ?it/s]"
          ],
          "name": "stderr"
        },
        {
          "output_type": "stream",
          "text": [
            "\n",
            "EPOCH: 13\n"
          ],
          "name": "stdout"
        },
        {
          "output_type": "stream",
          "text": [
            "Training Batch=12499, loss=0.00447, Correct Prediction=46851/50000, Train Accuracy=93.70200: 100%|██████████| 12500/12500 [05:18<00:00, 37.04it/s]\n",
            "Test Batch=2499, Correct Validation=8397/10000, Test Accuracy=83.97000: 100%|██████████| 2500/2500 [00:35<00:00, 66.63it/s]\n",
            "  0%|          | 0/12500 [00:00<?, ?it/s]"
          ],
          "name": "stderr"
        },
        {
          "output_type": "stream",
          "text": [
            "\n",
            "EPOCH: 14\n"
          ],
          "name": "stdout"
        },
        {
          "output_type": "stream",
          "text": [
            "Training Batch=12499, loss=0.04668, Correct Prediction=47288/50000, Train Accuracy=94.57600: 100%|██████████| 12500/12500 [05:25<00:00, 38.41it/s]\n",
            "Test Batch=2499, Correct Validation=8426/10000, Test Accuracy=84.26000: 100%|██████████| 2500/2500 [00:35<00:00, 70.21it/s]\n",
            "  0%|          | 0/12500 [00:00<?, ?it/s]"
          ],
          "name": "stderr"
        },
        {
          "output_type": "stream",
          "text": [
            "\n",
            "EPOCH: 15\n"
          ],
          "name": "stdout"
        },
        {
          "output_type": "stream",
          "text": [
            "Training Batch=12499, loss=0.59512, Correct Prediction=47670/50000, Train Accuracy=95.34000: 100%|██████████| 12500/12500 [05:16<00:00, 39.56it/s]\n",
            "Test Batch=2499, Correct Validation=8342/10000, Test Accuracy=83.42000: 100%|██████████| 2500/2500 [00:35<00:00, 70.86it/s]\n",
            "  0%|          | 0/12500 [00:00<?, ?it/s]"
          ],
          "name": "stderr"
        },
        {
          "output_type": "stream",
          "text": [
            "\n",
            "EPOCH: 16\n"
          ],
          "name": "stdout"
        },
        {
          "output_type": "stream",
          "text": [
            "Training Batch=12499, loss=0.11181, Correct Prediction=48016/50000, Train Accuracy=96.03200: 100%|██████████| 12500/12500 [05:14<00:00, 39.71it/s]\n",
            "Test Batch=2499, Correct Validation=8451/10000, Test Accuracy=84.51000: 100%|██████████| 2500/2500 [00:34<00:00, 72.17it/s]\n",
            "  0%|          | 0/12500 [00:00<?, ?it/s]"
          ],
          "name": "stderr"
        },
        {
          "output_type": "stream",
          "text": [
            "\n",
            "EPOCH: 17\n"
          ],
          "name": "stdout"
        },
        {
          "output_type": "stream",
          "text": [
            "Training Batch=12499, loss=0.00119, Correct Prediction=48431/50000, Train Accuracy=96.86200: 100%|██████████| 12500/12500 [05:21<00:00, 38.90it/s]\n",
            "Test Batch=2499, Correct Validation=8422/10000, Test Accuracy=84.22000: 100%|██████████| 2500/2500 [00:36<00:00, 69.41it/s]\n",
            "  0%|          | 0/12500 [00:00<?, ?it/s]"
          ],
          "name": "stderr"
        },
        {
          "output_type": "stream",
          "text": [
            "\n",
            "EPOCH: 18\n"
          ],
          "name": "stdout"
        },
        {
          "output_type": "stream",
          "text": [
            "Training Batch=12499, loss=0.13467, Correct Prediction=48552/50000, Train Accuracy=97.10400: 100%|██████████| 12500/12500 [05:22<00:00, 38.80it/s]\n",
            "Test Batch=2499, Correct Validation=8446/10000, Test Accuracy=84.46000: 100%|██████████| 2500/2500 [00:35<00:00, 71.18it/s]\n",
            "  0%|          | 0/12500 [00:00<?, ?it/s]"
          ],
          "name": "stderr"
        },
        {
          "output_type": "stream",
          "text": [
            "\n",
            "EPOCH: 19\n"
          ],
          "name": "stdout"
        },
        {
          "output_type": "stream",
          "text": [
            "Training Batch=12499, loss=0.33268, Correct Prediction=48791/50000, Train Accuracy=97.58200: 100%|██████████| 12500/12500 [05:19<00:00, 39.18it/s]\n",
            "Test Batch=2499, Correct Validation=8330/10000, Test Accuracy=83.30000: 100%|██████████| 2500/2500 [00:35<00:00, 70.75it/s]\n",
            "  0%|          | 0/12500 [00:00<?, ?it/s]"
          ],
          "name": "stderr"
        },
        {
          "output_type": "stream",
          "text": [
            "\n",
            "EPOCH: 20\n"
          ],
          "name": "stdout"
        },
        {
          "output_type": "stream",
          "text": [
            "Training Batch=12499, loss=0.00177, Correct Prediction=48909/50000, Train Accuracy=97.81800: 100%|██████████| 12500/12500 [05:20<00:00, 36.38it/s]\n",
            "Test Batch=2499, Correct Validation=8437/10000, Test Accuracy=84.37000: 100%|██████████| 2500/2500 [00:35<00:00, 70.80it/s]\n",
            "  0%|          | 0/12500 [00:00<?, ?it/s]"
          ],
          "name": "stderr"
        },
        {
          "output_type": "stream",
          "text": [
            "\n",
            "EPOCH: 21\n"
          ],
          "name": "stdout"
        },
        {
          "output_type": "stream",
          "text": [
            "Training Batch=12499, loss=0.00023, Correct Prediction=49006/50000, Train Accuracy=98.01200: 100%|██████████| 12500/12500 [05:20<00:00, 39.00it/s]\n",
            "Test Batch=2499, Correct Validation=8448/10000, Test Accuracy=84.48000: 100%|██████████| 2500/2500 [00:35<00:00, 69.99it/s]\n",
            "  0%|          | 0/12500 [00:00<?, ?it/s]"
          ],
          "name": "stderr"
        },
        {
          "output_type": "stream",
          "text": [
            "\n",
            "EPOCH: 22\n"
          ],
          "name": "stdout"
        },
        {
          "output_type": "stream",
          "text": [
            "Training Batch=12499, loss=0.23338, Correct Prediction=49123/50000, Train Accuracy=98.24600: 100%|██████████| 12500/12500 [05:26<00:00, 38.24it/s]\n",
            "Test Batch=2499, Correct Validation=8464/10000, Test Accuracy=84.64000: 100%|██████████| 2500/2500 [00:35<00:00, 70.61it/s]\n",
            "  0%|          | 0/12500 [00:00<?, ?it/s]"
          ],
          "name": "stderr"
        },
        {
          "output_type": "stream",
          "text": [
            "\n",
            "EPOCH: 23\n"
          ],
          "name": "stdout"
        },
        {
          "output_type": "stream",
          "text": [
            "Training Batch=12499, loss=0.00094, Correct Prediction=49291/50000, Train Accuracy=98.58200: 100%|██████████| 12500/12500 [05:27<00:00, 38.18it/s]\n",
            "Test Batch=2499, Correct Validation=8502/10000, Test Accuracy=85.02000: 100%|██████████| 2500/2500 [00:35<00:00, 69.57it/s]\n",
            "  0%|          | 0/12500 [00:00<?, ?it/s]"
          ],
          "name": "stderr"
        },
        {
          "output_type": "stream",
          "text": [
            "\n",
            "EPOCH: 24\n"
          ],
          "name": "stdout"
        },
        {
          "output_type": "stream",
          "text": [
            "Training Batch=12499, loss=0.01121, Correct Prediction=49299/50000, Train Accuracy=98.59800: 100%|██████████| 12500/12500 [05:25<00:00, 38.36it/s]\n",
            "Test Batch=2499, Correct Validation=8461/10000, Test Accuracy=84.61000: 100%|██████████| 2500/2500 [00:35<00:00, 69.71it/s]\n",
            "  0%|          | 0/12500 [00:00<?, ?it/s]"
          ],
          "name": "stderr"
        },
        {
          "output_type": "stream",
          "text": [
            "\n",
            "EPOCH: 25\n"
          ],
          "name": "stdout"
        },
        {
          "output_type": "stream",
          "text": [
            "Training Batch=12499, loss=0.03212, Correct Prediction=49319/50000, Train Accuracy=98.63800: 100%|██████████| 12500/12500 [05:24<00:00, 38.55it/s]\n",
            "Test Batch=2499, Correct Validation=8521/10000, Test Accuracy=85.21000: 100%|██████████| 2500/2500 [00:35<00:00, 70.86it/s]\n"
          ],
          "name": "stderr"
        }
      ]
    },
    {
      "cell_type": "code",
      "metadata": {
        "id": "cfMbfCXsbwZ7",
        "colab_type": "code",
        "colab": {}
      },
      "source": [
        ""
      ],
      "execution_count": 0,
      "outputs": []
    },
    {
      "cell_type": "markdown",
      "metadata": {
        "colab_type": "text",
        "id": "7n3cqFGoNBAt"
      },
      "source": [
        "# Default ResNet18 :Result"
      ]
    },
    {
      "cell_type": "code",
      "metadata": {
        "colab_type": "code",
        "id": "EM0qnQs0NBAt",
        "outputId": "e8d56a2d-dd2b-4892-ed50-2a182fa7990f",
        "colab": {
          "base_uri": "https://localhost:8080/",
          "height": 1000
        }
      },
      "source": [
        "model = ResNet(BasicBlock, num_blocks=[2,2,2,2]).to(device)\n",
        "run_cnn(model=model, epochs=10, filename=\"resnet18.pt\")"
      ],
      "execution_count": 0,
      "outputs": [
        {
          "output_type": "stream",
          "text": [
            "Files already downloaded and verified\n",
            "Files already downloaded and verified\n"
          ],
          "name": "stdout"
        },
        {
          "output_type": "stream",
          "text": [
            "\r  0%|          | 0/12500 [00:00<?, ?it/s]"
          ],
          "name": "stderr"
        },
        {
          "output_type": "stream",
          "text": [
            "----------------------------------------------------------------\n",
            "        Layer (type)               Output Shape         Param #\n",
            "================================================================\n",
            "            Conv2d-1           [-1, 64, 32, 32]           1,728\n",
            "       BatchNorm2d-2           [-1, 64, 32, 32]             128\n",
            "            Conv2d-3           [-1, 64, 32, 32]          36,864\n",
            "       BatchNorm2d-4           [-1, 64, 32, 32]             128\n",
            "            Conv2d-5           [-1, 64, 32, 32]          36,864\n",
            "       BatchNorm2d-6           [-1, 64, 32, 32]             128\n",
            "        BasicBlock-7           [-1, 64, 32, 32]               0\n",
            "            Conv2d-8           [-1, 64, 32, 32]          36,864\n",
            "       BatchNorm2d-9           [-1, 64, 32, 32]             128\n",
            "           Conv2d-10           [-1, 64, 32, 32]          36,864\n",
            "      BatchNorm2d-11           [-1, 64, 32, 32]             128\n",
            "       BasicBlock-12           [-1, 64, 32, 32]               0\n",
            "           Conv2d-13          [-1, 128, 16, 16]          73,728\n",
            "      BatchNorm2d-14          [-1, 128, 16, 16]             256\n",
            "           Conv2d-15          [-1, 128, 16, 16]         147,456\n",
            "      BatchNorm2d-16          [-1, 128, 16, 16]             256\n",
            "           Conv2d-17          [-1, 128, 16, 16]           8,192\n",
            "      BatchNorm2d-18          [-1, 128, 16, 16]             256\n",
            "       BasicBlock-19          [-1, 128, 16, 16]               0\n",
            "           Conv2d-20          [-1, 128, 16, 16]         147,456\n",
            "      BatchNorm2d-21          [-1, 128, 16, 16]             256\n",
            "           Conv2d-22          [-1, 128, 16, 16]         147,456\n",
            "      BatchNorm2d-23          [-1, 128, 16, 16]             256\n",
            "       BasicBlock-24          [-1, 128, 16, 16]               0\n",
            "           Conv2d-25            [-1, 256, 8, 8]         294,912\n",
            "      BatchNorm2d-26            [-1, 256, 8, 8]             512\n",
            "           Conv2d-27            [-1, 256, 8, 8]         589,824\n",
            "      BatchNorm2d-28            [-1, 256, 8, 8]             512\n",
            "           Conv2d-29            [-1, 256, 8, 8]          32,768\n",
            "      BatchNorm2d-30            [-1, 256, 8, 8]             512\n",
            "       BasicBlock-31            [-1, 256, 8, 8]               0\n",
            "           Conv2d-32            [-1, 256, 8, 8]         589,824\n",
            "      BatchNorm2d-33            [-1, 256, 8, 8]             512\n",
            "           Conv2d-34            [-1, 256, 8, 8]         589,824\n",
            "      BatchNorm2d-35            [-1, 256, 8, 8]             512\n",
            "       BasicBlock-36            [-1, 256, 8, 8]               0\n",
            "           Conv2d-37            [-1, 512, 4, 4]       1,179,648\n",
            "      BatchNorm2d-38            [-1, 512, 4, 4]           1,024\n",
            "           Conv2d-39            [-1, 512, 4, 4]       2,359,296\n",
            "      BatchNorm2d-40            [-1, 512, 4, 4]           1,024\n",
            "           Conv2d-41            [-1, 512, 4, 4]         131,072\n",
            "      BatchNorm2d-42            [-1, 512, 4, 4]           1,024\n",
            "       BasicBlock-43            [-1, 512, 4, 4]               0\n",
            "           Conv2d-44            [-1, 512, 4, 4]       2,359,296\n",
            "      BatchNorm2d-45            [-1, 512, 4, 4]           1,024\n",
            "           Conv2d-46            [-1, 512, 4, 4]       2,359,296\n",
            "      BatchNorm2d-47            [-1, 512, 4, 4]           1,024\n",
            "       BasicBlock-48            [-1, 512, 4, 4]               0\n",
            "           Linear-49                   [-1, 10]           5,130\n",
            "================================================================\n",
            "Total params: 11,173,962\n",
            "Trainable params: 11,173,962\n",
            "Non-trainable params: 0\n",
            "----------------------------------------------------------------\n",
            "Input size (MB): 0.01\n",
            "Forward/backward pass size (MB): 11.25\n",
            "Params size (MB): 42.63\n",
            "Estimated Total Size (MB): 53.89\n",
            "----------------------------------------------------------------\n",
            "\n",
            "EPOCH: 1\n"
          ],
          "name": "stdout"
        },
        {
          "output_type": "stream",
          "text": [
            "Training Batch=12499, loss=1.85765, Correct Prediction=25284/50000, Train Accuracy=50.56800: 100%|██████████| 12500/12500 [04:29<00:00, 46.38it/s]\n",
            "Test Batch=2499, Correct Validation=6662/10000, Test Accuracy=66.62000: 100%|██████████| 2500/2500 [00:32<00:00, 76.98it/s]\n",
            "  0%|          | 0/12500 [00:00<?, ?it/s]"
          ],
          "name": "stderr"
        },
        {
          "output_type": "stream",
          "text": [
            "\n",
            "EPOCH: 2\n"
          ],
          "name": "stdout"
        },
        {
          "output_type": "stream",
          "text": [
            "Training Batch=12499, loss=0.50989, Correct Prediction=35687/50000, Train Accuracy=71.37400: 100%|██████████| 12500/12500 [04:28<00:00, 46.53it/s]\n",
            "Test Batch=2499, Correct Validation=7563/10000, Test Accuracy=75.63000: 100%|██████████| 2500/2500 [00:32<00:00, 77.37it/s]\n",
            "  0%|          | 0/12500 [00:00<?, ?it/s]"
          ],
          "name": "stderr"
        },
        {
          "output_type": "stream",
          "text": [
            "\n",
            "EPOCH: 3\n"
          ],
          "name": "stdout"
        },
        {
          "output_type": "stream",
          "text": [
            "Training Batch=12499, loss=0.11376, Correct Prediction=39287/50000, Train Accuracy=78.57400: 100%|██████████| 12500/12500 [04:29<00:00, 46.31it/s]\n",
            "Test Batch=2499, Correct Validation=8097/10000, Test Accuracy=80.97000: 100%|██████████| 2500/2500 [00:32<00:00, 77.81it/s]\n",
            "  0%|          | 0/12500 [00:00<?, ?it/s]"
          ],
          "name": "stderr"
        },
        {
          "output_type": "stream",
          "text": [
            "\n",
            "EPOCH: 4\n"
          ],
          "name": "stdout"
        },
        {
          "output_type": "stream",
          "text": [
            "Training Batch=12499, loss=0.07731, Correct Prediction=41844/50000, Train Accuracy=83.68800: 100%|██████████| 12500/12500 [04:28<00:00, 46.58it/s]\n",
            "Test Batch=2499, Correct Validation=7989/10000, Test Accuracy=79.89000: 100%|██████████| 2500/2500 [00:32<00:00, 77.96it/s]\n",
            "  0%|          | 0/12500 [00:00<?, ?it/s]"
          ],
          "name": "stderr"
        },
        {
          "output_type": "stream",
          "text": [
            "\n",
            "EPOCH: 5\n"
          ],
          "name": "stdout"
        },
        {
          "output_type": "stream",
          "text": [
            "Training Batch=12499, loss=0.06832, Correct Prediction=43757/50000, Train Accuracy=87.51400: 100%|██████████| 12500/12500 [04:27<00:00, 47.22it/s]\n",
            "Test Batch=2499, Correct Validation=8245/10000, Test Accuracy=82.45000: 100%|██████████| 2500/2500 [00:32<00:00, 76.97it/s]\n",
            "  0%|          | 0/12500 [00:00<?, ?it/s]"
          ],
          "name": "stderr"
        },
        {
          "output_type": "stream",
          "text": [
            "\n",
            "EPOCH: 6\n"
          ],
          "name": "stdout"
        },
        {
          "output_type": "stream",
          "text": [
            "Training Batch=12499, loss=0.52663, Correct Prediction=45418/50000, Train Accuracy=90.83600: 100%|██████████| 12500/12500 [04:27<00:00, 46.99it/s]\n",
            "Test Batch=2499, Correct Validation=8225/10000, Test Accuracy=82.25000: 100%|██████████| 2500/2500 [00:32<00:00, 76.96it/s]\n",
            "  0%|          | 0/12500 [00:00<?, ?it/s]"
          ],
          "name": "stderr"
        },
        {
          "output_type": "stream",
          "text": [
            "\n",
            "EPOCH: 7\n"
          ],
          "name": "stdout"
        },
        {
          "output_type": "stream",
          "text": [
            "Training Batch=12499, loss=0.12481, Correct Prediction=46725/50000, Train Accuracy=93.45000: 100%|██████████| 12500/12500 [04:27<00:00, 46.75it/s]\n",
            "Test Batch=2499, Correct Validation=8287/10000, Test Accuracy=82.87000: 100%|██████████| 2500/2500 [00:32<00:00, 77.69it/s]\n",
            "  0%|          | 0/12500 [00:00<?, ?it/s]"
          ],
          "name": "stderr"
        },
        {
          "output_type": "stream",
          "text": [
            "\n",
            "EPOCH: 8\n"
          ],
          "name": "stdout"
        },
        {
          "output_type": "stream",
          "text": [
            "Training Batch=12499, loss=0.64203, Correct Prediction=47855/50000, Train Accuracy=95.71000: 100%|██████████| 12500/12500 [04:26<00:00, 46.84it/s]\n",
            "Test Batch=2499, Correct Validation=8264/10000, Test Accuracy=82.64000: 100%|██████████| 2500/2500 [00:32<00:00, 77.70it/s]\n",
            "  0%|          | 0/12500 [00:00<?, ?it/s]"
          ],
          "name": "stderr"
        },
        {
          "output_type": "stream",
          "text": [
            "\n",
            "EPOCH: 9\n"
          ],
          "name": "stdout"
        },
        {
          "output_type": "stream",
          "text": [
            "Training Batch=12499, loss=0.00566, Correct Prediction=48384/50000, Train Accuracy=96.76800: 100%|██████████| 12500/12500 [04:28<00:00, 46.55it/s]\n",
            "Test Batch=2499, Correct Validation=8271/10000, Test Accuracy=82.71000: 100%|██████████| 2500/2500 [00:32<00:00, 77.74it/s]\n",
            "  0%|          | 0/12500 [00:00<?, ?it/s]"
          ],
          "name": "stderr"
        },
        {
          "output_type": "stream",
          "text": [
            "\n",
            "EPOCH: 10\n"
          ],
          "name": "stdout"
        },
        {
          "output_type": "stream",
          "text": [
            "Training Batch=12499, loss=0.31612, Correct Prediction=48979/50000, Train Accuracy=97.95800: 100%|██████████| 12500/12500 [04:27<00:00, 46.74it/s]\n",
            "Test Batch=2499, Correct Validation=8192/10000, Test Accuracy=81.92000: 100%|██████████| 2500/2500 [00:32<00:00, 81.13it/s]\n"
          ],
          "name": "stderr"
        }
      ]
    }
  ]
}