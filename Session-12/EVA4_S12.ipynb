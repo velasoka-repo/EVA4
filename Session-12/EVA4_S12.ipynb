{
  "nbformat": 4,
  "nbformat_minor": 0,
  "metadata": {
    "colab": {
      "name": "EVA4-S12.ipynb",
      "provenance": [],
      "collapsed_sections": [],
      "machine_shape": "hm",
      "authorship_tag": "ABX9TyOyfNSgRAABEAbDQ9Ij0L8T",
      "include_colab_link": true
    },
    "kernelspec": {
      "name": "python3",
      "display_name": "Python 3"
    },
    "accelerator": "GPU"
  },
  "cells": [
    {
      "cell_type": "markdown",
      "metadata": {
        "id": "view-in-github",
        "colab_type": "text"
      },
      "source": [
        "<a href=\"https://colab.research.google.com/github/velasoka-repo/EVA4/blob/master/Session-12/EVA4_S12.ipynb\" target=\"_parent\"><img src=\"https://colab.research.google.com/assets/colab-badge.svg\" alt=\"Open In Colab\"/></a>"
      ]
    },
    {
      "cell_type": "markdown",
      "metadata": {
        "id": "9xkz_8DtbIOg",
        "colab_type": "text"
      },
      "source": [
        "# [Github Link](https://github.com/velasoka-repo/EVA4/tree/master/Session-12)"
      ]
    },
    {
      "cell_type": "markdown",
      "metadata": {
        "id": "BG64wVL7N3Px",
        "colab_type": "text"
      },
      "source": [
        "# Google Drive Mount"
      ]
    },
    {
      "cell_type": "code",
      "metadata": {
        "id": "nd1dYBvmFqP6",
        "colab_type": "code",
        "colab": {}
      },
      "source": [
        "from google.colab import drive\n",
        "drive.mount('/content/gdrive')\n",
        "\n",
        "#add working directory into syspath\n",
        "EVA4_PATH = \"/content/gdrive/My Drive/Colab Notebooks/EVA4/Session-12\"\n",
        "import sys\n",
        "if not EVA4_PATH in sys.path:\n",
        "  sys.path.append(EVA4_PATH)"
      ],
      "execution_count": 0,
      "outputs": []
    },
    {
      "cell_type": "markdown",
      "metadata": {
        "id": "npn_nNTFgshj",
        "colab_type": "text"
      },
      "source": [
        "# Download Image"
      ]
    },
    {
      "cell_type": "code",
      "metadata": {
        "id": "ug9Yadvfv6fa",
        "colab_type": "code",
        "colab": {}
      },
      "source": [
        "#!/usr/bin/python3\n",
        "from urllib.request import urlopen\n",
        "from zipfile import ZipFile\n",
        "\n",
        "zipurl = 'http://cs231n.stanford.edu/tiny-imagenet-200.zip'\n",
        "    # Download the file from the URL\n",
        "zipresp = urlopen(zipurl)\n",
        "    # Create a new file on the hard drive\n",
        "tempzip = open(\"/tmp/tempfile.zip\", \"wb\")\n",
        "    # Write the contents of the downloaded file into the new file\n",
        "tempzip.write(zipresp.read())\n",
        "    # Close the newly-created file\n",
        "tempzip.close()\n",
        "    # Re-open the newly-created file with ZipFile()\n",
        "zf = ZipFile(\"/tmp/tempfile.zip\")\n",
        "    # Extract its contents into <extraction_path>\n",
        "    # note that extractall will automatically create the path\n",
        "zf.extractall(path = '/opt/')\n",
        "    # close the ZipFile instance\n",
        "zf.close()"
      ],
      "execution_count": 0,
      "outputs": []
    },
    {
      "cell_type": "markdown",
      "metadata": {
        "id": "J-hy7FYfPSrs",
        "colab_type": "text"
      },
      "source": [
        "# Python Module Import & device"
      ]
    },
    {
      "cell_type": "code",
      "metadata": {
        "id": "uBFTfUL3PRF2",
        "colab_type": "code",
        "outputId": "c69dd634-7202-4606-9346-9195cecb3986",
        "colab": {
          "base_uri": "https://localhost:8080/",
          "height": 34
        }
      },
      "source": [
        "import utils.data as data\n",
        "import utils.transform as tf\n",
        "import model.nn2 as nn2\n",
        "import utils.torch_util as util\n",
        "import utils.visualize as view\n",
        "import utils.runner as network\n",
        "\n",
        "#device\n",
        "device = util.device()\n",
        "print(f\"Device: {device}\")"
      ],
      "execution_count": 0,
      "outputs": [
        {
          "output_type": "stream",
          "text": [
            "Device: cuda\n"
          ],
          "name": "stdout"
        }
      ]
    },
    {
      "cell_type": "markdown",
      "metadata": {
        "id": "4WG5OVIgwyFs",
        "colab_type": "text"
      },
      "source": [
        "# Read TinyImageNet Data"
      ]
    },
    {
      "cell_type": "code",
      "metadata": {
        "id": "dhAMayontbeP",
        "colab_type": "code",
        "outputId": "b5282f78-f8d3-4545-8a68-a3296d5467de",
        "colab": {
          "base_uri": "https://localhost:8080/",
          "height": 34
        }
      },
      "source": [
        "data_path = f\"/opt/tiny-imagenet-200\"\n",
        "\n",
        "# read tinyimagenet data\n",
        "img_dataset = data.LoadImage(root_path=data_path)\n",
        "mean, std = util.normalized_mean_std(img_dataset.mean, img_dataset.std)"
      ],
      "execution_count": 0,
      "outputs": [
        {
          "output_type": "stream",
          "text": [
            "Total time taken to load image: 25.77 seconds\n"
          ],
          "name": "stdout"
        }
      ]
    },
    {
      "cell_type": "markdown",
      "metadata": {
        "id": "v8NIU9ArxVMG",
        "colab_type": "text"
      },
      "source": [
        "# Create Train & Test dataset"
      ]
    },
    {
      "cell_type": "code",
      "metadata": {
        "id": "Lm20Gv3mxC14",
        "colab_type": "code",
        "colab": {}
      },
      "source": [
        "import torch\n",
        "torch.manual_seed(6)\n",
        "torch.cuda.manual_seed(6)\n",
        "\n",
        "tf_util = tf.torch_transform()\n",
        "compose_transforms = tf.compose_transforms(tf_util.RandomHorizontalFlip(p=1), tf_util.RandomCrop(size=64, padding=4, padding_mode=\"edge\"), tf_util.ToTensor(), tf_util.Normalize(mean=mean, std=std))\n",
        "train_dataset = data.ImageDataset(dataset=img_dataset.train_data, labels=img_dataset.train_labels,\n",
        "                                  transforms=compose_transforms)\n",
        "test_dataset = data.ImageDataset(dataset=img_dataset.test_data, labels=img_dataset.test_labels,\n",
        "                                  transforms=compose_transforms)"
      ],
      "execution_count": 0,
      "outputs": []
    },
    {
      "cell_type": "markdown",
      "metadata": {
        "id": "a5EiUgchxdCq",
        "colab_type": "text"
      },
      "source": [
        "# Create Train & Test Dataloader"
      ]
    },
    {
      "cell_type": "code",
      "metadata": {
        "id": "JfgvsIo-xZJo",
        "colab_type": "code",
        "colab": {}
      },
      "source": [
        "torch.manual_seed(6)\n",
        "torch.cuda.manual_seed(6)\n",
        "\n",
        "kwargs = {'pin_memory': True, 'num_workers': 4}\n",
        "train_loader = data.TinyImageNetDataLoader(dataset=train_dataset, batch_size=500, shuffle=True, **kwargs).dataloader\n",
        "test_loader = data.TinyImageNetDataLoader(dataset=test_dataset, batch_size=500, shuffle=False, **kwargs).dataloader"
      ],
      "execution_count": 0,
      "outputs": []
    },
    {
      "cell_type": "markdown",
      "metadata": {
        "id": "rgJtFY5VxuNd",
        "colab_type": "text"
      },
      "source": [
        "# Create Model & Summary"
      ]
    },
    {
      "cell_type": "code",
      "metadata": {
        "id": "4uaxNxZDxqA0",
        "colab_type": "code",
        "outputId": "f29a5eab-565f-4fe7-da3f-b107422760c5",
        "colab": {
          "base_uri": "https://localhost:8080/",
          "height": 1000
        }
      },
      "source": [
        "torch.manual_seed(6)\n",
        "torch.cuda.manual_seed(6)\n",
        "\n",
        "model = nn2.resnet18(num_classes=200).to(device)\n",
        "util.model_summary(model=model, input_size=(3, 64, 64))"
      ],
      "execution_count": 0,
      "outputs": [
        {
          "output_type": "stream",
          "text": [
            "----------------------------------------------------------------\n",
            "        Layer (type)               Output Shape         Param #\n",
            "================================================================\n",
            "            Conv2d-1           [-1, 64, 32, 32]           9,408\n",
            "       BatchNorm2d-2           [-1, 64, 32, 32]             128\n",
            "              ReLU-3           [-1, 64, 32, 32]               0\n",
            "         MaxPool2d-4           [-1, 64, 16, 16]               0\n",
            "            Conv2d-5           [-1, 64, 16, 16]          36,864\n",
            "       BatchNorm2d-6           [-1, 64, 16, 16]             128\n",
            "              ReLU-7           [-1, 64, 16, 16]               0\n",
            "            Conv2d-8           [-1, 64, 16, 16]          36,864\n",
            "       BatchNorm2d-9           [-1, 64, 16, 16]             128\n",
            "             ReLU-10           [-1, 64, 16, 16]               0\n",
            "       BasicBlock-11           [-1, 64, 16, 16]               0\n",
            "           Conv2d-12           [-1, 64, 16, 16]          36,864\n",
            "      BatchNorm2d-13           [-1, 64, 16, 16]             128\n",
            "             ReLU-14           [-1, 64, 16, 16]               0\n",
            "           Conv2d-15           [-1, 64, 16, 16]          36,864\n",
            "      BatchNorm2d-16           [-1, 64, 16, 16]             128\n",
            "             ReLU-17           [-1, 64, 16, 16]               0\n",
            "       BasicBlock-18           [-1, 64, 16, 16]               0\n",
            "           Conv2d-19            [-1, 128, 8, 8]          73,728\n",
            "      BatchNorm2d-20            [-1, 128, 8, 8]             256\n",
            "             ReLU-21            [-1, 128, 8, 8]               0\n",
            "           Conv2d-22            [-1, 128, 8, 8]         147,456\n",
            "      BatchNorm2d-23            [-1, 128, 8, 8]             256\n",
            "           Conv2d-24            [-1, 128, 8, 8]           8,192\n",
            "      BatchNorm2d-25            [-1, 128, 8, 8]             256\n",
            "             ReLU-26            [-1, 128, 8, 8]               0\n",
            "       BasicBlock-27            [-1, 128, 8, 8]               0\n",
            "           Conv2d-28            [-1, 128, 8, 8]         147,456\n",
            "      BatchNorm2d-29            [-1, 128, 8, 8]             256\n",
            "             ReLU-30            [-1, 128, 8, 8]               0\n",
            "           Conv2d-31            [-1, 128, 8, 8]         147,456\n",
            "      BatchNorm2d-32            [-1, 128, 8, 8]             256\n",
            "             ReLU-33            [-1, 128, 8, 8]               0\n",
            "       BasicBlock-34            [-1, 128, 8, 8]               0\n",
            "           Conv2d-35            [-1, 256, 4, 4]         294,912\n",
            "      BatchNorm2d-36            [-1, 256, 4, 4]             512\n",
            "             ReLU-37            [-1, 256, 4, 4]               0\n",
            "           Conv2d-38            [-1, 256, 4, 4]         589,824\n",
            "      BatchNorm2d-39            [-1, 256, 4, 4]             512\n",
            "           Conv2d-40            [-1, 256, 4, 4]          32,768\n",
            "      BatchNorm2d-41            [-1, 256, 4, 4]             512\n",
            "             ReLU-42            [-1, 256, 4, 4]               0\n",
            "       BasicBlock-43            [-1, 256, 4, 4]               0\n",
            "           Conv2d-44            [-1, 256, 4, 4]         589,824\n",
            "      BatchNorm2d-45            [-1, 256, 4, 4]             512\n",
            "             ReLU-46            [-1, 256, 4, 4]               0\n",
            "           Conv2d-47            [-1, 256, 4, 4]         589,824\n",
            "      BatchNorm2d-48            [-1, 256, 4, 4]             512\n",
            "             ReLU-49            [-1, 256, 4, 4]               0\n",
            "       BasicBlock-50            [-1, 256, 4, 4]               0\n",
            "           Conv2d-51            [-1, 512, 2, 2]       1,179,648\n",
            "      BatchNorm2d-52            [-1, 512, 2, 2]           1,024\n",
            "             ReLU-53            [-1, 512, 2, 2]               0\n",
            "           Conv2d-54            [-1, 512, 2, 2]       2,359,296\n",
            "      BatchNorm2d-55            [-1, 512, 2, 2]           1,024\n",
            "           Conv2d-56            [-1, 512, 2, 2]         131,072\n",
            "      BatchNorm2d-57            [-1, 512, 2, 2]           1,024\n",
            "             ReLU-58            [-1, 512, 2, 2]               0\n",
            "       BasicBlock-59            [-1, 512, 2, 2]               0\n",
            "           Conv2d-60            [-1, 512, 2, 2]       2,359,296\n",
            "      BatchNorm2d-61            [-1, 512, 2, 2]           1,024\n",
            "             ReLU-62            [-1, 512, 2, 2]               0\n",
            "           Conv2d-63            [-1, 512, 2, 2]       2,359,296\n",
            "      BatchNorm2d-64            [-1, 512, 2, 2]           1,024\n",
            "             ReLU-65            [-1, 512, 2, 2]               0\n",
            "       BasicBlock-66            [-1, 512, 2, 2]               0\n",
            "AdaptiveAvgPool2d-67            [-1, 512, 1, 1]               0\n",
            "           Linear-68                  [-1, 200]         102,600\n",
            "================================================================\n",
            "Total params: 11,279,112\n",
            "Trainable params: 11,279,112\n",
            "Non-trainable params: 0\n",
            "----------------------------------------------------------------\n",
            "Input size (MB): 0.05\n",
            "Forward/backward pass size (MB): 5.13\n",
            "Params size (MB): 43.03\n",
            "Estimated Total Size (MB): 48.20\n",
            "----------------------------------------------------------------\n"
          ],
          "name": "stdout"
        }
      ]
    },
    {
      "cell_type": "markdown",
      "metadata": {
        "id": "G4C5wKmRx1je",
        "colab_type": "text"
      },
      "source": [
        "# Load Model state_dict"
      ]
    },
    {
      "cell_type": "code",
      "metadata": {
        "id": "E0VbgNscxqGC",
        "colab_type": "code",
        "colab": {}
      },
      "source": [
        "trained_model_path = util.drive_path(filename=\"tiny-imagenet-resnet18.pt\", folder=\"Session-12\") \n",
        "if trained_model_path:\n",
        "    state_dict = util.load_model(path=trained_model_path)\n",
        "    model.load_state_dict(state_dict=state_dict)"
      ],
      "execution_count": 0,
      "outputs": []
    },
    {
      "cell_type": "markdown",
      "metadata": {
        "id": "7pSPz9seyEX5",
        "colab_type": "text"
      },
      "source": [
        "# Create Optimizer, loss function, Scheduler"
      ]
    },
    {
      "cell_type": "code",
      "metadata": {
        "id": "iaQ86h5qyJKY",
        "colab_type": "code",
        "colab": {}
      },
      "source": [
        "# create optimizer, loss fn, scheduler\n",
        "criterion = util.loss_fns().CrossEntropyLoss()\n",
        "sgd_optimizer = util.optimizer().SGD(params=model.parameters(), lr=0.01, momentum=0.9, weight_decay=0.1e-5)\n",
        "# scheduler = util.scheduler().ReduceLROnPlateau(optimizer=sgd_optimizer, mode=\"min\", patience=0, verbose=True,\n",
        "                                                # min_lr=0.5e-6, factor=0.125)"
      ],
      "execution_count": 0,
      "outputs": []
    },
    {
      "cell_type": "markdown",
      "metadata": {
        "id": "5GO4UWNkyLzM",
        "colab_type": "text"
      },
      "source": [
        "# Train & Test Run"
      ]
    },
    {
      "cell_type": "code",
      "metadata": {
        "id": "C9CKd-2xyOI9",
        "colab_type": "code",
        "outputId": "8eba4d61-3a29-4fe2-ccee-f9c56de01554",
        "colab": {
          "base_uri": "https://localhost:8080/",
          "height": 1000
        }
      },
      "source": [
        "# train & test\n",
        "epochs = 50\n",
        "train_accuracy = []\n",
        "test_accuracy = []\n",
        "max_train_accuracy_so_far = 0\n",
        "max_test_accuracy_so_far = 0\n",
        "for epoch in range(1, epochs + 1):\n",
        "    print(f\"\\nEPOCH: {epoch}\")\n",
        "    train_acc = network.train(model=model, data_loader=train_loader, optimizer=sgd_optimizer, criterion=criterion,\n",
        "                              device=device)\n",
        "    test_acc = network.test(model=model, data_loader=test_loader, device=device)\n",
        "    scheduler.step(100 - test_acc)\n",
        "    train_accuracy.append(train_acc)\n",
        "    test_accuracy.append(test_acc)\n",
        "    if max_test_accuracy_so_far < test_acc:\n",
        "        max_test_accuracy_so_far = test_acc\n",
        "        print(f\"\\n***Test Accuracy is greater than previous max accuracy. Saving model on epoch: {epoch}\")\n",
        "        util.save_model(model=model, path=trained_model_path)\n",
        "\n",
        "    #early stopping\n",
        "    if test_acc >= 50:\n",
        "      break"
      ],
      "execution_count": 0,
      "outputs": [
        {
          "output_type": "stream",
          "text": [
            "\r  0%|          | 0/140 [00:00<?, ?it/s]"
          ],
          "name": "stderr"
        },
        {
          "output_type": "stream",
          "text": [
            "\n",
            "EPOCH: 1\n"
          ],
          "name": "stdout"
        },
        {
          "output_type": "stream",
          "text": [
            "Batch: 139, loss: 2.55, Train Accuracy: 37.53 [26269/70000]: 100%|██████████| 140/140 [00:22<00:00,  6.32it/s]\n",
            "Batch: 59, Test Accuracy: 24.44: 100%|██████████| 60/60 [00:08<00:00,  7.03it/s]\n",
            "  0%|          | 0/140 [00:00<?, ?it/s]"
          ],
          "name": "stderr"
        },
        {
          "output_type": "stream",
          "text": [
            "\n",
            "***Test Accuracy is greater than previous max accuracy. Saving model on epoch: 1\n",
            "\n",
            "EPOCH: 2\n"
          ],
          "name": "stdout"
        },
        {
          "output_type": "stream",
          "text": [
            "Batch: 139, loss: 2.50, Train Accuracy: 41.70 [29188/70000]: 100%|██████████| 140/140 [00:21<00:00,  6.36it/s]\n",
            "Batch: 59, Test Accuracy: 25.24: 100%|██████████| 60/60 [00:08<00:00,  7.02it/s]\n",
            "  0%|          | 0/140 [00:00<?, ?it/s]"
          ],
          "name": "stderr"
        },
        {
          "output_type": "stream",
          "text": [
            "\n",
            "***Test Accuracy is greater than previous max accuracy. Saving model on epoch: 2\n",
            "\n",
            "EPOCH: 3\n"
          ],
          "name": "stdout"
        },
        {
          "output_type": "stream",
          "text": [
            "Batch: 139, loss: 2.40, Train Accuracy: 44.91 [31439/70000]: 100%|██████████| 140/140 [00:22<00:00,  6.32it/s]\n",
            "Batch: 59, Test Accuracy: 24.72: 100%|██████████| 60/60 [00:08<00:00,  7.19it/s]\n",
            "  0%|          | 0/140 [00:00<?, ?it/s]"
          ],
          "name": "stderr"
        },
        {
          "output_type": "stream",
          "text": [
            "Epoch     3: reducing learning rate of group 0 to 1.2500e-03.\n",
            "\n",
            "EPOCH: 4\n"
          ],
          "name": "stdout"
        },
        {
          "output_type": "stream",
          "text": [
            "Batch: 139, loss: 1.67, Train Accuracy: 55.00 [38497/70000]: 100%|██████████| 140/140 [00:21<00:00,  6.40it/s]\n",
            "Batch: 59, Test Accuracy: 28.61: 100%|██████████| 60/60 [00:08<00:00,  7.05it/s]\n",
            "  0%|          | 0/140 [00:00<?, ?it/s]"
          ],
          "name": "stderr"
        },
        {
          "output_type": "stream",
          "text": [
            "\n",
            "***Test Accuracy is greater than previous max accuracy. Saving model on epoch: 4\n",
            "\n",
            "EPOCH: 5\n"
          ],
          "name": "stdout"
        },
        {
          "output_type": "stream",
          "text": [
            "Batch: 139, loss: 1.72, Train Accuracy: 58.47 [40932/70000]: 100%|██████████| 140/140 [00:21<00:00,  6.37it/s]\n",
            "Batch: 59, Test Accuracy: 28.72: 100%|██████████| 60/60 [00:08<00:00,  7.16it/s]\n",
            "  0%|          | 0/140 [00:00<?, ?it/s]"
          ],
          "name": "stderr"
        },
        {
          "output_type": "stream",
          "text": [
            "\n",
            "***Test Accuracy is greater than previous max accuracy. Saving model on epoch: 5\n",
            "\n",
            "EPOCH: 6\n"
          ],
          "name": "stdout"
        },
        {
          "output_type": "stream",
          "text": [
            "Batch: 139, loss: 1.53, Train Accuracy: 60.18 [42124/70000]: 100%|██████████| 140/140 [00:22<00:00,  6.27it/s]\n",
            "Batch: 59, Test Accuracy: 28.37: 100%|██████████| 60/60 [00:08<00:00,  7.00it/s]\n",
            "  0%|          | 0/140 [00:00<?, ?it/s]"
          ],
          "name": "stderr"
        },
        {
          "output_type": "stream",
          "text": [
            "Epoch     6: reducing learning rate of group 0 to 1.5625e-04.\n",
            "\n",
            "EPOCH: 7\n"
          ],
          "name": "stdout"
        },
        {
          "output_type": "stream",
          "text": [
            "Batch: 139, loss: 1.49, Train Accuracy: 62.01 [43407/70000]: 100%|██████████| 140/140 [00:21<00:00,  6.43it/s]\n",
            "Batch: 59, Test Accuracy: 28.69: 100%|██████████| 60/60 [00:08<00:00,  7.10it/s]\n",
            "  0%|          | 0/140 [00:00<?, ?it/s]"
          ],
          "name": "stderr"
        },
        {
          "output_type": "stream",
          "text": [
            "Epoch     7: reducing learning rate of group 0 to 1.9531e-05.\n",
            "\n",
            "EPOCH: 8\n"
          ],
          "name": "stdout"
        },
        {
          "output_type": "stream",
          "text": [
            "Batch: 139, loss: 1.65, Train Accuracy: 62.35 [43646/70000]: 100%|██████████| 140/140 [00:21<00:00,  6.41it/s]\n",
            "Batch: 59, Test Accuracy: 28.77: 100%|██████████| 60/60 [00:08<00:00,  7.04it/s]\n",
            "  0%|          | 0/140 [00:00<?, ?it/s]"
          ],
          "name": "stderr"
        },
        {
          "output_type": "stream",
          "text": [
            "\n",
            "***Test Accuracy is greater than previous max accuracy. Saving model on epoch: 8\n",
            "\n",
            "EPOCH: 9\n"
          ],
          "name": "stdout"
        },
        {
          "output_type": "stream",
          "text": [
            "Batch: 139, loss: 1.55, Train Accuracy: 62.54 [43776/70000]: 100%|██████████| 140/140 [00:21<00:00,  6.43it/s]\n",
            "Batch: 59, Test Accuracy: 28.64: 100%|██████████| 60/60 [00:08<00:00,  7.18it/s]\n",
            "  0%|          | 0/140 [00:00<?, ?it/s]"
          ],
          "name": "stderr"
        },
        {
          "output_type": "stream",
          "text": [
            "Epoch     9: reducing learning rate of group 0 to 2.4414e-06.\n",
            "\n",
            "EPOCH: 10\n"
          ],
          "name": "stdout"
        },
        {
          "output_type": "stream",
          "text": [
            "Batch: 139, loss: 1.60, Train Accuracy: 62.56 [43791/70000]: 100%|██████████| 140/140 [00:22<00:00,  6.34it/s]\n",
            "Batch: 59, Test Accuracy: 28.91: 100%|██████████| 60/60 [00:08<00:00,  7.11it/s]\n",
            "  0%|          | 0/140 [00:00<?, ?it/s]"
          ],
          "name": "stderr"
        },
        {
          "output_type": "stream",
          "text": [
            "\n",
            "***Test Accuracy is greater than previous max accuracy. Saving model on epoch: 10\n",
            "\n",
            "EPOCH: 11\n"
          ],
          "name": "stdout"
        },
        {
          "output_type": "stream",
          "text": [
            "Batch: 139, loss: 1.51, Train Accuracy: 62.46 [43723/70000]: 100%|██████████| 140/140 [00:21<00:00,  6.40it/s]\n",
            "Batch: 59, Test Accuracy: 28.83: 100%|██████████| 60/60 [00:08<00:00,  7.26it/s]\n",
            "  0%|          | 0/140 [00:00<?, ?it/s]"
          ],
          "name": "stderr"
        },
        {
          "output_type": "stream",
          "text": [
            "Epoch    11: reducing learning rate of group 0 to 5.0000e-07.\n",
            "\n",
            "EPOCH: 12\n"
          ],
          "name": "stdout"
        },
        {
          "output_type": "stream",
          "text": [
            "Batch: 139, loss: 1.53, Train Accuracy: 62.37 [43661/70000]: 100%|██████████| 140/140 [00:21<00:00,  6.46it/s]\n",
            "Batch: 59, Test Accuracy: 28.79: 100%|██████████| 60/60 [00:08<00:00,  7.01it/s]\n",
            "  0%|          | 0/140 [00:00<?, ?it/s]"
          ],
          "name": "stderr"
        },
        {
          "output_type": "stream",
          "text": [
            "\n",
            "EPOCH: 13\n"
          ],
          "name": "stdout"
        },
        {
          "output_type": "stream",
          "text": [
            "Batch: 139, loss: 1.64, Train Accuracy: 62.38 [43666/70000]: 100%|██████████| 140/140 [00:22<00:00,  6.36it/s]\n",
            "Batch: 59, Test Accuracy: 28.71: 100%|██████████| 60/60 [00:08<00:00,  7.22it/s]\n",
            "  0%|          | 0/140 [00:00<?, ?it/s]"
          ],
          "name": "stderr"
        },
        {
          "output_type": "stream",
          "text": [
            "\n",
            "EPOCH: 14\n"
          ],
          "name": "stdout"
        },
        {
          "output_type": "stream",
          "text": [
            "Batch: 139, loss: 1.59, Train Accuracy: 62.64 [43850/70000]: 100%|██████████| 140/140 [00:21<00:00,  6.45it/s]\n",
            "Batch: 59, Test Accuracy: 28.80: 100%|██████████| 60/60 [00:08<00:00,  7.22it/s]\n",
            "  0%|          | 0/140 [00:00<?, ?it/s]"
          ],
          "name": "stderr"
        },
        {
          "output_type": "stream",
          "text": [
            "\n",
            "EPOCH: 15\n"
          ],
          "name": "stdout"
        },
        {
          "output_type": "stream",
          "text": [
            "Batch: 139, loss: 1.55, Train Accuracy: 62.46 [43722/70000]: 100%|██████████| 140/140 [00:21<00:00,  6.44it/s]\n",
            "Batch: 59, Test Accuracy: 28.70: 100%|██████████| 60/60 [00:08<00:00,  7.17it/s]\n",
            "  0%|          | 0/140 [00:00<?, ?it/s]"
          ],
          "name": "stderr"
        },
        {
          "output_type": "stream",
          "text": [
            "\n",
            "EPOCH: 16\n"
          ],
          "name": "stdout"
        },
        {
          "output_type": "stream",
          "text": [
            "Batch: 139, loss: 1.62, Train Accuracy: 62.57 [43800/70000]: 100%|██████████| 140/140 [00:21<00:00,  6.49it/s]\n",
            "Batch: 59, Test Accuracy: 28.69: 100%|██████████| 60/60 [00:08<00:00,  7.35it/s]\n",
            "  0%|          | 0/140 [00:00<?, ?it/s]"
          ],
          "name": "stderr"
        },
        {
          "output_type": "stream",
          "text": [
            "\n",
            "EPOCH: 17\n"
          ],
          "name": "stdout"
        },
        {
          "output_type": "stream",
          "text": [
            "Batch: 139, loss: 1.52, Train Accuracy: 62.58 [43805/70000]: 100%|██████████| 140/140 [00:21<00:00,  6.50it/s]\n",
            "Batch: 59, Test Accuracy: 28.80: 100%|██████████| 60/60 [00:08<00:00,  7.20it/s]\n",
            "  0%|          | 0/140 [00:00<?, ?it/s]"
          ],
          "name": "stderr"
        },
        {
          "output_type": "stream",
          "text": [
            "\n",
            "EPOCH: 18\n"
          ],
          "name": "stdout"
        },
        {
          "output_type": "stream",
          "text": [
            "Batch: 139, loss: 1.53, Train Accuracy: 62.58 [43809/70000]: 100%|██████████| 140/140 [00:21<00:00,  6.49it/s]\n",
            "Batch: 59, Test Accuracy: 28.73: 100%|██████████| 60/60 [00:08<00:00,  7.13it/s]\n",
            "  0%|          | 0/140 [00:00<?, ?it/s]"
          ],
          "name": "stderr"
        },
        {
          "output_type": "stream",
          "text": [
            "\n",
            "EPOCH: 19\n"
          ],
          "name": "stdout"
        },
        {
          "output_type": "stream",
          "text": [
            "Batch: 139, loss: 1.64, Train Accuracy: 62.70 [43889/70000]: 100%|██████████| 140/140 [00:21<00:00,  6.56it/s]\n",
            "Batch: 59, Test Accuracy: 29.07: 100%|██████████| 60/60 [00:08<00:00,  7.24it/s]\n",
            "  0%|          | 0/140 [00:00<?, ?it/s]"
          ],
          "name": "stderr"
        },
        {
          "output_type": "stream",
          "text": [
            "\n",
            "***Test Accuracy is greater than previous max accuracy. Saving model on epoch: 19\n",
            "\n",
            "EPOCH: 20\n"
          ],
          "name": "stdout"
        },
        {
          "output_type": "stream",
          "text": [
            "Batch: 139, loss: 1.59, Train Accuracy: 62.42 [43697/70000]: 100%|██████████| 140/140 [00:21<00:00,  6.53it/s]\n",
            "Batch: 59, Test Accuracy: 28.95: 100%|██████████| 60/60 [00:08<00:00,  7.32it/s]\n",
            "  0%|          | 0/140 [00:00<?, ?it/s]"
          ],
          "name": "stderr"
        },
        {
          "output_type": "stream",
          "text": [
            "\n",
            "EPOCH: 21\n"
          ],
          "name": "stdout"
        },
        {
          "output_type": "stream",
          "text": [
            "Batch: 139, loss: 1.55, Train Accuracy: 62.65 [43854/70000]: 100%|██████████| 140/140 [00:21<00:00,  6.58it/s]\n",
            "Batch: 59, Test Accuracy: 28.66: 100%|██████████| 60/60 [00:08<00:00,  7.36it/s]\n",
            "  0%|          | 0/140 [00:00<?, ?it/s]"
          ],
          "name": "stderr"
        },
        {
          "output_type": "stream",
          "text": [
            "\n",
            "EPOCH: 22\n"
          ],
          "name": "stdout"
        },
        {
          "output_type": "stream",
          "text": [
            "Batch: 139, loss: 1.51, Train Accuracy: 62.37 [43656/70000]: 100%|██████████| 140/140 [00:21<00:00,  6.44it/s]\n",
            "Batch: 59, Test Accuracy: 28.79: 100%|██████████| 60/60 [00:08<00:00,  7.49it/s]\n",
            "  0%|          | 0/140 [00:00<?, ?it/s]"
          ],
          "name": "stderr"
        },
        {
          "output_type": "stream",
          "text": [
            "\n",
            "EPOCH: 23\n"
          ],
          "name": "stdout"
        },
        {
          "output_type": "stream",
          "text": [
            "Batch: 139, loss: 1.64, Train Accuracy: 62.69 [43882/70000]: 100%|██████████| 140/140 [00:21<00:00,  6.63it/s]\n",
            "Batch: 59, Test Accuracy: 28.92: 100%|██████████| 60/60 [00:08<00:00,  7.39it/s]\n",
            "  0%|          | 0/140 [00:00<?, ?it/s]"
          ],
          "name": "stderr"
        },
        {
          "output_type": "stream",
          "text": [
            "\n",
            "EPOCH: 24\n"
          ],
          "name": "stdout"
        },
        {
          "output_type": "stream",
          "text": [
            "Batch: 139, loss: 1.56, Train Accuracy: 62.55 [43782/70000]: 100%|██████████| 140/140 [00:21<00:00,  6.58it/s]\n",
            "Batch: 59, Test Accuracy: 28.72: 100%|██████████| 60/60 [00:08<00:00,  7.30it/s]\n",
            "  0%|          | 0/140 [00:00<?, ?it/s]"
          ],
          "name": "stderr"
        },
        {
          "output_type": "stream",
          "text": [
            "\n",
            "EPOCH: 25\n"
          ],
          "name": "stdout"
        },
        {
          "output_type": "stream",
          "text": [
            "Batch: 139, loss: 1.63, Train Accuracy: 62.61 [43827/70000]: 100%|██████████| 140/140 [00:21<00:00,  6.55it/s]\n",
            "Batch: 59, Test Accuracy: 28.66: 100%|██████████| 60/60 [00:08<00:00,  7.38it/s]\n",
            "  0%|          | 0/140 [00:00<?, ?it/s]"
          ],
          "name": "stderr"
        },
        {
          "output_type": "stream",
          "text": [
            "\n",
            "EPOCH: 26\n"
          ],
          "name": "stdout"
        },
        {
          "output_type": "stream",
          "text": [
            "Batch: 139, loss: 1.56, Train Accuracy: 62.43 [43702/70000]: 100%|██████████| 140/140 [00:21<00:00,  6.57it/s]\n",
            "Batch: 59, Test Accuracy: 28.97: 100%|██████████| 60/60 [00:08<00:00,  7.31it/s]\n",
            "  0%|          | 0/140 [00:00<?, ?it/s]"
          ],
          "name": "stderr"
        },
        {
          "output_type": "stream",
          "text": [
            "\n",
            "EPOCH: 27\n"
          ],
          "name": "stdout"
        },
        {
          "output_type": "stream",
          "text": [
            "Batch: 139, loss: 1.62, Train Accuracy: 62.47 [43731/70000]: 100%|██████████| 140/140 [00:21<00:00,  6.47it/s]\n",
            "Batch: 59, Test Accuracy: 29.00: 100%|██████████| 60/60 [00:08<00:00,  7.34it/s]\n",
            "  0%|          | 0/140 [00:00<?, ?it/s]"
          ],
          "name": "stderr"
        },
        {
          "output_type": "stream",
          "text": [
            "\n",
            "EPOCH: 28\n"
          ],
          "name": "stdout"
        },
        {
          "output_type": "stream",
          "text": [
            "Batch: 139, loss: 1.52, Train Accuracy: 62.66 [43861/70000]: 100%|██████████| 140/140 [00:21<00:00,  6.60it/s]\n",
            "Batch: 59, Test Accuracy: 28.71: 100%|██████████| 60/60 [00:08<00:00,  7.38it/s]\n",
            "  0%|          | 0/140 [00:00<?, ?it/s]"
          ],
          "name": "stderr"
        },
        {
          "output_type": "stream",
          "text": [
            "\n",
            "EPOCH: 29\n"
          ],
          "name": "stdout"
        },
        {
          "output_type": "stream",
          "text": [
            "Batch: 139, loss: 1.53, Train Accuracy: 62.65 [43857/70000]: 100%|██████████| 140/140 [00:21<00:00,  6.47it/s]\n",
            "Batch: 59, Test Accuracy: 28.82: 100%|██████████| 60/60 [00:08<00:00,  7.14it/s]\n",
            "  0%|          | 0/140 [00:00<?, ?it/s]"
          ],
          "name": "stderr"
        },
        {
          "output_type": "stream",
          "text": [
            "\n",
            "EPOCH: 30\n"
          ],
          "name": "stdout"
        },
        {
          "output_type": "stream",
          "text": [
            "Batch: 139, loss: 1.49, Train Accuracy: 62.48 [43736/70000]: 100%|██████████| 140/140 [00:21<00:00,  6.50it/s]\n",
            "Batch: 59, Test Accuracy: 28.76: 100%|██████████| 60/60 [00:08<00:00,  7.41it/s]\n",
            "  0%|          | 0/140 [00:00<?, ?it/s]"
          ],
          "name": "stderr"
        },
        {
          "output_type": "stream",
          "text": [
            "\n",
            "EPOCH: 31\n"
          ],
          "name": "stdout"
        },
        {
          "output_type": "stream",
          "text": [
            "Batch: 139, loss: 1.61, Train Accuracy: 62.43 [43704/70000]: 100%|██████████| 140/140 [00:21<00:00,  6.54it/s]\n",
            "Batch: 59, Test Accuracy: 29.14: 100%|██████████| 60/60 [00:08<00:00,  6.98it/s]\n",
            "  0%|          | 0/140 [00:00<?, ?it/s]"
          ],
          "name": "stderr"
        },
        {
          "output_type": "stream",
          "text": [
            "\n",
            "***Test Accuracy is greater than previous max accuracy. Saving model on epoch: 31\n",
            "\n",
            "EPOCH: 32\n"
          ],
          "name": "stdout"
        },
        {
          "output_type": "stream",
          "text": [
            "Batch: 139, loss: 1.51, Train Accuracy: 62.42 [43697/70000]: 100%|██████████| 140/140 [00:21<00:00,  6.57it/s]\n",
            "Batch: 59, Test Accuracy: 28.94: 100%|██████████| 60/60 [00:07<00:00,  7.50it/s]\n",
            "  0%|          | 0/140 [00:00<?, ?it/s]"
          ],
          "name": "stderr"
        },
        {
          "output_type": "stream",
          "text": [
            "\n",
            "EPOCH: 33\n"
          ],
          "name": "stdout"
        },
        {
          "output_type": "stream",
          "text": [
            "Batch: 139, loss: 1.56, Train Accuracy: 62.63 [43844/70000]: 100%|██████████| 140/140 [00:21<00:00,  6.58it/s]\n",
            "Batch: 59, Test Accuracy: 28.89: 100%|██████████| 60/60 [00:08<00:00,  7.49it/s]\n",
            "  0%|          | 0/140 [00:00<?, ?it/s]"
          ],
          "name": "stderr"
        },
        {
          "output_type": "stream",
          "text": [
            "\n",
            "EPOCH: 34\n"
          ],
          "name": "stdout"
        },
        {
          "output_type": "stream",
          "text": [
            "Batch: 139, loss: 1.57, Train Accuracy: 62.71 [43898/70000]: 100%|██████████| 140/140 [00:21<00:00,  6.57it/s]\n",
            "Batch: 59, Test Accuracy: 28.70: 100%|██████████| 60/60 [00:08<00:00,  7.34it/s]\n",
            "  0%|          | 0/140 [00:00<?, ?it/s]"
          ],
          "name": "stderr"
        },
        {
          "output_type": "stream",
          "text": [
            "\n",
            "EPOCH: 35\n"
          ],
          "name": "stdout"
        },
        {
          "output_type": "stream",
          "text": [
            "Batch: 139, loss: 1.55, Train Accuracy: 62.40 [43681/70000]: 100%|██████████| 140/140 [00:20<00:00,  6.68it/s]\n",
            "Batch: 59, Test Accuracy: 28.67: 100%|██████████| 60/60 [00:08<00:00,  7.20it/s]\n",
            "  0%|          | 0/140 [00:00<?, ?it/s]"
          ],
          "name": "stderr"
        },
        {
          "output_type": "stream",
          "text": [
            "\n",
            "EPOCH: 36\n"
          ],
          "name": "stdout"
        },
        {
          "output_type": "stream",
          "text": [
            "Batch: 139, loss: 1.48, Train Accuracy: 62.48 [43733/70000]: 100%|██████████| 140/140 [00:21<00:00,  6.59it/s]\n",
            "Batch: 59, Test Accuracy: 28.97: 100%|██████████| 60/60 [00:08<00:00,  7.28it/s]\n",
            "  0%|          | 0/140 [00:00<?, ?it/s]"
          ],
          "name": "stderr"
        },
        {
          "output_type": "stream",
          "text": [
            "\n",
            "EPOCH: 37\n"
          ],
          "name": "stdout"
        },
        {
          "output_type": "stream",
          "text": [
            "Batch: 139, loss: 1.67, Train Accuracy: 62.35 [43647/70000]: 100%|██████████| 140/140 [00:21<00:00,  6.60it/s]\n",
            "Batch: 59, Test Accuracy: 29.02: 100%|██████████| 60/60 [00:08<00:00,  7.28it/s]\n",
            "  0%|          | 0/140 [00:00<?, ?it/s]"
          ],
          "name": "stderr"
        },
        {
          "output_type": "stream",
          "text": [
            "\n",
            "EPOCH: 38\n"
          ],
          "name": "stdout"
        },
        {
          "output_type": "stream",
          "text": [
            "Batch: 139, loss: 1.66, Train Accuracy: 62.62 [43831/70000]: 100%|██████████| 140/140 [00:21<00:00,  6.53it/s]\n",
            "Batch: 59, Test Accuracy: 28.90: 100%|██████████| 60/60 [00:08<00:00,  7.39it/s]\n",
            "  0%|          | 0/140 [00:00<?, ?it/s]"
          ],
          "name": "stderr"
        },
        {
          "output_type": "stream",
          "text": [
            "\n",
            "EPOCH: 39\n"
          ],
          "name": "stdout"
        },
        {
          "output_type": "stream",
          "text": [
            "Batch: 139, loss: 1.61, Train Accuracy: 62.46 [43725/70000]: 100%|██████████| 140/140 [00:21<00:00,  6.49it/s]\n",
            "Batch: 59, Test Accuracy: 28.74: 100%|██████████| 60/60 [00:08<00:00,  7.27it/s]\n",
            "  0%|          | 0/140 [00:00<?, ?it/s]"
          ],
          "name": "stderr"
        },
        {
          "output_type": "stream",
          "text": [
            "\n",
            "EPOCH: 40\n"
          ],
          "name": "stdout"
        },
        {
          "output_type": "stream",
          "text": [
            "Batch: 139, loss: 1.65, Train Accuracy: 62.61 [43825/70000]: 100%|██████████| 140/140 [00:21<00:00,  6.50it/s]\n",
            "Batch: 59, Test Accuracy: 28.77: 100%|██████████| 60/60 [00:08<00:00,  7.27it/s]\n",
            "  0%|          | 0/140 [00:00<?, ?it/s]"
          ],
          "name": "stderr"
        },
        {
          "output_type": "stream",
          "text": [
            "\n",
            "EPOCH: 41\n"
          ],
          "name": "stdout"
        },
        {
          "output_type": "stream",
          "text": [
            "Batch: 139, loss: 1.49, Train Accuracy: 62.53 [43770/70000]: 100%|██████████| 140/140 [00:21<00:00,  6.47it/s]\n",
            "Batch: 59, Test Accuracy: 29.09: 100%|██████████| 60/60 [00:08<00:00,  7.35it/s]\n",
            "  0%|          | 0/140 [00:00<?, ?it/s]"
          ],
          "name": "stderr"
        },
        {
          "output_type": "stream",
          "text": [
            "\n",
            "EPOCH: 42\n"
          ],
          "name": "stdout"
        },
        {
          "output_type": "stream",
          "text": [
            "Batch: 139, loss: 1.70, Train Accuracy: 62.67 [43869/70000]: 100%|██████████| 140/140 [00:21<00:00,  6.51it/s]\n",
            "Batch: 59, Test Accuracy: 28.84: 100%|██████████| 60/60 [00:08<00:00,  7.06it/s]\n",
            "  0%|          | 0/140 [00:00<?, ?it/s]"
          ],
          "name": "stderr"
        },
        {
          "output_type": "stream",
          "text": [
            "\n",
            "EPOCH: 43\n"
          ],
          "name": "stdout"
        },
        {
          "output_type": "stream",
          "text": [
            "Batch: 139, loss: 1.61, Train Accuracy: 62.48 [43739/70000]: 100%|██████████| 140/140 [00:21<00:00,  6.59it/s]\n",
            "Batch: 59, Test Accuracy: 28.59: 100%|██████████| 60/60 [00:08<00:00,  7.41it/s]\n",
            "  0%|          | 0/140 [00:00<?, ?it/s]"
          ],
          "name": "stderr"
        },
        {
          "output_type": "stream",
          "text": [
            "\n",
            "EPOCH: 44\n"
          ],
          "name": "stdout"
        },
        {
          "output_type": "stream",
          "text": [
            "Batch: 139, loss: 1.65, Train Accuracy: 62.56 [43791/70000]: 100%|██████████| 140/140 [00:21<00:00,  6.50it/s]\n",
            "Batch: 59, Test Accuracy: 28.64: 100%|██████████| 60/60 [00:08<00:00,  7.38it/s]\n",
            "  0%|          | 0/140 [00:00<?, ?it/s]"
          ],
          "name": "stderr"
        },
        {
          "output_type": "stream",
          "text": [
            "\n",
            "EPOCH: 45\n"
          ],
          "name": "stdout"
        },
        {
          "output_type": "stream",
          "text": [
            "Batch: 139, loss: 1.51, Train Accuracy: 62.58 [43804/70000]: 100%|██████████| 140/140 [00:21<00:00,  6.53it/s]\n",
            "Batch: 59, Test Accuracy: 28.80: 100%|██████████| 60/60 [00:08<00:00,  7.27it/s]\n",
            "  0%|          | 0/140 [00:00<?, ?it/s]"
          ],
          "name": "stderr"
        },
        {
          "output_type": "stream",
          "text": [
            "\n",
            "EPOCH: 46\n"
          ],
          "name": "stdout"
        },
        {
          "output_type": "stream",
          "text": [
            "Batch: 139, loss: 1.59, Train Accuracy: 62.47 [43732/70000]: 100%|██████████| 140/140 [00:21<00:00,  6.39it/s]\n",
            "Batch: 59, Test Accuracy: 28.72: 100%|██████████| 60/60 [00:08<00:00,  7.46it/s]\n",
            "  0%|          | 0/140 [00:00<?, ?it/s]"
          ],
          "name": "stderr"
        },
        {
          "output_type": "stream",
          "text": [
            "\n",
            "EPOCH: 47\n"
          ],
          "name": "stdout"
        },
        {
          "output_type": "stream",
          "text": [
            "Batch: 139, loss: 1.62, Train Accuracy: 62.64 [43849/70000]: 100%|██████████| 140/140 [00:21<00:00,  6.39it/s]\n",
            "Batch: 59, Test Accuracy: 29.25: 100%|██████████| 60/60 [00:08<00:00,  7.32it/s]\n",
            "  0%|          | 0/140 [00:00<?, ?it/s]"
          ],
          "name": "stderr"
        },
        {
          "output_type": "stream",
          "text": [
            "\n",
            "***Test Accuracy is greater than previous max accuracy. Saving model on epoch: 47\n",
            "\n",
            "EPOCH: 48\n"
          ],
          "name": "stdout"
        },
        {
          "output_type": "stream",
          "text": [
            "Batch: 139, loss: 1.67, Train Accuracy: 62.73 [43912/70000]: 100%|██████████| 140/140 [00:21<00:00,  6.57it/s]\n",
            "Batch: 59, Test Accuracy: 28.84: 100%|██████████| 60/60 [00:08<00:00,  7.27it/s]\n",
            "  0%|          | 0/140 [00:00<?, ?it/s]"
          ],
          "name": "stderr"
        },
        {
          "output_type": "stream",
          "text": [
            "\n",
            "EPOCH: 49\n"
          ],
          "name": "stdout"
        },
        {
          "output_type": "stream",
          "text": [
            "Batch: 139, loss: 1.57, Train Accuracy: 62.52 [43766/70000]: 100%|██████████| 140/140 [00:21<00:00,  6.52it/s]\n",
            "Batch: 59, Test Accuracy: 29.06: 100%|██████████| 60/60 [00:08<00:00,  7.29it/s]\n",
            "  0%|          | 0/140 [00:00<?, ?it/s]"
          ],
          "name": "stderr"
        },
        {
          "output_type": "stream",
          "text": [
            "\n",
            "EPOCH: 50\n"
          ],
          "name": "stdout"
        },
        {
          "output_type": "stream",
          "text": [
            "Batch: 139, loss: 1.57, Train Accuracy: 62.87 [44008/70000]: 100%|██████████| 140/140 [00:21<00:00,  6.55it/s]\n",
            "Batch: 59, Test Accuracy: 28.82: 100%|██████████| 60/60 [00:08<00:00,  7.24it/s]\n"
          ],
          "name": "stderr"
        }
      ]
    },
    {
      "cell_type": "markdown",
      "metadata": {
        "id": "KlQKRG9I1Nkq",
        "colab_type": "text"
      },
      "source": [
        "# Epochs & Train Accuracy"
      ]
    },
    {
      "cell_type": "code",
      "metadata": {
        "id": "ZU0667gp0Zgn",
        "colab_type": "code",
        "outputId": "4563aa63-a407-4653-fdce-4e755c673800",
        "colab": {
          "base_uri": "https://localhost:8080/",
          "height": 295
        }
      },
      "source": [
        "view.show_graph(range(epochs), train_accuracy, \"epochs\", \"Train Accuracy\", \"Epochs Vs Train Accuracy\")"
      ],
      "execution_count": 0,
      "outputs": [
        {
          "output_type": "display_data",
          "data": {
            "image/png": "[encoded data removed]",
            "text/plain": [
              "<Figure size 432x288 with 1 Axes>"
            ]
          },
          "metadata": {
            "tags": [],
            "needs_background": "light"
          }
        }
      ]
    },
    {
      "cell_type": "markdown",
      "metadata": {
        "colab_type": "text",
        "id": "exjOUxVE1V0B"
      },
      "source": [
        "# Epochs & Test Accuracy"
      ]
    },
    {
      "cell_type": "code",
      "metadata": {
        "colab_type": "code",
        "id": "ORXHq6rx1V0C",
        "outputId": "32790d65-7a0a-40c3-f2cd-899237d357cc",
        "colab": {
          "base_uri": "https://localhost:8080/",
          "height": 295
        }
      },
      "source": [
        "view.show_graph(range(epochs), test_accuracy, \"epochs\", \"Test Accuracy\", \"Epochs Vs Test Accuracy\")"
      ],
      "execution_count": 0,
      "outputs": [
        {
          "output_type": "display_data",
          "data": {
            "image/png": "[encoded data removed]",
            "text/plain": [
              "<Figure size 432x288 with 1 Axes>"
            ]
          },
          "metadata": {
            "tags": [],
            "needs_background": "light"
          }
        }
      ]
    }
  ]
}