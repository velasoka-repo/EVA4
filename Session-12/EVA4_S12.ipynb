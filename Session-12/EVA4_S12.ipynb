{
  "nbformat": 4,
  "nbformat_minor": 0,
  "metadata": {
    "colab": {
      "name": "EVA4-S12.ipynb",
      "provenance": [],
      "collapsed_sections": [],
      "machine_shape": "hm",
      "authorship_tag": "ABX9TyPs7DMAW7szpCN9EzAqHQ8Q",
      "include_colab_link": true
    },
    "kernelspec": {
      "name": "python3",
      "display_name": "Python 3"
    },
    "accelerator": "GPU"
  },
  "cells": [
    {
      "cell_type": "markdown",
      "metadata": {
        "id": "view-in-github",
        "colab_type": "text"
      },
      "source": [
        "<a href=\"https://colab.research.google.com/github/velasoka-repo/EVA4/blob/master/Session-12/EVA4_S12.ipynb\" target=\"_parent\"><img src=\"https://colab.research.google.com/assets/colab-badge.svg\" alt=\"Open In Colab\"/></a>"
      ]
    },
    {
      "cell_type": "markdown",
      "metadata": {
        "id": "9xkz_8DtbIOg",
        "colab_type": "text"
      },
      "source": [
        "# [Github Link](https://github.com/velasoka-repo/EVA4/tree/master/Session-12)"
      ]
    },
    {
      "cell_type": "markdown",
      "metadata": {
        "id": "BG64wVL7N3Px",
        "colab_type": "text"
      },
      "source": [
        "# Google Drive Mount"
      ]
    },
    {
      "cell_type": "code",
      "metadata": {
        "id": "nd1dYBvmFqP6",
        "colab_type": "code",
        "outputId": "522b748c-de92-4058-8305-6246072375e0",
        "colab": {
          "base_uri": "https://localhost:8080/",
          "height": 34
        }
      },
      "source": [
        "from google.colab import drive\n",
        "drive.mount('/content/gdrive')\n",
        "\n",
        "#add working directory into syspath\n",
        "EVA4_PATH = \"/content/gdrive/My Drive/Colab Notebooks/EVA4/Session-12\"\n",
        "import sys\n",
        "if not EVA4_PATH in sys.path:\n",
        "  sys.path.append(EVA4_PATH)"
      ],
      "execution_count": 12,
      "outputs": [
        {
          "output_type": "stream",
          "text": [
            "Drive already mounted at /content/gdrive; to attempt to forcibly remount, call drive.mount(\"/content/gdrive\", force_remount=True).\n"
          ],
          "name": "stdout"
        }
      ]
    },
    {
      "cell_type": "markdown",
      "metadata": {
        "id": "npn_nNTFgshj",
        "colab_type": "text"
      },
      "source": [
        "# Download Image"
      ]
    },
    {
      "cell_type": "code",
      "metadata": {
        "id": "ug9Yadvfv6fa",
        "colab_type": "code",
        "colab": {}
      },
      "source": [
        "#!/usr/bin/python3\n",
        "from urllib.request import urlopen\n",
        "from zipfile import ZipFile\n",
        "\n",
        "zipurl = 'http://cs231n.stanford.edu/tiny-imagenet-200.zip'\n",
        "    # Download the file from the URL\n",
        "zipresp = urlopen(zipurl)\n",
        "    # Create a new file on the hard drive\n",
        "tempzip = open(\"/tmp/tempfile.zip\", \"wb\")\n",
        "    # Write the contents of the downloaded file into the new file\n",
        "tempzip.write(zipresp.read())\n",
        "    # Close the newly-created file\n",
        "tempzip.close()\n",
        "    # Re-open the newly-created file with ZipFile()\n",
        "zf = ZipFile(\"/tmp/tempfile.zip\")\n",
        "    # Extract its contents into <extraction_path>\n",
        "    # note that extractall will automatically create the path\n",
        "zf.extractall(path = '/opt/')\n",
        "    # close the ZipFile instance\n",
        "zf.close()"
      ],
      "execution_count": 0,
      "outputs": []
    },
    {
      "cell_type": "markdown",
      "metadata": {
        "id": "J-hy7FYfPSrs",
        "colab_type": "text"
      },
      "source": [
        "# Python Module Import & device"
      ]
    },
    {
      "cell_type": "code",
      "metadata": {
        "id": "uBFTfUL3PRF2",
        "colab_type": "code",
        "outputId": "e483467d-a5db-40db-e437-5feae19cdbd0",
        "colab": {
          "base_uri": "https://localhost:8080/",
          "height": 34
        }
      },
      "source": [
        "import utils.data as data\n",
        "import utils.transform as tf\n",
        "import model.nn2 as nn2\n",
        "import utils.torch_util as util\n",
        "import utils.visualize as view\n",
        "import utils.runner as network\n",
        "\n",
        "#device\n",
        "device = util.device()\n",
        "print(f\"Device: {device}\")"
      ],
      "execution_count": 14,
      "outputs": [
        {
          "output_type": "stream",
          "text": [
            "Device: cuda\n"
          ],
          "name": "stdout"
        }
      ]
    },
    {
      "cell_type": "markdown",
      "metadata": {
        "id": "4WG5OVIgwyFs",
        "colab_type": "text"
      },
      "source": [
        "# Read TinyImageNet Data"
      ]
    },
    {
      "cell_type": "code",
      "metadata": {
        "id": "dhAMayontbeP",
        "colab_type": "code",
        "outputId": "a941eaeb-5ca3-4154-c2d5-8d475cd05274",
        "colab": {
          "base_uri": "https://localhost:8080/",
          "height": 34
        }
      },
      "source": [
        "data_path = f\"/opt/tiny-imagenet-200\"\n",
        "\n",
        "# read tinyimagenet data\n",
        "img_dataset = data.LoadImage(root_path=data_path)\n",
        "mean, std = util.normalized_mean_std(img_dataset.mean, img_dataset.std)"
      ],
      "execution_count": 15,
      "outputs": [
        {
          "output_type": "stream",
          "text": [
            "Total time taken to load image: 24.79 seconds\n"
          ],
          "name": "stdout"
        }
      ]
    },
    {
      "cell_type": "markdown",
      "metadata": {
        "id": "v8NIU9ArxVMG",
        "colab_type": "text"
      },
      "source": [
        "# Create Train & Test dataset"
      ]
    },
    {
      "cell_type": "code",
      "metadata": {
        "id": "Lm20Gv3mxC14",
        "colab_type": "code",
        "colab": {}
      },
      "source": [
        "import torch\n",
        "torch.manual_seed(6)\n",
        "torch.cuda.manual_seed(6)\n",
        "\n",
        "tf_util = tf.torch_transform()\n",
        "train_compose_transforms = tf.compose_transforms(tf_util.RandomHorizontalFlip(p=0.5), tf_util.RandomCrop(size=64, padding=4, padding_mode=\"edge\"), tf_util.ToTensor(), tf_util.Normalize(mean=mean, std=std))\n",
        "train_dataset = data.ImageDataset(dataset=img_dataset.train_data, labels=img_dataset.train_labels,\n",
        "                                  transforms=train_compose_transforms)\n",
        "\n",
        "test_compose_transforms = tf.compose_transforms(tf_util.ToTensor(), tf_util.Normalize(mean=mean, std=std))\n",
        "test_dataset = data.ImageDataset(dataset=img_dataset.test_data, labels=img_dataset.test_labels,\n",
        "                                  transforms=test_compose_transforms)"
      ],
      "execution_count": 0,
      "outputs": []
    },
    {
      "cell_type": "markdown",
      "metadata": {
        "id": "a5EiUgchxdCq",
        "colab_type": "text"
      },
      "source": [
        "# Create Train & Test Dataloader"
      ]
    },
    {
      "cell_type": "code",
      "metadata": {
        "id": "JfgvsIo-xZJo",
        "colab_type": "code",
        "colab": {}
      },
      "source": [
        "torch.manual_seed(6)\n",
        "torch.cuda.manual_seed(6)\n",
        "\n",
        "kwargs = {'pin_memory': True, 'num_workers': 4}\n",
        "train_loader = data.TinyImageNetDataLoader(dataset=train_dataset, batch_size=500, shuffle=True, **kwargs).dataloader\n",
        "test_loader = data.TinyImageNetDataLoader(dataset=test_dataset, batch_size=500, shuffle=False, **kwargs).dataloader"
      ],
      "execution_count": 0,
      "outputs": []
    },
    {
      "cell_type": "markdown",
      "metadata": {
        "id": "rgJtFY5VxuNd",
        "colab_type": "text"
      },
      "source": [
        "# Create Model & Summary"
      ]
    },
    {
      "cell_type": "code",
      "metadata": {
        "id": "4uaxNxZDxqA0",
        "colab_type": "code",
        "outputId": "5e8e73b7-2178-45c5-8160-c05b4b1a88cb",
        "colab": {
          "base_uri": "https://localhost:8080/",
          "height": 1000
        }
      },
      "source": [
        "torch.manual_seed(6)\n",
        "torch.cuda.manual_seed(6)\n",
        "\n",
        "model = nn2.resnet18(num_classes=200).to(device)\n",
        "util.model_summary(model=model, input_size=(3, 64, 64))"
      ],
      "execution_count": 18,
      "outputs": [
        {
          "output_type": "stream",
          "text": [
            "----------------------------------------------------------------\n",
            "        Layer (type)               Output Shape         Param #\n",
            "================================================================\n",
            "            Conv2d-1           [-1, 64, 32, 32]           9,408\n",
            "       BatchNorm2d-2           [-1, 64, 32, 32]             128\n",
            "              ReLU-3           [-1, 64, 32, 32]               0\n",
            "         MaxPool2d-4           [-1, 64, 16, 16]               0\n",
            "            Conv2d-5           [-1, 64, 16, 16]          36,864\n",
            "       BatchNorm2d-6           [-1, 64, 16, 16]             128\n",
            "              ReLU-7           [-1, 64, 16, 16]               0\n",
            "            Conv2d-8           [-1, 64, 16, 16]          36,864\n",
            "       BatchNorm2d-9           [-1, 64, 16, 16]             128\n",
            "             ReLU-10           [-1, 64, 16, 16]               0\n",
            "       BasicBlock-11           [-1, 64, 16, 16]               0\n",
            "           Conv2d-12           [-1, 64, 16, 16]          36,864\n",
            "      BatchNorm2d-13           [-1, 64, 16, 16]             128\n",
            "             ReLU-14           [-1, 64, 16, 16]               0\n",
            "           Conv2d-15           [-1, 64, 16, 16]          36,864\n",
            "      BatchNorm2d-16           [-1, 64, 16, 16]             128\n",
            "             ReLU-17           [-1, 64, 16, 16]               0\n",
            "       BasicBlock-18           [-1, 64, 16, 16]               0\n",
            "           Conv2d-19            [-1, 128, 8, 8]          73,728\n",
            "      BatchNorm2d-20            [-1, 128, 8, 8]             256\n",
            "             ReLU-21            [-1, 128, 8, 8]               0\n",
            "           Conv2d-22            [-1, 128, 8, 8]         147,456\n",
            "      BatchNorm2d-23            [-1, 128, 8, 8]             256\n",
            "           Conv2d-24            [-1, 128, 8, 8]           8,192\n",
            "      BatchNorm2d-25            [-1, 128, 8, 8]             256\n",
            "             ReLU-26            [-1, 128, 8, 8]               0\n",
            "       BasicBlock-27            [-1, 128, 8, 8]               0\n",
            "           Conv2d-28            [-1, 128, 8, 8]         147,456\n",
            "      BatchNorm2d-29            [-1, 128, 8, 8]             256\n",
            "             ReLU-30            [-1, 128, 8, 8]               0\n",
            "           Conv2d-31            [-1, 128, 8, 8]         147,456\n",
            "      BatchNorm2d-32            [-1, 128, 8, 8]             256\n",
            "             ReLU-33            [-1, 128, 8, 8]               0\n",
            "       BasicBlock-34            [-1, 128, 8, 8]               0\n",
            "           Conv2d-35            [-1, 256, 4, 4]         294,912\n",
            "      BatchNorm2d-36            [-1, 256, 4, 4]             512\n",
            "             ReLU-37            [-1, 256, 4, 4]               0\n",
            "           Conv2d-38            [-1, 256, 4, 4]         589,824\n",
            "      BatchNorm2d-39            [-1, 256, 4, 4]             512\n",
            "           Conv2d-40            [-1, 256, 4, 4]          32,768\n",
            "      BatchNorm2d-41            [-1, 256, 4, 4]             512\n",
            "             ReLU-42            [-1, 256, 4, 4]               0\n",
            "       BasicBlock-43            [-1, 256, 4, 4]               0\n",
            "           Conv2d-44            [-1, 256, 4, 4]         589,824\n",
            "      BatchNorm2d-45            [-1, 256, 4, 4]             512\n",
            "             ReLU-46            [-1, 256, 4, 4]               0\n",
            "           Conv2d-47            [-1, 256, 4, 4]         589,824\n",
            "      BatchNorm2d-48            [-1, 256, 4, 4]             512\n",
            "             ReLU-49            [-1, 256, 4, 4]               0\n",
            "       BasicBlock-50            [-1, 256, 4, 4]               0\n",
            "           Conv2d-51            [-1, 512, 2, 2]       1,179,648\n",
            "      BatchNorm2d-52            [-1, 512, 2, 2]           1,024\n",
            "             ReLU-53            [-1, 512, 2, 2]               0\n",
            "           Conv2d-54            [-1, 512, 2, 2]       2,359,296\n",
            "      BatchNorm2d-55            [-1, 512, 2, 2]           1,024\n",
            "           Conv2d-56            [-1, 512, 2, 2]         131,072\n",
            "      BatchNorm2d-57            [-1, 512, 2, 2]           1,024\n",
            "             ReLU-58            [-1, 512, 2, 2]               0\n",
            "       BasicBlock-59            [-1, 512, 2, 2]               0\n",
            "           Conv2d-60            [-1, 512, 2, 2]       2,359,296\n",
            "      BatchNorm2d-61            [-1, 512, 2, 2]           1,024\n",
            "             ReLU-62            [-1, 512, 2, 2]               0\n",
            "           Conv2d-63            [-1, 512, 2, 2]       2,359,296\n",
            "      BatchNorm2d-64            [-1, 512, 2, 2]           1,024\n",
            "             ReLU-65            [-1, 512, 2, 2]               0\n",
            "       BasicBlock-66            [-1, 512, 2, 2]               0\n",
            "AdaptiveAvgPool2d-67            [-1, 512, 1, 1]               0\n",
            "           Linear-68                  [-1, 200]         102,600\n",
            "================================================================\n",
            "Total params: 11,279,112\n",
            "Trainable params: 11,279,112\n",
            "Non-trainable params: 0\n",
            "----------------------------------------------------------------\n",
            "Input size (MB): 0.05\n",
            "Forward/backward pass size (MB): 5.13\n",
            "Params size (MB): 43.03\n",
            "Estimated Total Size (MB): 48.20\n",
            "----------------------------------------------------------------\n"
          ],
          "name": "stdout"
        }
      ]
    },
    {
      "cell_type": "markdown",
      "metadata": {
        "id": "G4C5wKmRx1je",
        "colab_type": "text"
      },
      "source": [
        "# Load Model state_dict"
      ]
    },
    {
      "cell_type": "code",
      "metadata": {
        "id": "E0VbgNscxqGC",
        "colab_type": "code",
        "colab": {}
      },
      "source": [
        "trained_model_path = util.drive_path(filename=\"tiny-imagenet-resnet18.pt\", folder=\"Session-12\") \n",
        "if trained_model_path:\n",
        "    state_dict = util.load_model(path=trained_model_path)\n",
        "    model.load_state_dict(state_dict=state_dict)"
      ],
      "execution_count": 0,
      "outputs": []
    },
    {
      "cell_type": "markdown",
      "metadata": {
        "id": "7pSPz9seyEX5",
        "colab_type": "text"
      },
      "source": [
        "# Create Optimizer, loss function, Scheduler"
      ]
    },
    {
      "cell_type": "code",
      "metadata": {
        "id": "iaQ86h5qyJKY",
        "colab_type": "code",
        "colab": {}
      },
      "source": [
        "# create optimizer, loss fn, scheduler\n",
        "criterion = util.loss_fns().CrossEntropyLoss()\n",
        "sgd_optimizer = util.optimizer().SGD(params=model.parameters(), lr=0.01, momentum=0.9, weight_decay=0.1e-5)\n",
        "scheduler = util.scheduler().ReduceLROnPlateau(optimizer=sgd_optimizer, mode=\"min\", patience=10, verbose=True,\n",
        "                                                min_lr=0.5e-6, factor=0.125)"
      ],
      "execution_count": 0,
      "outputs": []
    },
    {
      "cell_type": "markdown",
      "metadata": {
        "id": "5GO4UWNkyLzM",
        "colab_type": "text"
      },
      "source": [
        "# Train & Test Run"
      ]
    },
    {
      "cell_type": "code",
      "metadata": {
        "id": "XVUsIbuYycn-",
        "colab_type": "code",
        "outputId": "1a9eb383-f969-45bd-a49a-16e15b4ce93c",
        "colab": {
          "base_uri": "https://localhost:8080/",
          "height": 1000
        }
      },
      "source": [
        "# train & test\n",
        "epochs = 50\n",
        "train_accuracy = []\n",
        "test_accuracy = []\n",
        "max_train_accuracy_so_far = 0\n",
        "max_test_accuracy_so_far = 0\n",
        "for epoch in range(1, epochs + 1):\n",
        "    print(f\"\\nEPOCH: {epoch}\")\n",
        "    train_acc = network.train(model=model, data_loader=train_loader, optimizer=sgd_optimizer, criterion=criterion,\n",
        "                              device=device)\n",
        "    test_acc = network.test(model=model, data_loader=test_loader, device=device)\n",
        "    scheduler.step(100 - test_acc)\n",
        "    train_accuracy.append(train_acc)\n",
        "    test_accuracy.append(test_acc)\n",
        "    if max_test_accuracy_so_far < test_acc:\n",
        "        max_test_accuracy_so_far = test_acc\n",
        "        print(f\"\\n***Test Accuracy is greater than previous max accuracy. Saving model on epoch: {epoch}\")\n",
        "        util.save_model(model=model, path=trained_model_path)\n",
        "\n",
        "    #early stopping\n",
        "    if test_acc >= 50:\n",
        "      break"
      ],
      "execution_count": 21,
      "outputs": [
        {
          "output_type": "stream",
          "text": [
            "\r  0%|          | 0/140 [00:00<?, ?it/s]"
          ],
          "name": "stderr"
        },
        {
          "output_type": "stream",
          "text": [
            "\n",
            "EPOCH: 1\n"
          ],
          "name": "stdout"
        },
        {
          "output_type": "stream",
          "text": [
            "Batch: 139, loss: 1.81, Train Accuracy: 61.35 [42944/70000]: 100%|██████████| 140/140 [03:09<00:00,  1.36s/it]\n",
            "Batch: 59, Test Accuracy: 27.14: 100%|██████████| 60/60 [00:07<00:00,  7.82it/s]\n",
            "  0%|          | 0/140 [00:00<?, ?it/s]"
          ],
          "name": "stderr"
        },
        {
          "output_type": "stream",
          "text": [
            "\n",
            "***Test Accuracy is greater than previous max accuracy. Saving model on epoch: 1\n",
            "\n",
            "EPOCH: 2\n"
          ],
          "name": "stdout"
        },
        {
          "output_type": "stream",
          "text": [
            "Batch: 139, loss: 1.56, Train Accuracy: 67.81 [47465/70000]: 100%|██████████| 140/140 [03:09<00:00,  1.35s/it]\n",
            "Batch: 59, Test Accuracy: 27.17: 100%|██████████| 60/60 [00:07<00:00,  7.88it/s]\n",
            "  0%|          | 0/140 [00:00<?, ?it/s]"
          ],
          "name": "stderr"
        },
        {
          "output_type": "stream",
          "text": [
            "\n",
            "***Test Accuracy is greater than previous max accuracy. Saving model on epoch: 2\n",
            "\n",
            "EPOCH: 3\n"
          ],
          "name": "stdout"
        },
        {
          "output_type": "stream",
          "text": [
            "Batch: 139, loss: 1.13, Train Accuracy: 70.23 [49159/70000]: 100%|██████████| 140/140 [03:09<00:00,  1.35s/it]\n",
            "Batch: 59, Test Accuracy: 27.03: 100%|██████████| 60/60 [00:07<00:00,  7.83it/s]\n",
            "  0%|          | 0/140 [00:00<?, ?it/s]"
          ],
          "name": "stderr"
        },
        {
          "output_type": "stream",
          "text": [
            "\n",
            "EPOCH: 4\n"
          ],
          "name": "stdout"
        },
        {
          "output_type": "stream",
          "text": [
            "Batch: 139, loss: 1.07, Train Accuracy: 72.18 [50524/70000]: 100%|██████████| 140/140 [03:09<00:00,  1.35s/it]\n",
            "Batch: 59, Test Accuracy: 27.70: 100%|██████████| 60/60 [00:07<00:00,  7.86it/s]\n",
            "  0%|          | 0/140 [00:00<?, ?it/s]"
          ],
          "name": "stderr"
        },
        {
          "output_type": "stream",
          "text": [
            "\n",
            "***Test Accuracy is greater than previous max accuracy. Saving model on epoch: 4\n",
            "\n",
            "EPOCH: 5\n"
          ],
          "name": "stdout"
        },
        {
          "output_type": "stream",
          "text": [
            "Batch: 139, loss: 1.05, Train Accuracy: 74.40 [52077/70000]: 100%|██████████| 140/140 [03:09<00:00,  1.35s/it]\n",
            "Batch: 59, Test Accuracy: 27.85: 100%|██████████| 60/60 [00:07<00:00,  7.92it/s]\n",
            "  0%|          | 0/140 [00:00<?, ?it/s]"
          ],
          "name": "stderr"
        },
        {
          "output_type": "stream",
          "text": [
            "\n",
            "***Test Accuracy is greater than previous max accuracy. Saving model on epoch: 5\n",
            "\n",
            "EPOCH: 6\n"
          ],
          "name": "stdout"
        },
        {
          "output_type": "stream",
          "text": [
            "Batch: 139, loss: 1.02, Train Accuracy: 76.92 [53847/70000]: 100%|██████████| 140/140 [03:09<00:00,  1.35s/it]\n",
            "Batch: 59, Test Accuracy: 28.07: 100%|██████████| 60/60 [00:07<00:00,  7.89it/s]\n",
            "  0%|          | 0/140 [00:00<?, ?it/s]"
          ],
          "name": "stderr"
        },
        {
          "output_type": "stream",
          "text": [
            "\n",
            "***Test Accuracy is greater than previous max accuracy. Saving model on epoch: 6\n",
            "\n",
            "EPOCH: 7\n"
          ],
          "name": "stdout"
        },
        {
          "output_type": "stream",
          "text": [
            "Batch: 139, loss: 1.04, Train Accuracy: 78.56 [54993/70000]: 100%|██████████| 140/140 [03:09<00:00,  1.35s/it]\n",
            "Batch: 59, Test Accuracy: 27.37: 100%|██████████| 60/60 [00:07<00:00,  7.95it/s]\n",
            "  0%|          | 0/140 [00:00<?, ?it/s]"
          ],
          "name": "stderr"
        },
        {
          "output_type": "stream",
          "text": [
            "\n",
            "EPOCH: 8\n"
          ],
          "name": "stdout"
        },
        {
          "output_type": "stream",
          "text": [
            "Batch: 139, loss: 0.87, Train Accuracy: 80.49 [56341/70000]: 100%|██████████| 140/140 [03:09<00:00,  1.35s/it]\n",
            "Batch: 59, Test Accuracy: 27.89: 100%|██████████| 60/60 [00:07<00:00,  7.80it/s]\n",
            "  0%|          | 0/140 [00:00<?, ?it/s]"
          ],
          "name": "stderr"
        },
        {
          "output_type": "stream",
          "text": [
            "\n",
            "EPOCH: 9\n"
          ],
          "name": "stdout"
        },
        {
          "output_type": "stream",
          "text": [
            "Batch: 139, loss: 0.79, Train Accuracy: 82.66 [57864/70000]: 100%|██████████| 140/140 [03:09<00:00,  1.35s/it]\n",
            "Batch: 59, Test Accuracy: 27.87: 100%|██████████| 60/60 [00:07<00:00,  7.87it/s]\n",
            "  0%|          | 0/140 [00:00<?, ?it/s]"
          ],
          "name": "stderr"
        },
        {
          "output_type": "stream",
          "text": [
            "\n",
            "EPOCH: 10\n"
          ],
          "name": "stdout"
        },
        {
          "output_type": "stream",
          "text": [
            "Batch: 139, loss: 0.66, Train Accuracy: 84.60 [59217/70000]: 100%|██████████| 140/140 [03:09<00:00,  1.36s/it]\n",
            "Batch: 59, Test Accuracy: 28.48: 100%|██████████| 60/60 [00:07<00:00,  7.82it/s]\n",
            "  0%|          | 0/140 [00:00<?, ?it/s]"
          ],
          "name": "stderr"
        },
        {
          "output_type": "stream",
          "text": [
            "\n",
            "***Test Accuracy is greater than previous max accuracy. Saving model on epoch: 10\n",
            "\n",
            "EPOCH: 11\n"
          ],
          "name": "stdout"
        },
        {
          "output_type": "stream",
          "text": [
            "Batch: 139, loss: 0.61, Train Accuracy: 86.06 [60244/70000]: 100%|██████████| 140/140 [03:09<00:00,  1.35s/it]\n",
            "Batch: 59, Test Accuracy: 28.45: 100%|██████████| 60/60 [00:07<00:00,  7.86it/s]\n",
            "  0%|          | 0/140 [00:00<?, ?it/s]"
          ],
          "name": "stderr"
        },
        {
          "output_type": "stream",
          "text": [
            "\n",
            "EPOCH: 12\n"
          ],
          "name": "stdout"
        },
        {
          "output_type": "stream",
          "text": [
            "Batch: 139, loss: 0.53, Train Accuracy: 87.63 [61342/70000]: 100%|██████████| 140/140 [03:09<00:00,  1.36s/it]\n",
            "Batch: 59, Test Accuracy: 28.78: 100%|██████████| 60/60 [00:07<00:00,  7.86it/s]\n",
            "  0%|          | 0/140 [00:00<?, ?it/s]"
          ],
          "name": "stderr"
        },
        {
          "output_type": "stream",
          "text": [
            "\n",
            "***Test Accuracy is greater than previous max accuracy. Saving model on epoch: 12\n",
            "\n",
            "EPOCH: 13\n"
          ],
          "name": "stdout"
        },
        {
          "output_type": "stream",
          "text": [
            "Batch: 139, loss: 0.44, Train Accuracy: 89.04 [62330/70000]: 100%|██████████| 140/140 [03:10<00:00,  1.36s/it]\n",
            "Batch: 59, Test Accuracy: 29.01: 100%|██████████| 60/60 [00:07<00:00,  7.89it/s]\n",
            "  0%|          | 0/140 [00:00<?, ?it/s]"
          ],
          "name": "stderr"
        },
        {
          "output_type": "stream",
          "text": [
            "\n",
            "***Test Accuracy is greater than previous max accuracy. Saving model on epoch: 13\n",
            "\n",
            "EPOCH: 14\n"
          ],
          "name": "stdout"
        },
        {
          "output_type": "stream",
          "text": [
            "Batch: 139, loss: 0.38, Train Accuracy: 89.89 [62924/70000]: 100%|██████████| 140/140 [03:09<00:00,  1.35s/it]\n",
            "Batch: 59, Test Accuracy: 29.28: 100%|██████████| 60/60 [00:07<00:00,  7.87it/s]\n",
            "  0%|          | 0/140 [00:00<?, ?it/s]"
          ],
          "name": "stderr"
        },
        {
          "output_type": "stream",
          "text": [
            "\n",
            "***Test Accuracy is greater than previous max accuracy. Saving model on epoch: 14\n",
            "\n",
            "EPOCH: 15\n"
          ],
          "name": "stdout"
        },
        {
          "output_type": "stream",
          "text": [
            "Batch: 139, loss: 0.41, Train Accuracy: 91.16 [63814/70000]: 100%|██████████| 140/140 [03:09<00:00,  1.35s/it]\n",
            "Batch: 59, Test Accuracy: 29.06: 100%|██████████| 60/60 [00:07<00:00,  7.87it/s]\n",
            "  0%|          | 0/140 [00:00<?, ?it/s]"
          ],
          "name": "stderr"
        },
        {
          "output_type": "stream",
          "text": [
            "\n",
            "EPOCH: 16\n"
          ],
          "name": "stdout"
        },
        {
          "output_type": "stream",
          "text": [
            "Batch: 139, loss: 0.28, Train Accuracy: 92.38 [64666/70000]: 100%|██████████| 140/140 [03:09<00:00,  1.35s/it]\n",
            "Batch: 59, Test Accuracy: 28.80: 100%|██████████| 60/60 [00:07<00:00,  7.84it/s]\n",
            "  0%|          | 0/140 [00:00<?, ?it/s]"
          ],
          "name": "stderr"
        },
        {
          "output_type": "stream",
          "text": [
            "\n",
            "EPOCH: 17\n"
          ],
          "name": "stdout"
        },
        {
          "output_type": "stream",
          "text": [
            "Batch: 139, loss: 0.23, Train Accuracy: 93.15 [65208/70000]: 100%|██████████| 140/140 [03:09<00:00,  1.36s/it]\n",
            "Batch: 59, Test Accuracy: 29.30: 100%|██████████| 60/60 [00:07<00:00,  7.88it/s]\n",
            "  0%|          | 0/140 [00:00<?, ?it/s]"
          ],
          "name": "stderr"
        },
        {
          "output_type": "stream",
          "text": [
            "\n",
            "***Test Accuracy is greater than previous max accuracy. Saving model on epoch: 17\n",
            "\n",
            "EPOCH: 18\n"
          ],
          "name": "stdout"
        },
        {
          "output_type": "stream",
          "text": [
            "Batch: 139, loss: 0.23, Train Accuracy: 93.96 [65772/70000]: 100%|██████████| 140/140 [03:09<00:00,  1.35s/it]\n",
            "Batch: 59, Test Accuracy: 29.54: 100%|██████████| 60/60 [00:07<00:00,  7.78it/s]\n",
            "  0%|          | 0/140 [00:00<?, ?it/s]"
          ],
          "name": "stderr"
        },
        {
          "output_type": "stream",
          "text": [
            "\n",
            "***Test Accuracy is greater than previous max accuracy. Saving model on epoch: 18\n",
            "\n",
            "EPOCH: 19\n"
          ],
          "name": "stdout"
        },
        {
          "output_type": "stream",
          "text": [
            "Batch: 139, loss: 0.23, Train Accuracy: 94.47 [66127/70000]: 100%|██████████| 140/140 [03:09<00:00,  1.35s/it]\n",
            "Batch: 59, Test Accuracy: 29.75: 100%|██████████| 60/60 [00:07<00:00,  7.89it/s]\n",
            "  0%|          | 0/140 [00:00<?, ?it/s]"
          ],
          "name": "stderr"
        },
        {
          "output_type": "stream",
          "text": [
            "\n",
            "***Test Accuracy is greater than previous max accuracy. Saving model on epoch: 19\n",
            "\n",
            "EPOCH: 20\n"
          ],
          "name": "stdout"
        },
        {
          "output_type": "stream",
          "text": [
            "Batch: 139, loss: 0.24, Train Accuracy: 95.17 [66620/70000]: 100%|██████████| 140/140 [03:09<00:00,  1.35s/it]\n",
            "Batch: 59, Test Accuracy: 29.92: 100%|██████████| 60/60 [00:07<00:00,  7.83it/s]\n",
            "  0%|          | 0/140 [00:00<?, ?it/s]"
          ],
          "name": "stderr"
        },
        {
          "output_type": "stream",
          "text": [
            "\n",
            "***Test Accuracy is greater than previous max accuracy. Saving model on epoch: 20\n",
            "\n",
            "EPOCH: 21\n"
          ],
          "name": "stdout"
        },
        {
          "output_type": "stream",
          "text": [
            "Batch: 139, loss: 0.16, Train Accuracy: 95.54 [66880/70000]: 100%|██████████| 140/140 [03:09<00:00,  1.35s/it]\n",
            "Batch: 59, Test Accuracy: 29.35: 100%|██████████| 60/60 [00:07<00:00,  7.85it/s]\n",
            "  0%|          | 0/140 [00:00<?, ?it/s]"
          ],
          "name": "stderr"
        },
        {
          "output_type": "stream",
          "text": [
            "\n",
            "EPOCH: 22\n"
          ],
          "name": "stdout"
        },
        {
          "output_type": "stream",
          "text": [
            "Batch: 139, loss: 0.21, Train Accuracy: 95.85 [67092/70000]: 100%|██████████| 140/140 [03:09<00:00,  1.35s/it]\n",
            "Batch: 59, Test Accuracy: 29.54: 100%|██████████| 60/60 [00:07<00:00,  7.82it/s]\n",
            "  0%|          | 0/140 [00:00<?, ?it/s]"
          ],
          "name": "stderr"
        },
        {
          "output_type": "stream",
          "text": [
            "\n",
            "EPOCH: 23\n"
          ],
          "name": "stdout"
        },
        {
          "output_type": "stream",
          "text": [
            "Batch: 139, loss: 0.14, Train Accuracy: 96.39 [67475/70000]: 100%|██████████| 140/140 [03:09<00:00,  1.35s/it]\n",
            "Batch: 59, Test Accuracy: 29.30: 100%|██████████| 60/60 [00:07<00:00,  7.86it/s]\n",
            "  0%|          | 0/140 [00:00<?, ?it/s]"
          ],
          "name": "stderr"
        },
        {
          "output_type": "stream",
          "text": [
            "\n",
            "EPOCH: 24\n"
          ],
          "name": "stdout"
        },
        {
          "output_type": "stream",
          "text": [
            "Batch: 139, loss: 0.17, Train Accuracy: 96.71 [67694/70000]: 100%|██████████| 140/140 [03:09<00:00,  1.35s/it]\n",
            "Batch: 59, Test Accuracy: 30.11: 100%|██████████| 60/60 [00:07<00:00,  7.92it/s]\n",
            "  0%|          | 0/140 [00:00<?, ?it/s]"
          ],
          "name": "stderr"
        },
        {
          "output_type": "stream",
          "text": [
            "\n",
            "***Test Accuracy is greater than previous max accuracy. Saving model on epoch: 24\n",
            "\n",
            "EPOCH: 25\n"
          ],
          "name": "stdout"
        },
        {
          "output_type": "stream",
          "text": [
            "Batch: 139, loss: 0.14, Train Accuracy: 97.04 [67928/70000]: 100%|██████████| 140/140 [03:09<00:00,  1.35s/it]\n",
            "Batch: 59, Test Accuracy: 30.26: 100%|██████████| 60/60 [00:07<00:00,  7.93it/s]\n",
            "  0%|          | 0/140 [00:00<?, ?it/s]"
          ],
          "name": "stderr"
        },
        {
          "output_type": "stream",
          "text": [
            "\n",
            "***Test Accuracy is greater than previous max accuracy. Saving model on epoch: 25\n",
            "\n",
            "EPOCH: 26\n"
          ],
          "name": "stdout"
        },
        {
          "output_type": "stream",
          "text": [
            "Batch: 139, loss: 0.13, Train Accuracy: 97.35 [68143/70000]: 100%|██████████| 140/140 [03:09<00:00,  1.36s/it]\n",
            "Batch: 59, Test Accuracy: 30.11: 100%|██████████| 60/60 [00:07<00:00,  7.86it/s]\n",
            "  0%|          | 0/140 [00:00<?, ?it/s]"
          ],
          "name": "stderr"
        },
        {
          "output_type": "stream",
          "text": [
            "\n",
            "EPOCH: 27\n"
          ],
          "name": "stdout"
        },
        {
          "output_type": "stream",
          "text": [
            "Batch: 139, loss: 0.11, Train Accuracy: 97.34 [68140/70000]: 100%|██████████| 140/140 [03:09<00:00,  1.35s/it]\n",
            "Batch: 59, Test Accuracy: 29.95: 100%|██████████| 60/60 [00:07<00:00,  7.82it/s]\n",
            "  0%|          | 0/140 [00:00<?, ?it/s]"
          ],
          "name": "stderr"
        },
        {
          "output_type": "stream",
          "text": [
            "\n",
            "EPOCH: 28\n"
          ],
          "name": "stdout"
        },
        {
          "output_type": "stream",
          "text": [
            "Batch: 139, loss: 0.11, Train Accuracy: 97.64 [68348/70000]: 100%|██████████| 140/140 [03:09<00:00,  1.35s/it]\n",
            "Batch: 59, Test Accuracy: 30.05: 100%|██████████| 60/60 [00:07<00:00,  7.85it/s]\n",
            "  0%|          | 0/140 [00:00<?, ?it/s]"
          ],
          "name": "stderr"
        },
        {
          "output_type": "stream",
          "text": [
            "\n",
            "EPOCH: 29\n"
          ],
          "name": "stdout"
        },
        {
          "output_type": "stream",
          "text": [
            "Batch: 139, loss: 0.07, Train Accuracy: 97.90 [68532/70000]: 100%|██████████| 140/140 [03:09<00:00,  1.35s/it]\n",
            "Batch: 59, Test Accuracy: 30.04: 100%|██████████| 60/60 [00:07<00:00,  7.89it/s]\n",
            "  0%|          | 0/140 [00:00<?, ?it/s]"
          ],
          "name": "stderr"
        },
        {
          "output_type": "stream",
          "text": [
            "\n",
            "EPOCH: 30\n"
          ],
          "name": "stdout"
        },
        {
          "output_type": "stream",
          "text": [
            "Batch: 139, loss: 0.09, Train Accuracy: 97.96 [68570/70000]: 100%|██████████| 140/140 [03:09<00:00,  1.35s/it]\n",
            "Batch: 59, Test Accuracy: 30.34: 100%|██████████| 60/60 [00:07<00:00,  7.89it/s]\n",
            "  0%|          | 0/140 [00:00<?, ?it/s]"
          ],
          "name": "stderr"
        },
        {
          "output_type": "stream",
          "text": [
            "\n",
            "***Test Accuracy is greater than previous max accuracy. Saving model on epoch: 30\n",
            "\n",
            "EPOCH: 31\n"
          ],
          "name": "stdout"
        },
        {
          "output_type": "stream",
          "text": [
            "Batch: 139, loss: 0.10, Train Accuracy: 98.17 [68721/70000]: 100%|██████████| 140/140 [03:09<00:00,  1.35s/it]\n",
            "Batch: 59, Test Accuracy: 30.27: 100%|██████████| 60/60 [00:07<00:00,  7.88it/s]\n",
            "  0%|          | 0/140 [00:00<?, ?it/s]"
          ],
          "name": "stderr"
        },
        {
          "output_type": "stream",
          "text": [
            "\n",
            "EPOCH: 32\n"
          ],
          "name": "stdout"
        },
        {
          "output_type": "stream",
          "text": [
            "Batch: 139, loss: 0.08, Train Accuracy: 98.32 [68821/70000]: 100%|██████████| 140/140 [03:09<00:00,  1.35s/it]\n",
            "Batch: 59, Test Accuracy: 30.79: 100%|██████████| 60/60 [00:07<00:00,  7.84it/s]\n",
            "  0%|          | 0/140 [00:00<?, ?it/s]"
          ],
          "name": "stderr"
        },
        {
          "output_type": "stream",
          "text": [
            "\n",
            "***Test Accuracy is greater than previous max accuracy. Saving model on epoch: 32\n",
            "\n",
            "EPOCH: 33\n"
          ],
          "name": "stdout"
        },
        {
          "output_type": "stream",
          "text": [
            "Batch: 139, loss: 0.08, Train Accuracy: 98.40 [68881/70000]: 100%|██████████| 140/140 [03:09<00:00,  1.35s/it]\n",
            "Batch: 59, Test Accuracy: 30.25: 100%|██████████| 60/60 [00:07<00:00,  7.87it/s]\n",
            "  0%|          | 0/140 [00:00<?, ?it/s]"
          ],
          "name": "stderr"
        },
        {
          "output_type": "stream",
          "text": [
            "\n",
            "EPOCH: 34\n"
          ],
          "name": "stdout"
        },
        {
          "output_type": "stream",
          "text": [
            "Batch: 139, loss: 0.08, Train Accuracy: 98.44 [68910/70000]: 100%|██████████| 140/140 [03:09<00:00,  1.35s/it]\n",
            "Batch: 59, Test Accuracy: 30.30: 100%|██████████| 60/60 [00:07<00:00,  7.86it/s]\n",
            "  0%|          | 0/140 [00:00<?, ?it/s]"
          ],
          "name": "stderr"
        },
        {
          "output_type": "stream",
          "text": [
            "\n",
            "EPOCH: 35\n"
          ],
          "name": "stdout"
        },
        {
          "output_type": "stream",
          "text": [
            "Batch: 139, loss: 0.06, Train Accuracy: 98.59 [69015/70000]: 100%|██████████| 140/140 [03:09<00:00,  1.35s/it]\n",
            "Batch: 59, Test Accuracy: 30.54: 100%|██████████| 60/60 [00:07<00:00,  7.88it/s]\n",
            "  0%|          | 0/140 [00:00<?, ?it/s]"
          ],
          "name": "stderr"
        },
        {
          "output_type": "stream",
          "text": [
            "\n",
            "EPOCH: 36\n"
          ],
          "name": "stdout"
        },
        {
          "output_type": "stream",
          "text": [
            "Batch: 139, loss: 0.07, Train Accuracy: 98.58 [69008/70000]: 100%|██████████| 140/140 [03:09<00:00,  1.35s/it]\n",
            "Batch: 59, Test Accuracy: 30.54: 100%|██████████| 60/60 [00:07<00:00,  7.82it/s]\n",
            "  0%|          | 0/140 [00:00<?, ?it/s]"
          ],
          "name": "stderr"
        },
        {
          "output_type": "stream",
          "text": [
            "\n",
            "EPOCH: 37\n"
          ],
          "name": "stdout"
        },
        {
          "output_type": "stream",
          "text": [
            "Batch: 139, loss: 0.05, Train Accuracy: 98.81 [69165/70000]: 100%|██████████| 140/140 [03:09<00:00,  1.35s/it]\n",
            "Batch: 59, Test Accuracy: 30.57: 100%|██████████| 60/60 [00:07<00:00,  7.83it/s]\n",
            "  0%|          | 0/140 [00:00<?, ?it/s]"
          ],
          "name": "stderr"
        },
        {
          "output_type": "stream",
          "text": [
            "\n",
            "EPOCH: 38\n"
          ],
          "name": "stdout"
        },
        {
          "output_type": "stream",
          "text": [
            "Batch: 139, loss: 0.06, Train Accuracy: 98.91 [69235/70000]: 100%|██████████| 140/140 [03:08<00:00,  1.35s/it]\n",
            "Batch: 59, Test Accuracy: 30.47: 100%|██████████| 60/60 [00:07<00:00,  7.92it/s]\n",
            "  0%|          | 0/140 [00:00<?, ?it/s]"
          ],
          "name": "stderr"
        },
        {
          "output_type": "stream",
          "text": [
            "\n",
            "EPOCH: 39\n"
          ],
          "name": "stdout"
        },
        {
          "output_type": "stream",
          "text": [
            "Batch: 139, loss: 0.05, Train Accuracy: 98.95 [69264/70000]: 100%|██████████| 140/140 [03:07<00:00,  1.34s/it]\n",
            "Batch: 59, Test Accuracy: 30.85: 100%|██████████| 60/60 [00:07<00:00,  7.87it/s]\n",
            "  0%|          | 0/140 [00:00<?, ?it/s]"
          ],
          "name": "stderr"
        },
        {
          "output_type": "stream",
          "text": [
            "\n",
            "***Test Accuracy is greater than previous max accuracy. Saving model on epoch: 39\n",
            "\n",
            "EPOCH: 40\n"
          ],
          "name": "stdout"
        },
        {
          "output_type": "stream",
          "text": [
            "Batch: 139, loss: 0.05, Train Accuracy: 99.06 [69344/70000]: 100%|██████████| 140/140 [03:11<00:00,  1.37s/it]\n",
            "Batch: 59, Test Accuracy: 30.78: 100%|██████████| 60/60 [00:07<00:00,  7.97it/s]\n",
            "  0%|          | 0/140 [00:00<?, ?it/s]"
          ],
          "name": "stderr"
        },
        {
          "output_type": "stream",
          "text": [
            "\n",
            "EPOCH: 41\n"
          ],
          "name": "stdout"
        },
        {
          "output_type": "stream",
          "text": [
            "Batch: 139, loss: 0.06, Train Accuracy: 99.17 [69420/70000]: 100%|██████████| 140/140 [03:08<00:00,  1.35s/it]\n",
            "Batch: 59, Test Accuracy: 30.91: 100%|██████████| 60/60 [00:07<00:00,  7.87it/s]\n",
            "  0%|          | 0/140 [00:00<?, ?it/s]"
          ],
          "name": "stderr"
        },
        {
          "output_type": "stream",
          "text": [
            "\n",
            "***Test Accuracy is greater than previous max accuracy. Saving model on epoch: 41\n",
            "\n",
            "EPOCH: 42\n"
          ],
          "name": "stdout"
        },
        {
          "output_type": "stream",
          "text": [
            "Batch: 139, loss: 0.05, Train Accuracy: 99.19 [69433/70000]: 100%|██████████| 140/140 [03:09<00:00,  1.35s/it]\n",
            "Batch: 59, Test Accuracy: 30.80: 100%|██████████| 60/60 [00:07<00:00,  7.78it/s]\n",
            "  0%|          | 0/140 [00:00<?, ?it/s]"
          ],
          "name": "stderr"
        },
        {
          "output_type": "stream",
          "text": [
            "\n",
            "EPOCH: 43\n"
          ],
          "name": "stdout"
        },
        {
          "output_type": "stream",
          "text": [
            "Batch: 139, loss: 0.05, Train Accuracy: 99.22 [69452/70000]: 100%|██████████| 140/140 [03:09<00:00,  1.35s/it]\n",
            "Batch: 59, Test Accuracy: 30.89: 100%|██████████| 60/60 [00:07<00:00,  7.90it/s]\n",
            "  0%|          | 0/140 [00:00<?, ?it/s]"
          ],
          "name": "stderr"
        },
        {
          "output_type": "stream",
          "text": [
            "\n",
            "EPOCH: 44\n"
          ],
          "name": "stdout"
        },
        {
          "output_type": "stream",
          "text": [
            "Batch: 139, loss: 0.04, Train Accuracy: 99.26 [69480/70000]: 100%|██████████| 140/140 [03:09<00:00,  1.35s/it]\n",
            "Batch: 59, Test Accuracy: 31.13: 100%|██████████| 60/60 [00:07<00:00,  7.90it/s]\n",
            "  0%|          | 0/140 [00:00<?, ?it/s]"
          ],
          "name": "stderr"
        },
        {
          "output_type": "stream",
          "text": [
            "\n",
            "***Test Accuracy is greater than previous max accuracy. Saving model on epoch: 44\n",
            "\n",
            "EPOCH: 45\n"
          ],
          "name": "stdout"
        },
        {
          "output_type": "stream",
          "text": [
            "Batch: 139, loss: 0.03, Train Accuracy: 99.33 [69531/70000]: 100%|██████████| 140/140 [03:09<00:00,  1.35s/it]\n",
            "Batch: 59, Test Accuracy: 31.15: 100%|██████████| 60/60 [00:07<00:00,  7.81it/s]\n",
            "  0%|          | 0/140 [00:00<?, ?it/s]"
          ],
          "name": "stderr"
        },
        {
          "output_type": "stream",
          "text": [
            "\n",
            "***Test Accuracy is greater than previous max accuracy. Saving model on epoch: 45\n",
            "\n",
            "EPOCH: 46\n"
          ],
          "name": "stdout"
        },
        {
          "output_type": "stream",
          "text": [
            "Batch: 139, loss: 0.04, Train Accuracy: 99.34 [69539/70000]: 100%|██████████| 140/140 [03:09<00:00,  1.36s/it]\n",
            "Batch: 59, Test Accuracy: 30.69: 100%|██████████| 60/60 [00:07<00:00,  7.81it/s]\n",
            "  0%|          | 0/140 [00:00<?, ?it/s]"
          ],
          "name": "stderr"
        },
        {
          "output_type": "stream",
          "text": [
            "\n",
            "EPOCH: 47\n"
          ],
          "name": "stdout"
        },
        {
          "output_type": "stream",
          "text": [
            "Batch: 139, loss: 0.05, Train Accuracy: 99.32 [69525/70000]: 100%|██████████| 140/140 [03:09<00:00,  1.35s/it]\n",
            "Batch: 59, Test Accuracy: 30.80: 100%|██████████| 60/60 [00:07<00:00,  7.71it/s]\n",
            "  0%|          | 0/140 [00:00<?, ?it/s]"
          ],
          "name": "stderr"
        },
        {
          "output_type": "stream",
          "text": [
            "\n",
            "EPOCH: 48\n"
          ],
          "name": "stdout"
        },
        {
          "output_type": "stream",
          "text": [
            "Batch: 139, loss: 0.03, Train Accuracy: 99.29 [69506/70000]: 100%|██████████| 140/140 [03:11<00:00,  1.37s/it]\n",
            "Batch: 59, Test Accuracy: 30.96: 100%|██████████| 60/60 [00:07<00:00,  7.96it/s]\n",
            "  0%|          | 0/140 [00:00<?, ?it/s]"
          ],
          "name": "stderr"
        },
        {
          "output_type": "stream",
          "text": [
            "\n",
            "EPOCH: 49\n"
          ],
          "name": "stdout"
        },
        {
          "output_type": "stream",
          "text": [
            "Batch: 139, loss: 0.02, Train Accuracy: 99.37 [69560/70000]: 100%|██████████| 140/140 [03:11<00:00,  1.37s/it]\n",
            "Batch: 59, Test Accuracy: 30.90: 100%|██████████| 60/60 [00:07<00:00,  8.08it/s]\n",
            "  0%|          | 0/140 [00:00<?, ?it/s]"
          ],
          "name": "stderr"
        },
        {
          "output_type": "stream",
          "text": [
            "\n",
            "EPOCH: 50\n"
          ],
          "name": "stdout"
        },
        {
          "output_type": "stream",
          "text": [
            "Batch: 139, loss: 0.03, Train Accuracy: 99.46 [69620/70000]: 100%|██████████| 140/140 [03:09<00:00,  1.36s/it]\n",
            "Batch: 59, Test Accuracy: 30.98: 100%|██████████| 60/60 [00:07<00:00,  7.92it/s]\n"
          ],
          "name": "stderr"
        }
      ]
    },
    {
      "cell_type": "markdown",
      "metadata": {
        "id": "KlQKRG9I1Nkq",
        "colab_type": "text"
      },
      "source": [
        "# Epochs & Train Accuracy"
      ]
    },
    {
      "cell_type": "code",
      "metadata": {
        "id": "ZU0667gp0Zgn",
        "colab_type": "code",
        "outputId": "ef1a2956-7f39-4a87-b921-dd1afcf0b387",
        "colab": {
          "base_uri": "https://localhost:8080/",
          "height": 295
        }
      },
      "source": [
        "view.show_graph(range(epochs), train_accuracy, \"epochs\", \"Train Accuracy\", \"Epochs Vs Train Accuracy\")"
      ],
      "execution_count": 22,
      "outputs": [
        {
          "output_type": "display_data",
          "data": {
            "image/png": "[encoded data removed]",
            "text/plain": [
              "<Figure size 432x288 with 1 Axes>"
            ]
          },
          "metadata": {
            "tags": [],
            "needs_background": "light"
          }
        }
      ]
    },
    {
      "cell_type": "markdown",
      "metadata": {
        "colab_type": "text",
        "id": "exjOUxVE1V0B"
      },
      "source": [
        "# Epochs & Test Accuracy"
      ]
    },
    {
      "cell_type": "code",
      "metadata": {
        "colab_type": "code",
        "id": "ORXHq6rx1V0C",
        "outputId": "39d9fe9f-49cf-402c-ff8e-67ead356938b",
        "colab": {
          "base_uri": "https://localhost:8080/",
          "height": 295
        }
      },
      "source": [
        "view.show_graph(range(epochs), test_accuracy, \"epochs\", \"Test Accuracy\", \"Epochs Vs Test Accuracy\")"
      ],
      "execution_count": 23,
      "outputs": [
        {
          "output_type": "display_data",
          "data": {
            "image/png": "[encoded data removed]",
            "text/plain": [
              "<Figure size 432x288 with 1 Axes>"
            ]
          },
          "metadata": {
            "tags": [],
            "needs_background": "light"
          }
        }
      ]
    },
    {
      "cell_type": "code",
      "metadata": {
        "id": "G9vEoZmadKD6",
        "colab_type": "code",
        "colab": {}
      },
      "source": [
        ""
      ],
      "execution_count": 0,
      "outputs": []
    }
  ]
}